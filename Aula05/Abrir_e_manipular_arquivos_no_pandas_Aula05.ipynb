{
  "nbformat": 4,
  "nbformat_minor": 0,
  "metadata": {
    "colab": {
      "name": "Abrir e manipular arquivos no pandas - Aula05.ipynb",
      "provenance": [],
      "authorship_tag": "ABX9TyOwAzUNeh8LIAyFDMvrL+lm",
      "include_colab_link": true
    },
    "kernelspec": {
      "name": "python3",
      "display_name": "Python 3"
    },
    "language_info": {
      "name": "python"
    }
  },
  "cells": [
    {
      "cell_type": "markdown",
      "metadata": {
        "id": "view-in-github",
        "colab_type": "text"
      },
      "source": [
        "<a href=\"https://colab.research.google.com/github/souzajvp/teaching-python/blob/main/Aula05/Abrir_e_manipular_arquivos_no_pandas_Aula05.ipynb\" target=\"_parent\"><img src=\"https://colab.research.google.com/assets/colab-badge.svg\" alt=\"Open In Colab\"/></a>"
      ]
    },
    {
      "cell_type": "markdown",
      "metadata": {
        "id": "X0Rau8tRh11H"
      },
      "source": [
        "## Importando módulos\n",
        "O `pandas` é um pacote que é ótimo para fazer manipulação, tratamento e plotagem de dados. Sempre usaremos ele daqui pra frente\n"
      ]
    },
    {
      "cell_type": "code",
      "metadata": {
        "id": "jOQLCz8cmcHs"
      },
      "source": [
        "import pandas as pd"
      ],
      "execution_count": 1,
      "outputs": []
    },
    {
      "cell_type": "markdown",
      "metadata": {
        "id": "d0uQxNz_myCA"
      },
      "source": [
        "Para carregar nossos dadados, podemos utilizar o endereço da web (url) somada à função `pd.read_csv()`.\n",
        "\n",
        "**Obs**: a `pd.read_csv()` espera, por padrão, que os dados estejam separados por vírgulas (*comma separated value*).\n",
        "***\n",
        "Assim como a maioria dos pacotes e funções, a função `pd.read_csv()` possui uma série de parâmetros que permitem uma \"customização\" da leitura de um arquivo.\n",
        "Por exemplo, podemos:\n",
        "1. Ler arquivos separados por ponto e vírgula (`;`) usando a especificação `separator=';'` --> `pd.read_csv(url, separator=';')`;\n",
        "2. Ler arquivos que estão comprimidos ou \"zipados\", através do argumento `compression='zip'` --> `pd.read_csv(url, compression='zip')`.\n",
        "\n",
        "Basicamente, o céu é o limite. Basta procurarmos no Google: **Como ler arquivos no formato zip com o pandas?** *ou* **Read zip files pandas**\n",
        "\n"
      ]
    },
    {
      "cell_type": "markdown",
      "metadata": {
        "id": "4DfLvYrro89u"
      },
      "source": [
        "Este é o endereço da nossa base de dados, armazenada no meu [GitHub](https://github.com/souzajvp/teaching-python)."
      ]
    },
    {
      "cell_type": "code",
      "metadata": {
        "id": "-00XKBXAmbe3"
      },
      "source": [
        "url = 'https://raw.githubusercontent.com/souzajvp/teaching-python/main/tb_parana_2016.csv'"
      ],
      "execution_count": 2,
      "outputs": []
    },
    {
      "cell_type": "markdown",
      "metadata": {
        "id": "ONLaeQuvnCNe"
      },
      "source": [
        "Podemos então atribuir um nome para o nosso banco de dados, como se fosse uma variável qualquer."
      ]
    },
    {
      "cell_type": "code",
      "metadata": {
        "id": "jI0FzEk-m_FR"
      },
      "source": [
        ""
      ],
      "execution_count": 3,
      "outputs": []
    },
    {
      "cell_type": "markdown",
      "metadata": {
        "id": "fn2wVxRjpOkx"
      },
      "source": [
        "Agora, podemos fazer a visualização das primeiras linhas de código usando o método `.head()`"
      ]
    },
    {
      "cell_type": "code",
      "metadata": {
        "colab": {
          "base_uri": "https://localhost:8080/",
          "height": 226
        },
        "id": "OAWrmo8CpWRM",
        "outputId": "99ea7379-7c4d-4d81-cfea-5b5f1ff3afe3"
      },
      "source": [
        ""
      ],
      "execution_count": 4,
      "outputs": [
        {
          "output_type": "execute_result",
          "data": {
            "text/html": [
              "<div>\n",
              "<style scoped>\n",
              "    .dataframe tbody tr th:only-of-type {\n",
              "        vertical-align: middle;\n",
              "    }\n",
              "\n",
              "    .dataframe tbody tr th {\n",
              "        vertical-align: top;\n",
              "    }\n",
              "\n",
              "    .dataframe thead th {\n",
              "        text-align: right;\n",
              "    }\n",
              "</style>\n",
              "<table border=\"1\" class=\"dataframe\">\n",
              "  <thead>\n",
              "    <tr style=\"text-align: right;\">\n",
              "      <th></th>\n",
              "      <th>DT_NOTIFIC</th>\n",
              "      <th>ID_MUNICIP</th>\n",
              "      <th>DT_DIAG</th>\n",
              "      <th>NU_IDADE_N</th>\n",
              "      <th>CS_SEXO</th>\n",
              "      <th>CS_RACA</th>\n",
              "      <th>CS_ESCOL_N</th>\n",
              "      <th>ID_MN_RESI</th>\n",
              "      <th>ID_OCUPA_N</th>\n",
              "      <th>TRATAMENTO</th>\n",
              "      <th>INSTITUCIO</th>\n",
              "      <th>RAIOX_TORA</th>\n",
              "      <th>TESTE_TUBE</th>\n",
              "      <th>FORMA</th>\n",
              "      <th>AGRAVAIDS</th>\n",
              "      <th>AGRAVALCOO</th>\n",
              "      <th>AGRAVDIABE</th>\n",
              "      <th>AGRAVDOENC</th>\n",
              "      <th>AGRAVOUTRA</th>\n",
              "      <th>AGRAVOUTDE</th>\n",
              "      <th>BACILOSC_E</th>\n",
              "      <th>BACILOS_E2</th>\n",
              "      <th>BACILOSC_O</th>\n",
              "      <th>CULTURA_ES</th>\n",
              "      <th>CULTURA_OU</th>\n",
              "      <th>HIV</th>\n",
              "      <th>HISTOPATOL</th>\n",
              "      <th>DT_INIC_TR</th>\n",
              "      <th>RIFAMPICIN</th>\n",
              "      <th>ISONIAZIDA</th>\n",
              "      <th>BACILOSC_1</th>\n",
              "      <th>BACILOSC_2</th>\n",
              "      <th>BACILOSC_3</th>\n",
              "      <th>BACILOSC_4</th>\n",
              "      <th>BACILOSC_5</th>\n",
              "      <th>BACILOSC_6</th>\n",
              "      <th>SITUA_9_M</th>\n",
              "      <th>SITUA_12_M</th>\n",
              "      <th>SITUA_ENCE</th>\n",
              "      <th>DT_ENCERRA</th>\n",
              "      <th>TPUNINOT</th>\n",
              "      <th>POP_LIBER</th>\n",
              "      <th>POP_RUA</th>\n",
              "      <th>POP_SAUDE</th>\n",
              "      <th>POP_IMIG</th>\n",
              "      <th>BENEF_GOV</th>\n",
              "      <th>AGRAVDROGA</th>\n",
              "      <th>AGRAVTABAC</th>\n",
              "      <th>TEST_MOLEC</th>\n",
              "      <th>TEST_SENSI</th>\n",
              "      <th>ANT_RETRO</th>\n",
              "      <th>BAC_APOS_6</th>\n",
              "    </tr>\n",
              "  </thead>\n",
              "  <tbody>\n",
              "    <tr>\n",
              "      <th>0</th>\n",
              "      <td>2017-02-10</td>\n",
              "      <td>410690</td>\n",
              "      <td>2016-10-10</td>\n",
              "      <td>4037</td>\n",
              "      <td>M</td>\n",
              "      <td>1.0</td>\n",
              "      <td>9.0</td>\n",
              "      <td>410690</td>\n",
              "      <td>NaN</td>\n",
              "      <td>3</td>\n",
              "      <td>NaN</td>\n",
              "      <td>4.0</td>\n",
              "      <td>NaN</td>\n",
              "      <td>1</td>\n",
              "      <td>9.0</td>\n",
              "      <td>1.0</td>\n",
              "      <td>2.0</td>\n",
              "      <td>2.0</td>\n",
              "      <td>9.0</td>\n",
              "      <td>NaN</td>\n",
              "      <td>1</td>\n",
              "      <td>NaN</td>\n",
              "      <td>NaN</td>\n",
              "      <td>4</td>\n",
              "      <td>NaN</td>\n",
              "      <td>2</td>\n",
              "      <td>5.0</td>\n",
              "      <td>2017-02-10</td>\n",
              "      <td>NaN</td>\n",
              "      <td>NaN</td>\n",
              "      <td>NaN</td>\n",
              "      <td>NaN</td>\n",
              "      <td>NaN</td>\n",
              "      <td>NaN</td>\n",
              "      <td>NaN</td>\n",
              "      <td>NaN</td>\n",
              "      <td>NaN</td>\n",
              "      <td>NaN</td>\n",
              "      <td>2.0</td>\n",
              "      <td>2017-03-06</td>\n",
              "      <td>2.0</td>\n",
              "      <td>2.0</td>\n",
              "      <td>1.0</td>\n",
              "      <td>2.0</td>\n",
              "      <td>2.0</td>\n",
              "      <td>9.0</td>\n",
              "      <td>9.0</td>\n",
              "      <td>9.0</td>\n",
              "      <td>5.0</td>\n",
              "      <td>NaN</td>\n",
              "      <td>NaN</td>\n",
              "      <td>NaN</td>\n",
              "    </tr>\n",
              "    <tr>\n",
              "      <th>1</th>\n",
              "      <td>2017-01-25</td>\n",
              "      <td>411370</td>\n",
              "      <td>2016-12-30</td>\n",
              "      <td>4025</td>\n",
              "      <td>F</td>\n",
              "      <td>1.0</td>\n",
              "      <td>9.0</td>\n",
              "      <td>410190</td>\n",
              "      <td>NaN</td>\n",
              "      <td>1</td>\n",
              "      <td>NaN</td>\n",
              "      <td>1.0</td>\n",
              "      <td>NaN</td>\n",
              "      <td>1</td>\n",
              "      <td>1.0</td>\n",
              "      <td>1.0</td>\n",
              "      <td>2.0</td>\n",
              "      <td>1.0</td>\n",
              "      <td>2.0</td>\n",
              "      <td>NaN</td>\n",
              "      <td>1</td>\n",
              "      <td>NaN</td>\n",
              "      <td>NaN</td>\n",
              "      <td>1</td>\n",
              "      <td>NaN</td>\n",
              "      <td>1</td>\n",
              "      <td>5.0</td>\n",
              "      <td>2017-01-25</td>\n",
              "      <td>NaN</td>\n",
              "      <td>NaN</td>\n",
              "      <td>1.0</td>\n",
              "      <td>2.0</td>\n",
              "      <td>2.0</td>\n",
              "      <td>2.0</td>\n",
              "      <td>2.0</td>\n",
              "      <td>2.0</td>\n",
              "      <td>NaN</td>\n",
              "      <td>NaN</td>\n",
              "      <td>1.0</td>\n",
              "      <td>2017-01-25</td>\n",
              "      <td>70.0</td>\n",
              "      <td>2.0</td>\n",
              "      <td>2.0</td>\n",
              "      <td>2.0</td>\n",
              "      <td>2.0</td>\n",
              "      <td>1.0</td>\n",
              "      <td>1.0</td>\n",
              "      <td>1.0</td>\n",
              "      <td>5.0</td>\n",
              "      <td>6.0</td>\n",
              "      <td>1.0</td>\n",
              "      <td>NaN</td>\n",
              "    </tr>\n",
              "    <tr>\n",
              "      <th>2</th>\n",
              "      <td>2016-03-31</td>\n",
              "      <td>410690</td>\n",
              "      <td>2016-03-31</td>\n",
              "      <td>4031</td>\n",
              "      <td>M</td>\n",
              "      <td>1.0</td>\n",
              "      <td>9.0</td>\n",
              "      <td>411840</td>\n",
              "      <td>NaN</td>\n",
              "      <td>1</td>\n",
              "      <td>NaN</td>\n",
              "      <td>2.0</td>\n",
              "      <td>NaN</td>\n",
              "      <td>2</td>\n",
              "      <td>2.0</td>\n",
              "      <td>2.0</td>\n",
              "      <td>2.0</td>\n",
              "      <td>2.0</td>\n",
              "      <td>2.0</td>\n",
              "      <td>NaN</td>\n",
              "      <td>3</td>\n",
              "      <td>NaN</td>\n",
              "      <td>NaN</td>\n",
              "      <td>4</td>\n",
              "      <td>NaN</td>\n",
              "      <td>2</td>\n",
              "      <td>2.0</td>\n",
              "      <td>2016-03-31</td>\n",
              "      <td>NaN</td>\n",
              "      <td>NaN</td>\n",
              "      <td>4.0</td>\n",
              "      <td>4.0</td>\n",
              "      <td>4.0</td>\n",
              "      <td>4.0</td>\n",
              "      <td>4.0</td>\n",
              "      <td>4.0</td>\n",
              "      <td>NaN</td>\n",
              "      <td>NaN</td>\n",
              "      <td>5.0</td>\n",
              "      <td>2016-04-01</td>\n",
              "      <td>5.0</td>\n",
              "      <td>2.0</td>\n",
              "      <td>2.0</td>\n",
              "      <td>2.0</td>\n",
              "      <td>2.0</td>\n",
              "      <td>2.0</td>\n",
              "      <td>2.0</td>\n",
              "      <td>2.0</td>\n",
              "      <td>5.0</td>\n",
              "      <td>NaN</td>\n",
              "      <td>NaN</td>\n",
              "      <td>4.0</td>\n",
              "    </tr>\n",
              "    <tr>\n",
              "      <th>3</th>\n",
              "      <td>2016-11-11</td>\n",
              "      <td>410230</td>\n",
              "      <td>2016-11-07</td>\n",
              "      <td>4040</td>\n",
              "      <td>F</td>\n",
              "      <td>1.0</td>\n",
              "      <td>6.0</td>\n",
              "      <td>410230</td>\n",
              "      <td>NaN</td>\n",
              "      <td>1</td>\n",
              "      <td>NaN</td>\n",
              "      <td>1.0</td>\n",
              "      <td>NaN</td>\n",
              "      <td>1</td>\n",
              "      <td>2.0</td>\n",
              "      <td>2.0</td>\n",
              "      <td>1.0</td>\n",
              "      <td>2.0</td>\n",
              "      <td>2.0</td>\n",
              "      <td>NaN</td>\n",
              "      <td>1</td>\n",
              "      <td>NaN</td>\n",
              "      <td>NaN</td>\n",
              "      <td>3</td>\n",
              "      <td>NaN</td>\n",
              "      <td>4</td>\n",
              "      <td>5.0</td>\n",
              "      <td>2016-11-07</td>\n",
              "      <td>NaN</td>\n",
              "      <td>NaN</td>\n",
              "      <td>1.0</td>\n",
              "      <td>1.0</td>\n",
              "      <td>2.0</td>\n",
              "      <td>2.0</td>\n",
              "      <td>2.0</td>\n",
              "      <td>2.0</td>\n",
              "      <td>NaN</td>\n",
              "      <td>NaN</td>\n",
              "      <td>5.0</td>\n",
              "      <td>2017-05-18</td>\n",
              "      <td>2.0</td>\n",
              "      <td>1.0</td>\n",
              "      <td>2.0</td>\n",
              "      <td>2.0</td>\n",
              "      <td>2.0</td>\n",
              "      <td>2.0</td>\n",
              "      <td>2.0</td>\n",
              "      <td>1.0</td>\n",
              "      <td>5.0</td>\n",
              "      <td>NaN</td>\n",
              "      <td>NaN</td>\n",
              "      <td>2.0</td>\n",
              "    </tr>\n",
              "    <tr>\n",
              "      <th>4</th>\n",
              "      <td>2016-05-20</td>\n",
              "      <td>411210</td>\n",
              "      <td>2016-05-20</td>\n",
              "      <td>4027</td>\n",
              "      <td>M</td>\n",
              "      <td>1.0</td>\n",
              "      <td>2.0</td>\n",
              "      <td>410320</td>\n",
              "      <td>NaN</td>\n",
              "      <td>1</td>\n",
              "      <td>NaN</td>\n",
              "      <td>4.0</td>\n",
              "      <td>NaN</td>\n",
              "      <td>1</td>\n",
              "      <td>2.0</td>\n",
              "      <td>2.0</td>\n",
              "      <td>2.0</td>\n",
              "      <td>2.0</td>\n",
              "      <td>2.0</td>\n",
              "      <td>NaN</td>\n",
              "      <td>1</td>\n",
              "      <td>NaN</td>\n",
              "      <td>NaN</td>\n",
              "      <td>1</td>\n",
              "      <td>NaN</td>\n",
              "      <td>2</td>\n",
              "      <td>5.0</td>\n",
              "      <td>2016-05-20</td>\n",
              "      <td>NaN</td>\n",
              "      <td>NaN</td>\n",
              "      <td>1.0</td>\n",
              "      <td>2.0</td>\n",
              "      <td>2.0</td>\n",
              "      <td>2.0</td>\n",
              "      <td>2.0</td>\n",
              "      <td>2.0</td>\n",
              "      <td>NaN</td>\n",
              "      <td>NaN</td>\n",
              "      <td>5.0</td>\n",
              "      <td>2016-06-09</td>\n",
              "      <td>2.0</td>\n",
              "      <td>2.0</td>\n",
              "      <td>2.0</td>\n",
              "      <td>2.0</td>\n",
              "      <td>2.0</td>\n",
              "      <td>2.0</td>\n",
              "      <td>2.0</td>\n",
              "      <td>2.0</td>\n",
              "      <td>5.0</td>\n",
              "      <td>5.0</td>\n",
              "      <td>2.0</td>\n",
              "      <td>NaN</td>\n",
              "    </tr>\n",
              "  </tbody>\n",
              "</table>\n",
              "</div>"
            ],
            "text/plain": [
              "   DT_NOTIFIC  ID_MUNICIP     DT_DIAG  ...  TEST_SENSI ANT_RETRO  BAC_APOS_6\n",
              "0  2017-02-10      410690  2016-10-10  ...         NaN       NaN         NaN\n",
              "1  2017-01-25      411370  2016-12-30  ...         6.0       1.0         NaN\n",
              "2  2016-03-31      410690  2016-03-31  ...         NaN       NaN         4.0\n",
              "3  2016-11-11      410230  2016-11-07  ...         NaN       NaN         2.0\n",
              "4  2016-05-20      411210  2016-05-20  ...         5.0       2.0         NaN\n",
              "\n",
              "[5 rows x 52 columns]"
            ]
          },
          "metadata": {
            "tags": []
          },
          "execution_count": 4
        }
      ]
    },
    {
      "cell_type": "markdown",
      "metadata": {
        "id": "AsXO5JtApaWr"
      },
      "source": [
        "Com o método `.head()`, podemos ter uma noção geral do formato dos nossos dados e quais variáveis diferentes.\n",
        "\n",
        "**Obs**: Alternativamente, podemos usar o método `.tail()` para ver as últimas linhas do banco."
      ]
    },
    {
      "cell_type": "markdown",
      "metadata": {
        "id": "vpiYc-l8p-59"
      },
      "source": [
        "## Trabalhando com a variável `CS_RACA`"
      ]
    },
    {
      "cell_type": "markdown",
      "metadata": {
        "id": "kNXeTRvwqJ3q"
      },
      "source": [
        "Podemos selecionar uma variáveil do nosso banco usando a notação: `dados[\"nome da variável\"]`"
      ]
    },
    {
      "cell_type": "code",
      "metadata": {
        "colab": {
          "base_uri": "https://localhost:8080/"
        },
        "id": "nT8tpdnzqS8c",
        "outputId": "c0e29b06-2d64-434c-e2b4-e66d7279afeb"
      },
      "source": [
        ""
      ],
      "execution_count": 5,
      "outputs": [
        {
          "output_type": "execute_result",
          "data": {
            "text/plain": [
              "0       1.0\n",
              "1       1.0\n",
              "2       1.0\n",
              "3       1.0\n",
              "4       1.0\n",
              "       ... \n",
              "2532    1.0\n",
              "2533    9.0\n",
              "2534    1.0\n",
              "2535    4.0\n",
              "2536    1.0\n",
              "Name: CS_RACA, Length: 2537, dtype: float64"
            ]
          },
          "metadata": {
            "tags": []
          },
          "execution_count": 5
        }
      ]
    },
    {
      "cell_type": "markdown",
      "metadata": {
        "id": "YHiv2iQ1qVm9"
      },
      "source": [
        "Ao fazer a seleção de uma variável, recebemos todos os valores que estão armazenados nela, parecido com uma **lista**. \n",
        "\n",
        "**Obs**:Especificamente no pandas, essa \"lista\" que contém também índices é chamada de **Series**."
      ]
    },
    {
      "cell_type": "markdown",
      "metadata": {
        "id": "A-FYhyeyqnkb"
      },
      "source": [
        "Vamos avaliar o tipo dessa variável"
      ]
    },
    {
      "cell_type": "code",
      "metadata": {
        "colab": {
          "base_uri": "https://localhost:8080/"
        },
        "id": "zmJwAdlSqsyi",
        "outputId": "1c78ffba-26c6-4e4a-8dfd-c109e6124829"
      },
      "source": [
        ""
      ],
      "execution_count": 7,
      "outputs": [
        {
          "output_type": "execute_result",
          "data": {
            "text/plain": [
              "pandas.core.series.Series"
            ]
          },
          "metadata": {
            "tags": []
          },
          "execution_count": 7
        }
      ]
    },
    {
      "cell_type": "markdown",
      "metadata": {
        "id": "_6qTShSLq0zm"
      },
      "source": [
        "Vemos então que este elemento, é uma **Series**. Porém é importante lembrarmos que **Series** é o tipo do elemento, e não dos dados dentre dele.\n",
        "\n",
        "### Por exemplo, vamos avaliar o primeiro item presente na nossa vairável `CS_RACA`.\n",
        "**Obs**: Assim como nas listas, podemos acessar os itens usando os colchetes."
      ]
    },
    {
      "cell_type": "code",
      "metadata": {
        "colab": {
          "base_uri": "https://localhost:8080/"
        },
        "id": "XXdnzqpxrN3v",
        "outputId": "ea2e7d23-aef6-4bd2-bd04-babbf18cb77d"
      },
      "source": [
        ""
      ],
      "execution_count": 8,
      "outputs": [
        {
          "output_type": "execute_result",
          "data": {
            "text/plain": [
              "1.0"
            ]
          },
          "metadata": {
            "tags": []
          },
          "execution_count": 8
        }
      ]
    },
    {
      "cell_type": "markdown",
      "metadata": {
        "id": "9ffarNpfrQ7s"
      },
      "source": [
        "Podemos também criar uma nova variável para armazenar esse valor."
      ]
    },
    {
      "cell_type": "code",
      "metadata": {
        "id": "DVrF-373rVYO"
      },
      "source": [
        ""
      ],
      "execution_count": 9,
      "outputs": []
    },
    {
      "cell_type": "markdown",
      "metadata": {
        "id": "niRNKc65rYBg"
      },
      "source": [
        "Agora podemos avaliar o tipo deste primeiro item"
      ]
    },
    {
      "cell_type": "code",
      "metadata": {
        "colab": {
          "base_uri": "https://localhost:8080/"
        },
        "id": "2avf24vDra8f",
        "outputId": "556577b2-82b8-4ab5-ce80-5c190da4a21e"
      },
      "source": [
        ""
      ],
      "execution_count": 10,
      "outputs": [
        {
          "output_type": "execute_result",
          "data": {
            "text/plain": [
              "numpy.float64"
            ]
          },
          "metadata": {
            "tags": []
          },
          "execution_count": 10
        }
      ]
    },
    {
      "cell_type": "markdown",
      "metadata": {
        "id": "gB1qCktKreBX"
      },
      "source": [
        "Bom, temos que **o primeiro paciente tinha raça 1.0, que é do tipo float** (decimal). \n",
        "\n",
        "<font color='red'> >> </font>Isso faz sentido?"
      ]
    },
    {
      "cell_type": "markdown",
      "metadata": {
        "id": "Bw_UPc5vrFFW"
      },
      "source": [
        "Na verdade, olhando o a ficha de notificação de casos de TB, vemos que:\n",
        "* 1 = Branca;\n",
        "* 2 = Preta;\n",
        "* 3 = Amarela;\n",
        "* 4 = Parda;\n",
        "* 5 = Indígena;\n",
        "* 9 = Ignorado."
      ]
    },
    {
      "cell_type": "markdown",
      "metadata": {
        "id": "tZeFONm1sVFC"
      },
      "source": [
        "Avaliando os valores únicos presentes na nossa variável"
      ]
    },
    {
      "cell_type": "code",
      "metadata": {
        "colab": {
          "base_uri": "https://localhost:8080/"
        },
        "id": "8ijudZzRsZrU",
        "outputId": "bd00eaf7-d481-41d5-e3de-d2e1a905c11a"
      },
      "source": [
        ""
      ],
      "execution_count": 11,
      "outputs": [
        {
          "output_type": "execute_result",
          "data": {
            "text/plain": [
              "array([ 1.,  3.,  2.,  4.,  9.,  5., nan])"
            ]
          },
          "metadata": {
            "tags": []
          },
          "execution_count": 11
        }
      ]
    },
    {
      "cell_type": "markdown",
      "metadata": {
        "id": "UGqcDEFpsbQ9"
      },
      "source": [
        "**Como podemos fazer a subistituição?**\n",
        "\n",
        "Opções:\n",
        "1. **Método `.replace()`;**\n",
        "2. Método `.map()`;\n",
        "3. Loop for e listas.\n",
        "***\n",
        "Dentre essas opções, a mais simples e direta é o método `.replace()`. Ele recebe como argumentos duas listas:\n",
        "* A primeira contém os valores antigos;\n",
        "* A segunda contém os valores novos."
      ]
    },
    {
      "cell_type": "code",
      "metadata": {
        "id": "UWj8BMqLtRDx"
      },
      "source": [
        "# Valores antigos\n"
      ],
      "execution_count": 12,
      "outputs": []
    },
    {
      "cell_type": "code",
      "metadata": {
        "id": "7G2uwpDhtQ6r"
      },
      "source": [
        "# Valores novos\n"
      ],
      "execution_count": 13,
      "outputs": []
    },
    {
      "cell_type": "markdown",
      "metadata": {
        "id": "If4AyhQZtn9L"
      },
      "source": [
        "Realizando a substituição"
      ]
    },
    {
      "cell_type": "code",
      "metadata": {
        "colab": {
          "base_uri": "https://localhost:8080/"
        },
        "id": "OkjZ_S6wsu7n",
        "outputId": "42ad898b-e212-4f5a-de62-afaf20b7f1fe"
      },
      "source": [
        ""
      ],
      "execution_count": 14,
      "outputs": [
        {
          "output_type": "execute_result",
          "data": {
            "text/plain": [
              "0         Branca\n",
              "1         Branca\n",
              "2         Branca\n",
              "3         Branca\n",
              "4         Branca\n",
              "          ...   \n",
              "2532      Branca\n",
              "2533    Ignorado\n",
              "2534      Branca\n",
              "2535       Parda\n",
              "2536      Branca\n",
              "Name: CS_RACA, Length: 2537, dtype: object"
            ]
          },
          "metadata": {
            "tags": []
          },
          "execution_count": 14
        }
      ]
    },
    {
      "cell_type": "markdown",
      "metadata": {
        "id": "pj2Zv7OZtqGz"
      },
      "source": [
        "<font color='red'>**Atenção**!</font> Como não inserimos a nova versão da variável `CS_RACA` no banco de dados, a alteração não foi salva!"
      ]
    },
    {
      "cell_type": "code",
      "metadata": {
        "id": "E5whdsWlt6J2"
      },
      "source": [
        ""
      ],
      "execution_count": 16,
      "outputs": []
    },
    {
      "cell_type": "code",
      "metadata": {
        "colab": {
          "base_uri": "https://localhost:8080/"
        },
        "id": "MHvg0dFKuetY",
        "outputId": "4363b69d-3a35-407a-9fb3-76c4ddc1dfb8"
      },
      "source": [
        ""
      ],
      "execution_count": 17,
      "outputs": [
        {
          "output_type": "execute_result",
          "data": {
            "text/plain": [
              "0         Branca\n",
              "1         Branca\n",
              "2         Branca\n",
              "3         Branca\n",
              "4         Branca\n",
              "          ...   \n",
              "2532      Branca\n",
              "2533    Ignorado\n",
              "2534      Branca\n",
              "2535       Parda\n",
              "2536      Branca\n",
              "Name: CS_RACA, Length: 2537, dtype: object"
            ]
          },
          "metadata": {
            "tags": []
          },
          "execution_count": 17
        }
      ]
    },
    {
      "cell_type": "markdown",
      "metadata": {
        "id": "7U6i8RhFuoaA"
      },
      "source": [
        "### Avaliando o efeito da raça na notificação de TB em 2016 no PR.\n",
        "\n",
        "Para isso, podemos usar o método `.value_counts()` que vimos na aula anterior."
      ]
    },
    {
      "cell_type": "code",
      "metadata": {
        "colab": {
          "base_uri": "https://localhost:8080/"
        },
        "id": "jT1gJJZVu3X4",
        "outputId": "97d9416b-320b-4163-b804-0ff19767e919"
      },
      "source": [
        ""
      ],
      "execution_count": 18,
      "outputs": [
        {
          "output_type": "execute_result",
          "data": {
            "text/plain": [
              "Branca      1698\n",
              "Parda        616\n",
              "Preta        165\n",
              "Ignorado      22\n",
              "Amarela       20\n",
              "Indígena      11\n",
              "Name: CS_RACA, dtype: int64"
            ]
          },
          "metadata": {
            "tags": []
          },
          "execution_count": 18
        }
      ]
    },
    {
      "cell_type": "markdown",
      "metadata": {
        "id": "FoHSKp36uwQ0"
      },
      "source": [
        "### O que isso nos diz?\n",
        "1. Brancos são geneticamente mais suscetíveis à TB?\n",
        "2. Ou ainda, Pretos e Pardos tem alguma proteção natural contra a TB?\n",
        "3. Amarelos são praticamente imunes à TB?\n",
        "***\n",
        "\n",
        "**Não podemos chegar a esse tipo de conclusão!**\n",
        "1. A declaração/reconhecimento étnico no Brasil é um assunto delicado;\n",
        "2. O Paraná é sabidamente um estado que foi colonizado por populações européias. \n",
        "\n",
        "Segundo a [Wikipédia](https://pt.wikipedia.org/wiki/Demografia_do_Paraná#Composição_étnica), temos 70% de Brancos; 22,35% de Pardos; 3,15% de Pretos; 1.19% de Amarelos e 0.25% de Indígenas no Paraná."
      ]
    },
    {
      "cell_type": "markdown",
      "metadata": {
        "id": "4dNmaWmswWBX"
      },
      "source": [
        "Avaliando as porcentagens"
      ]
    },
    {
      "cell_type": "code",
      "metadata": {
        "colab": {
          "base_uri": "https://localhost:8080/"
        },
        "id": "xZUqqBp1wZdF",
        "outputId": "d034410e-f7db-45f8-aebd-c075c12d5da3"
      },
      "source": [
        ""
      ],
      "execution_count": 19,
      "outputs": [
        {
          "output_type": "execute_result",
          "data": {
            "text/plain": [
              "Branca      67.061611\n",
              "Parda       24.328594\n",
              "Preta        6.516588\n",
              "Ignorado     0.868878\n",
              "Amarela      0.789889\n",
              "Indígena     0.434439\n",
              "Name: CS_RACA, dtype: float64"
            ]
          },
          "metadata": {
            "tags": []
          },
          "execution_count": 19
        }
      ]
    },
    {
      "cell_type": "markdown",
      "metadata": {
        "id": "WZEFjFbIwurG"
      },
      "source": [
        "Aparentemente, temos o dobro de Pretos afetados."
      ]
    },
    {
      "cell_type": "markdown",
      "metadata": {
        "id": "Tm3ULYTXw06M"
      },
      "source": [
        "### Para terminar, como podemos salvar o arquivo para próximas aulas?\n",
        "\n",
        "Isso é super fácil! Basta usar o método `.to_csv()`, que vai transformar nossos dados em um arquivo .csv.\n",
        "\n",
        "Basta passarmos o nome+formato do arquivo e se queremos manter o índice ou não. O arquivo fica salvo no ícone da pastinha."
      ]
    },
    {
      "cell_type": "code",
      "metadata": {
        "id": "vr-d9_dwxGSO"
      },
      "source": [
        ""
      ],
      "execution_count": 20,
      "outputs": []
    },
    {
      "cell_type": "markdown",
      "metadata": {
        "id": "ns5lHFBznKOl"
      },
      "source": [
        "#### 1 - Qual função é usada para lermos arquivos no formato \".csv\" usando o pacote pandas?\n",
        "#### 2 - Qual função é utilizada para exibir as primeiras linhas do nosso banco de dados? <font color='red'>Como faríamos para exibir as primeiras 4 linhas?</font>\n",
        "#### 3 - Como faríamos para verificar quantas pessoas de cada sexo (variável \"CS_SEXO\") tiveram TB no paraná?"
      ]
    },
    {
      "cell_type": "markdown",
      "metadata": {
        "id": "KHROskah3KO5"
      },
      "source": [
        "#### 4 - Substitua os valores \"M\" e \"F\" por \"Masculino\" e \"Feminino\" no banco de dados usando o método `.replace()`"
      ]
    },
    {
      "cell_type": "code",
      "metadata": {
        "id": "b6_PAXo83VLW"
      },
      "source": [
        ""
      ],
      "execution_count": null,
      "outputs": []
    },
    {
      "cell_type": "markdown",
      "metadata": {
        "id": "OM-23yhB3T1m"
      },
      "source": [
        "#### 5 - Por fim, salve o banco de dados com o nome \"arquivo_seu_nome.csv\" e envie pra mim por e-mail."
      ]
    },
    {
      "cell_type": "code",
      "metadata": {
        "id": "Hg9nPw1UnSOB"
      },
      "source": [
        ""
      ],
      "execution_count": null,
      "outputs": []
    }
  ]
}