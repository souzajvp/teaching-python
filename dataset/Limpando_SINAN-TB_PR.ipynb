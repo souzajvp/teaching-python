{
 "cells": [
  {
   "cell_type": "code",
   "execution_count": 1,
   "id": "5b65bcd3",
   "metadata": {},
   "outputs": [],
   "source": [
    "import pandas as pd"
   ]
  },
  {
   "cell_type": "markdown",
   "id": "3b741208",
   "metadata": {},
   "source": [
    "Importando banco de dados TB-PR"
   ]
  },
  {
   "cell_type": "code",
   "execution_count": 2,
   "id": "ff6fb352",
   "metadata": {},
   "outputs": [],
   "source": [
    "url = 'https://raw.githubusercontent.com/souzajvp/teaching-python/main/dataset/tb_pr_sinan.csv'"
   ]
  },
  {
   "cell_type": "code",
   "execution_count": 3,
   "id": "7b130dfa",
   "metadata": {},
   "outputs": [
    {
     "name": "stderr",
     "output_type": "stream",
     "text": [
      "/media/newhd/joao-souza/anaconda/lib/python3.8/site-packages/IPython/core/interactiveshell.py:3169: DtypeWarning: Columns (61) have mixed types.Specify dtype option on import or set low_memory=False.\n",
      "  has_raised = await self.run_ast_nodes(code_ast.body, cell_name,\n"
     ]
    }
   ],
   "source": [
    "dados = pd.read_csv(url)"
   ]
  },
  {
   "cell_type": "markdown",
   "id": "20c8b225",
   "metadata": {},
   "source": [
    "Dicionário para limpar os dados"
   ]
  },
  {
   "cell_type": "code",
   "execution_count": 4,
   "id": "00869cd8",
   "metadata": {},
   "outputs": [],
   "source": [
    "dicionario = {\n",
    "    'TRATAMENTO':{1:'Caso Novo', 2:'Recidiva', 3:'Reingresso após Abandono', \n",
    "                4:'Não se sabe', 5:'Transferência', 6:'Pós-óbito'},\n",
    "    'POP_LIBER':{1:'Sim', 2:'Não', 9:'Ignorado'},\n",
    "    'POP_RUA':{1:'Sim', 2:'Não', 9:'Ignorado'},\n",
    "    'POP_SAUDE':{1:'Sim', 2:'Não', 9:'Ignorado'},\n",
    "    'POP_IMIG':{1:'Sim', 2:'Não', 9:'Ignorado'},\n",
    "    'BENEF_GOV':{1:'Sim', 2:'Não', 9:'Ignorado'},\n",
    "    'FORMA':{1:'Pulmonar', 2:'Extrapulmonar', 9:'Pulmonar + Extrapulmonar'},\n",
    "    'EXTRAPU1_N':{1:'Pleural', 2:'Gang. perif.', 3:'Geniturinária', 4:'Óssea',\n",
    "                 5:'Ocular', 6:'Miliar', 7:'Meningoencefálico', 8:'Cutânea',\n",
    "                 9:'Laringea', 10:'Outra'},\n",
    "    'EXTRAPU2_N':{1:'Pleural', 2:'Gang. perif.', 3:'Geniturinária', 4:'Óssea',\n",
    "                 5:'Ocular', 6:'Miliar', 7:'Meningoencefálico', 8:'Cutânea',\n",
    "                 9:'Laringea', 10:'Outra'},          \n",
    "    'AGRAVAIDS': {1:'Sim', 2:'Não', 9:'Ignorado'},\n",
    "    'AGRAVALCOO': {1:'Sim', 2:'Não', 9:'Ignorado'},\n",
    "    'AGRAVDIABE': {1:'Sim', 2:'Não', 9:'Ignorado'},\n",
    "    'AGRAVDOENC':{1:'Sim', 2:'Não', 9:'Ignorado'},\n",
    "    'AGRAVDROGA':{1:'Sim', 2:'Não', 9:'Ignorado'},\n",
    "    'AGRAVTABAC':{1:'Sim', 2:'Não', 9:'Ignorado'},\n",
    "    'AGRAVOUTRA':{1:'Sim', 2:'Não', 9:'Ignorado'},\n",
    "    'BACILOSC_E':{1:'Positiva', 2:'Negativa', 3:'Não realizada', 4:'Não se aplica'},\n",
    "    'RAIOX_TORA':{1:'Suspeito', 2:'Normal', 3:'Outra patologia', 4:'Não realizado'},\n",
    "    'HIV':{1:'Positivo', 2:'Negativo', 3:'Em andamento', 4:'Não realizado'},\n",
    "    'ANT_RETRO':{1:'Sim', 2:'Não', 9:'Ignorado'},\n",
    "    'HISTOPATOL':{1:'BAAR Positivo', 2:'Sugestivo de TB', 3:'Não sugestivo de TB',\n",
    "                  4:'Em andamento', 5:'Não realizado'},\n",
    "    'CULTURA_ES':{1:'Positiva', 2:'Negativa', 3:'Em andamento', 4:'Não se aplica'},\n",
    "    'TEST_MOLEC':{1:'Detectável sensível a Rifampicina', \n",
    "                   2:'Detectável resistente à Rifampicina',\n",
    "                   3:'Não detectável',\n",
    "                   4:'Inconclusivo',\n",
    "                   5:'Não realizado'},\n",
    "    'TEST_SENSI':{1:'Resistente somente à Isoniazida',\n",
    "                       2:'Resistente somente à Rifampicina',\n",
    "                       3:'Resistente à Isoniazida e Rifampicina',\n",
    "                       4:'Resistente a outras drogas de 1ª linha',\n",
    "                       5:'Sensível',\n",
    "                       6:'Em andamento',\n",
    "                       7:'Não realizado'},\n",
    "    'BACILOSC_1':{1:'Positiva', 2:'Negativa', 3:'Não realizada', 4:'Não se aplica'},\n",
    "    'BACILOSC_2':{1:'Positiva', 2:'Negativa', 3:'Não realizada', 4:'Não se aplica'},\n",
    "    'BACILOSC_3':{1:'Positiva', 2:'Negativa', 3:'Não realizada', 4:'Não se aplica'},\n",
    "    'BACILOSC_4':{1:'Positiva', 2:'Negativa', 3:'Não realizada', 4:'Não se aplica'},\n",
    "    'BACILOSC_5':{1:'Positiva', 2:'Negativa', 3:'Não realizada', 4:'Não se aplica'},\n",
    "    'BACILOSC_6':{1:'Positiva', 2:'Negativa', 3:'Não realizada', 4:'Não se aplica'},\n",
    "    'BAC_APOS_6':{1:'Positiva', 2:'Negativa', 3:'Não realizada', 4:'Não se aplica'},\n",
    "    'TRATSUP_AT':{1:'Sim', 2:'Não', 9:'Ignorado'},\n",
    "    'SITUA_ENCE':{1:'Cura', 2:'Abandono', 3:'Óbito por TB', 4:'Óbito por outras causas',\n",
    "                  5:'Transferências', 6:'Mudança de Diagnóstico', 7:'TB-DR', \n",
    "                  8:'Mudança de Esquema', 9:'Falência', 10:'Abandono Primário'},\n",
    "    'TRANSF':{1:'Mesmo município', 2:'Município diferente (mesma UF)', \n",
    "              3:'UF diferente', 4:'País diferente', 9:'Ignorado'},\n",
    "    'CS_SEXO':{'M':'Masculino', 'I':'Indeterminado', 'F':'Feminino'},\n",
    "    'CS_GESTANT':{1:'1ºTrimestre', 2:'2ºTrimestre', 3:'3ºTrimestre', 4:'Idade gestacional ignorada',\n",
    "                  5:'Não', 6:'Não se aplica', 9:'Ignorado'},\n",
    "    'CS_RACA':{1:'Branca', 2:'Preta', 3:'Amarela', 4:'Parda', 5:'Indígena', 9:'Ignorado'},\n",
    "    'CS_ESCOL_N':{0:'Analfabeto', 1:'1ª a 4ª série incompleta do EF', 2:'4ª série completa do EF',\n",
    "                  3:'5ª à 8ª série incompleta do EF', 4:'Ensino fundamental completo',\n",
    "                  5:'Ensino médio incompleto', 6:'Ensino médio completo', 7:'Educação superior incompleta',\n",
    "                  8:'Educação superior completa', 9:'Ignorado', 10:'Não se aplica'},\n",
    "    'CS_ZONA':{1:'Urbana', 2:'Rural', 3:'Periurbana', 9:'Ignorado'},\n",
    "    \n",
    "              }\n",
    "\n",
    "textuais_cont = ['EXTRAPUL_O', 'AGRAVOUTDE', 'DT_INIC_TR', 'NU_NOTI_AT',\n",
    "                 'DT_NOTI_AT', 'SG_UF_2', 'ID_MUNIC_2',  'MUN_TRANSF', 'DT_ENCERRA',\n",
    "                 'ID_MUNIC_A', 'SG_UF_AT']\n",
    "                 \n",
    "                 \n",
    "n_tem = ['NU_COMU_ID', 'ID_UNID_AT', 'NU_CEP2', 'D_DISTR_2',\n",
    "'ID_BAIRRO2', 'NM_BAIRRO2', 'NU_PRONT_AT', 'NU_CONT_EX', 'SG_UF_TRANSF']"
   ]
  },
  {
   "cell_type": "code",
   "execution_count": 5,
   "id": "58d55be2",
   "metadata": {},
   "outputs": [],
   "source": [
    "for i in dicionario.keys():\n",
    "    dados[i] = dados[i].map(dicionario[i])"
   ]
  },
  {
   "cell_type": "code",
   "execution_count": 6,
   "id": "16e488af",
   "metadata": {},
   "outputs": [
    {
     "name": "stdout",
     "output_type": "stream",
     "text": [
      "dicionario_dados_mapear.txt  pop_parana_2010.csv  tb_pr_sinan_organizado.csv\r\n",
      "documentacao_sinan_tb\t     readme.md\t\t  tb_pr_sinan_organizado.zip\r\n",
      "Limpando_SINAN-TB_PR.ipynb   tb_pr_sinan.csv\r\n"
     ]
    }
   ],
   "source": [
    "!ls"
   ]
  },
  {
   "cell_type": "code",
   "execution_count": 7,
   "id": "d849061d",
   "metadata": {},
   "outputs": [],
   "source": [
    "dados.to_csv('tb_pr_sinan_organizado.csv', index=False)"
   ]
  }
 ],
 "metadata": {
  "kernelspec": {
   "display_name": "Python 3",
   "language": "python",
   "name": "python3"
  },
  "language_info": {
   "codemirror_mode": {
    "name": "ipython",
    "version": 3
   },
   "file_extension": ".py",
   "mimetype": "text/x-python",
   "name": "python",
   "nbconvert_exporter": "python",
   "pygments_lexer": "ipython3",
   "version": "3.8.5"
  },
  "toc": {
   "base_numbering": 1,
   "nav_menu": {},
   "number_sections": false,
   "sideBar": true,
   "skip_h1_title": false,
   "title_cell": "Table of Contents",
   "title_sidebar": "Contents",
   "toc_cell": false,
   "toc_position": {},
   "toc_section_display": true,
   "toc_window_display": false
  }
 },
 "nbformat": 4,
 "nbformat_minor": 5
}
