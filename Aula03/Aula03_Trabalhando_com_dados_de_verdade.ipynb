{
  "nbformat": 4,
  "nbformat_minor": 0,
  "metadata": {
    "colab": {
      "name": "Aula03-Trabalhando_com_dados_de_verdade.ipynb",
      "provenance": [],
      "authorship_tag": "ABX9TyM8K5dhyv1Tn8M/QQNoTi+G",
      "include_colab_link": true
    },
    "kernelspec": {
      "name": "python3",
      "display_name": "Python 3"
    },
    "language_info": {
      "name": "python"
    }
  },
  "cells": [
    {
      "cell_type": "markdown",
      "metadata": {
        "id": "view-in-github",
        "colab_type": "text"
      },
      "source": [
        "<a href=\"https://colab.research.google.com/github/souzajvp/teaching-python/blob/main/Aula03/Aula03_Trabalhando_com_dados_de_verdade.ipynb\" target=\"_parent\"><img src=\"https://colab.research.google.com/assets/colab-badge.svg\" alt=\"Open In Colab\"/></a>"
      ]
    },
    {
      "cell_type": "markdown",
      "metadata": {
        "id": "-A4vSjAJhrI6"
      },
      "source": [
        "# Revisão da última aula"
      ]
    },
    {
      "cell_type": "markdown",
      "metadata": {
        "id": "kxqKd3unht4b"
      },
      "source": [
        "* Avalie qual a média e o desvio padrão das idades dos seguintes pacientes. Em seguida tente tirar conclusões dos valores encontrados.\n",
        "\n"
      ]
    },
    {
      "cell_type": "code",
      "metadata": {
        "id": "3Mbp0cIMh1ec"
      },
      "source": [
        "import numpy as np"
      ],
      "execution_count": 1,
      "outputs": []
    },
    {
      "cell_type": "code",
      "metadata": {
        "id": "dPNYAZyohxQq"
      },
      "source": [
        "idades = [50,55,63,34,75,55,66,49,51,35,66]"
      ],
      "execution_count": 2,
      "outputs": []
    },
    {
      "cell_type": "code",
      "metadata": {
        "colab": {
          "base_uri": "https://localhost:8080/"
        },
        "id": "VzFMn3n0hydL",
        "outputId": "fbc5090c-ca2e-4298-8f35-bb7f13d82af9"
      },
      "source": [
        ""
      ],
      "execution_count": 3,
      "outputs": [
        {
          "output_type": "execute_result",
          "data": {
            "text/plain": [
              "54.45454545454545"
            ]
          },
          "metadata": {
            "tags": []
          },
          "execution_count": 3
        }
      ]
    },
    {
      "cell_type": "code",
      "metadata": {
        "colab": {
          "base_uri": "https://localhost:8080/"
        },
        "id": "JzKwt75ahze6",
        "outputId": "d622347a-064b-4009-e84c-2662ef2efd33"
      },
      "source": [
        ""
      ],
      "execution_count": 4,
      "outputs": [
        {
          "output_type": "execute_result",
          "data": {
            "text/plain": [
              "12.138321258526922"
            ]
          },
          "metadata": {
            "tags": []
          },
          "execution_count": 4
        }
      ]
    },
    {
      "cell_type": "markdown",
      "metadata": {
        "id": "xsKKuOSvh4eZ"
      },
      "source": [
        "Considerando as idades acima, notamos que os pacientes tem 54 anos de idade, em média. Além disso, também notamos que o desvio é pequeno comparado a média, o que pode indicar que temos uma **concentração de pacientes com idades próximas!**"
      ]
    },
    {
      "cell_type": "markdown",
      "metadata": {
        "id": "oepH5o3Oh7t8"
      },
      "source": [
        "* Avalie qual a média e o desvio padrão dos pesos dos seguintes pacientes. Em seguida tente tirar conclusões dos valores encontrados.\n"
      ]
    },
    {
      "cell_type": "code",
      "metadata": {
        "id": "Ibet1iEEh-gh"
      },
      "source": [
        "pesos = [55,20,77,93,54,110,25,99,66,67,33,115]"
      ],
      "execution_count": 5,
      "outputs": []
    },
    {
      "cell_type": "code",
      "metadata": {
        "colab": {
          "base_uri": "https://localhost:8080/"
        },
        "id": "KdFGTewih_mh",
        "outputId": "3207db43-56dc-42a0-dd30-9c1b6904e0d9"
      },
      "source": [
        ""
      ],
      "execution_count": 6,
      "outputs": [
        {
          "output_type": "execute_result",
          "data": {
            "text/plain": [
              "67.83333333333333"
            ]
          },
          "metadata": {
            "tags": []
          },
          "execution_count": 6
        }
      ]
    },
    {
      "cell_type": "code",
      "metadata": {
        "colab": {
          "base_uri": "https://localhost:8080/"
        },
        "id": "T-fx81vSiA5q",
        "outputId": "da0056f5-e78d-4668-ccfa-fd2382bd9445"
      },
      "source": [
        ""
      ],
      "execution_count": 7,
      "outputs": [
        {
          "output_type": "execute_result",
          "data": {
            "text/plain": [
              "30.805392745787582"
            ]
          },
          "metadata": {
            "tags": []
          },
          "execution_count": 7
        }
      ]
    },
    {
      "cell_type": "markdown",
      "metadata": {
        "id": "0xXUGEbqiB3w"
      },
      "source": [
        "Neste caso, notamos que o desvio dos pesos é grande, indicando que temos pacientes com peso reduzido até pesos mais elevados.\n",
        "\n",
        "Isso poderia indicar que temos um grupo de pacientes com diferentes idades!"
      ]
    },
    {
      "cell_type": "markdown",
      "metadata": {
        "id": "vy5QvM0giEhX"
      },
      "source": [
        "* Use a função `print()` para criar frases usando os resultados dos dois exercícios anteriores.\n",
        "\n",
        "**Obs**: Lembre-se de usar a função round() para arredondar os valores!"
      ]
    },
    {
      "cell_type": "code",
      "metadata": {
        "colab": {
          "base_uri": "https://localhost:8080/"
        },
        "id": "CaKwCvweiI5-",
        "outputId": "aadde1b4-a4af-45b9-d395-bbaaa602af90"
      },
      "source": [
        ""
      ],
      "execution_count": 8,
      "outputs": [
        {
          "output_type": "stream",
          "text": [
            "A média de idades dos meus pacientes é 54.45 +- 12.14\n"
          ],
          "name": "stdout"
        }
      ]
    },
    {
      "cell_type": "code",
      "metadata": {
        "colab": {
          "base_uri": "https://localhost:8080/"
        },
        "id": "ee15J7a9iL1H",
        "outputId": "39d120dc-e36c-4047-b420-ea358099f57e"
      },
      "source": [
        ""
      ],
      "execution_count": 9,
      "outputs": [
        {
          "output_type": "stream",
          "text": [
            "A média dos pesos dos meus pacientes é de 67.83 +- 30.81\n"
          ],
          "name": "stdout"
        }
      ]
    },
    {
      "cell_type": "markdown",
      "metadata": {
        "id": "Pe45Gf82oicW"
      },
      "source": [
        "# Trabalhando com um banco de dados real!\n",
        "Até agora vimos um pouco do básico do python. Apesar de isso ser importante para possibilitar que vocês possam se orientar nesse mundo, eu penso que **só aprendemos colocando a mão na massa**!\n",
        "\n",
        "Hoje vamos trabalhar com um **banco de dados de pacientes que possuiam problemas cardíacos**.\n",
        "\n",
        "Link do banco de dados no [Kaggle](https://www.kaggle.com/ronitf/heart-disease-uci)."
      ]
    },
    {
      "cell_type": "markdown",
      "metadata": {
        "id": "nWAnIwCfjT8H"
      },
      "source": [
        "## Usando o pacote pandas\n",
        "***\n",
        "![img](https://miro.medium.com/max/2625/0*kVETqwtYsQ8BFJDc.gif)\n"
      ]
    },
    {
      "cell_type": "markdown",
      "metadata": {
        "id": "aVqGyB-bjr3G"
      },
      "source": [
        "O pandas vai ser o melhor amigo de vocês pra quase qualquer tarefa de análise de dados! Com ele, podemos executar uma grande variedade de comandos que facilitam nossa vida ao trabalhar com dados!"
      ]
    },
    {
      "cell_type": "code",
      "metadata": {
        "id": "KoFR5u8wnx4D"
      },
      "source": [
        "import pandas as pd"
      ],
      "execution_count": 10,
      "outputs": []
    },
    {
      "cell_type": "markdown",
      "metadata": {
        "id": "qH4T4qKOjSuv"
      },
      "source": [
        "Para carregar nossos dados, temos algumas opções:\n",
        "1. Podemos fazer o upload de um arquivo e em seguida lê-lo;\n",
        "2. Utilizar um link que contenha a informação do arquivo e lê-lo diretamente.\n",
        "\n",
        "O pandas é capaz de ler diversos formatos: `excel, csv, txt e até pdf.`"
      ]
    },
    {
      "cell_type": "code",
      "metadata": {
        "id": "RB7LYfIlofN1"
      },
      "source": [
        "url = 'https://raw.githubusercontent.com/souzajvp/teaching-python/main/Aula03/heart.csv'"
      ],
      "execution_count": 11,
      "outputs": []
    },
    {
      "cell_type": "markdown",
      "metadata": {
        "id": "C7cDN686kXV2"
      },
      "source": [
        "Neste caso, nosso arquivo está no formato .csv (*comma separated value*), então vamos usar a função `pd.read_csv()` para realizar a leitura."
      ]
    },
    {
      "cell_type": "code",
      "metadata": {
        "id": "-JXZD66Tn4Oc"
      },
      "source": [
        ""
      ],
      "execution_count": 12,
      "outputs": []
    },
    {
      "cell_type": "markdown",
      "metadata": {
        "id": "ke3MvK5kkyZc"
      },
      "source": [
        "Qual é o tipo da nossa variável dados?"
      ]
    },
    {
      "cell_type": "code",
      "metadata": {
        "colab": {
          "base_uri": "https://localhost:8080/"
        },
        "id": "GMaU6SbZk1Y4",
        "outputId": "749bda52-7bf0-442f-b979-ab938eb0237f"
      },
      "source": [
        ""
      ],
      "execution_count": 13,
      "outputs": [
        {
          "output_type": "execute_result",
          "data": {
            "text/plain": [
              "pandas.core.frame.DataFrame"
            ]
          },
          "metadata": {
            "tags": []
          },
          "execution_count": 13
        }
      ]
    },
    {
      "cell_type": "markdown",
      "metadata": {
        "id": "lf16UeRRkvxO"
      },
      "source": [
        "O DataFrame é um elemento do pandas que funciona como um conjunto de listas que armazenam nossos dados.\n",
        "\n",
        " Vocês vão ver que o jeito de trabalhar com as listas e dataframes é bastante parecido.\n",
        "\n",
        "***\n",
        "**Obs**: Antes de começarmos, decidi renomear as colunas do nosso dataframe para facilitar o trabalho!"
      ]
    },
    {
      "cell_type": "code",
      "metadata": {
        "id": "wLAnPyYsl3Ko"
      },
      "source": [
        "dados = dados[['age', 'sex', 'trestbps', 'chol', 'fbs', 'thalach', 'target']]\n",
        "dados.columns = ['idade', 'sexo', 'pressao_sang', 'colesterol', 'glicose', 'freq_card_max', 'doenca_card']"
      ],
      "execution_count": 14,
      "outputs": []
    },
    {
      "cell_type": "markdown",
      "metadata": {
        "id": "nNyMHoYtlBnU"
      },
      "source": [
        "### Olhando para um resumo dos dados\n",
        "As funções `head()` e `tail()` (cabeça e cauda) são muito boas para termos uma noção geral dos nossos dados!"
      ]
    },
    {
      "cell_type": "code",
      "metadata": {
        "colab": {
          "base_uri": "https://localhost:8080/",
          "height": 206
        },
        "id": "-igdqw3Olh9Z",
        "outputId": "0c142d10-651e-402b-b024-316e8e5b5671"
      },
      "source": [
        ""
      ],
      "execution_count": 15,
      "outputs": [
        {
          "output_type": "execute_result",
          "data": {
            "text/html": [
              "<div>\n",
              "<style scoped>\n",
              "    .dataframe tbody tr th:only-of-type {\n",
              "        vertical-align: middle;\n",
              "    }\n",
              "\n",
              "    .dataframe tbody tr th {\n",
              "        vertical-align: top;\n",
              "    }\n",
              "\n",
              "    .dataframe thead th {\n",
              "        text-align: right;\n",
              "    }\n",
              "</style>\n",
              "<table border=\"1\" class=\"dataframe\">\n",
              "  <thead>\n",
              "    <tr style=\"text-align: right;\">\n",
              "      <th></th>\n",
              "      <th>idade</th>\n",
              "      <th>sexo</th>\n",
              "      <th>pressao_sang</th>\n",
              "      <th>colesterol</th>\n",
              "      <th>glicose</th>\n",
              "      <th>freq_card_max</th>\n",
              "      <th>doenca_card</th>\n",
              "    </tr>\n",
              "  </thead>\n",
              "  <tbody>\n",
              "    <tr>\n",
              "      <th>0</th>\n",
              "      <td>63</td>\n",
              "      <td>1</td>\n",
              "      <td>145</td>\n",
              "      <td>233</td>\n",
              "      <td>1</td>\n",
              "      <td>150</td>\n",
              "      <td>1</td>\n",
              "    </tr>\n",
              "    <tr>\n",
              "      <th>1</th>\n",
              "      <td>37</td>\n",
              "      <td>1</td>\n",
              "      <td>130</td>\n",
              "      <td>250</td>\n",
              "      <td>0</td>\n",
              "      <td>187</td>\n",
              "      <td>1</td>\n",
              "    </tr>\n",
              "    <tr>\n",
              "      <th>2</th>\n",
              "      <td>41</td>\n",
              "      <td>0</td>\n",
              "      <td>130</td>\n",
              "      <td>204</td>\n",
              "      <td>0</td>\n",
              "      <td>172</td>\n",
              "      <td>1</td>\n",
              "    </tr>\n",
              "    <tr>\n",
              "      <th>3</th>\n",
              "      <td>56</td>\n",
              "      <td>1</td>\n",
              "      <td>120</td>\n",
              "      <td>236</td>\n",
              "      <td>0</td>\n",
              "      <td>178</td>\n",
              "      <td>1</td>\n",
              "    </tr>\n",
              "    <tr>\n",
              "      <th>4</th>\n",
              "      <td>57</td>\n",
              "      <td>0</td>\n",
              "      <td>120</td>\n",
              "      <td>354</td>\n",
              "      <td>0</td>\n",
              "      <td>163</td>\n",
              "      <td>1</td>\n",
              "    </tr>\n",
              "  </tbody>\n",
              "</table>\n",
              "</div>"
            ],
            "text/plain": [
              "   idade  sexo  pressao_sang  colesterol  glicose  freq_card_max  doenca_card\n",
              "0     63     1           145         233        1            150            1\n",
              "1     37     1           130         250        0            187            1\n",
              "2     41     0           130         204        0            172            1\n",
              "3     56     1           120         236        0            178            1\n",
              "4     57     0           120         354        0            163            1"
            ]
          },
          "metadata": {
            "tags": []
          },
          "execution_count": 15
        }
      ]
    },
    {
      "cell_type": "code",
      "metadata": {
        "colab": {
          "base_uri": "https://localhost:8080/",
          "height": 206
        },
        "id": "Ia87TwvWljJp",
        "outputId": "c8ed41c3-eab3-46f4-c66a-7ac818a8a23c"
      },
      "source": [
        ""
      ],
      "execution_count": 16,
      "outputs": [
        {
          "output_type": "execute_result",
          "data": {
            "text/html": [
              "<div>\n",
              "<style scoped>\n",
              "    .dataframe tbody tr th:only-of-type {\n",
              "        vertical-align: middle;\n",
              "    }\n",
              "\n",
              "    .dataframe tbody tr th {\n",
              "        vertical-align: top;\n",
              "    }\n",
              "\n",
              "    .dataframe thead th {\n",
              "        text-align: right;\n",
              "    }\n",
              "</style>\n",
              "<table border=\"1\" class=\"dataframe\">\n",
              "  <thead>\n",
              "    <tr style=\"text-align: right;\">\n",
              "      <th></th>\n",
              "      <th>idade</th>\n",
              "      <th>sexo</th>\n",
              "      <th>pressao_sang</th>\n",
              "      <th>colesterol</th>\n",
              "      <th>glicose</th>\n",
              "      <th>freq_card_max</th>\n",
              "      <th>doenca_card</th>\n",
              "    </tr>\n",
              "  </thead>\n",
              "  <tbody>\n",
              "    <tr>\n",
              "      <th>298</th>\n",
              "      <td>57</td>\n",
              "      <td>0</td>\n",
              "      <td>140</td>\n",
              "      <td>241</td>\n",
              "      <td>0</td>\n",
              "      <td>123</td>\n",
              "      <td>0</td>\n",
              "    </tr>\n",
              "    <tr>\n",
              "      <th>299</th>\n",
              "      <td>45</td>\n",
              "      <td>1</td>\n",
              "      <td>110</td>\n",
              "      <td>264</td>\n",
              "      <td>0</td>\n",
              "      <td>132</td>\n",
              "      <td>0</td>\n",
              "    </tr>\n",
              "    <tr>\n",
              "      <th>300</th>\n",
              "      <td>68</td>\n",
              "      <td>1</td>\n",
              "      <td>144</td>\n",
              "      <td>193</td>\n",
              "      <td>1</td>\n",
              "      <td>141</td>\n",
              "      <td>0</td>\n",
              "    </tr>\n",
              "    <tr>\n",
              "      <th>301</th>\n",
              "      <td>57</td>\n",
              "      <td>1</td>\n",
              "      <td>130</td>\n",
              "      <td>131</td>\n",
              "      <td>0</td>\n",
              "      <td>115</td>\n",
              "      <td>0</td>\n",
              "    </tr>\n",
              "    <tr>\n",
              "      <th>302</th>\n",
              "      <td>57</td>\n",
              "      <td>0</td>\n",
              "      <td>130</td>\n",
              "      <td>236</td>\n",
              "      <td>0</td>\n",
              "      <td>174</td>\n",
              "      <td>0</td>\n",
              "    </tr>\n",
              "  </tbody>\n",
              "</table>\n",
              "</div>"
            ],
            "text/plain": [
              "     idade  sexo  pressao_sang  colesterol  glicose  freq_card_max  doenca_card\n",
              "298     57     0           140         241        0            123            0\n",
              "299     45     1           110         264        0            132            0\n",
              "300     68     1           144         193        1            141            0\n",
              "301     57     1           130         131        0            115            0\n",
              "302     57     0           130         236        0            174            0"
            ]
          },
          "metadata": {
            "tags": []
          },
          "execution_count": 16
        }
      ]
    },
    {
      "cell_type": "markdown",
      "metadata": {
        "id": "rKrULs1ijPS5"
      },
      "source": [
        "Nos nossos dados, temos as colunas: `idade`, `sexo`, `pressao_sang`, `colesterol`, `glicose`, `freq_card_max` e `doenca_card`."
      ]
    },
    {
      "cell_type": "markdown",
      "metadata": {
        "id": "_5OaDlwcxJjk"
      },
      "source": [
        "### Quais os tipos de dados que temos em cada coluna?"
      ]
    },
    {
      "cell_type": "code",
      "metadata": {
        "colab": {
          "base_uri": "https://localhost:8080/"
        },
        "id": "jfTKLqTKxNRH",
        "outputId": "7a41ac33-d6fd-4844-be8d-e7b49334d76c"
      },
      "source": [
        ""
      ],
      "execution_count": 17,
      "outputs": [
        {
          "output_type": "stream",
          "text": [
            "<class 'pandas.core.frame.DataFrame'>\n",
            "RangeIndex: 303 entries, 0 to 302\n",
            "Data columns (total 7 columns):\n",
            " #   Column         Non-Null Count  Dtype\n",
            "---  ------         --------------  -----\n",
            " 0   idade          303 non-null    int64\n",
            " 1   sexo           303 non-null    int64\n",
            " 2   pressao_sang   303 non-null    int64\n",
            " 3   colesterol     303 non-null    int64\n",
            " 4   glicose        303 non-null    int64\n",
            " 5   freq_card_max  303 non-null    int64\n",
            " 6   doenca_card    303 non-null    int64\n",
            "dtypes: int64(7)\n",
            "memory usage: 16.7 KB\n"
          ],
          "name": "stdout"
        }
      ]
    },
    {
      "cell_type": "markdown",
      "metadata": {
        "id": "XNKsZiCexTd9"
      },
      "source": [
        "Aparentemente, todas as colunas são números inteiros..."
      ]
    },
    {
      "cell_type": "markdown",
      "metadata": {
        "id": "R3KdZzR8qOs3"
      },
      "source": [
        "## Como trabalhar com uma coluna específica?\n",
        "Assim como fazemos nas listas, aqui podemos acessar uma parte dos dados usando os colchetes, com a diferença que temos que colocar o nome da coluna desejada."
      ]
    },
    {
      "cell_type": "code",
      "metadata": {
        "colab": {
          "base_uri": "https://localhost:8080/"
        },
        "id": "rHPFdWdgqe4Y",
        "outputId": "315110bf-ac8d-429b-ae63-54998d1ada58"
      },
      "source": [
        ""
      ],
      "execution_count": 18,
      "outputs": [
        {
          "output_type": "execute_result",
          "data": {
            "text/plain": [
              "0      1\n",
              "1      1\n",
              "2      0\n",
              "3      1\n",
              "4      0\n",
              "      ..\n",
              "298    0\n",
              "299    1\n",
              "300    1\n",
              "301    1\n",
              "302    0\n",
              "Name: sexo, Length: 303, dtype: int64"
            ]
          },
          "metadata": {
            "tags": []
          },
          "execution_count": 18
        }
      ]
    },
    {
      "cell_type": "markdown",
      "metadata": {
        "id": "5pRP4X5cqUTr"
      },
      "source": [
        "### Quantos participantes de cada `sexo` temos em nosso banco de dados?"
      ]
    },
    {
      "cell_type": "code",
      "metadata": {
        "colab": {
          "base_uri": "https://localhost:8080/"
        },
        "id": "e_zNM_oZqoyA",
        "outputId": "8fb63d64-d260-4ae8-b4a5-7f6a0895f1cf"
      },
      "source": [
        ""
      ],
      "execution_count": 19,
      "outputs": [
        {
          "output_type": "execute_result",
          "data": {
            "text/plain": [
              "1    207\n",
              "0     96\n",
              "Name: sexo, dtype: int64"
            ]
          },
          "metadata": {
            "tags": []
          },
          "execution_count": 19
        }
      ]
    },
    {
      "cell_type": "markdown",
      "metadata": {
        "id": "CNVyhHw4qsGb"
      },
      "source": [
        "O método `value_counts()` facilita muito a análise nesses casos!"
      ]
    },
    {
      "cell_type": "markdown",
      "metadata": {
        "id": "yo9kBTYYqxJh"
      },
      "source": [
        "### Qual a média e desvio padrão da idade dos nossos pacientes?\n",
        "Parecido com o pacote `numpy`, temos as funções `.mean()` e `.std()` no pandas também!"
      ]
    },
    {
      "cell_type": "code",
      "metadata": {
        "colab": {
          "base_uri": "https://localhost:8080/"
        },
        "id": "WGSn5L99rKoy",
        "outputId": "f2691464-7ac0-42e1-a797-881e31951e1e"
      },
      "source": [
        ""
      ],
      "execution_count": 20,
      "outputs": [
        {
          "output_type": "execute_result",
          "data": {
            "text/plain": [
              "54.366336633663366"
            ]
          },
          "metadata": {
            "tags": []
          },
          "execution_count": 20
        }
      ]
    },
    {
      "cell_type": "code",
      "metadata": {
        "colab": {
          "base_uri": "https://localhost:8080/"
        },
        "id": "ApFY8IKBrNGi",
        "outputId": "56587b54-d099-490c-ff0b-c1d7a18c2a5f"
      },
      "source": [
        ""
      ],
      "execution_count": 21,
      "outputs": [
        {
          "output_type": "execute_result",
          "data": {
            "text/plain": [
              "9.082100989837858"
            ]
          },
          "metadata": {
            "tags": []
          },
          "execution_count": 21
        }
      ]
    },
    {
      "cell_type": "markdown",
      "metadata": {
        "id": "Ai9mabSFrSgp"
      },
      "source": [
        "## Como agrupar nossos dados?\n",
        "Vamos supor que queremos saber a **média de idades dos pacientes** inseridos no estudo de acordo com o sexo. Podemos fazer isso usando o método `.groupby()` seguido pelo `.mean()`"
      ]
    },
    {
      "cell_type": "code",
      "metadata": {
        "colab": {
          "base_uri": "https://localhost:8080/",
          "height": 143
        },
        "id": "bgDKzvGDrriq",
        "outputId": "387afcb1-36cd-44a7-d6df-d5e91b9f0b99"
      },
      "source": [
        ""
      ],
      "execution_count": 22,
      "outputs": [
        {
          "output_type": "execute_result",
          "data": {
            "text/html": [
              "<div>\n",
              "<style scoped>\n",
              "    .dataframe tbody tr th:only-of-type {\n",
              "        vertical-align: middle;\n",
              "    }\n",
              "\n",
              "    .dataframe tbody tr th {\n",
              "        vertical-align: top;\n",
              "    }\n",
              "\n",
              "    .dataframe thead th {\n",
              "        text-align: right;\n",
              "    }\n",
              "</style>\n",
              "<table border=\"1\" class=\"dataframe\">\n",
              "  <thead>\n",
              "    <tr style=\"text-align: right;\">\n",
              "      <th></th>\n",
              "      <th>idade</th>\n",
              "      <th>pressao_sang</th>\n",
              "      <th>colesterol</th>\n",
              "      <th>glicose</th>\n",
              "      <th>freq_card_max</th>\n",
              "      <th>doenca_card</th>\n",
              "    </tr>\n",
              "    <tr>\n",
              "      <th>sexo</th>\n",
              "      <th></th>\n",
              "      <th></th>\n",
              "      <th></th>\n",
              "      <th></th>\n",
              "      <th></th>\n",
              "      <th></th>\n",
              "    </tr>\n",
              "  </thead>\n",
              "  <tbody>\n",
              "    <tr>\n",
              "      <th>0</th>\n",
              "      <td>55.677083</td>\n",
              "      <td>133.083333</td>\n",
              "      <td>261.302083</td>\n",
              "      <td>0.12500</td>\n",
              "      <td>151.125000</td>\n",
              "      <td>0.750000</td>\n",
              "    </tr>\n",
              "    <tr>\n",
              "      <th>1</th>\n",
              "      <td>53.758454</td>\n",
              "      <td>130.946860</td>\n",
              "      <td>239.289855</td>\n",
              "      <td>0.15942</td>\n",
              "      <td>148.961353</td>\n",
              "      <td>0.449275</td>\n",
              "    </tr>\n",
              "  </tbody>\n",
              "</table>\n",
              "</div>"
            ],
            "text/plain": [
              "          idade  pressao_sang  colesterol  glicose  freq_card_max  doenca_card\n",
              "sexo                                                                          \n",
              "0     55.677083    133.083333  261.302083  0.12500     151.125000     0.750000\n",
              "1     53.758454    130.946860  239.289855  0.15942     148.961353     0.449275"
            ]
          },
          "metadata": {
            "tags": []
          },
          "execution_count": 22
        }
      ]
    },
    {
      "cell_type": "markdown",
      "metadata": {
        "id": "AP0m2J2Qta-n"
      },
      "source": [
        "<font color ='blue'> >> </font> Através do agrupamento que fizemos, vemos que existem algumas diferenças entre os sexos para algumas variáveis.\n",
        "\n",
        "Por exemplo, os níveis médios de colesterol para o sexo 0, parecem ser mais altos do que para o sexo 1. Esse padrão se repete com menor magnitude para **idade**, **pressao_sang** e **freq_card_max**.\n",
        "\n",
        "**Importante:** Apesar das variáveis glicose e doenca_card apresentarem resultados numéricos a realidade é que elas são **variáveis categóricas!**"
      ]
    },
    {
      "cell_type": "code",
      "metadata": {
        "colab": {
          "base_uri": "https://localhost:8080/"
        },
        "id": "VD0hT80fuQ_Z",
        "outputId": "c0350ba5-86f9-4846-ed9d-693858b2d58d"
      },
      "source": [
        ""
      ],
      "execution_count": 23,
      "outputs": [
        {
          "output_type": "execute_result",
          "data": {
            "text/plain": [
              "0    258\n",
              "1     45\n",
              "Name: glicose, dtype: int64"
            ]
          },
          "metadata": {
            "tags": []
          },
          "execution_count": 23
        }
      ]
    },
    {
      "cell_type": "markdown",
      "metadata": {
        "id": "BGKHr1cUuahH"
      },
      "source": [
        "A **variável glicose traz uma informação binária** (sim ou não). Neste caso, nos diz se o paciente tem glicose sérica acima de 120 (1) ou não (0)."
      ]
    },
    {
      "cell_type": "code",
      "metadata": {
        "colab": {
          "base_uri": "https://localhost:8080/"
        },
        "id": "tyn7bEg4uF89",
        "outputId": "6a97e61a-6d60-426b-a2a6-dc32dbf1c0a4"
      },
      "source": [
        ""
      ],
      "execution_count": 24,
      "outputs": [
        {
          "output_type": "execute_result",
          "data": {
            "text/plain": [
              "1    165\n",
              "0    138\n",
              "Name: doenca_card, dtype: int64"
            ]
          },
          "metadata": {
            "tags": []
          },
          "execution_count": 24
        }
      ]
    },
    {
      "cell_type": "markdown",
      "metadata": {
        "id": "dx0LREm-upTd"
      },
      "source": [
        "A **variável doenca_card também traz uma informação binária**. Porém desta vez nos diz se o paciente tem (1) ou não tem (0) alguma doença cardíaca."
      ]
    },
    {
      "cell_type": "markdown",
      "metadata": {
        "id": "TLFNb5CkvLNR"
      },
      "source": [
        "## E se agruparmos por doença cardíaca?\n"
      ]
    },
    {
      "cell_type": "code",
      "metadata": {
        "colab": {
          "base_uri": "https://localhost:8080/",
          "height": 143
        },
        "id": "nG1eL1yQvQOV",
        "outputId": "c7e170b3-16ed-43f2-8b30-945ef99fd224"
      },
      "source": [
        ""
      ],
      "execution_count": 25,
      "outputs": [
        {
          "output_type": "execute_result",
          "data": {
            "text/html": [
              "<div>\n",
              "<style scoped>\n",
              "    .dataframe tbody tr th:only-of-type {\n",
              "        vertical-align: middle;\n",
              "    }\n",
              "\n",
              "    .dataframe tbody tr th {\n",
              "        vertical-align: top;\n",
              "    }\n",
              "\n",
              "    .dataframe thead th {\n",
              "        text-align: right;\n",
              "    }\n",
              "</style>\n",
              "<table border=\"1\" class=\"dataframe\">\n",
              "  <thead>\n",
              "    <tr style=\"text-align: right;\">\n",
              "      <th></th>\n",
              "      <th>idade</th>\n",
              "      <th>sexo</th>\n",
              "      <th>pressao_sang</th>\n",
              "      <th>colesterol</th>\n",
              "      <th>glicose</th>\n",
              "      <th>freq_card_max</th>\n",
              "    </tr>\n",
              "    <tr>\n",
              "      <th>doenca_card</th>\n",
              "      <th></th>\n",
              "      <th></th>\n",
              "      <th></th>\n",
              "      <th></th>\n",
              "      <th></th>\n",
              "      <th></th>\n",
              "    </tr>\n",
              "  </thead>\n",
              "  <tbody>\n",
              "    <tr>\n",
              "      <th>0</th>\n",
              "      <td>56.601449</td>\n",
              "      <td>0.826087</td>\n",
              "      <td>134.398551</td>\n",
              "      <td>251.086957</td>\n",
              "      <td>0.159420</td>\n",
              "      <td>139.101449</td>\n",
              "    </tr>\n",
              "    <tr>\n",
              "      <th>1</th>\n",
              "      <td>52.496970</td>\n",
              "      <td>0.563636</td>\n",
              "      <td>129.303030</td>\n",
              "      <td>242.230303</td>\n",
              "      <td>0.139394</td>\n",
              "      <td>158.466667</td>\n",
              "    </tr>\n",
              "  </tbody>\n",
              "</table>\n",
              "</div>"
            ],
            "text/plain": [
              "                 idade      sexo  ...   glicose  freq_card_max\n",
              "doenca_card                       ...                         \n",
              "0            56.601449  0.826087  ...  0.159420     139.101449\n",
              "1            52.496970  0.563636  ...  0.139394     158.466667\n",
              "\n",
              "[2 rows x 6 columns]"
            ]
          },
          "metadata": {
            "tags": []
          },
          "execution_count": 25
        }
      ]
    },
    {
      "cell_type": "markdown",
      "metadata": {
        "id": "byCa9RW7y_xP"
      },
      "source": [
        "## Tabelas de frequência\n",
        "Muitas vezes pode ser interessantes fazermos comparções 2 a 2 de nossas variáveis.\n",
        "\n",
        "Vamos tentar responder a seguinte pergunta:\n",
        "1. Quantas pessoas de cada sexo tem doença cardíaca?\n",
        "\n",
        "Para resolver essa pergunta, podemos usar a função `pd.crosstab()`, que criará uma tabela de frequência pra nós!"
      ]
    },
    {
      "cell_type": "code",
      "metadata": {
        "colab": {
          "base_uri": "https://localhost:8080/",
          "height": 143
        },
        "id": "U3WHWkQPzClf",
        "outputId": "2c1a620d-531e-4d44-fcc5-032f8a547654"
      },
      "source": [
        ""
      ],
      "execution_count": 26,
      "outputs": [
        {
          "output_type": "execute_result",
          "data": {
            "text/html": [
              "<div>\n",
              "<style scoped>\n",
              "    .dataframe tbody tr th:only-of-type {\n",
              "        vertical-align: middle;\n",
              "    }\n",
              "\n",
              "    .dataframe tbody tr th {\n",
              "        vertical-align: top;\n",
              "    }\n",
              "\n",
              "    .dataframe thead th {\n",
              "        text-align: right;\n",
              "    }\n",
              "</style>\n",
              "<table border=\"1\" class=\"dataframe\">\n",
              "  <thead>\n",
              "    <tr style=\"text-align: right;\">\n",
              "      <th>doenca_card</th>\n",
              "      <th>0</th>\n",
              "      <th>1</th>\n",
              "    </tr>\n",
              "    <tr>\n",
              "      <th>sexo</th>\n",
              "      <th></th>\n",
              "      <th></th>\n",
              "    </tr>\n",
              "  </thead>\n",
              "  <tbody>\n",
              "    <tr>\n",
              "      <th>0</th>\n",
              "      <td>24</td>\n",
              "      <td>72</td>\n",
              "    </tr>\n",
              "    <tr>\n",
              "      <th>1</th>\n",
              "      <td>114</td>\n",
              "      <td>93</td>\n",
              "    </tr>\n",
              "  </tbody>\n",
              "</table>\n",
              "</div>"
            ],
            "text/plain": [
              "doenca_card    0   1\n",
              "sexo                \n",
              "0             24  72\n",
              "1            114  93"
            ]
          },
          "metadata": {
            "tags": []
          },
          "execution_count": 26
        }
      ]
    },
    {
      "cell_type": "code",
      "metadata": {
        "id": "edNIiIysvT2e"
      },
      "source": [
        "import seaborn as sns"
      ],
      "execution_count": 27,
      "outputs": []
    },
    {
      "cell_type": "code",
      "metadata": {
        "colab": {
          "base_uri": "https://localhost:8080/",
          "height": 296
        },
        "id": "sZFSMIO7vqoC",
        "outputId": "ac34ad28-8a89-42fa-a311-fed6821b2f5b"
      },
      "source": [
        "sns.boxplot(data=dados, x='sexo', y='colesterol', hue='doenca_card')"
      ],
      "execution_count": 28,
      "outputs": [
        {
          "output_type": "execute_result",
          "data": {
            "text/plain": [
              "<matplotlib.axes._subplots.AxesSubplot at 0x7fe91be64810>"
            ]
          },
          "metadata": {
            "tags": []
          },
          "execution_count": 28
        },
        {
          "output_type": "display_data",
          "data": {
            "image/png": "[encoded data removed]",
            "text/plain": [
              "<Figure size 432x288 with 1 Axes>"
            ]
          },
          "metadata": {
            "tags": [],
            "needs_background": "light"
          }
        }
      ]
    },
    {
      "cell_type": "markdown",
      "metadata": {
        "id": "CmWwTHER6v1o"
      },
      "source": [
        "# Exercícios!"
      ]
    },
    {
      "cell_type": "markdown",
      "metadata": {
        "id": "DbpXD_eW-d8E"
      },
      "source": [
        "1. Crie uma variável para armazenar o seu nome."
      ]
    },
    {
      "cell_type": "code",
      "metadata": {
        "id": "hG_-_x1J-l3K"
      },
      "source": [
        ""
      ],
      "execution_count": 29,
      "outputs": []
    },
    {
      "cell_type": "markdown",
      "metadata": {
        "id": "sZ6mBa1f-ill"
      },
      "source": [
        "2. Crie uma variável para armazer seu sobrenome. "
      ]
    },
    {
      "cell_type": "code",
      "metadata": {
        "id": "cRxBtuss-mgE"
      },
      "source": [
        ""
      ],
      "execution_count": 30,
      "outputs": []
    },
    {
      "cell_type": "markdown",
      "metadata": {
        "id": "bqTg1gWu-not"
      },
      "source": [
        "3. Crie uma variável para armazenar sua idade."
      ]
    },
    {
      "cell_type": "code",
      "metadata": {
        "id": "D-bXuUZY-rKl"
      },
      "source": [
        ""
      ],
      "execution_count": 31,
      "outputs": []
    },
    {
      "cell_type": "markdown",
      "metadata": {
        "id": "NeuW6iaC_I8n"
      },
      "source": [
        "4. Crie uma variável para armazenar sua altura, em metros."
      ]
    },
    {
      "cell_type": "code",
      "metadata": {
        "id": "pkap6ucl_Ndk"
      },
      "source": [
        ""
      ],
      "execution_count": 32,
      "outputs": []
    },
    {
      "cell_type": "markdown",
      "metadata": {
        "id": "M0Rh8Ub--sCI"
      },
      "source": [
        "5. Use a função `print()` para **imprimir seu nome e sobrenome** de forma agradável."
      ]
    },
    {
      "cell_type": "code",
      "metadata": {
        "colab": {
          "base_uri": "https://localhost:8080/"
        },
        "id": "EVypXKVE-5ep",
        "outputId": "edd5f965-113e-4bf4-b2ed-a998f26b8b3f"
      },
      "source": [
        ""
      ],
      "execution_count": 33,
      "outputs": [
        {
          "output_type": "stream",
          "text": [
            "João Souza\n"
          ],
          "name": "stdout"
        }
      ]
    },
    {
      "cell_type": "markdown",
      "metadata": {
        "id": "yXJeeiry-9OM"
      },
      "source": [
        "6. Use a função `print()` para imprimir uma frase (*usando as variaveis que criou acima*) que envolva **seu nome, sobrenome, idade e altura**."
      ]
    },
    {
      "cell_type": "code",
      "metadata": {
        "colab": {
          "base_uri": "https://localhost:8080/"
        },
        "id": "8GGR2yOI-7Ih",
        "outputId": "d8ca0829-0099-437e-ca4b-e314d18d7e0e"
      },
      "source": [
        ""
      ],
      "execution_count": 34,
      "outputs": [
        {
          "output_type": "stream",
          "text": [
            "João Souza tem 25 anos de idade e mede 1.9 m\n"
          ],
          "name": "stdout"
        }
      ]
    },
    {
      "cell_type": "markdown",
      "metadata": {
        "id": "M39N00Oi_3zm"
      },
      "source": [
        "7. Use a função `type()` para avaliar qual é o tipo das variáveis que você criou anteriormente."
      ]
    },
    {
      "cell_type": "code",
      "metadata": {
        "colab": {
          "base_uri": "https://localhost:8080/"
        },
        "id": "DaJRFiBf__zN",
        "outputId": "27ae8d93-b61f-4552-8144-fc9cbe5a62d6"
      },
      "source": [
        ""
      ],
      "execution_count": 35,
      "outputs": [
        {
          "output_type": "execute_result",
          "data": {
            "text/plain": [
              "int"
            ]
          },
          "metadata": {
            "tags": []
          },
          "execution_count": 35
        }
      ]
    },
    {
      "cell_type": "code",
      "metadata": {
        "colab": {
          "base_uri": "https://localhost:8080/"
        },
        "id": "vBHz-q1lAMYf",
        "outputId": "29861e07-01c0-436a-eb06-80abe5563c0e"
      },
      "source": [
        ""
      ],
      "execution_count": 36,
      "outputs": [
        {
          "output_type": "execute_result",
          "data": {
            "text/plain": [
              "str"
            ]
          },
          "metadata": {
            "tags": []
          },
          "execution_count": 36
        }
      ]
    },
    {
      "cell_type": "code",
      "metadata": {
        "colab": {
          "base_uri": "https://localhost:8080/"
        },
        "id": "TIQA3hKcANKv",
        "outputId": "c7b8ee89-ef66-43ce-89f5-2d194878806f"
      },
      "source": [
        ""
      ],
      "execution_count": 37,
      "outputs": [
        {
          "output_type": "execute_result",
          "data": {
            "text/plain": [
              "float"
            ]
          },
          "metadata": {
            "tags": []
          },
          "execution_count": 37
        }
      ]
    },
    {
      "cell_type": "code",
      "metadata": {
        "colab": {
          "base_uri": "https://localhost:8080/"
        },
        "id": "sf5WtmIzANtN",
        "outputId": "03b86aa6-6f42-476c-825e-69b1cacfb23c"
      },
      "source": [
        ""
      ],
      "execution_count": 38,
      "outputs": [
        {
          "output_type": "execute_result",
          "data": {
            "text/plain": [
              "str"
            ]
          },
          "metadata": {
            "tags": []
          },
          "execution_count": 38
        }
      ]
    },
    {
      "cell_type": "markdown",
      "metadata": {
        "id": "H9NbXBdRAAMv"
      },
      "source": [
        "8. É possível executar a seguinte soma: `nome + altura`?\n",
        "\n",
        "Tente e #descubra.\n",
        "\n",
        "Lembre sobre os tipos de variáveis. É possível somar um texto com um número?"
      ]
    },
    {
      "cell_type": "code",
      "metadata": {
        "id": "6eYDigPTAKR9"
      },
      "source": [
        ""
      ],
      "execution_count": 38,
      "outputs": []
    },
    {
      "cell_type": "markdown",
      "metadata": {
        "id": "ibkP1s_EASo4"
      },
      "source": [
        "9. O que acontece ao executar a soma: `nome + sobrenome`?"
      ]
    },
    {
      "cell_type": "code",
      "metadata": {
        "colab": {
          "base_uri": "https://localhost:8080/",
          "height": 35
        },
        "id": "dG0O_XSeAbNm",
        "outputId": "abea9d2d-84e7-4817-95d8-0d75537b9355"
      },
      "source": [
        ""
      ],
      "execution_count": 39,
      "outputs": [
        {
          "output_type": "execute_result",
          "data": {
            "application/vnd.google.colaboratory.intrinsic+json": {
              "type": "string"
            },
            "text/plain": [
              "'JoãoSouza'"
            ]
          },
          "metadata": {
            "tags": []
          },
          "execution_count": 39
        }
      ]
    },
    {
      "cell_type": "markdown",
      "metadata": {
        "id": "QkfriUCgAcLH"
      },
      "source": [
        "10. Adicione um espaco (`' '`) para corrigir o problema da soma acima."
      ]
    },
    {
      "cell_type": "code",
      "metadata": {
        "colab": {
          "base_uri": "https://localhost:8080/",
          "height": 35
        },
        "id": "BxdwgWOkAjve",
        "outputId": "35d4c9c7-d54d-4900-cc56-b1512ae07193"
      },
      "source": [
        ""
      ],
      "execution_count": 40,
      "outputs": [
        {
          "output_type": "execute_result",
          "data": {
            "application/vnd.google.colaboratory.intrinsic+json": {
              "type": "string"
            },
            "text/plain": [
              "'João Souza'"
            ]
          },
          "metadata": {
            "tags": []
          },
          "execution_count": 40
        }
      ]
    },
    {
      "cell_type": "markdown",
      "metadata": {
        "id": "5Ga9P7fqhbWh"
      },
      "source": [
        "11. Crie uma variável para seu peso, altura e calcule seu IMC \n",
        "\n",
        "(IMC = peso(kg)/altura(m)²"
      ]
    },
    {
      "cell_type": "code",
      "metadata": {
        "id": "8Cd-tzGxh4jT"
      },
      "source": [
        ""
      ],
      "execution_count": 41,
      "outputs": []
    },
    {
      "cell_type": "code",
      "metadata": {
        "id": "fi_BemeQh5NM"
      },
      "source": [
        ""
      ],
      "execution_count": 42,
      "outputs": []
    },
    {
      "cell_type": "code",
      "metadata": {
        "id": "4C4AQm10h7Nr"
      },
      "source": [
        ""
      ],
      "execution_count": 43,
      "outputs": []
    },
    {
      "cell_type": "code",
      "metadata": {
        "colab": {
          "base_uri": "https://localhost:8080/"
        },
        "id": "eeDxs6I0ihFO",
        "outputId": "2f9a1277-9306-4f03-b848-8636945041d4"
      },
      "source": [
        ""
      ],
      "execution_count": 44,
      "outputs": [
        {
          "output_type": "execute_result",
          "data": {
            "text/plain": [
              "26.59279778393352"
            ]
          },
          "metadata": {
            "tags": []
          },
          "execution_count": 44
        }
      ]
    },
    {
      "cell_type": "markdown",
      "metadata": {
        "id": "CLvoxNq6iiSj"
      },
      "source": [
        "12. Suponha (que como eu), você ganhou alguns quilinhos com a pandemia. Atualize a variável `peso` com o novo valor e imprima o imc novamente. **O valor do imc mudou?**"
      ]
    },
    {
      "cell_type": "code",
      "metadata": {
        "id": "_973YNkLjisy"
      },
      "source": [
        ""
      ],
      "execution_count": 45,
      "outputs": []
    },
    {
      "cell_type": "code",
      "metadata": {
        "colab": {
          "base_uri": "https://localhost:8080/"
        },
        "id": "flf4Ft0tjjZM",
        "outputId": "246867d8-db32-4eb6-c7ae-95e2df0b7897"
      },
      "source": [
        ""
      ],
      "execution_count": 46,
      "outputs": [
        {
          "output_type": "execute_result",
          "data": {
            "text/plain": [
              "26.59279778393352"
            ]
          },
          "metadata": {
            "tags": []
          },
          "execution_count": 46
        }
      ]
    },
    {
      "cell_type": "markdown",
      "metadata": {
        "id": "zTD9g6nRjj9L"
      },
      "source": [
        "13.  Crie uma lista com o nome de 3 itens de sua escolha. Em seguida, selecione cada um dos nomes usando o método dos colchetes."
      ]
    },
    {
      "cell_type": "code",
      "metadata": {
        "id": "TkDLbPTEm1jf"
      },
      "source": [
        ""
      ],
      "execution_count": 47,
      "outputs": []
    },
    {
      "cell_type": "code",
      "metadata": {
        "colab": {
          "base_uri": "https://localhost:8080/",
          "height": 35
        },
        "id": "6bQ50IvSm9_C",
        "outputId": "2c66e052-73b6-432f-ea8c-71e2ab774401"
      },
      "source": [
        ""
      ],
      "execution_count": 48,
      "outputs": [
        {
          "output_type": "execute_result",
          "data": {
            "application/vnd.google.colaboratory.intrinsic+json": {
              "type": "string"
            },
            "text/plain": [
              "'Mycobacterium tuberculosis'"
            ]
          },
          "metadata": {
            "tags": []
          },
          "execution_count": 48
        }
      ]
    },
    {
      "cell_type": "code",
      "metadata": {
        "colab": {
          "base_uri": "https://localhost:8080/",
          "height": 35
        },
        "id": "9onV1vWlm-m9",
        "outputId": "4a1a265d-cc97-46b4-9dc7-4eb5ff86604a"
      },
      "source": [
        ""
      ],
      "execution_count": 49,
      "outputs": [
        {
          "output_type": "execute_result",
          "data": {
            "application/vnd.google.colaboratory.intrinsic+json": {
              "type": "string"
            },
            "text/plain": [
              "'Candida albicans'"
            ]
          },
          "metadata": {
            "tags": []
          },
          "execution_count": 49
        }
      ]
    },
    {
      "cell_type": "code",
      "metadata": {
        "colab": {
          "base_uri": "https://localhost:8080/",
          "height": 35
        },
        "id": "_RAFgP6Lm_cE",
        "outputId": "a9d9538f-2944-48ef-b8ba-0f4be95f349f"
      },
      "source": [
        ""
      ],
      "execution_count": 50,
      "outputs": [
        {
          "output_type": "execute_result",
          "data": {
            "application/vnd.google.colaboratory.intrinsic+json": {
              "type": "string"
            },
            "text/plain": [
              "'Leishmania amazonensis'"
            ]
          },
          "metadata": {
            "tags": []
          },
          "execution_count": 50
        }
      ]
    },
    {
      "cell_type": "markdown",
      "metadata": {
        "id": "cY0bJ_UBnAGn"
      },
      "source": [
        "14. Calcule a média da seguinte lista idades - 44,55,56,76,88,23,24\n",
        "\n",
        "**Dica**: você pode usar a função `np.mean()` do pacote numpy.\n",
        "\n"
      ]
    },
    {
      "cell_type": "code",
      "metadata": {
        "id": "yolU1aLzpj7H"
      },
      "source": [
        "idades = [44,55,56,76,88,23,24]"
      ],
      "execution_count": 51,
      "outputs": []
    },
    {
      "cell_type": "code",
      "metadata": {
        "id": "0E1fIu4cpzMP"
      },
      "source": [
        "import numpy as np"
      ],
      "execution_count": 52,
      "outputs": []
    },
    {
      "cell_type": "code",
      "metadata": {
        "id": "sYaEdAVqp0KM"
      },
      "source": [
        ""
      ],
      "execution_count": 54,
      "outputs": []
    },
    {
      "cell_type": "markdown",
      "metadata": {
        "id": "qYmbPv3zp1Ac"
      },
      "source": [
        "15. Imprima uma frase falando das médias de idades encontradas usando a função `round()` para arredondar a média **para 3 casas decimais**."
      ]
    },
    {
      "cell_type": "code",
      "metadata": {
        "colab": {
          "base_uri": "https://localhost:8080/"
        },
        "id": "ksFkoNssqAAc",
        "outputId": "96a6609c-8766-4ffa-98cb-7fa5ad94fd1d"
      },
      "source": [
        ""
      ],
      "execution_count": 55,
      "outputs": [
        {
          "output_type": "stream",
          "text": [
            "A média de idades encontrada foi de 52.29 anos\n"
          ],
          "name": "stdout"
        }
      ]
    },
    {
      "cell_type": "markdown",
      "metadata": {
        "id": "VCFyV0m8qHni"
      },
      "source": [
        "16. Calcule o desvio padrão dos seguintes pesos: 100,150,99,32,44,66,49,76,54 \n",
        "\n",
        "**Dica**: você pode utilizar a função `np.std()` do numpy"
      ]
    },
    {
      "cell_type": "code",
      "metadata": {
        "id": "Z9SJ_J6OrAGm"
      },
      "source": [
        "pesos = [100,150,99,32,44,66,49,76,54] "
      ],
      "execution_count": 56,
      "outputs": []
    },
    {
      "cell_type": "code",
      "metadata": {
        "id": "F7xPC23nrDzx"
      },
      "source": [
        ""
      ],
      "execution_count": 58,
      "outputs": []
    },
    {
      "cell_type": "code",
      "metadata": {
        "colab": {
          "base_uri": "https://localhost:8080/"
        },
        "id": "705xJGUzrq2M",
        "outputId": "3ea763e2-a6d0-4a96-e7e9-0223b706de9c"
      },
      "source": [
        ""
      ],
      "execution_count": 59,
      "outputs": [
        {
          "output_type": "execute_result",
          "data": {
            "text/plain": [
              "34.692654077103704"
            ]
          },
          "metadata": {
            "tags": []
          },
          "execution_count": 59
        }
      ]
    }
  ]
}