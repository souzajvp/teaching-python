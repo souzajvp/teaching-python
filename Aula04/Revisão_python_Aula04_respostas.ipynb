{
  "nbformat": 4,
  "nbformat_minor": 0,
  "metadata": {
    "colab": {
      "name": "Revisão python - Aula04_respostas.ipynb",
      "provenance": [],
      "authorship_tag": "ABX9TyNKwB3fgVilzXkNdiq2npg+",
      "include_colab_link": true
    },
    "kernelspec": {
      "name": "python3",
      "display_name": "Python 3"
    },
    "language_info": {
      "name": "python"
    }
  },
  "cells": [
    {
      "cell_type": "markdown",
      "metadata": {
        "id": "view-in-github",
        "colab_type": "text"
      },
      "source": [
        "<a href=\"https://colab.research.google.com/github/souzajvp/teaching-python/blob/main/Aula04/Revis%C3%A3o_python_Aula04_respostas.ipynb\" target=\"_parent\"><img src=\"https://colab.research.google.com/assets/colab-badge.svg\" alt=\"Open In Colab\"/></a>"
      ]
    },
    {
      "cell_type": "markdown",
      "metadata": {
        "id": "6kOLOqO_q8vm"
      },
      "source": [
        "# Revisão"
      ]
    },
    {
      "cell_type": "markdown",
      "metadata": {
        "id": "S65XVbj_zSEJ"
      },
      "source": [
        "### O que é uma variável?\n",
        "De forma geral, usamos o termo variável pra qualquer palavra usada para armazenar um \"valor\" na programação. \n",
        "\n",
        "**Esse \"valor\" pode ser em formato de**:\n",
        "1. Texto (*string* ou `str`);\n",
        "2. Número inteiro (*integer* ou `int`);\n",
        "3. Real/decimal (*float*);\n",
        "4. Equações;\n",
        "5. Listas;\n",
        "6. Funções;\n",
        "7. etc...\n"
      ]
    },
    {
      "cell_type": "markdown",
      "metadata": {
        "id": "dcbYn1SA0vIS"
      },
      "source": [
        "### Texto ou *string*"
      ]
    },
    {
      "cell_type": "code",
      "metadata": {
        "colab": {
          "base_uri": "https://localhost:8080/",
          "height": 35
        },
        "id": "TTgj3QAm3xLK",
        "outputId": "21d16346-90dd-4ac2-81a4-442f536d8e98"
      },
      "source": [
        "'João'"
      ],
      "execution_count": 41,
      "outputs": [
        {
          "output_type": "execute_result",
          "data": {
            "application/vnd.google.colaboratory.intrinsic+json": {
              "type": "string"
            },
            "text/plain": [
              "'João'"
            ]
          },
          "metadata": {
            "tags": []
          },
          "execution_count": 41
        }
      ]
    },
    {
      "cell_type": "markdown",
      "metadata": {
        "id": "bgyn6qMY2D97"
      },
      "source": [
        "Operações com strings"
      ]
    },
    {
      "cell_type": "code",
      "metadata": {
        "colab": {
          "base_uri": "https://localhost:8080/",
          "height": 35
        },
        "id": "HfdOnYQc2Gfz",
        "outputId": "488e8728-4c91-4fe5-e342-0fb55aa14b6f"
      },
      "source": [
        "'João' + 'Souza'"
      ],
      "execution_count": 42,
      "outputs": [
        {
          "output_type": "execute_result",
          "data": {
            "application/vnd.google.colaboratory.intrinsic+json": {
              "type": "string"
            },
            "text/plain": [
              "'JoãoSouza'"
            ]
          },
          "metadata": {
            "tags": []
          },
          "execution_count": 42
        }
      ]
    },
    {
      "cell_type": "code",
      "metadata": {
        "colab": {
          "base_uri": "https://localhost:8080/",
          "height": 35
        },
        "id": "8BYGjejN2Jul",
        "outputId": "8e91c027-c54f-4585-d762-720c1adda07f"
      },
      "source": [
        "'João' + ' ' + 'Souza'"
      ],
      "execution_count": 43,
      "outputs": [
        {
          "output_type": "execute_result",
          "data": {
            "application/vnd.google.colaboratory.intrinsic+json": {
              "type": "string"
            },
            "text/plain": [
              "'João Souza'"
            ]
          },
          "metadata": {
            "tags": []
          },
          "execution_count": 43
        }
      ]
    },
    {
      "cell_type": "code",
      "metadata": {
        "id": "pYxwFAH21-Eb"
      },
      "source": [
        "nome = 'João'"
      ],
      "execution_count": 44,
      "outputs": []
    },
    {
      "cell_type": "code",
      "metadata": {
        "id": "xUSoh4si2BPu"
      },
      "source": [
        "sobrenome = 'Souza'"
      ],
      "execution_count": 45,
      "outputs": []
    },
    {
      "cell_type": "code",
      "metadata": {
        "colab": {
          "base_uri": "https://localhost:8080/",
          "height": 35
        },
        "id": "23HgXmkM2ONF",
        "outputId": "e11acd80-4897-4d6f-ff1b-320ec80ca37c"
      },
      "source": [
        "nome + ' ' + sobrenome"
      ],
      "execution_count": 46,
      "outputs": [
        {
          "output_type": "execute_result",
          "data": {
            "application/vnd.google.colaboratory.intrinsic+json": {
              "type": "string"
            },
            "text/plain": [
              "'João Souza'"
            ]
          },
          "metadata": {
            "tags": []
          },
          "execution_count": 46
        }
      ]
    },
    {
      "cell_type": "markdown",
      "metadata": {
        "id": "Aw06OVw82lUV"
      },
      "source": [
        "Transformando valores em *string* usando a função `str()`"
      ]
    },
    {
      "cell_type": "code",
      "metadata": {
        "colab": {
          "base_uri": "https://localhost:8080/",
          "height": 35
        },
        "id": "QEekUXgO2r05",
        "outputId": "3d7eeb15-ac76-489a-b6f7-5196f6a2b5f1"
      },
      "source": [
        "str(10) + ' ' + 'pessoas'"
      ],
      "execution_count": 47,
      "outputs": [
        {
          "output_type": "execute_result",
          "data": {
            "application/vnd.google.colaboratory.intrinsic+json": {
              "type": "string"
            },
            "text/plain": [
              "'10 pessoas'"
            ]
          },
          "metadata": {
            "tags": []
          },
          "execution_count": 47
        }
      ]
    },
    {
      "cell_type": "markdown",
      "metadata": {
        "id": "hoaMjgUh2TI4"
      },
      "source": [
        "### Números inteiros ou `int`"
      ]
    },
    {
      "cell_type": "code",
      "metadata": {
        "colab": {
          "base_uri": "https://localhost:8080/"
        },
        "id": "j9iCzQ7z3nkO",
        "outputId": "ae6a32da-d780-4c9c-d3f2-61509247be5d"
      },
      "source": [
        "10"
      ],
      "execution_count": 48,
      "outputs": [
        {
          "output_type": "execute_result",
          "data": {
            "text/plain": [
              "10"
            ]
          },
          "metadata": {
            "tags": []
          },
          "execution_count": 48
        }
      ]
    },
    {
      "cell_type": "code",
      "metadata": {
        "colab": {
          "base_uri": "https://localhost:8080/"
        },
        "id": "_iaf9nGv4ARE",
        "outputId": "9daad154-71e4-47b8-8261-79ef9ee13cc2"
      },
      "source": [
        "10 + 20"
      ],
      "execution_count": 49,
      "outputs": [
        {
          "output_type": "execute_result",
          "data": {
            "text/plain": [
              "30"
            ]
          },
          "metadata": {
            "tags": []
          },
          "execution_count": 49
        }
      ]
    },
    {
      "cell_type": "markdown",
      "metadata": {
        "id": "ZYGh84wf4Dnb"
      },
      "source": [
        "Usando variáveis"
      ]
    },
    {
      "cell_type": "code",
      "metadata": {
        "id": "IHqjw7GQ2ahj"
      },
      "source": [
        "linfocitos = 2500"
      ],
      "execution_count": 50,
      "outputs": []
    },
    {
      "cell_type": "code",
      "metadata": {
        "colab": {
          "base_uri": "https://localhost:8080/"
        },
        "id": "nIiOA_SF3Y5L",
        "outputId": "84a5cbd7-c65b-4029-fd63-9296f7f5827c"
      },
      "source": [
        "linfocitos"
      ],
      "execution_count": 51,
      "outputs": [
        {
          "output_type": "execute_result",
          "data": {
            "text/plain": [
              "2500"
            ]
          },
          "metadata": {
            "tags": []
          },
          "execution_count": 51
        }
      ]
    },
    {
      "cell_type": "code",
      "metadata": {
        "id": "M4p_Mc_73ZX0"
      },
      "source": [
        "neutrofilos = 5000"
      ],
      "execution_count": 52,
      "outputs": []
    },
    {
      "cell_type": "code",
      "metadata": {
        "colab": {
          "base_uri": "https://localhost:8080/"
        },
        "id": "gticC9nJ3llS",
        "outputId": "e35e4458-e85b-4e5f-e636-7a09833bc9c9"
      },
      "source": [
        "neutrofilos"
      ],
      "execution_count": 53,
      "outputs": [
        {
          "output_type": "execute_result",
          "data": {
            "text/plain": [
              "5000"
            ]
          },
          "metadata": {
            "tags": []
          },
          "execution_count": 53
        }
      ]
    },
    {
      "cell_type": "markdown",
      "metadata": {
        "id": "1CN9C8pK3l8i"
      },
      "source": [
        "Operações com as variáveis"
      ]
    },
    {
      "cell_type": "code",
      "metadata": {
        "colab": {
          "base_uri": "https://localhost:8080/"
        },
        "id": "4UqOcbVX4I3H",
        "outputId": "23d01dc2-edaf-4f8d-e6a4-5afabdca9b96"
      },
      "source": [
        "linfocitos/neutrofilos"
      ],
      "execution_count": 54,
      "outputs": [
        {
          "output_type": "execute_result",
          "data": {
            "text/plain": [
              "0.5"
            ]
          },
          "metadata": {
            "tags": []
          },
          "execution_count": 54
        }
      ]
    },
    {
      "cell_type": "markdown",
      "metadata": {
        "id": "RFRlkkfi4NwM"
      },
      "source": [
        "### Listas\n",
        "As listas são formas de organizar dados em conjuntos."
      ]
    },
    {
      "cell_type": "code",
      "metadata": {
        "colab": {
          "base_uri": "https://localhost:8080/"
        },
        "id": "OhNlSOE799re",
        "outputId": "d37905b1-e336-465b-f64f-48793d73946a"
      },
      "source": [
        "['João', 'Letícia', 'Carolina', 'Beatriz']"
      ],
      "execution_count": 55,
      "outputs": [
        {
          "output_type": "execute_result",
          "data": {
            "text/plain": [
              "['João', 'Letícia', 'Carolina', 'Beatriz']"
            ]
          },
          "metadata": {
            "tags": []
          },
          "execution_count": 55
        }
      ]
    },
    {
      "cell_type": "code",
      "metadata": {
        "id": "dHGR5RVa-OWY"
      },
      "source": [
        "nomes = ['João', 'Letícia', 'Carolina', 'Beatriz']"
      ],
      "execution_count": 56,
      "outputs": []
    },
    {
      "cell_type": "code",
      "metadata": {
        "colab": {
          "base_uri": "https://localhost:8080/"
        },
        "id": "ojKUpdub-SWt",
        "outputId": "19e543ba-5d84-491c-b706-3a68736c8f40"
      },
      "source": [
        "nomes"
      ],
      "execution_count": 57,
      "outputs": [
        {
          "output_type": "execute_result",
          "data": {
            "text/plain": [
              "['João', 'Letícia', 'Carolina', 'Beatriz']"
            ]
          },
          "metadata": {
            "tags": []
          },
          "execution_count": 57
        }
      ]
    },
    {
      "cell_type": "markdown",
      "metadata": {
        "id": "PijiB7VI-Ubp"
      },
      "source": [
        "#### Acessando os valores dentro de uma lista\n",
        "\n",
        "**Obs:** os valores começam em 0"
      ]
    },
    {
      "cell_type": "markdown",
      "metadata": {
        "id": "C8mpYli0-f-0"
      },
      "source": [
        "Primeiro item"
      ]
    },
    {
      "cell_type": "code",
      "metadata": {
        "colab": {
          "base_uri": "https://localhost:8080/",
          "height": 35
        },
        "id": "9sHkSLmz-V4t",
        "outputId": "696775a9-4eb0-40df-f558-4c9f433743db"
      },
      "source": [
        "nomes[0]"
      ],
      "execution_count": 58,
      "outputs": [
        {
          "output_type": "execute_result",
          "data": {
            "application/vnd.google.colaboratory.intrinsic+json": {
              "type": "string"
            },
            "text/plain": [
              "'João'"
            ]
          },
          "metadata": {
            "tags": []
          },
          "execution_count": 58
        }
      ]
    },
    {
      "cell_type": "markdown",
      "metadata": {
        "id": "5NIwvGwQ-irL"
      },
      "source": [
        "Segundo item"
      ]
    },
    {
      "cell_type": "code",
      "metadata": {
        "colab": {
          "base_uri": "https://localhost:8080/",
          "height": 35
        },
        "id": "AA6L8rgD-Xyc",
        "outputId": "7386e0ec-b084-437d-8a44-edabd5e90155"
      },
      "source": [
        "nomes[1]"
      ],
      "execution_count": 59,
      "outputs": [
        {
          "output_type": "execute_result",
          "data": {
            "application/vnd.google.colaboratory.intrinsic+json": {
              "type": "string"
            },
            "text/plain": [
              "'Letícia'"
            ]
          },
          "metadata": {
            "tags": []
          },
          "execution_count": 59
        }
      ]
    },
    {
      "cell_type": "markdown",
      "metadata": {
        "id": "VkKzY--t-nFs"
      },
      "source": [
        "Último item"
      ]
    },
    {
      "cell_type": "code",
      "metadata": {
        "colab": {
          "base_uri": "https://localhost:8080/",
          "height": 35
        },
        "id": "GyBmqzCR-YtU",
        "outputId": "3918818b-a8e9-4d85-fba4-a0f17e86a60a"
      },
      "source": [
        "nomes[-1]"
      ],
      "execution_count": 60,
      "outputs": [
        {
          "output_type": "execute_result",
          "data": {
            "application/vnd.google.colaboratory.intrinsic+json": {
              "type": "string"
            },
            "text/plain": [
              "'Beatriz'"
            ]
          },
          "metadata": {
            "tags": []
          },
          "execution_count": 60
        }
      ]
    },
    {
      "cell_type": "markdown",
      "metadata": {
        "id": "ZubTd_A3-quF"
      },
      "source": [
        "##### Intervalos\n",
        "Podemos acessar intervalos em uma lista usando os dois pointos `:`"
      ]
    },
    {
      "cell_type": "code",
      "metadata": {
        "colab": {
          "base_uri": "https://localhost:8080/"
        },
        "id": "bZaoIJvH-8Ez",
        "outputId": "619b936c-b081-4a89-c0fa-f0d33b940d8c"
      },
      "source": [
        "nomes[0:1]"
      ],
      "execution_count": 61,
      "outputs": [
        {
          "output_type": "execute_result",
          "data": {
            "text/plain": [
              "['João']"
            ]
          },
          "metadata": {
            "tags": []
          },
          "execution_count": 61
        }
      ]
    },
    {
      "cell_type": "markdown",
      "metadata": {
        "id": "nMjRwOJo_-Kz"
      },
      "source": [
        "O intervalo vai sempre do primeiro até o item anterior listado. Ex: se usarmos `[0:2]`, vamos pegar do primeiro até o segundo item, ao invés do primeiro ao terceiro."
      ]
    },
    {
      "cell_type": "code",
      "metadata": {
        "colab": {
          "base_uri": "https://localhost:8080/"
        },
        "id": "5LdiONG4_7Xe",
        "outputId": "cc02e19f-532e-4636-c827-7f98ad3309c0"
      },
      "source": [
        "nomes[0:2]"
      ],
      "execution_count": 62,
      "outputs": [
        {
          "output_type": "execute_result",
          "data": {
            "text/plain": [
              "['João', 'Letícia']"
            ]
          },
          "metadata": {
            "tags": []
          },
          "execution_count": 62
        }
      ]
    },
    {
      "cell_type": "markdown",
      "metadata": {
        "id": "GL7t8tCpcFCP"
      },
      "source": [
        "## Trabalhando com um banco de dados"
      ]
    },
    {
      "cell_type": "code",
      "metadata": {
        "id": "8knVqsB7cLYZ"
      },
      "source": [
        "import pandas as pd"
      ],
      "execution_count": 79,
      "outputs": []
    },
    {
      "cell_type": "code",
      "metadata": {
        "id": "8je_nna7cHTi"
      },
      "source": [
        "url = 'https://raw.githubusercontent.com/souzajvp/teaching-python/main/tb_parana_2016.csv'"
      ],
      "execution_count": 78,
      "outputs": []
    },
    {
      "cell_type": "code",
      "metadata": {
        "id": "4PwAWuF3eLhe"
      },
      "source": [
        "dados = pd.read_csv(url)"
      ],
      "execution_count": 83,
      "outputs": []
    },
    {
      "cell_type": "code",
      "metadata": {
        "colab": {
          "base_uri": "https://localhost:8080/",
          "height": 461
        },
        "id": "TWKvaf7deOjn",
        "outputId": "a957d4b0-084f-4509-dddc-ca6048041bf2"
      },
      "source": [
        "dados"
      ],
      "execution_count": 84,
      "outputs": [
        {
          "output_type": "execute_result",
          "data": {
            "text/html": [
              "<div>\n",
              "<style scoped>\n",
              "    .dataframe tbody tr th:only-of-type {\n",
              "        vertical-align: middle;\n",
              "    }\n",
              "\n",
              "    .dataframe tbody tr th {\n",
              "        vertical-align: top;\n",
              "    }\n",
              "\n",
              "    .dataframe thead th {\n",
              "        text-align: right;\n",
              "    }\n",
              "</style>\n",
              "<table border=\"1\" class=\"dataframe\">\n",
              "  <thead>\n",
              "    <tr style=\"text-align: right;\">\n",
              "      <th></th>\n",
              "      <th>DT_NOTIFIC</th>\n",
              "      <th>ID_MUNICIP</th>\n",
              "      <th>DT_DIAG</th>\n",
              "      <th>NU_IDADE_N</th>\n",
              "      <th>CS_SEXO</th>\n",
              "      <th>CS_RACA</th>\n",
              "      <th>CS_ESCOL_N</th>\n",
              "      <th>ID_MN_RESI</th>\n",
              "      <th>ID_OCUPA_N</th>\n",
              "      <th>TRATAMENTO</th>\n",
              "      <th>INSTITUCIO</th>\n",
              "      <th>RAIOX_TORA</th>\n",
              "      <th>TESTE_TUBE</th>\n",
              "      <th>FORMA</th>\n",
              "      <th>AGRAVAIDS</th>\n",
              "      <th>AGRAVALCOO</th>\n",
              "      <th>AGRAVDIABE</th>\n",
              "      <th>AGRAVDOENC</th>\n",
              "      <th>AGRAVOUTRA</th>\n",
              "      <th>AGRAVOUTDE</th>\n",
              "      <th>BACILOSC_E</th>\n",
              "      <th>BACILOS_E2</th>\n",
              "      <th>BACILOSC_O</th>\n",
              "      <th>CULTURA_ES</th>\n",
              "      <th>CULTURA_OU</th>\n",
              "      <th>HIV</th>\n",
              "      <th>HISTOPATOL</th>\n",
              "      <th>DT_INIC_TR</th>\n",
              "      <th>RIFAMPICIN</th>\n",
              "      <th>ISONIAZIDA</th>\n",
              "      <th>BACILOSC_1</th>\n",
              "      <th>BACILOSC_2</th>\n",
              "      <th>BACILOSC_3</th>\n",
              "      <th>BACILOSC_4</th>\n",
              "      <th>BACILOSC_5</th>\n",
              "      <th>BACILOSC_6</th>\n",
              "      <th>SITUA_9_M</th>\n",
              "      <th>SITUA_12_M</th>\n",
              "      <th>SITUA_ENCE</th>\n",
              "      <th>DT_ENCERRA</th>\n",
              "      <th>TPUNINOT</th>\n",
              "      <th>POP_LIBER</th>\n",
              "      <th>POP_RUA</th>\n",
              "      <th>POP_SAUDE</th>\n",
              "      <th>POP_IMIG</th>\n",
              "      <th>BENEF_GOV</th>\n",
              "      <th>AGRAVDROGA</th>\n",
              "      <th>AGRAVTABAC</th>\n",
              "      <th>TEST_MOLEC</th>\n",
              "      <th>TEST_SENSI</th>\n",
              "      <th>ANT_RETRO</th>\n",
              "      <th>BAC_APOS_6</th>\n",
              "    </tr>\n",
              "  </thead>\n",
              "  <tbody>\n",
              "    <tr>\n",
              "      <th>0</th>\n",
              "      <td>2017-02-10</td>\n",
              "      <td>410690</td>\n",
              "      <td>2016-10-10</td>\n",
              "      <td>4037</td>\n",
              "      <td>M</td>\n",
              "      <td>1.0</td>\n",
              "      <td>9.0</td>\n",
              "      <td>410690</td>\n",
              "      <td>NaN</td>\n",
              "      <td>3</td>\n",
              "      <td>NaN</td>\n",
              "      <td>4.0</td>\n",
              "      <td>NaN</td>\n",
              "      <td>1</td>\n",
              "      <td>9.0</td>\n",
              "      <td>1.0</td>\n",
              "      <td>2.0</td>\n",
              "      <td>2.0</td>\n",
              "      <td>9.0</td>\n",
              "      <td>NaN</td>\n",
              "      <td>1</td>\n",
              "      <td>NaN</td>\n",
              "      <td>NaN</td>\n",
              "      <td>4</td>\n",
              "      <td>NaN</td>\n",
              "      <td>2</td>\n",
              "      <td>5.0</td>\n",
              "      <td>2017-02-10</td>\n",
              "      <td>NaN</td>\n",
              "      <td>NaN</td>\n",
              "      <td>NaN</td>\n",
              "      <td>NaN</td>\n",
              "      <td>NaN</td>\n",
              "      <td>NaN</td>\n",
              "      <td>NaN</td>\n",
              "      <td>NaN</td>\n",
              "      <td>NaN</td>\n",
              "      <td>NaN</td>\n",
              "      <td>2.0</td>\n",
              "      <td>2017-03-06</td>\n",
              "      <td>2.0</td>\n",
              "      <td>2.0</td>\n",
              "      <td>1.0</td>\n",
              "      <td>2.0</td>\n",
              "      <td>2.0</td>\n",
              "      <td>9.0</td>\n",
              "      <td>9.0</td>\n",
              "      <td>9.0</td>\n",
              "      <td>5.0</td>\n",
              "      <td>NaN</td>\n",
              "      <td>NaN</td>\n",
              "      <td>NaN</td>\n",
              "    </tr>\n",
              "    <tr>\n",
              "      <th>1</th>\n",
              "      <td>2017-01-25</td>\n",
              "      <td>411370</td>\n",
              "      <td>2016-12-30</td>\n",
              "      <td>4025</td>\n",
              "      <td>F</td>\n",
              "      <td>1.0</td>\n",
              "      <td>9.0</td>\n",
              "      <td>410190</td>\n",
              "      <td>NaN</td>\n",
              "      <td>1</td>\n",
              "      <td>NaN</td>\n",
              "      <td>1.0</td>\n",
              "      <td>NaN</td>\n",
              "      <td>1</td>\n",
              "      <td>1.0</td>\n",
              "      <td>1.0</td>\n",
              "      <td>2.0</td>\n",
              "      <td>1.0</td>\n",
              "      <td>2.0</td>\n",
              "      <td>NaN</td>\n",
              "      <td>1</td>\n",
              "      <td>NaN</td>\n",
              "      <td>NaN</td>\n",
              "      <td>1</td>\n",
              "      <td>NaN</td>\n",
              "      <td>1</td>\n",
              "      <td>5.0</td>\n",
              "      <td>2017-01-25</td>\n",
              "      <td>NaN</td>\n",
              "      <td>NaN</td>\n",
              "      <td>1.0</td>\n",
              "      <td>2.0</td>\n",
              "      <td>2.0</td>\n",
              "      <td>2.0</td>\n",
              "      <td>2.0</td>\n",
              "      <td>2.0</td>\n",
              "      <td>NaN</td>\n",
              "      <td>NaN</td>\n",
              "      <td>1.0</td>\n",
              "      <td>2017-01-25</td>\n",
              "      <td>70.0</td>\n",
              "      <td>2.0</td>\n",
              "      <td>2.0</td>\n",
              "      <td>2.0</td>\n",
              "      <td>2.0</td>\n",
              "      <td>1.0</td>\n",
              "      <td>1.0</td>\n",
              "      <td>1.0</td>\n",
              "      <td>5.0</td>\n",
              "      <td>6.0</td>\n",
              "      <td>1.0</td>\n",
              "      <td>NaN</td>\n",
              "    </tr>\n",
              "    <tr>\n",
              "      <th>2</th>\n",
              "      <td>2016-03-31</td>\n",
              "      <td>410690</td>\n",
              "      <td>2016-03-31</td>\n",
              "      <td>4031</td>\n",
              "      <td>M</td>\n",
              "      <td>1.0</td>\n",
              "      <td>9.0</td>\n",
              "      <td>411840</td>\n",
              "      <td>NaN</td>\n",
              "      <td>1</td>\n",
              "      <td>NaN</td>\n",
              "      <td>2.0</td>\n",
              "      <td>NaN</td>\n",
              "      <td>2</td>\n",
              "      <td>2.0</td>\n",
              "      <td>2.0</td>\n",
              "      <td>2.0</td>\n",
              "      <td>2.0</td>\n",
              "      <td>2.0</td>\n",
              "      <td>NaN</td>\n",
              "      <td>3</td>\n",
              "      <td>NaN</td>\n",
              "      <td>NaN</td>\n",
              "      <td>4</td>\n",
              "      <td>NaN</td>\n",
              "      <td>2</td>\n",
              "      <td>2.0</td>\n",
              "      <td>2016-03-31</td>\n",
              "      <td>NaN</td>\n",
              "      <td>NaN</td>\n",
              "      <td>4.0</td>\n",
              "      <td>4.0</td>\n",
              "      <td>4.0</td>\n",
              "      <td>4.0</td>\n",
              "      <td>4.0</td>\n",
              "      <td>4.0</td>\n",
              "      <td>NaN</td>\n",
              "      <td>NaN</td>\n",
              "      <td>5.0</td>\n",
              "      <td>2016-04-01</td>\n",
              "      <td>5.0</td>\n",
              "      <td>2.0</td>\n",
              "      <td>2.0</td>\n",
              "      <td>2.0</td>\n",
              "      <td>2.0</td>\n",
              "      <td>2.0</td>\n",
              "      <td>2.0</td>\n",
              "      <td>2.0</td>\n",
              "      <td>5.0</td>\n",
              "      <td>NaN</td>\n",
              "      <td>NaN</td>\n",
              "      <td>4.0</td>\n",
              "    </tr>\n",
              "    <tr>\n",
              "      <th>3</th>\n",
              "      <td>2016-11-11</td>\n",
              "      <td>410230</td>\n",
              "      <td>2016-11-07</td>\n",
              "      <td>4040</td>\n",
              "      <td>F</td>\n",
              "      <td>1.0</td>\n",
              "      <td>6.0</td>\n",
              "      <td>410230</td>\n",
              "      <td>NaN</td>\n",
              "      <td>1</td>\n",
              "      <td>NaN</td>\n",
              "      <td>1.0</td>\n",
              "      <td>NaN</td>\n",
              "      <td>1</td>\n",
              "      <td>2.0</td>\n",
              "      <td>2.0</td>\n",
              "      <td>1.0</td>\n",
              "      <td>2.0</td>\n",
              "      <td>2.0</td>\n",
              "      <td>NaN</td>\n",
              "      <td>1</td>\n",
              "      <td>NaN</td>\n",
              "      <td>NaN</td>\n",
              "      <td>3</td>\n",
              "      <td>NaN</td>\n",
              "      <td>4</td>\n",
              "      <td>5.0</td>\n",
              "      <td>2016-11-07</td>\n",
              "      <td>NaN</td>\n",
              "      <td>NaN</td>\n",
              "      <td>1.0</td>\n",
              "      <td>1.0</td>\n",
              "      <td>2.0</td>\n",
              "      <td>2.0</td>\n",
              "      <td>2.0</td>\n",
              "      <td>2.0</td>\n",
              "      <td>NaN</td>\n",
              "      <td>NaN</td>\n",
              "      <td>5.0</td>\n",
              "      <td>2017-05-18</td>\n",
              "      <td>2.0</td>\n",
              "      <td>1.0</td>\n",
              "      <td>2.0</td>\n",
              "      <td>2.0</td>\n",
              "      <td>2.0</td>\n",
              "      <td>2.0</td>\n",
              "      <td>2.0</td>\n",
              "      <td>1.0</td>\n",
              "      <td>5.0</td>\n",
              "      <td>NaN</td>\n",
              "      <td>NaN</td>\n",
              "      <td>2.0</td>\n",
              "    </tr>\n",
              "    <tr>\n",
              "      <th>4</th>\n",
              "      <td>2016-05-20</td>\n",
              "      <td>411210</td>\n",
              "      <td>2016-05-20</td>\n",
              "      <td>4027</td>\n",
              "      <td>M</td>\n",
              "      <td>1.0</td>\n",
              "      <td>2.0</td>\n",
              "      <td>410320</td>\n",
              "      <td>NaN</td>\n",
              "      <td>1</td>\n",
              "      <td>NaN</td>\n",
              "      <td>4.0</td>\n",
              "      <td>NaN</td>\n",
              "      <td>1</td>\n",
              "      <td>2.0</td>\n",
              "      <td>2.0</td>\n",
              "      <td>2.0</td>\n",
              "      <td>2.0</td>\n",
              "      <td>2.0</td>\n",
              "      <td>NaN</td>\n",
              "      <td>1</td>\n",
              "      <td>NaN</td>\n",
              "      <td>NaN</td>\n",
              "      <td>1</td>\n",
              "      <td>NaN</td>\n",
              "      <td>2</td>\n",
              "      <td>5.0</td>\n",
              "      <td>2016-05-20</td>\n",
              "      <td>NaN</td>\n",
              "      <td>NaN</td>\n",
              "      <td>1.0</td>\n",
              "      <td>2.0</td>\n",
              "      <td>2.0</td>\n",
              "      <td>2.0</td>\n",
              "      <td>2.0</td>\n",
              "      <td>2.0</td>\n",
              "      <td>NaN</td>\n",
              "      <td>NaN</td>\n",
              "      <td>5.0</td>\n",
              "      <td>2016-06-09</td>\n",
              "      <td>2.0</td>\n",
              "      <td>2.0</td>\n",
              "      <td>2.0</td>\n",
              "      <td>2.0</td>\n",
              "      <td>2.0</td>\n",
              "      <td>2.0</td>\n",
              "      <td>2.0</td>\n",
              "      <td>2.0</td>\n",
              "      <td>5.0</td>\n",
              "      <td>5.0</td>\n",
              "      <td>2.0</td>\n",
              "      <td>NaN</td>\n",
              "    </tr>\n",
              "    <tr>\n",
              "      <th>...</th>\n",
              "      <td>...</td>\n",
              "      <td>...</td>\n",
              "      <td>...</td>\n",
              "      <td>...</td>\n",
              "      <td>...</td>\n",
              "      <td>...</td>\n",
              "      <td>...</td>\n",
              "      <td>...</td>\n",
              "      <td>...</td>\n",
              "      <td>...</td>\n",
              "      <td>...</td>\n",
              "      <td>...</td>\n",
              "      <td>...</td>\n",
              "      <td>...</td>\n",
              "      <td>...</td>\n",
              "      <td>...</td>\n",
              "      <td>...</td>\n",
              "      <td>...</td>\n",
              "      <td>...</td>\n",
              "      <td>...</td>\n",
              "      <td>...</td>\n",
              "      <td>...</td>\n",
              "      <td>...</td>\n",
              "      <td>...</td>\n",
              "      <td>...</td>\n",
              "      <td>...</td>\n",
              "      <td>...</td>\n",
              "      <td>...</td>\n",
              "      <td>...</td>\n",
              "      <td>...</td>\n",
              "      <td>...</td>\n",
              "      <td>...</td>\n",
              "      <td>...</td>\n",
              "      <td>...</td>\n",
              "      <td>...</td>\n",
              "      <td>...</td>\n",
              "      <td>...</td>\n",
              "      <td>...</td>\n",
              "      <td>...</td>\n",
              "      <td>...</td>\n",
              "      <td>...</td>\n",
              "      <td>...</td>\n",
              "      <td>...</td>\n",
              "      <td>...</td>\n",
              "      <td>...</td>\n",
              "      <td>...</td>\n",
              "      <td>...</td>\n",
              "      <td>...</td>\n",
              "      <td>...</td>\n",
              "      <td>...</td>\n",
              "      <td>...</td>\n",
              "      <td>...</td>\n",
              "    </tr>\n",
              "    <tr>\n",
              "      <th>2532</th>\n",
              "      <td>2016-12-30</td>\n",
              "      <td>411520</td>\n",
              "      <td>2016-12-30</td>\n",
              "      <td>4042</td>\n",
              "      <td>M</td>\n",
              "      <td>1.0</td>\n",
              "      <td>4.0</td>\n",
              "      <td>412625</td>\n",
              "      <td>NaN</td>\n",
              "      <td>3</td>\n",
              "      <td>NaN</td>\n",
              "      <td>1.0</td>\n",
              "      <td>NaN</td>\n",
              "      <td>1</td>\n",
              "      <td>2.0</td>\n",
              "      <td>2.0</td>\n",
              "      <td>2.0</td>\n",
              "      <td>2.0</td>\n",
              "      <td>2.0</td>\n",
              "      <td>NaN</td>\n",
              "      <td>2</td>\n",
              "      <td>NaN</td>\n",
              "      <td>NaN</td>\n",
              "      <td>4</td>\n",
              "      <td>NaN</td>\n",
              "      <td>2</td>\n",
              "      <td>5.0</td>\n",
              "      <td>2016-12-30</td>\n",
              "      <td>NaN</td>\n",
              "      <td>NaN</td>\n",
              "      <td>NaN</td>\n",
              "      <td>NaN</td>\n",
              "      <td>NaN</td>\n",
              "      <td>NaN</td>\n",
              "      <td>NaN</td>\n",
              "      <td>NaN</td>\n",
              "      <td>NaN</td>\n",
              "      <td>NaN</td>\n",
              "      <td>3.0</td>\n",
              "      <td>2017-01-14</td>\n",
              "      <td>5.0</td>\n",
              "      <td>2.0</td>\n",
              "      <td>2.0</td>\n",
              "      <td>2.0</td>\n",
              "      <td>2.0</td>\n",
              "      <td>2.0</td>\n",
              "      <td>2.0</td>\n",
              "      <td>2.0</td>\n",
              "      <td>5.0</td>\n",
              "      <td>NaN</td>\n",
              "      <td>NaN</td>\n",
              "      <td>NaN</td>\n",
              "    </tr>\n",
              "    <tr>\n",
              "      <th>2533</th>\n",
              "      <td>2016-12-30</td>\n",
              "      <td>410690</td>\n",
              "      <td>2016-12-30</td>\n",
              "      <td>4038</td>\n",
              "      <td>F</td>\n",
              "      <td>9.0</td>\n",
              "      <td>9.0</td>\n",
              "      <td>412550</td>\n",
              "      <td>NaN</td>\n",
              "      <td>1</td>\n",
              "      <td>NaN</td>\n",
              "      <td>2.0</td>\n",
              "      <td>NaN</td>\n",
              "      <td>2</td>\n",
              "      <td>1.0</td>\n",
              "      <td>2.0</td>\n",
              "      <td>2.0</td>\n",
              "      <td>2.0</td>\n",
              "      <td>2.0</td>\n",
              "      <td>NaN</td>\n",
              "      <td>3</td>\n",
              "      <td>NaN</td>\n",
              "      <td>NaN</td>\n",
              "      <td>3</td>\n",
              "      <td>NaN</td>\n",
              "      <td>1</td>\n",
              "      <td>5.0</td>\n",
              "      <td>2016-12-31</td>\n",
              "      <td>NaN</td>\n",
              "      <td>NaN</td>\n",
              "      <td>4.0</td>\n",
              "      <td>4.0</td>\n",
              "      <td>4.0</td>\n",
              "      <td>4.0</td>\n",
              "      <td>4.0</td>\n",
              "      <td>4.0</td>\n",
              "      <td>NaN</td>\n",
              "      <td>NaN</td>\n",
              "      <td>5.0</td>\n",
              "      <td>2017-01-03</td>\n",
              "      <td>5.0</td>\n",
              "      <td>2.0</td>\n",
              "      <td>2.0</td>\n",
              "      <td>2.0</td>\n",
              "      <td>2.0</td>\n",
              "      <td>9.0</td>\n",
              "      <td>2.0</td>\n",
              "      <td>2.0</td>\n",
              "      <td>5.0</td>\n",
              "      <td>NaN</td>\n",
              "      <td>1.0</td>\n",
              "      <td>4.0</td>\n",
              "    </tr>\n",
              "    <tr>\n",
              "      <th>2534</th>\n",
              "      <td>2017-01-03</td>\n",
              "      <td>410960</td>\n",
              "      <td>2016-12-30</td>\n",
              "      <td>4034</td>\n",
              "      <td>M</td>\n",
              "      <td>1.0</td>\n",
              "      <td>4.0</td>\n",
              "      <td>410960</td>\n",
              "      <td>NaN</td>\n",
              "      <td>1</td>\n",
              "      <td>NaN</td>\n",
              "      <td>1.0</td>\n",
              "      <td>NaN</td>\n",
              "      <td>1</td>\n",
              "      <td>2.0</td>\n",
              "      <td>1.0</td>\n",
              "      <td>1.0</td>\n",
              "      <td>2.0</td>\n",
              "      <td>1.0</td>\n",
              "      <td>HCV</td>\n",
              "      <td>1</td>\n",
              "      <td>NaN</td>\n",
              "      <td>NaN</td>\n",
              "      <td>1</td>\n",
              "      <td>NaN</td>\n",
              "      <td>2</td>\n",
              "      <td>5.0</td>\n",
              "      <td>2017-01-03</td>\n",
              "      <td>NaN</td>\n",
              "      <td>NaN</td>\n",
              "      <td>1.0</td>\n",
              "      <td>2.0</td>\n",
              "      <td>NaN</td>\n",
              "      <td>NaN</td>\n",
              "      <td>NaN</td>\n",
              "      <td>NaN</td>\n",
              "      <td>NaN</td>\n",
              "      <td>NaN</td>\n",
              "      <td>7.0</td>\n",
              "      <td>2017-05-22</td>\n",
              "      <td>1.0</td>\n",
              "      <td>2.0</td>\n",
              "      <td>2.0</td>\n",
              "      <td>2.0</td>\n",
              "      <td>2.0</td>\n",
              "      <td>2.0</td>\n",
              "      <td>1.0</td>\n",
              "      <td>1.0</td>\n",
              "      <td>5.0</td>\n",
              "      <td>1.0</td>\n",
              "      <td>NaN</td>\n",
              "      <td>NaN</td>\n",
              "    </tr>\n",
              "    <tr>\n",
              "      <th>2535</th>\n",
              "      <td>2017-01-06</td>\n",
              "      <td>412810</td>\n",
              "      <td>2016-12-30</td>\n",
              "      <td>4045</td>\n",
              "      <td>F</td>\n",
              "      <td>4.0</td>\n",
              "      <td>1.0</td>\n",
              "      <td>412810</td>\n",
              "      <td>NaN</td>\n",
              "      <td>1</td>\n",
              "      <td>NaN</td>\n",
              "      <td>1.0</td>\n",
              "      <td>NaN</td>\n",
              "      <td>1</td>\n",
              "      <td>2.0</td>\n",
              "      <td>2.0</td>\n",
              "      <td>2.0</td>\n",
              "      <td>2.0</td>\n",
              "      <td>2.0</td>\n",
              "      <td>NaN</td>\n",
              "      <td>3</td>\n",
              "      <td>NaN</td>\n",
              "      <td>NaN</td>\n",
              "      <td>4</td>\n",
              "      <td>NaN</td>\n",
              "      <td>2</td>\n",
              "      <td>5.0</td>\n",
              "      <td>2016-12-30</td>\n",
              "      <td>NaN</td>\n",
              "      <td>NaN</td>\n",
              "      <td>2.0</td>\n",
              "      <td>1.0</td>\n",
              "      <td>2.0</td>\n",
              "      <td>2.0</td>\n",
              "      <td>2.0</td>\n",
              "      <td>2.0</td>\n",
              "      <td>NaN</td>\n",
              "      <td>NaN</td>\n",
              "      <td>1.0</td>\n",
              "      <td>2017-06-01</td>\n",
              "      <td>50.0</td>\n",
              "      <td>NaN</td>\n",
              "      <td>NaN</td>\n",
              "      <td>NaN</td>\n",
              "      <td>NaN</td>\n",
              "      <td>NaN</td>\n",
              "      <td>2.0</td>\n",
              "      <td>2.0</td>\n",
              "      <td>5.0</td>\n",
              "      <td>7.0</td>\n",
              "      <td>NaN</td>\n",
              "      <td>NaN</td>\n",
              "    </tr>\n",
              "    <tr>\n",
              "      <th>2536</th>\n",
              "      <td>2017-01-05</td>\n",
              "      <td>410830</td>\n",
              "      <td>2016-12-31</td>\n",
              "      <td>4029</td>\n",
              "      <td>F</td>\n",
              "      <td>1.0</td>\n",
              "      <td>8.0</td>\n",
              "      <td>410830</td>\n",
              "      <td>NaN</td>\n",
              "      <td>1</td>\n",
              "      <td>NaN</td>\n",
              "      <td>4.0</td>\n",
              "      <td>NaN</td>\n",
              "      <td>2</td>\n",
              "      <td>2.0</td>\n",
              "      <td>2.0</td>\n",
              "      <td>2.0</td>\n",
              "      <td>2.0</td>\n",
              "      <td>1.0</td>\n",
              "      <td>ARTRITE PSORIASICA,IMUNOSUPRE</td>\n",
              "      <td>4</td>\n",
              "      <td>NaN</td>\n",
              "      <td>NaN</td>\n",
              "      <td>4</td>\n",
              "      <td>NaN</td>\n",
              "      <td>2</td>\n",
              "      <td>5.0</td>\n",
              "      <td>2016-12-31</td>\n",
              "      <td>NaN</td>\n",
              "      <td>NaN</td>\n",
              "      <td>4.0</td>\n",
              "      <td>4.0</td>\n",
              "      <td>4.0</td>\n",
              "      <td>4.0</td>\n",
              "      <td>4.0</td>\n",
              "      <td>4.0</td>\n",
              "      <td>NaN</td>\n",
              "      <td>NaN</td>\n",
              "      <td>6.0</td>\n",
              "      <td>2017-01-24</td>\n",
              "      <td>2.0</td>\n",
              "      <td>2.0</td>\n",
              "      <td>2.0</td>\n",
              "      <td>2.0</td>\n",
              "      <td>2.0</td>\n",
              "      <td>2.0</td>\n",
              "      <td>2.0</td>\n",
              "      <td>2.0</td>\n",
              "      <td>5.0</td>\n",
              "      <td>7.0</td>\n",
              "      <td>2.0</td>\n",
              "      <td>4.0</td>\n",
              "    </tr>\n",
              "  </tbody>\n",
              "</table>\n",
              "<p>2537 rows × 52 columns</p>\n",
              "</div>"
            ],
            "text/plain": [
              "      DT_NOTIFIC  ID_MUNICIP     DT_DIAG  ...  TEST_SENSI ANT_RETRO  BAC_APOS_6\n",
              "0     2017-02-10      410690  2016-10-10  ...         NaN       NaN         NaN\n",
              "1     2017-01-25      411370  2016-12-30  ...         6.0       1.0         NaN\n",
              "2     2016-03-31      410690  2016-03-31  ...         NaN       NaN         4.0\n",
              "3     2016-11-11      410230  2016-11-07  ...         NaN       NaN         2.0\n",
              "4     2016-05-20      411210  2016-05-20  ...         5.0       2.0         NaN\n",
              "...          ...         ...         ...  ...         ...       ...         ...\n",
              "2532  2016-12-30      411520  2016-12-30  ...         NaN       NaN         NaN\n",
              "2533  2016-12-30      410690  2016-12-30  ...         NaN       1.0         4.0\n",
              "2534  2017-01-03      410960  2016-12-30  ...         1.0       NaN         NaN\n",
              "2535  2017-01-06      412810  2016-12-30  ...         7.0       NaN         NaN\n",
              "2536  2017-01-05      410830  2016-12-31  ...         7.0       2.0         4.0\n",
              "\n",
              "[2537 rows x 52 columns]"
            ]
          },
          "metadata": {
            "tags": []
          },
          "execution_count": 84
        }
      ]
    },
    {
      "cell_type": "markdown",
      "metadata": {
        "id": "fG0SW6B-cKMy"
      },
      "source": [
        "### Selecionando uma coluna específica\n",
        "Podemos usar a forma `['nome_da_coluna']` para selecionar e manipular os dados"
      ]
    },
    {
      "cell_type": "code",
      "metadata": {
        "colab": {
          "base_uri": "https://localhost:8080/"
        },
        "id": "w3O_BPTQkMVr",
        "outputId": "ffd03335-3179-4304-a939-50dbb949eb3b"
      },
      "source": [
        "dados['CS_SEXO']"
      ],
      "execution_count": 90,
      "outputs": [
        {
          "output_type": "execute_result",
          "data": {
            "text/plain": [
              "0       M\n",
              "1       F\n",
              "2       M\n",
              "3       F\n",
              "4       M\n",
              "       ..\n",
              "2532    M\n",
              "2533    F\n",
              "2534    M\n",
              "2535    F\n",
              "2536    F\n",
              "Name: CS_SEXO, Length: 2537, dtype: object"
            ]
          },
          "metadata": {
            "tags": []
          },
          "execution_count": 90
        }
      ]
    },
    {
      "cell_type": "markdown",
      "metadata": {
        "id": "kj40sWHOoiAx"
      },
      "source": [
        "Assim como fazemos nas listas, podemos selecionar um intervalo também. \n",
        "\n",
        "Por exemplo, vamos selecionar os **primeiros 100 casos notificados**."
      ]
    },
    {
      "cell_type": "code",
      "metadata": {
        "colab": {
          "base_uri": "https://localhost:8080/"
        },
        "id": "gwzwKE9tomgz",
        "outputId": "3e36f974-7b97-49ec-b8c7-9d7e97a5dd1f"
      },
      "source": [
        "dados['CS_SEXO'][:100]"
      ],
      "execution_count": 98,
      "outputs": [
        {
          "output_type": "execute_result",
          "data": {
            "text/plain": [
              "0     M\n",
              "1     F\n",
              "2     M\n",
              "3     F\n",
              "4     M\n",
              "     ..\n",
              "95    F\n",
              "96    M\n",
              "97    M\n",
              "98    M\n",
              "99    F\n",
              "Name: CS_SEXO, Length: 100, dtype: object"
            ]
          },
          "metadata": {
            "tags": []
          },
          "execution_count": 98
        }
      ]
    },
    {
      "cell_type": "markdown",
      "metadata": {
        "id": "HloeH-lmo2jd"
      },
      "source": [
        "**Qual sexo foi mais afetado pela TB em 2016?**"
      ]
    },
    {
      "cell_type": "code",
      "metadata": {
        "colab": {
          "base_uri": "https://localhost:8080/"
        },
        "id": "BYRL33U1kNe3",
        "outputId": "1ccbfbf5-60bf-428e-db57-8392e7498620"
      },
      "source": [
        "dados['CS_SEXO'].value_counts()"
      ],
      "execution_count": 91,
      "outputs": [
        {
          "output_type": "execute_result",
          "data": {
            "text/plain": [
              "M    1771\n",
              "F     766\n",
              "Name: CS_SEXO, dtype: int64"
            ]
          },
          "metadata": {
            "tags": []
          },
          "execution_count": 91
        }
      ]
    },
    {
      "cell_type": "markdown",
      "metadata": {
        "id": "fLo-Zl66o9-G"
      },
      "source": [
        "Transformando em porcentagem"
      ]
    },
    {
      "cell_type": "code",
      "metadata": {
        "colab": {
          "base_uri": "https://localhost:8080/"
        },
        "id": "HuOBe6lXpBaD",
        "outputId": "697a810a-64d5-4acc-b821-3d739137160d"
      },
      "source": [
        "dados['CS_SEXO'].value_counts(normalize=True)"
      ],
      "execution_count": 101,
      "outputs": [
        {
          "output_type": "execute_result",
          "data": {
            "text/plain": [
              "M    0.698069\n",
              "F    0.301931\n",
              "Name: CS_SEXO, dtype: float64"
            ]
          },
          "metadata": {
            "tags": []
          },
          "execution_count": 101
        }
      ]
    },
    {
      "cell_type": "markdown",
      "metadata": {
        "id": "_gYH4H1EuXOm"
      },
      "source": [
        "### Plotando alguns gráficos\n",
        "Como vimos antes, os valores estão codificado em `M` ou `F`. Isso pode ser um problema na hora de plotar um gráfico, mas tudo se resolve!"
      ]
    },
    {
      "cell_type": "markdown",
      "metadata": {
        "id": "-HgV7Ey3kPTk"
      },
      "source": [
        "Plotando um gráfico de pizza"
      ]
    },
    {
      "cell_type": "code",
      "metadata": {
        "id": "fBicJOjOkqRX"
      },
      "source": [
        "import matplotlib.pyplot as plt"
      ],
      "execution_count": 95,
      "outputs": []
    },
    {
      "cell_type": "code",
      "metadata": {
        "colab": {
          "base_uri": "https://localhost:8080/",
          "height": 248
        },
        "id": "IgjxF8oRkism",
        "outputId": "b8dbdbe6-4d5f-4976-ee5e-4c8a3a4a1615"
      },
      "source": [
        "dados['CS_SEXO'].value_counts().plot(kind='pie')\n",
        "plt.legend();"
      ],
      "execution_count": 108,
      "outputs": [
        {
          "output_type": "display_data",
          "data": {
            "image/png": "[encoded data removed]",
            "text/plain": [
              "<Figure size 432x288 with 1 Axes>"
            ]
          },
          "metadata": {
            "tags": []
          }
        }
      ]
    },
    {
      "cell_type": "markdown",
      "metadata": {
        "id": "ka1_nvATkhRW"
      },
      "source": [
        "Gráfico de colunas"
      ]
    },
    {
      "cell_type": "code",
      "metadata": {
        "colab": {
          "base_uri": "https://localhost:8080/",
          "height": 264
        },
        "id": "C511ONO8j7zK",
        "outputId": "601acbc4-7c8a-46ca-f242-73e5054107a3"
      },
      "source": [
        "dados['CS_SEXO'].value_counts().plot(kind='bar', )\n",
        "plt.legend();"
      ],
      "execution_count": 102,
      "outputs": [
        {
          "output_type": "display_data",
          "data": {
            "image/png": "[encoded data removed]",
            "text/plain": [
              "<Figure size 432x288 with 1 Axes>"
            ]
          },
          "metadata": {
            "tags": [],
            "needs_background": "light"
          }
        }
      ]
    }
  ]
}