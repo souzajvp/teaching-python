{
  "nbformat": 4,
  "nbformat_minor": 0,
  "metadata": {
    "colab": {
      "name": "Revisão python - Aula04.ipynb",
      "provenance": [],
      "authorship_tag": "ABX9TyOApP13UFkYTlOgJyCo2Tqp",
      "include_colab_link": true
    },
    "kernelspec": {
      "name": "python3",
      "display_name": "Python 3"
    },
    "language_info": {
      "name": "python"
    }
  },
  "cells": [
    {
      "cell_type": "markdown",
      "metadata": {
        "id": "view-in-github",
        "colab_type": "text"
      },
      "source": [
        "<a href=\"https://colab.research.google.com/github/souzajvp/teaching-python/blob/main/Aula04/Revis%C3%A3o_python_Aula04.ipynb\" target=\"_parent\"><img src=\"https://colab.research.google.com/assets/colab-badge.svg\" alt=\"Open In Colab\"/></a>"
      ]
    },
    {
      "cell_type": "markdown",
      "metadata": {
        "id": "6kOLOqO_q8vm"
      },
      "source": [
        "# Revisão"
      ]
    },
    {
      "cell_type": "markdown",
      "metadata": {
        "id": "S65XVbj_zSEJ"
      },
      "source": [
        "### O que é uma variável?\n",
        "De forma geral, usamos o termo variável pra qualquer palavra usada para armazenar um \"valor\" na programação. \n",
        "\n",
        "**Esse \"valor\" pode ser em formato de**:\n",
        "1. Texto (*string* ou `str`);\n",
        "2. Número inteiro (*integer* ou `int`);\n",
        "3. Real/decimal (*float*);\n",
        "4. Equações;\n",
        "5. Listas;\n",
        "6. Funções;\n",
        "7. etc...\n"
      ]
    },
    {
      "cell_type": "markdown",
      "metadata": {
        "id": "dcbYn1SA0vIS"
      },
      "source": [
        "### Texto ou *string*"
      ]
    },
    {
      "cell_type": "code",
      "metadata": {
        "id": "TTgj3QAm3xLK"
      },
      "source": [
        ""
      ],
      "execution_count": 108,
      "outputs": []
    },
    {
      "cell_type": "markdown",
      "metadata": {
        "id": "bgyn6qMY2D97"
      },
      "source": [
        "Operações com strings"
      ]
    },
    {
      "cell_type": "code",
      "metadata": {
        "id": "HfdOnYQc2Gfz"
      },
      "source": [
        ""
      ],
      "execution_count": 108,
      "outputs": []
    },
    {
      "cell_type": "code",
      "metadata": {
        "id": "8BYGjejN2Jul"
      },
      "source": [
        ""
      ],
      "execution_count": 108,
      "outputs": []
    },
    {
      "cell_type": "code",
      "metadata": {
        "id": "pYxwFAH21-Eb"
      },
      "source": [
        ""
      ],
      "execution_count": 108,
      "outputs": []
    },
    {
      "cell_type": "code",
      "metadata": {
        "id": "xUSoh4si2BPu"
      },
      "source": [
        ""
      ],
      "execution_count": 108,
      "outputs": []
    },
    {
      "cell_type": "code",
      "metadata": {
        "id": "23HgXmkM2ONF"
      },
      "source": [
        ""
      ],
      "execution_count": 108,
      "outputs": []
    },
    {
      "cell_type": "markdown",
      "metadata": {
        "id": "Aw06OVw82lUV"
      },
      "source": [
        "Transformando valores em *string* usando a função `str()`"
      ]
    },
    {
      "cell_type": "code",
      "metadata": {
        "id": "QEekUXgO2r05"
      },
      "source": [
        ""
      ],
      "execution_count": 108,
      "outputs": []
    },
    {
      "cell_type": "markdown",
      "metadata": {
        "id": "hoaMjgUh2TI4"
      },
      "source": [
        "### Números inteiros ou `int`"
      ]
    },
    {
      "cell_type": "code",
      "metadata": {
        "id": "j9iCzQ7z3nkO"
      },
      "source": [
        ""
      ],
      "execution_count": 108,
      "outputs": []
    },
    {
      "cell_type": "code",
      "metadata": {
        "id": "_iaf9nGv4ARE"
      },
      "source": [
        ""
      ],
      "execution_count": 108,
      "outputs": []
    },
    {
      "cell_type": "markdown",
      "metadata": {
        "id": "ZYGh84wf4Dnb"
      },
      "source": [
        "Usando variáveis"
      ]
    },
    {
      "cell_type": "code",
      "metadata": {
        "id": "IHqjw7GQ2ahj"
      },
      "source": [
        ""
      ],
      "execution_count": 108,
      "outputs": []
    },
    {
      "cell_type": "code",
      "metadata": {
        "id": "nIiOA_SF3Y5L"
      },
      "source": [
        ""
      ],
      "execution_count": 108,
      "outputs": []
    },
    {
      "cell_type": "code",
      "metadata": {
        "id": "M4p_Mc_73ZX0"
      },
      "source": [
        ""
      ],
      "execution_count": 108,
      "outputs": []
    },
    {
      "cell_type": "code",
      "metadata": {
        "id": "gticC9nJ3llS"
      },
      "source": [
        ""
      ],
      "execution_count": 108,
      "outputs": []
    },
    {
      "cell_type": "markdown",
      "metadata": {
        "id": "1CN9C8pK3l8i"
      },
      "source": [
        "Operações com as variáveis"
      ]
    },
    {
      "cell_type": "code",
      "metadata": {
        "id": "4UqOcbVX4I3H"
      },
      "source": [
        ""
      ],
      "execution_count": 108,
      "outputs": []
    },
    {
      "cell_type": "markdown",
      "metadata": {
        "id": "RFRlkkfi4NwM"
      },
      "source": [
        "### Listas\n",
        "As listas são formas de organizar dados em conjuntos."
      ]
    },
    {
      "cell_type": "code",
      "metadata": {
        "id": "OhNlSOE799re"
      },
      "source": [
        ""
      ],
      "execution_count": 108,
      "outputs": []
    },
    {
      "cell_type": "code",
      "metadata": {
        "id": "dHGR5RVa-OWY"
      },
      "source": [
        ""
      ],
      "execution_count": 108,
      "outputs": []
    },
    {
      "cell_type": "code",
      "metadata": {
        "id": "ojKUpdub-SWt"
      },
      "source": [
        ""
      ],
      "execution_count": 108,
      "outputs": []
    },
    {
      "cell_type": "markdown",
      "metadata": {
        "id": "PijiB7VI-Ubp"
      },
      "source": [
        "#### Acessando os valores dentro de uma lista\n",
        "\n",
        "**Obs:** os valores começam em 0"
      ]
    },
    {
      "cell_type": "markdown",
      "metadata": {
        "id": "C8mpYli0-f-0"
      },
      "source": [
        "Primeiro item"
      ]
    },
    {
      "cell_type": "code",
      "metadata": {
        "id": "9sHkSLmz-V4t"
      },
      "source": [
        ""
      ],
      "execution_count": 108,
      "outputs": []
    },
    {
      "cell_type": "markdown",
      "metadata": {
        "id": "5NIwvGwQ-irL"
      },
      "source": [
        "Segundo item"
      ]
    },
    {
      "cell_type": "code",
      "metadata": {
        "id": "AA6L8rgD-Xyc"
      },
      "source": [
        ""
      ],
      "execution_count": 108,
      "outputs": []
    },
    {
      "cell_type": "markdown",
      "metadata": {
        "id": "VkKzY--t-nFs"
      },
      "source": [
        "Último item"
      ]
    },
    {
      "cell_type": "code",
      "metadata": {
        "id": "GyBmqzCR-YtU"
      },
      "source": [
        ""
      ],
      "execution_count": 108,
      "outputs": []
    },
    {
      "cell_type": "markdown",
      "metadata": {
        "id": "ZubTd_A3-quF"
      },
      "source": [
        "##### Intervalos\n",
        "Podemos acessar intervalos em uma lista usando os dois pointos `:`"
      ]
    },
    {
      "cell_type": "code",
      "metadata": {
        "id": "bZaoIJvH-8Ez"
      },
      "source": [
        ""
      ],
      "execution_count": 108,
      "outputs": []
    },
    {
      "cell_type": "markdown",
      "metadata": {
        "id": "nMjRwOJo_-Kz"
      },
      "source": [
        "O intervalo vai sempre do primeiro até o item anterior listado. Ex: se usarmos `[0:2]`, vamos pegar do primeiro até o segundo item, ao invés do primeiro ao terceiro."
      ]
    },
    {
      "cell_type": "code",
      "metadata": {
        "id": "5LdiONG4_7Xe"
      },
      "source": [
        ""
      ],
      "execution_count": 108,
      "outputs": []
    },
    {
      "cell_type": "markdown",
      "metadata": {
        "id": "GL7t8tCpcFCP"
      },
      "source": [
        "## Trabalhando com um banco de dados"
      ]
    },
    {
      "cell_type": "code",
      "metadata": {
        "id": "8knVqsB7cLYZ"
      },
      "source": [
        "import pandas as pd"
      ],
      "execution_count": 109,
      "outputs": []
    },
    {
      "cell_type": "code",
      "metadata": {
        "id": "8je_nna7cHTi"
      },
      "source": [
        "url = 'https://raw.githubusercontent.com/souzajvp/teaching-python/main/tb_parana_2016.csv'"
      ],
      "execution_count": 110,
      "outputs": []
    },
    {
      "cell_type": "code",
      "metadata": {
        "id": "4PwAWuF3eLhe"
      },
      "source": [
        ""
      ],
      "execution_count": 110,
      "outputs": []
    },
    {
      "cell_type": "code",
      "metadata": {
        "id": "TWKvaf7deOjn"
      },
      "source": [
        ""
      ],
      "execution_count": 110,
      "outputs": []
    },
    {
      "cell_type": "markdown",
      "metadata": {
        "id": "fG0SW6B-cKMy"
      },
      "source": [
        "### Selecionando uma coluna específica\n",
        "Podemos usar a forma `['nome_da_coluna']` para selecionar e manipular os dados"
      ]
    },
    {
      "cell_type": "code",
      "metadata": {
        "id": "w3O_BPTQkMVr"
      },
      "source": [
        ""
      ],
      "execution_count": 110,
      "outputs": []
    },
    {
      "cell_type": "markdown",
      "metadata": {
        "id": "kj40sWHOoiAx"
      },
      "source": [
        "Assim como fazemos nas listas, podemos selecionar um intervalo também. \n",
        "\n",
        "Por exemplo, vamos selecionar os **primeiros 100 casos notificados**."
      ]
    },
    {
      "cell_type": "code",
      "metadata": {
        "id": "gwzwKE9tomgz"
      },
      "source": [
        ""
      ],
      "execution_count": 110,
      "outputs": []
    },
    {
      "cell_type": "markdown",
      "metadata": {
        "id": "HloeH-lmo2jd"
      },
      "source": [
        "**Qual sexo foi mais afetado pela TB em 2016?**"
      ]
    },
    {
      "cell_type": "code",
      "metadata": {
        "id": "BYRL33U1kNe3"
      },
      "source": [
        ""
      ],
      "execution_count": 110,
      "outputs": []
    },
    {
      "cell_type": "markdown",
      "metadata": {
        "id": "fLo-Zl66o9-G"
      },
      "source": [
        "Transformando em porcentagem"
      ]
    },
    {
      "cell_type": "code",
      "metadata": {
        "id": "HuOBe6lXpBaD"
      },
      "source": [
        ""
      ],
      "execution_count": 110,
      "outputs": []
    },
    {
      "cell_type": "markdown",
      "metadata": {
        "id": "_gYH4H1EuXOm"
      },
      "source": [
        "### Plotando alguns gráficos\n",
        "Como vimos antes, os valores estão codificado em `M` ou `F`. Isso pode ser um problema na hora de plotar um gráfico, mas tudo se resolve!"
      ]
    },
    {
      "cell_type": "markdown",
      "metadata": {
        "id": "-HgV7Ey3kPTk"
      },
      "source": [
        "Plotando um gráfico de pizza"
      ]
    },
    {
      "cell_type": "code",
      "metadata": {
        "id": "fBicJOjOkqRX"
      },
      "source": [
        "import matplotlib.pyplot as plt"
      ],
      "execution_count": 111,
      "outputs": []
    },
    {
      "cell_type": "code",
      "metadata": {
        "id": "IgjxF8oRkism"
      },
      "source": [
        ""
      ],
      "execution_count": 111,
      "outputs": []
    },
    {
      "cell_type": "markdown",
      "metadata": {
        "id": "ka1_nvATkhRW"
      },
      "source": [
        "Gráfico de colunas"
      ]
    },
    {
      "cell_type": "code",
      "metadata": {
        "id": "C511ONO8j7zK"
      },
      "source": [
        ""
      ],
      "execution_count": 111,
      "outputs": []
    }
  ]
}