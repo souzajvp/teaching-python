{
  "nbformat": 4,
  "nbformat_minor": 0,
  "metadata": {
    "colab": {
      "name": "Trabalhando com variáveis categóricas-Aula06.ipynb",
      "provenance": [],
      "authorship_tag": "ABX9TyM1eYef1Agf81JYsOXOqfv1",
      "include_colab_link": true
    },
    "kernelspec": {
      "name": "python3",
      "display_name": "Python 3"
    },
    "language_info": {
      "name": "python"
    }
  },
  "cells": [
    {
      "cell_type": "markdown",
      "metadata": {
        "id": "view-in-github",
        "colab_type": "text"
      },
      "source": [
        "<a href=\"https://colab.research.google.com/github/souzajvp/teaching-python/blob/main/Aula06/Trabalhando_com_vari%C3%A1veis_categ%C3%B3ricas_Aula06.ipynb\" target=\"_parent\"><img src=\"https://colab.research.google.com/assets/colab-badge.svg\" alt=\"Open In Colab\"/></a>"
      ]
    },
    {
      "cell_type": "markdown",
      "metadata": {
        "id": "9uHIgdiub5QU"
      },
      "source": [
        "# Exercícios da aula anterior"
      ]
    },
    {
      "cell_type": "markdown",
      "metadata": {
        "id": "Ro8zqmcVcyzH"
      },
      "source": [
        "Lendo o banco"
      ]
    },
    {
      "cell_type": "code",
      "metadata": {
        "id": "eS2RlDzCc0j8"
      },
      "source": [
        "import pandas as pd "
      ],
      "execution_count": null,
      "outputs": []
    },
    {
      "cell_type": "markdown",
      "metadata": {
        "id": "ns5lHFBznKOl"
      },
      "source": [
        "#### 1 - Qual função é usada para lermos arquivos no formato \".csv\" usando o pacote pandas?\n",
        "<font color='red'>R:</font> `pd.read_csv(\"caminho.csv\")`\n"
      ]
    },
    {
      "cell_type": "code",
      "metadata": {
        "id": "aBsSnkPgc1SG"
      },
      "source": [
        "url = 'https://raw.githubusercontent.com/souzajvp/teaching-python/main/dados_tb_pr_2016_aula05.csv'\n",
        "dados = pd.read_csv(url)"
      ],
      "execution_count": null,
      "outputs": []
    },
    {
      "cell_type": "markdown",
      "metadata": {
        "id": "g5oV4Oq5c9gI"
      },
      "source": [
        "#### 2 - Qual função é utilizada para exibir as primeiras linhas do nosso banco de dados? <font color='red'>Como faríamos para exibir as primeiras 4 linhas?</font>\n",
        "<font color='red'>R:</font> `dados.head()`. Para imprimir as primeiras 4 linhas, poderíamos usar a função `dados.head(4)`."
      ]
    },
    {
      "cell_type": "code",
      "metadata": {
        "id": "AK2TUQ6TdDsU"
      },
      "source": [
        "dados.head()"
      ],
      "execution_count": null,
      "outputs": []
    },
    {
      "cell_type": "code",
      "metadata": {
        "id": "4s3xAg0XdE4L"
      },
      "source": [
        "dados.head(4)"
      ],
      "execution_count": null,
      "outputs": []
    },
    {
      "cell_type": "markdown",
      "metadata": {
        "id": "HsptvK0LdCwE"
      },
      "source": [
        "#### 3 - Como faríamos para verificar quantas pessoas de cada sexo (variável \"CS_SEXO\") tiveram TB no paraná?\n",
        "<font color='red'>R:</font> Poderíamos usar a método `value_counts()`, da seguinte forma --> `dados['CS_SEXO'].value_counts()`."
      ]
    },
    {
      "cell_type": "code",
      "metadata": {
        "id": "9sBXrLgtc85R"
      },
      "source": [
        "dados['CS_SEXO'].value_counts()"
      ],
      "execution_count": null,
      "outputs": []
    },
    {
      "cell_type": "markdown",
      "metadata": {
        "id": "KHROskah3KO5"
      },
      "source": [
        "#### 4 - Substitua os valores \"M\" e \"F\" por \"Masculino\" e \"Feminino\" no banco de dados usando o método `.replace()`"
      ]
    },
    {
      "cell_type": "code",
      "metadata": {
        "id": "b6_PAXo83VLW"
      },
      "source": [
        "dados['CS_SEXO'].replace(['M', 'F'], ['Masculino', 'Feminino'])"
      ],
      "execution_count": null,
      "outputs": []
    },
    {
      "cell_type": "code",
      "metadata": {
        "id": "P8QgWLGdeTKx"
      },
      "source": [
        "dados['CS_SEXO'] = dados['CS_SEXO'].replace(['M', 'F'], ['Masculino', 'Feminino'])"
      ],
      "execution_count": null,
      "outputs": []
    },
    {
      "cell_type": "markdown",
      "metadata": {
        "id": "OM-23yhB3T1m"
      },
      "source": [
        "#### 5 - Por fim, salve o banco de dados com o nome \"arquivo_seu_nome.csv\" e envie pra mim por e-mail."
      ]
    },
    {
      "cell_type": "markdown",
      "metadata": {
        "id": "__i6xW7ZTtIg"
      },
      "source": [
        "# Importando módulos e o banco de dados"
      ]
    },
    {
      "cell_type": "code",
      "metadata": {
        "id": "Zb8kAYgPhLqx"
      },
      "source": [
        "import pandas as pd"
      ],
      "execution_count": null,
      "outputs": []
    },
    {
      "cell_type": "code",
      "metadata": {
        "id": "TeVJIynobbXg"
      },
      "source": [
        "url = 'https://raw.githubusercontent.com/souzajvp/teaching-python/main/dados_tb_pr_2016_aula05.csv'"
      ],
      "execution_count": null,
      "outputs": []
    },
    {
      "cell_type": "markdown",
      "metadata": {
        "id": "ViCvQCfAhbwh"
      },
      "source": [
        "Como eu já carreguei o banco ali em cima, não é necessário fazermos isso novamente"
      ]
    },
    {
      "cell_type": "code",
      "metadata": {
        "id": "f6IMnEzIhJpQ"
      },
      "source": [
        "# dados = pd.read_csv(url)\n",
        "# dados['CS_SEXO'] = dados['CS_SEXO'].replace(['M', 'F'],['Masculino', 'Feminino'])"
      ],
      "execution_count": null,
      "outputs": []
    },
    {
      "cell_type": "markdown",
      "metadata": {
        "id": "jaLnoTwCh_DD"
      },
      "source": [
        "## Escolaridade\n",
        "Para preparar os dados, além do método replace, podemos usar também o método `map()`"
      ]
    },
    {
      "cell_type": "markdown",
      "metadata": {
        "id": "8PToRAwe4jwB"
      },
      "source": [
        "o método `map()` recebe um dicionário\n",
        "\n",
        "Essa é a primeira vez que aprendemos sobre dicionários do python. Basicamente, os dicionários são formas e organizarmos os dados, parecidos com as listas. A diferença é que temos pares de \"chaves\" e \"valores\".\n",
        "\n",
        "A estrutura base de um dicionário consiste em `{chave:valor}`"
      ]
    },
    {
      "cell_type": "code",
      "metadata": {
        "id": "xfZDAm4l4-1l"
      },
      "source": [
        ""
      ],
      "execution_count": null,
      "outputs": []
    },
    {
      "cell_type": "markdown",
      "metadata": {
        "id": "eMOOx2IP5XL9"
      },
      "source": [
        "Podemos nomear um dicionário, do mesmo jeito que fazemos com listas."
      ]
    },
    {
      "cell_type": "code",
      "metadata": {
        "id": "gqvrO2hv43FB"
      },
      "source": [
        ""
      ],
      "execution_count": null,
      "outputs": []
    },
    {
      "cell_type": "code",
      "metadata": {
        "id": "HLf8uCwW5usy"
      },
      "source": [
        ""
      ],
      "execution_count": null,
      "outputs": []
    },
    {
      "cell_type": "markdown",
      "metadata": {
        "id": "Kii8KvZJ5dzx"
      },
      "source": [
        "Para acessar os valores de um dicionário, usamos as chaves que ele possui, de forma muito parecida como fazemos com um `dataframe` do pandas."
      ]
    },
    {
      "cell_type": "code",
      "metadata": {
        "id": "Y9s6gZfh5nBW"
      },
      "source": [
        ""
      ],
      "execution_count": null,
      "outputs": []
    },
    {
      "cell_type": "code",
      "metadata": {
        "id": "2DY852fn5208"
      },
      "source": [
        ""
      ],
      "execution_count": null,
      "outputs": []
    },
    {
      "cell_type": "markdown",
      "metadata": {
        "id": "0DqFHyzS58Cw"
      },
      "source": [
        "### Dicionário para substituição"
      ]
    },
    {
      "cell_type": "code",
      "metadata": {
        "id": "GNN5i3TviARo"
      },
      "source": [
        "escolaridade = {0:'Analfabeto', 1:'1ª a 4ª série incompleta do EF', 2:'4ª série completa do EF',\n",
        "                3:'5ª a 8ª série incompleta do EF', 4:'Fundamental completo',\n",
        "                5:'Ensino médio incompleto', 6:'Ensino médio completo',\n",
        "                7:'Superior incompleto', 8:'Superior completo', 9:'Ignorado',\n",
        "                10:'Não se aplica'}"
      ],
      "execution_count": null,
      "outputs": []
    },
    {
      "cell_type": "markdown",
      "metadata": {
        "id": "nA0ElgQd6Vys"
      },
      "source": [
        "Executando o método map"
      ]
    },
    {
      "cell_type": "code",
      "metadata": {
        "id": "0bQrChGRhhrB"
      },
      "source": [
        ""
      ],
      "execution_count": null,
      "outputs": []
    },
    {
      "cell_type": "markdown",
      "metadata": {
        "id": "hlgxS9JD64OJ"
      },
      "source": [
        "Como faremos uma modificação no banco, podemos criar uma variável nova, garantindo que os dados anteriores não sejam modificados."
      ]
    },
    {
      "cell_type": "code",
      "metadata": {
        "id": "_xXiSs146--i"
      },
      "source": [
        ""
      ],
      "execution_count": null,
      "outputs": []
    },
    {
      "cell_type": "markdown",
      "metadata": {
        "id": "ItYLgghN6Ym3"
      },
      "source": [
        "**Importante!**\n",
        "\n",
        "O método map (por padrão), vai ignorar  valores não especificados, transformando-os em NaN (nulos). Assim, você deve tomar cuidado ao trabalhar com esse método."
      ]
    },
    {
      "cell_type": "markdown",
      "metadata": {
        "id": "6Se38Qk86pV8"
      },
      "source": [
        "Exemplo do map, sem a caraterística `Ignorado`."
      ]
    },
    {
      "cell_type": "code",
      "metadata": {
        "id": "uU4YJvwR6uEL"
      },
      "source": [
        "escolaridade_2 = {0:'Analfabeto', 1:'1ª a 4ª série incompleta do EF', 2:'4ª série completa do EF',\n",
        "                 3:'5ª a 8ª série incompleta do EF', 4:'Fundamental completo',\n",
        "                 5:'Ensino médio incompleto', 6:'Ensino médio completo',\n",
        "                 7:'Superior incompleto', 8:'Superior completo',\n",
        "                 10:'Não se aplica'}"
      ],
      "execution_count": null,
      "outputs": []
    },
    {
      "cell_type": "code",
      "metadata": {
        "id": "J7rGbLBa6yk9"
      },
      "source": [
        ""
      ],
      "execution_count": null,
      "outputs": []
    },
    {
      "cell_type": "markdown",
      "metadata": {
        "id": "M2aPchuv8DsP"
      },
      "source": [
        "## Análises"
      ]
    },
    {
      "cell_type": "markdown",
      "metadata": {
        "id": "VzVLMEdb8Hj9"
      },
      "source": [
        "### Qual era a escolaridade das pessoas com TB no Paraná em 2016?"
      ]
    },
    {
      "cell_type": "markdown",
      "metadata": {
        "id": "Ys9ODSmD8Pys"
      },
      "source": [
        "Value counts"
      ]
    },
    {
      "cell_type": "code",
      "metadata": {
        "id": "feHRpKQo8R0s"
      },
      "source": [
        ""
      ],
      "execution_count": null,
      "outputs": []
    },
    {
      "cell_type": "markdown",
      "metadata": {
        "id": "-lkV9gJC-4q0"
      },
      "source": [
        "### **Gráfico de barras**\n",
        "\n",
        "Como nesse caso temos classes, podemos plotar os dados de algumas formas."
      ]
    },
    {
      "cell_type": "markdown",
      "metadata": {
        "id": "JhSdigHU_zYL"
      },
      "source": [
        "Usando ferramentas do pandas = `value_counts().plot()`"
      ]
    },
    {
      "cell_type": "code",
      "metadata": {
        "id": "gCx8hRwu_N0b"
      },
      "source": [
        ""
      ],
      "execution_count": null,
      "outputs": []
    },
    {
      "cell_type": "markdown",
      "metadata": {
        "id": "C3SGuCTO_xW0"
      },
      "source": [
        "Usando o pacote seaborn"
      ]
    },
    {
      "cell_type": "code",
      "metadata": {
        "id": "_eCd8v-o-7B1"
      },
      "source": [
        "import seaborn as sns"
      ],
      "execution_count": null,
      "outputs": []
    },
    {
      "cell_type": "code",
      "metadata": {
        "id": "PDwONfmHAA_Q"
      },
      "source": [
        ""
      ],
      "execution_count": null,
      "outputs": []
    },
    {
      "cell_type": "markdown",
      "metadata": {
        "id": "eSJAjJmo8dzV"
      },
      "source": [
        "Neste caso, estamos trabalhando com uma variável **categórica ordinal**, ou seja, são classes que possuem alguma hierarquia. Superior completo é maior que Superior incompleto e assim sucessivamente.\n",
        "\n",
        "Assim, pode ser interessante modificarmos a ordem dessas variáveis."
      ]
    },
    {
      "cell_type": "code",
      "metadata": {
        "id": "DKyHdqlIA-VA"
      },
      "source": [
        "ordem = ['Analfabeto', 'Ignorado', 'Não se aplica',\n",
        "         '1ª a 4ª série incompleta do EF', '4ª série completa do EF', \n",
        "         '5ª a 8ª série incompleta do EF', 'Fundamental completo',\n",
        "         'Ensino médio incompleto', 'Ensino médio completo',\n",
        "         'Superior incompleto', 'Superior completo']"
      ],
      "execution_count": null,
      "outputs": []
    },
    {
      "cell_type": "code",
      "metadata": {
        "id": "Fs2y0ckDB-69"
      },
      "source": [
        "import matplotlib.pyplot as plt"
      ],
      "execution_count": null,
      "outputs": []
    },
    {
      "cell_type": "code",
      "metadata": {
        "id": "J8gffzc-8zTd"
      },
      "source": [
        "# Modificando a ordem das colunas e trocando a cor dos gráficos\n",
        "\n",
        "# Modificando a rotação das legendas\n",
        "\n",
        "# Modificando os nomes do eixos\n"
      ],
      "execution_count": null,
      "outputs": []
    },
    {
      "cell_type": "markdown",
      "metadata": {
        "id": "ohFAPuNVHlRv"
      },
      "source": [
        "# Exercícios"
      ]
    },
    {
      "cell_type": "markdown",
      "metadata": {
        "id": "F3uFSSKFHnbU"
      },
      "source": [
        "1- Faça novamente cada um dos passos que fizemos em aula;"
      ]
    },
    {
      "cell_type": "markdown",
      "metadata": {
        "id": "HR1VoD0AHyXg"
      },
      "source": [
        "## Analise a variável `FORMA`\n",
        "1. Verifique quais são as classes presentes na variável;\n",
        "2. Faça as substituições (usando `replace/map`) de acordo com o encontrado neste [link](https://github.com/souzajvp/teaching-python/blob/main/Ficha%20de%20notif.pdf);\n",
        "3. Faça um gráfico de barras para mostrar a quantidade de pacientes que tiveram cada forma;\n",
        "4. Me envie um link com a análise pronta!"
      ]
    }
  ]
}