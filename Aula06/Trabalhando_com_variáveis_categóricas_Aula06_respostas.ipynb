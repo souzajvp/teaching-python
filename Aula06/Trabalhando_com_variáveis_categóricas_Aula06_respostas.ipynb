{
  "nbformat": 4,
  "nbformat_minor": 0,
  "metadata": {
    "colab": {
      "name": "Trabalhando com variáveis categóricas-Aula06.ipynb",
      "provenance": [],
      "authorship_tag": "ABX9TyMHsO7JzJ3N6l4QWU2bd5d2",
      "include_colab_link": true
    },
    "kernelspec": {
      "name": "python3",
      "display_name": "Python 3"
    },
    "language_info": {
      "name": "python"
    }
  },
  "cells": [
    {
      "cell_type": "markdown",
      "metadata": {
        "id": "view-in-github",
        "colab_type": "text"
      },
      "source": [
        "<a href=\"https://colab.research.google.com/github/souzajvp/teaching-python/blob/main/Aula06/Trabalhando_com_vari%C3%A1veis_categ%C3%B3ricas_Aula06_respostas.ipynb\" target=\"_parent\"><img src=\"https://colab.research.google.com/assets/colab-badge.svg\" alt=\"Open In Colab\"/></a>"
      ]
    },
    {
      "cell_type": "markdown",
      "metadata": {
        "id": "9uHIgdiub5QU"
      },
      "source": [
        "# Exercícios da aula anterior"
      ]
    },
    {
      "cell_type": "markdown",
      "metadata": {
        "id": "Ro8zqmcVcyzH"
      },
      "source": [
        "Lendo o banco"
      ]
    },
    {
      "cell_type": "code",
      "metadata": {
        "id": "eS2RlDzCc0j8"
      },
      "source": [
        "import pandas as pd "
      ],
      "execution_count": 1,
      "outputs": []
    },
    {
      "cell_type": "markdown",
      "metadata": {
        "id": "ns5lHFBznKOl"
      },
      "source": [
        "#### 1 - Qual função é usada para lermos arquivos no formato \".csv\" usando o pacote pandas?\n",
        "<font color='red'>R:</font> `pd.read_csv(\"caminho.csv\")`\n"
      ]
    },
    {
      "cell_type": "code",
      "metadata": {
        "id": "aBsSnkPgc1SG"
      },
      "source": [
        "url = 'https://raw.githubusercontent.com/souzajvp/teaching-python/main/dados_tb_pr_2016_aula05.csv'\n",
        "dados = pd.read_csv(url)"
      ],
      "execution_count": 2,
      "outputs": []
    },
    {
      "cell_type": "markdown",
      "metadata": {
        "id": "g5oV4Oq5c9gI"
      },
      "source": [
        "#### 2 - Qual função é utilizada para exibir as primeiras linhas do nosso banco de dados? <font color='red'>Como faríamos para exibir as primeiras 4 linhas?</font>\n",
        "<font color='red'>R:</font> `dados.head()`. Para imprimir as primeiras 4 linhas, poderíamos usar a função `dados.head(4)`."
      ]
    },
    {
      "cell_type": "code",
      "metadata": {
        "colab": {
          "base_uri": "https://localhost:8080/",
          "height": 0
        },
        "id": "AK2TUQ6TdDsU",
        "outputId": "847ae500-dd50-4814-e0be-a3a70318b20a"
      },
      "source": [
        "dados.head()"
      ],
      "execution_count": 3,
      "outputs": [
        {
          "output_type": "execute_result",
          "data": {
            "text/html": [
              "<div>\n",
              "<style scoped>\n",
              "    .dataframe tbody tr th:only-of-type {\n",
              "        vertical-align: middle;\n",
              "    }\n",
              "\n",
              "    .dataframe tbody tr th {\n",
              "        vertical-align: top;\n",
              "    }\n",
              "\n",
              "    .dataframe thead th {\n",
              "        text-align: right;\n",
              "    }\n",
              "</style>\n",
              "<table border=\"1\" class=\"dataframe\">\n",
              "  <thead>\n",
              "    <tr style=\"text-align: right;\">\n",
              "      <th></th>\n",
              "      <th>DT_NOTIFIC</th>\n",
              "      <th>ID_MUNICIP</th>\n",
              "      <th>DT_DIAG</th>\n",
              "      <th>NU_IDADE_N</th>\n",
              "      <th>CS_SEXO</th>\n",
              "      <th>CS_RACA</th>\n",
              "      <th>CS_ESCOL_N</th>\n",
              "      <th>ID_MN_RESI</th>\n",
              "      <th>ID_OCUPA_N</th>\n",
              "      <th>TRATAMENTO</th>\n",
              "      <th>INSTITUCIO</th>\n",
              "      <th>RAIOX_TORA</th>\n",
              "      <th>TESTE_TUBE</th>\n",
              "      <th>FORMA</th>\n",
              "      <th>AGRAVAIDS</th>\n",
              "      <th>AGRAVALCOO</th>\n",
              "      <th>AGRAVDIABE</th>\n",
              "      <th>AGRAVDOENC</th>\n",
              "      <th>AGRAVOUTRA</th>\n",
              "      <th>AGRAVOUTDE</th>\n",
              "      <th>BACILOSC_E</th>\n",
              "      <th>BACILOS_E2</th>\n",
              "      <th>BACILOSC_O</th>\n",
              "      <th>CULTURA_ES</th>\n",
              "      <th>CULTURA_OU</th>\n",
              "      <th>HIV</th>\n",
              "      <th>HISTOPATOL</th>\n",
              "      <th>DT_INIC_TR</th>\n",
              "      <th>RIFAMPICIN</th>\n",
              "      <th>ISONIAZIDA</th>\n",
              "      <th>BACILOSC_1</th>\n",
              "      <th>BACILOSC_2</th>\n",
              "      <th>BACILOSC_3</th>\n",
              "      <th>BACILOSC_4</th>\n",
              "      <th>BACILOSC_5</th>\n",
              "      <th>BACILOSC_6</th>\n",
              "      <th>SITUA_9_M</th>\n",
              "      <th>SITUA_12_M</th>\n",
              "      <th>SITUA_ENCE</th>\n",
              "      <th>DT_ENCERRA</th>\n",
              "      <th>TPUNINOT</th>\n",
              "      <th>POP_LIBER</th>\n",
              "      <th>POP_RUA</th>\n",
              "      <th>POP_SAUDE</th>\n",
              "      <th>POP_IMIG</th>\n",
              "      <th>BENEF_GOV</th>\n",
              "      <th>AGRAVDROGA</th>\n",
              "      <th>AGRAVTABAC</th>\n",
              "      <th>TEST_MOLEC</th>\n",
              "      <th>TEST_SENSI</th>\n",
              "      <th>ANT_RETRO</th>\n",
              "      <th>BAC_APOS_6</th>\n",
              "    </tr>\n",
              "  </thead>\n",
              "  <tbody>\n",
              "    <tr>\n",
              "      <th>0</th>\n",
              "      <td>2017-02-10</td>\n",
              "      <td>410690</td>\n",
              "      <td>2016-10-10</td>\n",
              "      <td>4037</td>\n",
              "      <td>M</td>\n",
              "      <td>Branca</td>\n",
              "      <td>9.0</td>\n",
              "      <td>410690</td>\n",
              "      <td>NaN</td>\n",
              "      <td>3</td>\n",
              "      <td>NaN</td>\n",
              "      <td>4.0</td>\n",
              "      <td>NaN</td>\n",
              "      <td>1</td>\n",
              "      <td>9.0</td>\n",
              "      <td>1.0</td>\n",
              "      <td>2.0</td>\n",
              "      <td>2.0</td>\n",
              "      <td>9.0</td>\n",
              "      <td>NaN</td>\n",
              "      <td>1</td>\n",
              "      <td>NaN</td>\n",
              "      <td>NaN</td>\n",
              "      <td>4</td>\n",
              "      <td>NaN</td>\n",
              "      <td>2</td>\n",
              "      <td>5.0</td>\n",
              "      <td>2017-02-10</td>\n",
              "      <td>NaN</td>\n",
              "      <td>NaN</td>\n",
              "      <td>NaN</td>\n",
              "      <td>NaN</td>\n",
              "      <td>NaN</td>\n",
              "      <td>NaN</td>\n",
              "      <td>NaN</td>\n",
              "      <td>NaN</td>\n",
              "      <td>NaN</td>\n",
              "      <td>NaN</td>\n",
              "      <td>2.0</td>\n",
              "      <td>2017-03-06</td>\n",
              "      <td>2.0</td>\n",
              "      <td>2.0</td>\n",
              "      <td>1.0</td>\n",
              "      <td>2.0</td>\n",
              "      <td>2.0</td>\n",
              "      <td>9.0</td>\n",
              "      <td>9.0</td>\n",
              "      <td>9.0</td>\n",
              "      <td>5.0</td>\n",
              "      <td>NaN</td>\n",
              "      <td>NaN</td>\n",
              "      <td>NaN</td>\n",
              "    </tr>\n",
              "    <tr>\n",
              "      <th>1</th>\n",
              "      <td>2017-01-25</td>\n",
              "      <td>411370</td>\n",
              "      <td>2016-12-30</td>\n",
              "      <td>4025</td>\n",
              "      <td>F</td>\n",
              "      <td>Branca</td>\n",
              "      <td>9.0</td>\n",
              "      <td>410190</td>\n",
              "      <td>NaN</td>\n",
              "      <td>1</td>\n",
              "      <td>NaN</td>\n",
              "      <td>1.0</td>\n",
              "      <td>NaN</td>\n",
              "      <td>1</td>\n",
              "      <td>1.0</td>\n",
              "      <td>1.0</td>\n",
              "      <td>2.0</td>\n",
              "      <td>1.0</td>\n",
              "      <td>2.0</td>\n",
              "      <td>NaN</td>\n",
              "      <td>1</td>\n",
              "      <td>NaN</td>\n",
              "      <td>NaN</td>\n",
              "      <td>1</td>\n",
              "      <td>NaN</td>\n",
              "      <td>1</td>\n",
              "      <td>5.0</td>\n",
              "      <td>2017-01-25</td>\n",
              "      <td>NaN</td>\n",
              "      <td>NaN</td>\n",
              "      <td>1.0</td>\n",
              "      <td>2.0</td>\n",
              "      <td>2.0</td>\n",
              "      <td>2.0</td>\n",
              "      <td>2.0</td>\n",
              "      <td>2.0</td>\n",
              "      <td>NaN</td>\n",
              "      <td>NaN</td>\n",
              "      <td>1.0</td>\n",
              "      <td>2017-01-25</td>\n",
              "      <td>70.0</td>\n",
              "      <td>2.0</td>\n",
              "      <td>2.0</td>\n",
              "      <td>2.0</td>\n",
              "      <td>2.0</td>\n",
              "      <td>1.0</td>\n",
              "      <td>1.0</td>\n",
              "      <td>1.0</td>\n",
              "      <td>5.0</td>\n",
              "      <td>6.0</td>\n",
              "      <td>1.0</td>\n",
              "      <td>NaN</td>\n",
              "    </tr>\n",
              "    <tr>\n",
              "      <th>2</th>\n",
              "      <td>2016-03-31</td>\n",
              "      <td>410690</td>\n",
              "      <td>2016-03-31</td>\n",
              "      <td>4031</td>\n",
              "      <td>M</td>\n",
              "      <td>Branca</td>\n",
              "      <td>9.0</td>\n",
              "      <td>411840</td>\n",
              "      <td>NaN</td>\n",
              "      <td>1</td>\n",
              "      <td>NaN</td>\n",
              "      <td>2.0</td>\n",
              "      <td>NaN</td>\n",
              "      <td>2</td>\n",
              "      <td>2.0</td>\n",
              "      <td>2.0</td>\n",
              "      <td>2.0</td>\n",
              "      <td>2.0</td>\n",
              "      <td>2.0</td>\n",
              "      <td>NaN</td>\n",
              "      <td>3</td>\n",
              "      <td>NaN</td>\n",
              "      <td>NaN</td>\n",
              "      <td>4</td>\n",
              "      <td>NaN</td>\n",
              "      <td>2</td>\n",
              "      <td>2.0</td>\n",
              "      <td>2016-03-31</td>\n",
              "      <td>NaN</td>\n",
              "      <td>NaN</td>\n",
              "      <td>4.0</td>\n",
              "      <td>4.0</td>\n",
              "      <td>4.0</td>\n",
              "      <td>4.0</td>\n",
              "      <td>4.0</td>\n",
              "      <td>4.0</td>\n",
              "      <td>NaN</td>\n",
              "      <td>NaN</td>\n",
              "      <td>5.0</td>\n",
              "      <td>2016-04-01</td>\n",
              "      <td>5.0</td>\n",
              "      <td>2.0</td>\n",
              "      <td>2.0</td>\n",
              "      <td>2.0</td>\n",
              "      <td>2.0</td>\n",
              "      <td>2.0</td>\n",
              "      <td>2.0</td>\n",
              "      <td>2.0</td>\n",
              "      <td>5.0</td>\n",
              "      <td>NaN</td>\n",
              "      <td>NaN</td>\n",
              "      <td>4.0</td>\n",
              "    </tr>\n",
              "    <tr>\n",
              "      <th>3</th>\n",
              "      <td>2016-11-11</td>\n",
              "      <td>410230</td>\n",
              "      <td>2016-11-07</td>\n",
              "      <td>4040</td>\n",
              "      <td>F</td>\n",
              "      <td>Branca</td>\n",
              "      <td>6.0</td>\n",
              "      <td>410230</td>\n",
              "      <td>NaN</td>\n",
              "      <td>1</td>\n",
              "      <td>NaN</td>\n",
              "      <td>1.0</td>\n",
              "      <td>NaN</td>\n",
              "      <td>1</td>\n",
              "      <td>2.0</td>\n",
              "      <td>2.0</td>\n",
              "      <td>1.0</td>\n",
              "      <td>2.0</td>\n",
              "      <td>2.0</td>\n",
              "      <td>NaN</td>\n",
              "      <td>1</td>\n",
              "      <td>NaN</td>\n",
              "      <td>NaN</td>\n",
              "      <td>3</td>\n",
              "      <td>NaN</td>\n",
              "      <td>4</td>\n",
              "      <td>5.0</td>\n",
              "      <td>2016-11-07</td>\n",
              "      <td>NaN</td>\n",
              "      <td>NaN</td>\n",
              "      <td>1.0</td>\n",
              "      <td>1.0</td>\n",
              "      <td>2.0</td>\n",
              "      <td>2.0</td>\n",
              "      <td>2.0</td>\n",
              "      <td>2.0</td>\n",
              "      <td>NaN</td>\n",
              "      <td>NaN</td>\n",
              "      <td>5.0</td>\n",
              "      <td>2017-05-18</td>\n",
              "      <td>2.0</td>\n",
              "      <td>1.0</td>\n",
              "      <td>2.0</td>\n",
              "      <td>2.0</td>\n",
              "      <td>2.0</td>\n",
              "      <td>2.0</td>\n",
              "      <td>2.0</td>\n",
              "      <td>1.0</td>\n",
              "      <td>5.0</td>\n",
              "      <td>NaN</td>\n",
              "      <td>NaN</td>\n",
              "      <td>2.0</td>\n",
              "    </tr>\n",
              "    <tr>\n",
              "      <th>4</th>\n",
              "      <td>2016-05-20</td>\n",
              "      <td>411210</td>\n",
              "      <td>2016-05-20</td>\n",
              "      <td>4027</td>\n",
              "      <td>M</td>\n",
              "      <td>Branca</td>\n",
              "      <td>2.0</td>\n",
              "      <td>410320</td>\n",
              "      <td>NaN</td>\n",
              "      <td>1</td>\n",
              "      <td>NaN</td>\n",
              "      <td>4.0</td>\n",
              "      <td>NaN</td>\n",
              "      <td>1</td>\n",
              "      <td>2.0</td>\n",
              "      <td>2.0</td>\n",
              "      <td>2.0</td>\n",
              "      <td>2.0</td>\n",
              "      <td>2.0</td>\n",
              "      <td>NaN</td>\n",
              "      <td>1</td>\n",
              "      <td>NaN</td>\n",
              "      <td>NaN</td>\n",
              "      <td>1</td>\n",
              "      <td>NaN</td>\n",
              "      <td>2</td>\n",
              "      <td>5.0</td>\n",
              "      <td>2016-05-20</td>\n",
              "      <td>NaN</td>\n",
              "      <td>NaN</td>\n",
              "      <td>1.0</td>\n",
              "      <td>2.0</td>\n",
              "      <td>2.0</td>\n",
              "      <td>2.0</td>\n",
              "      <td>2.0</td>\n",
              "      <td>2.0</td>\n",
              "      <td>NaN</td>\n",
              "      <td>NaN</td>\n",
              "      <td>5.0</td>\n",
              "      <td>2016-06-09</td>\n",
              "      <td>2.0</td>\n",
              "      <td>2.0</td>\n",
              "      <td>2.0</td>\n",
              "      <td>2.0</td>\n",
              "      <td>2.0</td>\n",
              "      <td>2.0</td>\n",
              "      <td>2.0</td>\n",
              "      <td>2.0</td>\n",
              "      <td>5.0</td>\n",
              "      <td>5.0</td>\n",
              "      <td>2.0</td>\n",
              "      <td>NaN</td>\n",
              "    </tr>\n",
              "  </tbody>\n",
              "</table>\n",
              "</div>"
            ],
            "text/plain": [
              "   DT_NOTIFIC  ID_MUNICIP     DT_DIAG  ...  TEST_SENSI ANT_RETRO BAC_APOS_6\n",
              "0  2017-02-10      410690  2016-10-10  ...         NaN       NaN        NaN\n",
              "1  2017-01-25      411370  2016-12-30  ...         6.0       1.0        NaN\n",
              "2  2016-03-31      410690  2016-03-31  ...         NaN       NaN        4.0\n",
              "3  2016-11-11      410230  2016-11-07  ...         NaN       NaN        2.0\n",
              "4  2016-05-20      411210  2016-05-20  ...         5.0       2.0        NaN\n",
              "\n",
              "[5 rows x 52 columns]"
            ]
          },
          "metadata": {
            "tags": []
          },
          "execution_count": 3
        }
      ]
    },
    {
      "cell_type": "code",
      "metadata": {
        "colab": {
          "base_uri": "https://localhost:8080/",
          "height": 0
        },
        "id": "4s3xAg0XdE4L",
        "outputId": "c3fbc6e9-f3b5-4dff-a5ae-4c845e2ffdc1"
      },
      "source": [
        "dados.head(4)"
      ],
      "execution_count": 4,
      "outputs": [
        {
          "output_type": "execute_result",
          "data": {
            "text/html": [
              "<div>\n",
              "<style scoped>\n",
              "    .dataframe tbody tr th:only-of-type {\n",
              "        vertical-align: middle;\n",
              "    }\n",
              "\n",
              "    .dataframe tbody tr th {\n",
              "        vertical-align: top;\n",
              "    }\n",
              "\n",
              "    .dataframe thead th {\n",
              "        text-align: right;\n",
              "    }\n",
              "</style>\n",
              "<table border=\"1\" class=\"dataframe\">\n",
              "  <thead>\n",
              "    <tr style=\"text-align: right;\">\n",
              "      <th></th>\n",
              "      <th>DT_NOTIFIC</th>\n",
              "      <th>ID_MUNICIP</th>\n",
              "      <th>DT_DIAG</th>\n",
              "      <th>NU_IDADE_N</th>\n",
              "      <th>CS_SEXO</th>\n",
              "      <th>CS_RACA</th>\n",
              "      <th>CS_ESCOL_N</th>\n",
              "      <th>ID_MN_RESI</th>\n",
              "      <th>ID_OCUPA_N</th>\n",
              "      <th>TRATAMENTO</th>\n",
              "      <th>INSTITUCIO</th>\n",
              "      <th>RAIOX_TORA</th>\n",
              "      <th>TESTE_TUBE</th>\n",
              "      <th>FORMA</th>\n",
              "      <th>AGRAVAIDS</th>\n",
              "      <th>AGRAVALCOO</th>\n",
              "      <th>AGRAVDIABE</th>\n",
              "      <th>AGRAVDOENC</th>\n",
              "      <th>AGRAVOUTRA</th>\n",
              "      <th>AGRAVOUTDE</th>\n",
              "      <th>BACILOSC_E</th>\n",
              "      <th>BACILOS_E2</th>\n",
              "      <th>BACILOSC_O</th>\n",
              "      <th>CULTURA_ES</th>\n",
              "      <th>CULTURA_OU</th>\n",
              "      <th>HIV</th>\n",
              "      <th>HISTOPATOL</th>\n",
              "      <th>DT_INIC_TR</th>\n",
              "      <th>RIFAMPICIN</th>\n",
              "      <th>ISONIAZIDA</th>\n",
              "      <th>BACILOSC_1</th>\n",
              "      <th>BACILOSC_2</th>\n",
              "      <th>BACILOSC_3</th>\n",
              "      <th>BACILOSC_4</th>\n",
              "      <th>BACILOSC_5</th>\n",
              "      <th>BACILOSC_6</th>\n",
              "      <th>SITUA_9_M</th>\n",
              "      <th>SITUA_12_M</th>\n",
              "      <th>SITUA_ENCE</th>\n",
              "      <th>DT_ENCERRA</th>\n",
              "      <th>TPUNINOT</th>\n",
              "      <th>POP_LIBER</th>\n",
              "      <th>POP_RUA</th>\n",
              "      <th>POP_SAUDE</th>\n",
              "      <th>POP_IMIG</th>\n",
              "      <th>BENEF_GOV</th>\n",
              "      <th>AGRAVDROGA</th>\n",
              "      <th>AGRAVTABAC</th>\n",
              "      <th>TEST_MOLEC</th>\n",
              "      <th>TEST_SENSI</th>\n",
              "      <th>ANT_RETRO</th>\n",
              "      <th>BAC_APOS_6</th>\n",
              "    </tr>\n",
              "  </thead>\n",
              "  <tbody>\n",
              "    <tr>\n",
              "      <th>0</th>\n",
              "      <td>2017-02-10</td>\n",
              "      <td>410690</td>\n",
              "      <td>2016-10-10</td>\n",
              "      <td>4037</td>\n",
              "      <td>M</td>\n",
              "      <td>Branca</td>\n",
              "      <td>9.0</td>\n",
              "      <td>410690</td>\n",
              "      <td>NaN</td>\n",
              "      <td>3</td>\n",
              "      <td>NaN</td>\n",
              "      <td>4.0</td>\n",
              "      <td>NaN</td>\n",
              "      <td>1</td>\n",
              "      <td>9.0</td>\n",
              "      <td>1.0</td>\n",
              "      <td>2.0</td>\n",
              "      <td>2.0</td>\n",
              "      <td>9.0</td>\n",
              "      <td>NaN</td>\n",
              "      <td>1</td>\n",
              "      <td>NaN</td>\n",
              "      <td>NaN</td>\n",
              "      <td>4</td>\n",
              "      <td>NaN</td>\n",
              "      <td>2</td>\n",
              "      <td>5.0</td>\n",
              "      <td>2017-02-10</td>\n",
              "      <td>NaN</td>\n",
              "      <td>NaN</td>\n",
              "      <td>NaN</td>\n",
              "      <td>NaN</td>\n",
              "      <td>NaN</td>\n",
              "      <td>NaN</td>\n",
              "      <td>NaN</td>\n",
              "      <td>NaN</td>\n",
              "      <td>NaN</td>\n",
              "      <td>NaN</td>\n",
              "      <td>2.0</td>\n",
              "      <td>2017-03-06</td>\n",
              "      <td>2.0</td>\n",
              "      <td>2.0</td>\n",
              "      <td>1.0</td>\n",
              "      <td>2.0</td>\n",
              "      <td>2.0</td>\n",
              "      <td>9.0</td>\n",
              "      <td>9.0</td>\n",
              "      <td>9.0</td>\n",
              "      <td>5.0</td>\n",
              "      <td>NaN</td>\n",
              "      <td>NaN</td>\n",
              "      <td>NaN</td>\n",
              "    </tr>\n",
              "    <tr>\n",
              "      <th>1</th>\n",
              "      <td>2017-01-25</td>\n",
              "      <td>411370</td>\n",
              "      <td>2016-12-30</td>\n",
              "      <td>4025</td>\n",
              "      <td>F</td>\n",
              "      <td>Branca</td>\n",
              "      <td>9.0</td>\n",
              "      <td>410190</td>\n",
              "      <td>NaN</td>\n",
              "      <td>1</td>\n",
              "      <td>NaN</td>\n",
              "      <td>1.0</td>\n",
              "      <td>NaN</td>\n",
              "      <td>1</td>\n",
              "      <td>1.0</td>\n",
              "      <td>1.0</td>\n",
              "      <td>2.0</td>\n",
              "      <td>1.0</td>\n",
              "      <td>2.0</td>\n",
              "      <td>NaN</td>\n",
              "      <td>1</td>\n",
              "      <td>NaN</td>\n",
              "      <td>NaN</td>\n",
              "      <td>1</td>\n",
              "      <td>NaN</td>\n",
              "      <td>1</td>\n",
              "      <td>5.0</td>\n",
              "      <td>2017-01-25</td>\n",
              "      <td>NaN</td>\n",
              "      <td>NaN</td>\n",
              "      <td>1.0</td>\n",
              "      <td>2.0</td>\n",
              "      <td>2.0</td>\n",
              "      <td>2.0</td>\n",
              "      <td>2.0</td>\n",
              "      <td>2.0</td>\n",
              "      <td>NaN</td>\n",
              "      <td>NaN</td>\n",
              "      <td>1.0</td>\n",
              "      <td>2017-01-25</td>\n",
              "      <td>70.0</td>\n",
              "      <td>2.0</td>\n",
              "      <td>2.0</td>\n",
              "      <td>2.0</td>\n",
              "      <td>2.0</td>\n",
              "      <td>1.0</td>\n",
              "      <td>1.0</td>\n",
              "      <td>1.0</td>\n",
              "      <td>5.0</td>\n",
              "      <td>6.0</td>\n",
              "      <td>1.0</td>\n",
              "      <td>NaN</td>\n",
              "    </tr>\n",
              "    <tr>\n",
              "      <th>2</th>\n",
              "      <td>2016-03-31</td>\n",
              "      <td>410690</td>\n",
              "      <td>2016-03-31</td>\n",
              "      <td>4031</td>\n",
              "      <td>M</td>\n",
              "      <td>Branca</td>\n",
              "      <td>9.0</td>\n",
              "      <td>411840</td>\n",
              "      <td>NaN</td>\n",
              "      <td>1</td>\n",
              "      <td>NaN</td>\n",
              "      <td>2.0</td>\n",
              "      <td>NaN</td>\n",
              "      <td>2</td>\n",
              "      <td>2.0</td>\n",
              "      <td>2.0</td>\n",
              "      <td>2.0</td>\n",
              "      <td>2.0</td>\n",
              "      <td>2.0</td>\n",
              "      <td>NaN</td>\n",
              "      <td>3</td>\n",
              "      <td>NaN</td>\n",
              "      <td>NaN</td>\n",
              "      <td>4</td>\n",
              "      <td>NaN</td>\n",
              "      <td>2</td>\n",
              "      <td>2.0</td>\n",
              "      <td>2016-03-31</td>\n",
              "      <td>NaN</td>\n",
              "      <td>NaN</td>\n",
              "      <td>4.0</td>\n",
              "      <td>4.0</td>\n",
              "      <td>4.0</td>\n",
              "      <td>4.0</td>\n",
              "      <td>4.0</td>\n",
              "      <td>4.0</td>\n",
              "      <td>NaN</td>\n",
              "      <td>NaN</td>\n",
              "      <td>5.0</td>\n",
              "      <td>2016-04-01</td>\n",
              "      <td>5.0</td>\n",
              "      <td>2.0</td>\n",
              "      <td>2.0</td>\n",
              "      <td>2.0</td>\n",
              "      <td>2.0</td>\n",
              "      <td>2.0</td>\n",
              "      <td>2.0</td>\n",
              "      <td>2.0</td>\n",
              "      <td>5.0</td>\n",
              "      <td>NaN</td>\n",
              "      <td>NaN</td>\n",
              "      <td>4.0</td>\n",
              "    </tr>\n",
              "    <tr>\n",
              "      <th>3</th>\n",
              "      <td>2016-11-11</td>\n",
              "      <td>410230</td>\n",
              "      <td>2016-11-07</td>\n",
              "      <td>4040</td>\n",
              "      <td>F</td>\n",
              "      <td>Branca</td>\n",
              "      <td>6.0</td>\n",
              "      <td>410230</td>\n",
              "      <td>NaN</td>\n",
              "      <td>1</td>\n",
              "      <td>NaN</td>\n",
              "      <td>1.0</td>\n",
              "      <td>NaN</td>\n",
              "      <td>1</td>\n",
              "      <td>2.0</td>\n",
              "      <td>2.0</td>\n",
              "      <td>1.0</td>\n",
              "      <td>2.0</td>\n",
              "      <td>2.0</td>\n",
              "      <td>NaN</td>\n",
              "      <td>1</td>\n",
              "      <td>NaN</td>\n",
              "      <td>NaN</td>\n",
              "      <td>3</td>\n",
              "      <td>NaN</td>\n",
              "      <td>4</td>\n",
              "      <td>5.0</td>\n",
              "      <td>2016-11-07</td>\n",
              "      <td>NaN</td>\n",
              "      <td>NaN</td>\n",
              "      <td>1.0</td>\n",
              "      <td>1.0</td>\n",
              "      <td>2.0</td>\n",
              "      <td>2.0</td>\n",
              "      <td>2.0</td>\n",
              "      <td>2.0</td>\n",
              "      <td>NaN</td>\n",
              "      <td>NaN</td>\n",
              "      <td>5.0</td>\n",
              "      <td>2017-05-18</td>\n",
              "      <td>2.0</td>\n",
              "      <td>1.0</td>\n",
              "      <td>2.0</td>\n",
              "      <td>2.0</td>\n",
              "      <td>2.0</td>\n",
              "      <td>2.0</td>\n",
              "      <td>2.0</td>\n",
              "      <td>1.0</td>\n",
              "      <td>5.0</td>\n",
              "      <td>NaN</td>\n",
              "      <td>NaN</td>\n",
              "      <td>2.0</td>\n",
              "    </tr>\n",
              "  </tbody>\n",
              "</table>\n",
              "</div>"
            ],
            "text/plain": [
              "   DT_NOTIFIC  ID_MUNICIP     DT_DIAG  ...  TEST_SENSI ANT_RETRO BAC_APOS_6\n",
              "0  2017-02-10      410690  2016-10-10  ...         NaN       NaN        NaN\n",
              "1  2017-01-25      411370  2016-12-30  ...         6.0       1.0        NaN\n",
              "2  2016-03-31      410690  2016-03-31  ...         NaN       NaN        4.0\n",
              "3  2016-11-11      410230  2016-11-07  ...         NaN       NaN        2.0\n",
              "\n",
              "[4 rows x 52 columns]"
            ]
          },
          "metadata": {
            "tags": []
          },
          "execution_count": 4
        }
      ]
    },
    {
      "cell_type": "markdown",
      "metadata": {
        "id": "HsptvK0LdCwE"
      },
      "source": [
        "#### 3 - Como faríamos para verificar quantas pessoas de cada sexo (variável \"CS_SEXO\") tiveram TB no paraná?\n",
        "<font color='red'>R:</font> Poderíamos usar a método `value_counts()`, da seguinte forma --> `dados['CS_SEXO'].value_counts()`."
      ]
    },
    {
      "cell_type": "code",
      "metadata": {
        "colab": {
          "base_uri": "https://localhost:8080/"
        },
        "id": "9sBXrLgtc85R",
        "outputId": "e46a8162-7eb5-486f-dba4-c59c7d2ecbe7"
      },
      "source": [
        "dados['CS_SEXO'].value_counts()"
      ],
      "execution_count": 5,
      "outputs": [
        {
          "output_type": "execute_result",
          "data": {
            "text/plain": [
              "M    1771\n",
              "F     766\n",
              "Name: CS_SEXO, dtype: int64"
            ]
          },
          "metadata": {
            "tags": []
          },
          "execution_count": 5
        }
      ]
    },
    {
      "cell_type": "markdown",
      "metadata": {
        "id": "KHROskah3KO5"
      },
      "source": [
        "#### 4 - Substitua os valores \"M\" e \"F\" por \"Masculino\" e \"Feminino\" no banco de dados usando o método `.replace()`"
      ]
    },
    {
      "cell_type": "code",
      "metadata": {
        "id": "b6_PAXo83VLW",
        "colab": {
          "base_uri": "https://localhost:8080/"
        },
        "outputId": "879055d8-d9d7-4ce2-c3c3-31074232ca6c"
      },
      "source": [
        "dados['CS_SEXO'].replace(['M', 'F'], ['Masculino', 'Feminino'])"
      ],
      "execution_count": 6,
      "outputs": [
        {
          "output_type": "execute_result",
          "data": {
            "text/plain": [
              "0       Masculino\n",
              "1        Feminino\n",
              "2       Masculino\n",
              "3        Feminino\n",
              "4       Masculino\n",
              "          ...    \n",
              "2532    Masculino\n",
              "2533     Feminino\n",
              "2534    Masculino\n",
              "2535     Feminino\n",
              "2536     Feminino\n",
              "Name: CS_SEXO, Length: 2537, dtype: object"
            ]
          },
          "metadata": {
            "tags": []
          },
          "execution_count": 6
        }
      ]
    },
    {
      "cell_type": "code",
      "metadata": {
        "id": "P8QgWLGdeTKx"
      },
      "source": [
        "dados['CS_SEXO'] = dados['CS_SEXO'].replace(['M', 'F'], ['Masculino', 'Feminino'])"
      ],
      "execution_count": 7,
      "outputs": []
    },
    {
      "cell_type": "markdown",
      "metadata": {
        "id": "OM-23yhB3T1m"
      },
      "source": [
        "#### 5 - Por fim, salve o banco de dados com o nome \"arquivo_seu_nome.csv\" e envie pra mim por e-mail."
      ]
    },
    {
      "cell_type": "markdown",
      "metadata": {
        "id": "__i6xW7ZTtIg"
      },
      "source": [
        "# Importando módulos e o banco de dados"
      ]
    },
    {
      "cell_type": "code",
      "metadata": {
        "id": "Zb8kAYgPhLqx"
      },
      "source": [
        "import pandas as pd"
      ],
      "execution_count": 8,
      "outputs": []
    },
    {
      "cell_type": "code",
      "metadata": {
        "id": "TeVJIynobbXg"
      },
      "source": [
        "url = 'https://raw.githubusercontent.com/souzajvp/teaching-python/main/dados_tb_pr_2016_aula05.csv'"
      ],
      "execution_count": 9,
      "outputs": []
    },
    {
      "cell_type": "markdown",
      "metadata": {
        "id": "ViCvQCfAhbwh"
      },
      "source": [
        "Como eu já carreguei o banco ali em cima, não é necessário fazermos isso novamente"
      ]
    },
    {
      "cell_type": "code",
      "metadata": {
        "id": "f6IMnEzIhJpQ"
      },
      "source": [
        "# dados = pd.read_csv(url)\n",
        "# dados['CS_SEXO'] = dados['CS_SEXO'].replace(['M', 'F'],['Masculino', 'Feminino'])"
      ],
      "execution_count": 10,
      "outputs": []
    },
    {
      "cell_type": "markdown",
      "metadata": {
        "id": "jaLnoTwCh_DD"
      },
      "source": [
        "## Escolaridade\n",
        "Para preparar os dados, além do método replace, podemos usar também o método `map()`"
      ]
    },
    {
      "cell_type": "markdown",
      "metadata": {
        "id": "8PToRAwe4jwB"
      },
      "source": [
        "o método `map()` recebe um dicionário\n",
        "\n",
        "Essa é a primeira vez que aprendemos sobre dicionários do python. Basicamente, os dicionários são formas e organizarmos os dados, parecidos com as listas. A diferença é que temos pares de \"chaves\" e \"valores\".\n",
        "\n",
        "A estrutura base de um dicionário consiste em `{chave:valor}`"
      ]
    },
    {
      "cell_type": "code",
      "metadata": {
        "colab": {
          "base_uri": "https://localhost:8080/"
        },
        "id": "xfZDAm4l4-1l",
        "outputId": "5396442d-fb3c-4a64-d2f6-4fa1553fe1dc"
      },
      "source": [
        "{'nome':'João', 'sobrenome':'Souza'}"
      ],
      "execution_count": 11,
      "outputs": [
        {
          "output_type": "execute_result",
          "data": {
            "text/plain": [
              "{'nome': 'João', 'sobrenome': 'Souza'}"
            ]
          },
          "metadata": {
            "tags": []
          },
          "execution_count": 11
        }
      ]
    },
    {
      "cell_type": "markdown",
      "metadata": {
        "id": "eMOOx2IP5XL9"
      },
      "source": [
        "Podemos nomear um dicionário, do mesmo jeito que fazemos com listas."
      ]
    },
    {
      "cell_type": "code",
      "metadata": {
        "id": "gqvrO2hv43FB"
      },
      "source": [
        "dicionario = {'nome':'João', 'sobrenome':'Souza'}"
      ],
      "execution_count": 12,
      "outputs": []
    },
    {
      "cell_type": "code",
      "metadata": {
        "colab": {
          "base_uri": "https://localhost:8080/"
        },
        "id": "HLf8uCwW5usy",
        "outputId": "357b31ca-3c07-43a9-8323-fea09dcd3ee6"
      },
      "source": [
        "dicionario"
      ],
      "execution_count": 13,
      "outputs": [
        {
          "output_type": "execute_result",
          "data": {
            "text/plain": [
              "{'nome': 'João', 'sobrenome': 'Souza'}"
            ]
          },
          "metadata": {
            "tags": []
          },
          "execution_count": 13
        }
      ]
    },
    {
      "cell_type": "markdown",
      "metadata": {
        "id": "Kii8KvZJ5dzx"
      },
      "source": [
        "Para acessar os valores de um dicionário, usamos as chaves que ele possui, de forma muito parecida como fazemos com um `dataframe` do pandas."
      ]
    },
    {
      "cell_type": "code",
      "metadata": {
        "colab": {
          "base_uri": "https://localhost:8080/",
          "height": 35
        },
        "id": "Y9s6gZfh5nBW",
        "outputId": "ca380ea4-3016-4b6f-95ea-8d82cbd41d7d"
      },
      "source": [
        "dicionario['nome']"
      ],
      "execution_count": 14,
      "outputs": [
        {
          "output_type": "execute_result",
          "data": {
            "application/vnd.google.colaboratory.intrinsic+json": {
              "type": "string"
            },
            "text/plain": [
              "'João'"
            ]
          },
          "metadata": {
            "tags": []
          },
          "execution_count": 14
        }
      ]
    },
    {
      "cell_type": "code",
      "metadata": {
        "colab": {
          "base_uri": "https://localhost:8080/",
          "height": 35
        },
        "id": "2DY852fn5208",
        "outputId": "bcc88bf6-24b0-4117-a321-83affc67b2ff"
      },
      "source": [
        "dicionario['nome'] + ' ' + dicionario['sobrenome']"
      ],
      "execution_count": 15,
      "outputs": [
        {
          "output_type": "execute_result",
          "data": {
            "application/vnd.google.colaboratory.intrinsic+json": {
              "type": "string"
            },
            "text/plain": [
              "'João Souza'"
            ]
          },
          "metadata": {
            "tags": []
          },
          "execution_count": 15
        }
      ]
    },
    {
      "cell_type": "markdown",
      "metadata": {
        "id": "0DqFHyzS58Cw"
      },
      "source": [
        "### Dicionário para substituição"
      ]
    },
    {
      "cell_type": "code",
      "metadata": {
        "id": "GNN5i3TviARo"
      },
      "source": [
        "escolaridade = {0:'Analfabeto', 1:'1ª a 4ª série incompleta do EF', 2:'4ª série completa do EF',\n",
        "                3:'5ª a 8ª série incompleta do EF', 4:'Fundamental completo',\n",
        "                5:'Ensino médio incompleto', 6:'Ensino médio completo',\n",
        "                7:'Superior incompleto', 8:'Superior completo', 9:'Ignorado',\n",
        "                10:'Não se aplica'}"
      ],
      "execution_count": 16,
      "outputs": []
    },
    {
      "cell_type": "markdown",
      "metadata": {
        "id": "nA0ElgQd6Vys"
      },
      "source": [
        "Executando o método map"
      ]
    },
    {
      "cell_type": "code",
      "metadata": {
        "colab": {
          "base_uri": "https://localhost:8080/"
        },
        "id": "0bQrChGRhhrB",
        "outputId": "0ccab7fa-f740-4024-e785-429a086a59a4"
      },
      "source": [
        "dados['CS_ESCOL_N'].map(escolaridade)"
      ],
      "execution_count": 17,
      "outputs": [
        {
          "output_type": "execute_result",
          "data": {
            "text/plain": [
              "0                             Ignorado\n",
              "1                             Ignorado\n",
              "2                             Ignorado\n",
              "3                Ensino médio completo\n",
              "4              4ª série completa do EF\n",
              "                     ...              \n",
              "2532              Fundamental completo\n",
              "2533                          Ignorado\n",
              "2534              Fundamental completo\n",
              "2535    1ª a 4ª série incompleta do EF\n",
              "2536                 Superior completo\n",
              "Name: CS_ESCOL_N, Length: 2537, dtype: object"
            ]
          },
          "metadata": {
            "tags": []
          },
          "execution_count": 17
        }
      ]
    },
    {
      "cell_type": "markdown",
      "metadata": {
        "id": "hlgxS9JD64OJ"
      },
      "source": [
        "Como faremos uma modificação no banco, podemos criar uma variável nova, garantindo que os dados anteriores não sejam modificados."
      ]
    },
    {
      "cell_type": "code",
      "metadata": {
        "id": "_xXiSs146--i"
      },
      "source": [
        "dados['CS_ESCOL_N_NOVO'] = dados['CS_ESCOL_N'].map(escolaridade)"
      ],
      "execution_count": 18,
      "outputs": []
    },
    {
      "cell_type": "markdown",
      "metadata": {
        "id": "ItYLgghN6Ym3"
      },
      "source": [
        "**Importante!**\n",
        "\n",
        "O método map (por padrão), vai ignorar  valores não especificados, transformando-os em NaN (nulos). Assim, você deve tomar cuidado ao trabalhar com esse método."
      ]
    },
    {
      "cell_type": "markdown",
      "metadata": {
        "id": "6Se38Qk86pV8"
      },
      "source": [
        "Exemplo do map, sem a caraterística `Ignorado`."
      ]
    },
    {
      "cell_type": "code",
      "metadata": {
        "id": "uU4YJvwR6uEL"
      },
      "source": [
        "escolaridade_2 = {0:'Analfabeto', 1:'1ª a 4ª série incompleta do EF', 2:'4ª série completa do EF',\n",
        "                 3:'5ª a 8ª série incompleta do EF', 4:'Fundamental completo',\n",
        "                 5:'Ensino médio incompleto', 6:'Ensino médio completo',\n",
        "                 7:'Superior incompleto', 8:'Superior completo',\n",
        "                 10:'Não se aplica'}"
      ],
      "execution_count": 19,
      "outputs": []
    },
    {
      "cell_type": "code",
      "metadata": {
        "colab": {
          "base_uri": "https://localhost:8080/"
        },
        "id": "J7rGbLBa6yk9",
        "outputId": "e4aea197-c2e8-4767-eeac-309348c60d43"
      },
      "source": [
        "dados['CS_ESCOL_N'].map(escolaridade_2)"
      ],
      "execution_count": 20,
      "outputs": [
        {
          "output_type": "execute_result",
          "data": {
            "text/plain": [
              "0                                  NaN\n",
              "1                                  NaN\n",
              "2                                  NaN\n",
              "3                Ensino médio completo\n",
              "4              4ª série completa do EF\n",
              "                     ...              \n",
              "2532              Fundamental completo\n",
              "2533                               NaN\n",
              "2534              Fundamental completo\n",
              "2535    1ª a 4ª série incompleta do EF\n",
              "2536                 Superior completo\n",
              "Name: CS_ESCOL_N, Length: 2537, dtype: object"
            ]
          },
          "metadata": {
            "tags": []
          },
          "execution_count": 20
        }
      ]
    },
    {
      "cell_type": "markdown",
      "metadata": {
        "id": "M2aPchuv8DsP"
      },
      "source": [
        "## Análises"
      ]
    },
    {
      "cell_type": "markdown",
      "metadata": {
        "id": "VzVLMEdb8Hj9"
      },
      "source": [
        "### Qual era a escolaridade das pessoas com TB no Paraná em 2016?"
      ]
    },
    {
      "cell_type": "markdown",
      "metadata": {
        "id": "Ys9ODSmD8Pys"
      },
      "source": [
        "Value counts"
      ]
    },
    {
      "cell_type": "code",
      "metadata": {
        "colab": {
          "base_uri": "https://localhost:8080/"
        },
        "id": "feHRpKQo8R0s",
        "outputId": "0fafaf86-1ffc-4efd-8a5a-4436094745e0"
      },
      "source": [
        "dados['CS_ESCOL_N_NOVO'].value_counts()"
      ],
      "execution_count": 21,
      "outputs": [
        {
          "output_type": "execute_result",
          "data": {
            "text/plain": [
              "5ª a 8ª série incompleta do EF    576\n",
              "1ª a 4ª série incompleta do EF    361\n",
              "Ignorado                          325\n",
              "Ensino médio completo             305\n",
              "4ª série completa do EF           230\n",
              "Fundamental completo              219\n",
              "Ensino médio incompleto           211\n",
              "Superior completo                  84\n",
              "Analfabeto                         81\n",
              "Superior incompleto                56\n",
              "Não se aplica                      33\n",
              "Name: CS_ESCOL_N_NOVO, dtype: int64"
            ]
          },
          "metadata": {
            "tags": []
          },
          "execution_count": 21
        }
      ]
    },
    {
      "cell_type": "markdown",
      "metadata": {
        "id": "-lkV9gJC-4q0"
      },
      "source": [
        "### **Gráfico de barras**\n",
        "\n",
        "Como nesse caso temos classes, podemos plotar os dados de algumas formas."
      ]
    },
    {
      "cell_type": "markdown",
      "metadata": {
        "id": "JhSdigHU_zYL"
      },
      "source": [
        "Usando ferramentas do pandas = `value_counts().plot()`"
      ]
    },
    {
      "cell_type": "code",
      "metadata": {
        "colab": {
          "base_uri": "https://localhost:8080/",
          "height": 426
        },
        "id": "gCx8hRwu_N0b",
        "outputId": "8abb9114-523d-401f-f519-8374724e0293"
      },
      "source": [
        "dados['CS_ESCOL_N_NOVO'].value_counts().plot(kind='bar')"
      ],
      "execution_count": 22,
      "outputs": [
        {
          "output_type": "execute_result",
          "data": {
            "text/plain": [
              "<matplotlib.axes._subplots.AxesSubplot at 0x7fb9a6d01410>"
            ]
          },
          "metadata": {
            "tags": []
          },
          "execution_count": 22
        },
        {
          "output_type": "display_data",
          "data": {
            "image/png": "[encoded data removed]",
            "text/plain": [
              "<Figure size 432x288 with 1 Axes>"
            ]
          },
          "metadata": {
            "tags": [],
            "needs_background": "light"
          }
        }
      ]
    },
    {
      "cell_type": "markdown",
      "metadata": {
        "id": "C3SGuCTO_xW0"
      },
      "source": [
        "Usando o pacote seaborn"
      ]
    },
    {
      "cell_type": "code",
      "metadata": {
        "id": "_eCd8v-o-7B1"
      },
      "source": [
        "import seaborn as sns"
      ],
      "execution_count": 23,
      "outputs": []
    },
    {
      "cell_type": "code",
      "metadata": {
        "colab": {
          "base_uri": "https://localhost:8080/",
          "height": 355
        },
        "id": "PDwONfmHAA_Q",
        "outputId": "25c7b96f-fc02-46eb-85aa-0e5d7e0fe249"
      },
      "source": [
        "sns.countplot(dados['CS_ESCOL_N_NOVO'])"
      ],
      "execution_count": 24,
      "outputs": [
        {
          "output_type": "stream",
          "text": [
            "/usr/local/lib/python3.7/dist-packages/seaborn/_decorators.py:43: FutureWarning: Pass the following variable as a keyword arg: x. From version 0.12, the only valid positional argument will be `data`, and passing other arguments without an explicit keyword will result in an error or misinterpretation.\n",
            "  FutureWarning\n"
          ],
          "name": "stderr"
        },
        {
          "output_type": "execute_result",
          "data": {
            "text/plain": [
              "<matplotlib.axes._subplots.AxesSubplot at 0x7fb9a0bba510>"
            ]
          },
          "metadata": {
            "tags": []
          },
          "execution_count": 24
        },
        {
          "output_type": "display_data",
          "data": {
            "image/png": "[encoded data removed]",
            "text/plain": [
              "<Figure size 432x288 with 1 Axes>"
            ]
          },
          "metadata": {
            "tags": [],
            "needs_background": "light"
          }
        }
      ]
    },
    {
      "cell_type": "markdown",
      "metadata": {
        "id": "eSJAjJmo8dzV"
      },
      "source": [
        "Neste caso, estamos trabalhando com uma variável **categórica ordinal**, ou seja, são classes que possuem alguma hierarquia. Superior completo é maior que Superior incompleto e assim sucessivamente.\n",
        "\n",
        "Assim, pode ser interessante modificarmos a ordem dessas variáveis."
      ]
    },
    {
      "cell_type": "code",
      "metadata": {
        "id": "DKyHdqlIA-VA"
      },
      "source": [
        "ordem = ['Analfabeto', 'Ignorado', 'Não se aplica',\n",
        "         '1ª a 4ª série incompleta do EF', '4ª série completa do EF', \n",
        "         '5ª a 8ª série incompleta do EF', 'Fundamental completo',\n",
        "         'Ensino médio incompleto', 'Ensino médio completo',\n",
        "         'Superior incompleto', 'Superior completo']"
      ],
      "execution_count": 25,
      "outputs": []
    },
    {
      "cell_type": "code",
      "metadata": {
        "id": "Fs2y0ckDB-69"
      },
      "source": [
        "import matplotlib.pyplot as plt"
      ],
      "execution_count": 26,
      "outputs": []
    },
    {
      "cell_type": "code",
      "metadata": {
        "colab": {
          "base_uri": "https://localhost:8080/",
          "height": 409
        },
        "id": "J8gffzc-8zTd",
        "outputId": "4406b2bd-6625-4415-dd81-74bcb4468c5a"
      },
      "source": [
        "# Modificando a ordem das colunas e trocando a cor dos gráficos\n",
        "sns.countplot(x=dados['CS_ESCOL_N_NOVO'], order=ordem,\n",
        "              palette='Blues')\n",
        "# Modificando a rotação das legendas\n",
        "plt.xticks(rotation=90)\n",
        "# Modificando os nomes do eixos\n",
        "plt.ylabel('Nº de indivíduos')\n",
        "plt.xlabel('');"
      ],
      "execution_count": 27,
      "outputs": [
        {
          "output_type": "display_data",
          "data": {
            "image/png": "[encoded data removed]",
            "text/plain": [
              "<Figure size 432x288 with 1 Axes>"
            ]
          },
          "metadata": {
            "tags": [],
            "needs_background": "light"
          }
        }
      ]
    },
    {
      "cell_type": "markdown",
      "metadata": {
        "id": "ohFAPuNVHlRv"
      },
      "source": [
        "# Exercícios"
      ]
    },
    {
      "cell_type": "markdown",
      "metadata": {
        "id": "F3uFSSKFHnbU"
      },
      "source": [
        "1- Faça novamente cada um dos passos que fizemos em aula;"
      ]
    },
    {
      "cell_type": "markdown",
      "metadata": {
        "id": "HR1VoD0AHyXg"
      },
      "source": [
        "## Analise a variável `FORMA`\n",
        "1. Verifique quais são as classes presentes na variável;\n",
        "2. Faça as substituições (usando `replace/map`) de acordo com o encontrado neste [link](https://github.com/souzajvp/teaching-python/blob/main/Ficha%20de%20notif.pdf);\n",
        "3. Faça um gráfico de barras para mostrar a quantidade de pacientes que tiveram cada forma;\n",
        "4. Me envie um link com a análise pronta!"
      ]
    }
  ]
}