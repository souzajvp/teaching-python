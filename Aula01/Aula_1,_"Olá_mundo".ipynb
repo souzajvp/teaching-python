{
  "nbformat": 4,
  "nbformat_minor": 0,
  "metadata": {
    "colab": {
      "name": "Aula_1, \"Olá_mundo\".ipynb",
      "provenance": [],
      "authorship_tag": "ABX9TyOhXPUiKnyIth9jc7c9Mx8S",
      "include_colab_link": true
    },
    "kernelspec": {
      "name": "python3",
      "display_name": "Python 3"
    },
    "language_info": {
      "name": "python"
    }
  },
  "cells": [
    {
      "cell_type": "markdown",
      "metadata": {
        "id": "view-in-github",
        "colab_type": "text"
      },
      "source": [
        "<a href=\"https://colab.research.google.com/github/souzajvp/teaching-python/blob/main/Aula01/Aula_1%2C_%22Ol%C3%A1_mundo%22.ipynb\" target=\"_parent\"><img src=\"https://colab.research.google.com/assets/colab-badge.svg\" alt=\"Open In Colab\"/></a>"
      ]
    },
    {
      "cell_type": "markdown",
      "metadata": {
        "id": "u_JASV42B1St"
      },
      "source": [
        "# O Google Colab!\n",
        "Ferramenta on-line e gratuita que nos permite editar código e texto como se fosse um caderno de anotações!\n",
        "\n",
        "**Com ele, podemos**:\n",
        "1. Executar código sem ter que instalar nada;\n",
        "2. Realizar computações \"pesadas\" independente da capacidade da nossa máquina;\n",
        "3. Compartilhar nosso trabalho com outras pessoas;\n",
        "4. Copiar o trabalho de outros e salvar em arquivos pessoais."
      ]
    },
    {
      "cell_type": "markdown",
      "metadata": {
        "id": "aQ4uVqaMB5lS"
      },
      "source": [
        "## Células de código"
      ]
    },
    {
      "cell_type": "code",
      "metadata": {
        "id": "J53xDHSyCdwo"
      },
      "source": [
        ""
      ],
      "execution_count": 84,
      "outputs": []
    },
    {
      "cell_type": "markdown",
      "metadata": {
        "id": "ZqFNk3x5Ch36"
      },
      "source": [
        "## Células de texto"
      ]
    },
    {
      "cell_type": "markdown",
      "metadata": {
        "id": "y3mxkIewCkZy"
      },
      "source": [
        "\n",
        "### Issó é um título 3\n",
        "#### Isso é um título 4\n",
        "\n",
        "Podemos escrever em **negrito**, *itálico*, em formato de `código` e adicionar [links](https://github.com/souzajvp).\n",
        "\n",
        "Além disso, **temos**:\n",
        "1. Numeradores;\n",
        "* Marcadores\n",
        "\n",
        "***\n",
        "E separadores também!"
      ]
    },
    {
      "cell_type": "markdown",
      "metadata": {
        "id": "cvM55hKQ9IIN"
      },
      "source": [
        "# Programação\n",
        "De forma bem simples, podemos definir como programação o uso de alguma linguagem capaz de se comunicar com os sistemas do computador. Através dessas linguagens podemos criar programas e executar tarefas de forma eficiente!\n",
        "\n",
        "**A programação pode ser usada para:**\n",
        "1. Criar programas - \"Calculadora de IMC\";\n",
        "2. Abrir e modificar arquivos de forma automática - \"Qual é o número de linhas presentes neste arquivo?\";\n",
        "3. Criar sites - \"www.querovacinaporfavor.com.br\";\n",
        "4. Analisar dados! - \"Como está a saúde dos funcionários da UEM?\""
      ]
    },
    {
      "cell_type": "markdown",
      "metadata": {
        "id": "-hEeBHRhEd4v"
      },
      "source": [
        "## Variáveis\n",
        "As variáveis funcionam como um sistema de nomeação ou armazenamento. Ou seja, quando nomeamos uma variável, estamos armazenando informações dentro dela. Usa-las é algo rotineiro em programação, principalmente em python.\n",
        "\n",
        "**Não ficou claro?** Vamos ver como é!"
      ]
    },
    {
      "cell_type": "markdown",
      "metadata": {
        "id": "C2kSsHccHBfd"
      },
      "source": [
        "### Variáveis de texto - *string* (str)"
      ]
    },
    {
      "cell_type": "code",
      "metadata": {
        "id": "lx3SP5EJGZ7J"
      },
      "source": [
        ""
      ],
      "execution_count": 84,
      "outputs": []
    },
    {
      "cell_type": "code",
      "metadata": {
        "id": "YzfVgzVnHUDU"
      },
      "source": [
        ""
      ],
      "execution_count": 84,
      "outputs": []
    },
    {
      "cell_type": "code",
      "metadata": {
        "id": "bXMdlRNYGkCq"
      },
      "source": [
        ""
      ],
      "execution_count": 84,
      "outputs": []
    },
    {
      "cell_type": "code",
      "metadata": {
        "id": "lnsnOgmqGkoE"
      },
      "source": [
        ""
      ],
      "execution_count": 84,
      "outputs": []
    },
    {
      "cell_type": "code",
      "metadata": {
        "id": "aMskRVLiGm6q"
      },
      "source": [
        ""
      ],
      "execution_count": 84,
      "outputs": []
    },
    {
      "cell_type": "code",
      "metadata": {
        "id": "hIyKjUOZGnkj"
      },
      "source": [
        ""
      ],
      "execution_count": 84,
      "outputs": []
    },
    {
      "cell_type": "code",
      "metadata": {
        "id": "65K2XZOoG7Ec"
      },
      "source": [
        ""
      ],
      "execution_count": 84,
      "outputs": []
    },
    {
      "cell_type": "markdown",
      "metadata": {
        "id": "V9VMo1HkHGoT"
      },
      "source": [
        "### Variáveis numéricas - *integer* (int) ou *float* "
      ]
    },
    {
      "cell_type": "markdown",
      "metadata": {
        "id": "MW2mQs6MFHQw"
      },
      "source": [
        "Calculando o meu IMC - **IMC = Peso / (altura²)**"
      ]
    },
    {
      "cell_type": "code",
      "metadata": {
        "id": "eLA9CFjEEnMF"
      },
      "source": [
        ""
      ],
      "execution_count": 84,
      "outputs": []
    },
    {
      "cell_type": "code",
      "metadata": {
        "id": "_0HW326UErwD"
      },
      "source": [
        ""
      ],
      "execution_count": 84,
      "outputs": []
    },
    {
      "cell_type": "markdown",
      "metadata": {
        "id": "am10LY6j7Pfl"
      },
      "source": [
        "Tipo do peso\n",
        "\n"
      ]
    },
    {
      "cell_type": "code",
      "metadata": {
        "id": "BmLT0xpMHijG"
      },
      "source": [
        ""
      ],
      "execution_count": 84,
      "outputs": []
    },
    {
      "cell_type": "code",
      "metadata": {
        "id": "19nIGxL8Hna3"
      },
      "source": [
        ""
      ],
      "execution_count": 84,
      "outputs": []
    },
    {
      "cell_type": "code",
      "metadata": {
        "id": "H2t97x09Fmy5"
      },
      "source": [
        ""
      ],
      "execution_count": 84,
      "outputs": []
    },
    {
      "cell_type": "markdown",
      "metadata": {
        "id": "oIh4mtvN7TMP"
      },
      "source": [
        "Tipo da altura"
      ]
    },
    {
      "cell_type": "code",
      "metadata": {
        "id": "N6xAIm8PHrQa"
      },
      "source": [
        ""
      ],
      "execution_count": 84,
      "outputs": []
    },
    {
      "cell_type": "code",
      "metadata": {
        "id": "WCW-wBQdFtUm"
      },
      "source": [
        ""
      ],
      "execution_count": 84,
      "outputs": []
    },
    {
      "cell_type": "markdown",
      "metadata": {
        "id": "_8LO53CeH5SB"
      },
      "source": [
        "## Juntando tudo"
      ]
    },
    {
      "cell_type": "code",
      "metadata": {
        "id": "hlf9gWaPH-hd"
      },
      "source": [
        ""
      ],
      "execution_count": 84,
      "outputs": []
    },
    {
      "cell_type": "code",
      "metadata": {
        "id": "9VsBA1Q-IKX0"
      },
      "source": [
        ""
      ],
      "execution_count": 84,
      "outputs": []
    },
    {
      "cell_type": "code",
      "metadata": {
        "id": "2nNpAUwlHzQK"
      },
      "source": [
        ""
      ],
      "execution_count": 84,
      "outputs": []
    },
    {
      "cell_type": "markdown",
      "metadata": {
        "id": "Opy24yZwt88y"
      },
      "source": [
        "### Operações matemáticas"
      ]
    },
    {
      "cell_type": "markdown",
      "metadata": {
        "id": "1uWQnMGeuAUF"
      },
      "source": [
        "Soma"
      ]
    },
    {
      "cell_type": "code",
      "metadata": {
        "id": "AdZDGh2puBvR"
      },
      "source": [
        ""
      ],
      "execution_count": 84,
      "outputs": []
    },
    {
      "cell_type": "markdown",
      "metadata": {
        "id": "uFSuVapAuDX6"
      },
      "source": [
        "Divisão"
      ]
    },
    {
      "cell_type": "code",
      "metadata": {
        "id": "y2rlsGmcuEwZ"
      },
      "source": [
        ""
      ],
      "execution_count": 84,
      "outputs": []
    },
    {
      "cell_type": "markdown",
      "metadata": {
        "id": "F_uiQV4fuF3K"
      },
      "source": [
        "Expoente"
      ]
    },
    {
      "cell_type": "code",
      "metadata": {
        "id": "MZ_gZEduuLjA"
      },
      "source": [
        ""
      ],
      "execution_count": 84,
      "outputs": []
    },
    {
      "cell_type": "code",
      "metadata": {
        "id": "xL9FIibruMVc"
      },
      "source": [
        ""
      ],
      "execution_count": 84,
      "outputs": []
    },
    {
      "cell_type": "markdown",
      "metadata": {
        "id": "zMOi1Wm-uSA_"
      },
      "source": [
        "inteiro da divisão"
      ]
    },
    {
      "cell_type": "code",
      "metadata": {
        "id": "lYgMmVUruYC3"
      },
      "source": [
        ""
      ],
      "execution_count": 84,
      "outputs": []
    },
    {
      "cell_type": "markdown",
      "metadata": {
        "id": "sw6wvkGFIWNK"
      },
      "source": [
        "## Funções básicas!\n",
        "O python tem várias funções básicas já inclusas. \n",
        "\n",
        "**Vimos algumas delas ali em cima**, mas vamos focar melhor nelas agora!"
      ]
    },
    {
      "cell_type": "markdown",
      "metadata": {
        "id": "HKddVk2iJD4b"
      },
      "source": [
        "### print(*a*, *b*, *c*, *d*, ...) - Imprime qualquer conteúdo para a tela. \n",
        "\n",
        "Ela aceita diversos parâmetros ao mesmo tempo!"
      ]
    },
    {
      "cell_type": "code",
      "metadata": {
        "id": "ZDnYkavFJySS"
      },
      "source": [
        ""
      ],
      "execution_count": 84,
      "outputs": []
    },
    {
      "cell_type": "code",
      "metadata": {
        "id": "Yq-VMoiSJ0Ew"
      },
      "source": [
        ""
      ],
      "execution_count": 84,
      "outputs": []
    },
    {
      "cell_type": "code",
      "metadata": {
        "id": "u8i5ZsdtJ3wb"
      },
      "source": [
        ""
      ],
      "execution_count": 84,
      "outputs": []
    },
    {
      "cell_type": "markdown",
      "metadata": {
        "id": "JgTCUD16I3dF"
      },
      "source": [
        "### round(*a*, *b*) - Permite arredondar um número!\n",
        "*a* = número que deseja arredondar\n",
        "\n",
        "*b* = número de casas decimais\n",
        "\n"
      ]
    },
    {
      "cell_type": "code",
      "metadata": {
        "id": "uOx92ZCRJCCv"
      },
      "source": [
        ""
      ],
      "execution_count": 84,
      "outputs": []
    },
    {
      "cell_type": "code",
      "metadata": {
        "id": "nGdIYu3cI-gj"
      },
      "source": [
        ""
      ],
      "execution_count": 84,
      "outputs": []
    },
    {
      "cell_type": "markdown",
      "metadata": {
        "id": "vFTq_xpJq422"
      },
      "source": [
        "### range() - Retorna números dentro de um intervalo"
      ]
    },
    {
      "cell_type": "code",
      "metadata": {
        "id": "BfA_lIYJrAEa"
      },
      "source": [
        ""
      ],
      "execution_count": 84,
      "outputs": []
    },
    {
      "cell_type": "code",
      "metadata": {
        "id": "yAM-ChBirX-K"
      },
      "source": [
        ""
      ],
      "execution_count": 84,
      "outputs": []
    },
    {
      "cell_type": "markdown",
      "metadata": {
        "id": "CIZYbEs2rkp0"
      },
      "source": [
        "### int(), float(), str() - nos permitem mudar o formato dos nossos dados!"
      ]
    },
    {
      "cell_type": "code",
      "metadata": {
        "id": "bot_jTS4ruW4"
      },
      "source": [
        ""
      ],
      "execution_count": 84,
      "outputs": []
    },
    {
      "cell_type": "code",
      "metadata": {
        "id": "Xy8yJAmSrv1J"
      },
      "source": [
        ""
      ],
      "execution_count": 84,
      "outputs": []
    },
    {
      "cell_type": "code",
      "metadata": {
        "id": "PKv7Tk63rxW9"
      },
      "source": [
        ""
      ],
      "execution_count": 84,
      "outputs": []
    },
    {
      "cell_type": "markdown",
      "metadata": {
        "id": "8K4yruCXrq9h"
      },
      "source": [
        "## Listas"
      ]
    },
    {
      "cell_type": "code",
      "metadata": {
        "id": "J4iwFonDsKWL"
      },
      "source": [
        ""
      ],
      "execution_count": 84,
      "outputs": []
    },
    {
      "cell_type": "markdown",
      "metadata": {
        "id": "VwoXvWeHseyj"
      },
      "source": [
        "Acessar valores dentro das listas"
      ]
    },
    {
      "cell_type": "markdown",
      "metadata": {
        "id": "PEHR9vpospDh"
      },
      "source": [
        "Primeiro item vai ser sempre o \"0\"!\n",
        "\n",
        "**Obs**: De forma geral, sempre funciona assim com python."
      ]
    },
    {
      "cell_type": "code",
      "metadata": {
        "id": "6AWF11RTshlI"
      },
      "source": [
        ""
      ],
      "execution_count": 84,
      "outputs": []
    },
    {
      "cell_type": "code",
      "metadata": {
        "id": "FkQIq_Qdsif4"
      },
      "source": [
        ""
      ],
      "execution_count": 84,
      "outputs": []
    },
    {
      "cell_type": "code",
      "metadata": {
        "id": "_8MsFyQasjVI"
      },
      "source": [
        ""
      ],
      "execution_count": 84,
      "outputs": []
    },
    {
      "cell_type": "markdown",
      "metadata": {
        "id": "x_pBKYtzs22S"
      },
      "source": [
        "Também podemos acessar os itens na ordem reversa"
      ]
    },
    {
      "cell_type": "code",
      "metadata": {
        "id": "MtkWTfnnsksD"
      },
      "source": [
        ""
      ],
      "execution_count": 84,
      "outputs": []
    },
    {
      "cell_type": "markdown",
      "metadata": {
        "id": "u_XVFeh-s8O0"
      },
      "source": [
        "Exemplos de como listas são interessantes"
      ]
    },
    {
      "cell_type": "code",
      "metadata": {
        "id": "wDAtHNxRtAb_"
      },
      "source": [
        ""
      ],
      "execution_count": 84,
      "outputs": []
    },
    {
      "cell_type": "markdown",
      "metadata": {
        "id": "mdeTD2KkYBXb"
      },
      "source": [
        "Vamos supor que vocês tem uma lista de pesos e alturas dos pacientes do Lepac"
      ]
    },
    {
      "cell_type": "code",
      "metadata": {
        "id": "R8iMEjyUv8PU"
      },
      "source": [
        "import numpy as np\n",
        "\n",
        "peso = np.linspace(50,120,100)\n",
        "altura = np.linspace(1.4,2,100)"
      ],
      "execution_count": 85,
      "outputs": []
    },
    {
      "cell_type": "code",
      "metadata": {
        "colab": {
          "base_uri": "https://localhost:8080/",
          "height": 265
        },
        "id": "Bd4qZaI_YnZR",
        "outputId": "6ef28c2c-27b2-4af9-dcd7-dfadab84ba3f"
      },
      "source": [
        "import matplotlib.pyplot as plt\n",
        "plt.plot(peso, altura, '.')\n",
        "# plt.xlim(0, max(peso) + 20)\n",
        "# plt.ylim(0, max(altura) + 20)\n",
        "plt.show()"
      ],
      "execution_count": 86,
      "outputs": [
        {
          "output_type": "display_data",
          "data": {
            "image/png": "[encoded data removed]",
            "text/plain": [
              "<Figure size 432x288 with 1 Axes>"
            ]
          },
          "metadata": {
            "tags": [],
            "needs_background": "light"
          }
        }
      ]
    },
    {
      "cell_type": "markdown",
      "metadata": {
        "id": "wOMmDpTwxdtx"
      },
      "source": [
        "Trabalhando com tabelas - *dataframes*"
      ]
    },
    {
      "cell_type": "code",
      "metadata": {
        "id": "qG6zUnPixuzC"
      },
      "source": [
        "import pandas as pd"
      ],
      "execution_count": 87,
      "outputs": []
    },
    {
      "cell_type": "code",
      "metadata": {
        "colab": {
          "base_uri": "https://localhost:8080/",
          "height": 423
        },
        "id": "6PTE4ajyxg0X",
        "outputId": "56e48a1a-0605-4151-e470-871a96ef526f"
      },
      "source": [
        "lepac = pd.DataFrame(columns=['Peso', 'Altura'], data=np.column_stack((peso, altura)))\n",
        "lepac"
      ],
      "execution_count": 88,
      "outputs": [
        {
          "output_type": "execute_result",
          "data": {
            "text/html": [
              "<div>\n",
              "<style scoped>\n",
              "    .dataframe tbody tr th:only-of-type {\n",
              "        vertical-align: middle;\n",
              "    }\n",
              "\n",
              "    .dataframe tbody tr th {\n",
              "        vertical-align: top;\n",
              "    }\n",
              "\n",
              "    .dataframe thead th {\n",
              "        text-align: right;\n",
              "    }\n",
              "</style>\n",
              "<table border=\"1\" class=\"dataframe\">\n",
              "  <thead>\n",
              "    <tr style=\"text-align: right;\">\n",
              "      <th></th>\n",
              "      <th>Peso</th>\n",
              "      <th>Altura</th>\n",
              "    </tr>\n",
              "  </thead>\n",
              "  <tbody>\n",
              "    <tr>\n",
              "      <th>0</th>\n",
              "      <td>50.000000</td>\n",
              "      <td>1.400000</td>\n",
              "    </tr>\n",
              "    <tr>\n",
              "      <th>1</th>\n",
              "      <td>50.707071</td>\n",
              "      <td>1.406061</td>\n",
              "    </tr>\n",
              "    <tr>\n",
              "      <th>2</th>\n",
              "      <td>51.414141</td>\n",
              "      <td>1.412121</td>\n",
              "    </tr>\n",
              "    <tr>\n",
              "      <th>3</th>\n",
              "      <td>52.121212</td>\n",
              "      <td>1.418182</td>\n",
              "    </tr>\n",
              "    <tr>\n",
              "      <th>4</th>\n",
              "      <td>52.828283</td>\n",
              "      <td>1.424242</td>\n",
              "    </tr>\n",
              "    <tr>\n",
              "      <th>...</th>\n",
              "      <td>...</td>\n",
              "      <td>...</td>\n",
              "    </tr>\n",
              "    <tr>\n",
              "      <th>95</th>\n",
              "      <td>117.171717</td>\n",
              "      <td>1.975758</td>\n",
              "    </tr>\n",
              "    <tr>\n",
              "      <th>96</th>\n",
              "      <td>117.878788</td>\n",
              "      <td>1.981818</td>\n",
              "    </tr>\n",
              "    <tr>\n",
              "      <th>97</th>\n",
              "      <td>118.585859</td>\n",
              "      <td>1.987879</td>\n",
              "    </tr>\n",
              "    <tr>\n",
              "      <th>98</th>\n",
              "      <td>119.292929</td>\n",
              "      <td>1.993939</td>\n",
              "    </tr>\n",
              "    <tr>\n",
              "      <th>99</th>\n",
              "      <td>120.000000</td>\n",
              "      <td>2.000000</td>\n",
              "    </tr>\n",
              "  </tbody>\n",
              "</table>\n",
              "<p>100 rows × 2 columns</p>\n",
              "</div>"
            ],
            "text/plain": [
              "          Peso    Altura\n",
              "0    50.000000  1.400000\n",
              "1    50.707071  1.406061\n",
              "2    51.414141  1.412121\n",
              "3    52.121212  1.418182\n",
              "4    52.828283  1.424242\n",
              "..         ...       ...\n",
              "95  117.171717  1.975758\n",
              "96  117.878788  1.981818\n",
              "97  118.585859  1.987879\n",
              "98  119.292929  1.993939\n",
              "99  120.000000  2.000000\n",
              "\n",
              "[100 rows x 2 columns]"
            ]
          },
          "metadata": {
            "tags": []
          },
          "execution_count": 88
        }
      ]
    },
    {
      "cell_type": "markdown",
      "metadata": {
        "id": "e-QdPgGqxttd"
      },
      "source": [
        "Calculando o IMC de forma eficiente"
      ]
    },
    {
      "cell_type": "code",
      "metadata": {
        "id": "7VJhpao7x0sJ"
      },
      "source": [
        " "
      ],
      "execution_count": 88,
      "outputs": []
    },
    {
      "cell_type": "code",
      "metadata": {
        "id": "aWPma-JIx7FW"
      },
      "source": [
        ""
      ],
      "execution_count": 88,
      "outputs": []
    },
    {
      "cell_type": "markdown",
      "metadata": {
        "id": "G6PRzGFZ7mXH"
      },
      "source": [
        "Histograma"
      ]
    },
    {
      "cell_type": "code",
      "metadata": {
        "id": "Ki1KEYABx-ZF"
      },
      "source": [
        ""
      ],
      "execution_count": 88,
      "outputs": []
    },
    {
      "cell_type": "markdown",
      "metadata": {
        "id": "WrOsx-KD7n-8"
      },
      "source": [
        "Boxplot"
      ]
    },
    {
      "cell_type": "code",
      "metadata": {
        "id": "2t51049VyT6o"
      },
      "source": [
        ""
      ],
      "execution_count": 88,
      "outputs": []
    },
    {
      "cell_type": "markdown",
      "metadata": {
        "id": "LNaEo0xWtX9b"
      },
      "source": [
        "# Exercícios!"
      ]
    },
    {
      "cell_type": "markdown",
      "metadata": {
        "id": "QdAIFNWgtaCy"
      },
      "source": [
        "### Crie uma variável para cada nome seu. Em seguida imprima na tela de forma \"bonita\" usando a função `print()`"
      ]
    },
    {
      "cell_type": "code",
      "metadata": {
        "id": "VUQAWLCZtoOk"
      },
      "source": [
        ""
      ],
      "execution_count": 88,
      "outputs": []
    },
    {
      "cell_type": "code",
      "metadata": {
        "id": "1o-t8pUitoLp"
      },
      "source": [
        ""
      ],
      "execution_count": 88,
      "outputs": []
    },
    {
      "cell_type": "code",
      "metadata": {
        "id": "0SWR8oaktoE6"
      },
      "source": [
        ""
      ],
      "execution_count": 88,
      "outputs": []
    },
    {
      "cell_type": "code",
      "metadata": {
        "id": "CoalNO8ttoA5"
      },
      "source": [
        ""
      ],
      "execution_count": 88,
      "outputs": []
    },
    {
      "cell_type": "markdown",
      "metadata": {
        "id": "TSFZb7nKtpK3"
      },
      "source": [
        "### Crie uma variável para sua altura, outra para seu peso e por fim, uma que armazene o resultado do seu IMC\n",
        "\n",
        "Lembrando que a fórmula é IMC = Peso(kg)/(altura²)"
      ]
    },
    {
      "cell_type": "code",
      "metadata": {
        "id": "jiMMh6YOX-xQ"
      },
      "source": [
        ""
      ],
      "execution_count": 88,
      "outputs": []
    },
    {
      "cell_type": "code",
      "metadata": {
        "id": "boT5JrpyX-hM"
      },
      "source": [
        ""
      ],
      "execution_count": 88,
      "outputs": []
    },
    {
      "cell_type": "code",
      "metadata": {
        "id": "Q6EnVXzLX-bd"
      },
      "source": [
        ""
      ],
      "execution_count": 88,
      "outputs": []
    },
    {
      "cell_type": "code",
      "metadata": {
        "id": "KNoo6RqmX-Ve"
      },
      "source": [
        ""
      ],
      "execution_count": 88,
      "outputs": []
    },
    {
      "cell_type": "markdown",
      "metadata": {
        "id": "OZyVDzEI4hwB"
      },
      "source": [
        "### Crie duas listas para armazenar os nomes e idades de pessoas da sua família, em seguida use o método `print()` para obter uma frase bem feitinha"
      ]
    },
    {
      "cell_type": "code",
      "metadata": {
        "id": "Ev7-qqIe4yW6"
      },
      "source": [
        ""
      ],
      "execution_count": 88,
      "outputs": []
    },
    {
      "cell_type": "code",
      "metadata": {
        "id": "JJaNSrB45Dpu"
      },
      "source": [
        ""
      ],
      "execution_count": 88,
      "outputs": []
    },
    {
      "cell_type": "code",
      "metadata": {
        "id": "hbBaDE6X5NTR"
      },
      "source": [
        ""
      ],
      "execution_count": 88,
      "outputs": []
    },
    {
      "cell_type": "code",
      "metadata": {
        "id": "7fJj_Czc5QwY"
      },
      "source": [
        ""
      ],
      "execution_count": 88,
      "outputs": []
    },
    {
      "cell_type": "markdown",
      "metadata": {
        "id": "s6UQWnbW5UXQ"
      },
      "source": [
        "Uma versão mais eficente! E um pouco mais complexa também hehe"
      ]
    },
    {
      "cell_type": "code",
      "metadata": {
        "id": "aM-vumvz5Y5b"
      },
      "source": [
        ""
      ],
      "execution_count": 88,
      "outputs": []
    }
  ]
}