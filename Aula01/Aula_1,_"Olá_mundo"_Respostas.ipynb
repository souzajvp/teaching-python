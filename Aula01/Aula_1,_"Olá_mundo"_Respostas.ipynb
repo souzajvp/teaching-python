{
  "nbformat": 4,
  "nbformat_minor": 0,
  "metadata": {
    "colab": {
      "name": "Aula_1, \"Olá_mundo\"-Respostas.ipynb",
      "provenance": [],
      "authorship_tag": "ABX9TyMwdxzYKcSP2EiuYvjI5kPB",
      "include_colab_link": true
    },
    "kernelspec": {
      "name": "python3",
      "display_name": "Python 3"
    },
    "language_info": {
      "name": "python"
    }
  },
  "cells": [
    {
      "cell_type": "markdown",
      "metadata": {
        "id": "view-in-github",
        "colab_type": "text"
      },
      "source": [
        "<a href=\"https://colab.research.google.com/github/souzajvp/teaching-python/blob/main/Aula01/Aula_1%2C_%22Ol%C3%A1_mundo%22_Respostas.ipynb\" target=\"_parent\"><img src=\"https://colab.research.google.com/assets/colab-badge.svg\" alt=\"Open In Colab\"/></a>"
      ]
    },
    {
      "cell_type": "markdown",
      "metadata": {
        "id": "u_JASV42B1St"
      },
      "source": [
        "# O Google Colab!\n",
        "Ferramenta on-line e gratuita que nos permite editar código e texto como se fosse um caderno de anotações!\n",
        "\n",
        "**Com ele, podemos**:\n",
        "1. Executar código sem ter que instalar nada;\n",
        "2. Realizar computações \"pesadas\" independente da capacidade da nossa máquina;\n",
        "3. Compartilhar nosso trabalho com outras pessoas;\n",
        "4. Copiar o trabalho de outros e salvar em arquivos pessoais."
      ]
    },
    {
      "cell_type": "markdown",
      "metadata": {
        "id": "aQ4uVqaMB5lS"
      },
      "source": [
        "## Células de código"
      ]
    },
    {
      "cell_type": "code",
      "metadata": {
        "id": "J53xDHSyCdwo",
        "colab": {
          "base_uri": "https://localhost:8080/"
        },
        "outputId": "2847854c-f963-439c-8b20-c97496f251b7"
      },
      "source": [
        "print('Essa é nossa primeira aula!')"
      ],
      "execution_count": 1,
      "outputs": [
        {
          "output_type": "stream",
          "text": [
            "Essa é nossa primeira aula!\n"
          ],
          "name": "stdout"
        }
      ]
    },
    {
      "cell_type": "markdown",
      "metadata": {
        "id": "ZqFNk3x5Ch36"
      },
      "source": [
        "## Células de texto"
      ]
    },
    {
      "cell_type": "markdown",
      "metadata": {
        "id": "y3mxkIewCkZy"
      },
      "source": [
        "\n",
        "### Issó é um título 3\n",
        "#### Isso é um título 4\n",
        "\n",
        "Podemos escrever em **negrito**, *itálico*, em formato de `código` e adicionar [links](https://github.com/souzajvp).\n",
        "\n",
        "Além disso, **temos**:\n",
        "1. Numeradores;\n",
        "* Marcadores\n",
        "\n",
        "***\n",
        "E separadores também!"
      ]
    },
    {
      "cell_type": "markdown",
      "metadata": {
        "id": "cvM55hKQ9IIN"
      },
      "source": [
        "# Programação\n",
        "De forma bem simples, podemos definir como programação o uso de alguma linguagem capaz de se comunicar com os sistemas do computador. Através dessas linguagens podemos criar programas e executar tarefas de forma eficiente!\n",
        "\n",
        "**A programação pode ser usada para:**\n",
        "1. Criar programas - \"Calculadora de IMC\";\n",
        "2. Abrir e modificar arquivos de forma automática - \"Qual é o número de linhas presentes neste arquivo?\";\n",
        "3. Criar sites - \"www.querovacinaporfavor.com.br\";\n",
        "4. Analisar dados! - \"Como está a saúde dos funcionários da UEM?\""
      ]
    },
    {
      "cell_type": "markdown",
      "metadata": {
        "id": "-hEeBHRhEd4v"
      },
      "source": [
        "## Variáveis\n",
        "As variáveis funcionam como um sistema de nomeação ou armazenamento. Ou seja, quando nomeamos uma variável, estamos armazenando informações dentro dela. Usa-las é algo rotineiro em programação, principalmente em python.\n",
        "\n",
        "**Não ficou claro?** Vamos ver como é!"
      ]
    },
    {
      "cell_type": "markdown",
      "metadata": {
        "id": "C2kSsHccHBfd"
      },
      "source": [
        "### Variáveis de texto - *string* (str)"
      ]
    },
    {
      "cell_type": "code",
      "metadata": {
        "id": "lx3SP5EJGZ7J"
      },
      "source": [
        "nome = \"João\""
      ],
      "execution_count": 2,
      "outputs": []
    },
    {
      "cell_type": "code",
      "metadata": {
        "colab": {
          "base_uri": "https://localhost:8080/"
        },
        "id": "YzfVgzVnHUDU",
        "outputId": "19f949ea-a5a7-4563-d7f9-58669bea5a34"
      },
      "source": [
        "type(nome)"
      ],
      "execution_count": 3,
      "outputs": [
        {
          "output_type": "execute_result",
          "data": {
            "text/plain": [
              "str"
            ]
          },
          "metadata": {
            "tags": []
          },
          "execution_count": 3
        }
      ]
    },
    {
      "cell_type": "code",
      "metadata": {
        "id": "bXMdlRNYGkCq",
        "colab": {
          "base_uri": "https://localhost:8080/",
          "height": 35
        },
        "outputId": "569133cf-c54a-4732-a351-ff9d972c08bc"
      },
      "source": [
        "nome"
      ],
      "execution_count": 4,
      "outputs": [
        {
          "output_type": "execute_result",
          "data": {
            "application/vnd.google.colaboratory.intrinsic+json": {
              "type": "string"
            },
            "text/plain": [
              "'João'"
            ]
          },
          "metadata": {
            "tags": []
          },
          "execution_count": 4
        }
      ]
    },
    {
      "cell_type": "code",
      "metadata": {
        "id": "lnsnOgmqGkoE"
      },
      "source": [
        "sobrenome = \"Souza\""
      ],
      "execution_count": 5,
      "outputs": []
    },
    {
      "cell_type": "code",
      "metadata": {
        "id": "aMskRVLiGm6q",
        "colab": {
          "base_uri": "https://localhost:8080/",
          "height": 35
        },
        "outputId": "c2a9c2e8-e8e9-4fcb-81b0-7e6c78fdfbc6"
      },
      "source": [
        "sobrenome"
      ],
      "execution_count": 6,
      "outputs": [
        {
          "output_type": "execute_result",
          "data": {
            "application/vnd.google.colaboratory.intrinsic+json": {
              "type": "string"
            },
            "text/plain": [
              "'Souza'"
            ]
          },
          "metadata": {
            "tags": []
          },
          "execution_count": 6
        }
      ]
    },
    {
      "cell_type": "code",
      "metadata": {
        "colab": {
          "base_uri": "https://localhost:8080/",
          "height": 35
        },
        "id": "hIyKjUOZGnkj",
        "outputId": "6e41b5e1-6598-4a65-ad15-0265dc21b695"
      },
      "source": [
        "nome + sobrenome"
      ],
      "execution_count": 7,
      "outputs": [
        {
          "output_type": "execute_result",
          "data": {
            "application/vnd.google.colaboratory.intrinsic+json": {
              "type": "string"
            },
            "text/plain": [
              "'JoãoSouza'"
            ]
          },
          "metadata": {
            "tags": []
          },
          "execution_count": 7
        }
      ]
    },
    {
      "cell_type": "code",
      "metadata": {
        "colab": {
          "base_uri": "https://localhost:8080/",
          "height": 35
        },
        "id": "65K2XZOoG7Ec",
        "outputId": "b17dc44c-7fe5-4d2e-fc5f-5792baf4af50"
      },
      "source": [
        "nome + \" \" + sobrenome"
      ],
      "execution_count": 8,
      "outputs": [
        {
          "output_type": "execute_result",
          "data": {
            "application/vnd.google.colaboratory.intrinsic+json": {
              "type": "string"
            },
            "text/plain": [
              "'João Souza'"
            ]
          },
          "metadata": {
            "tags": []
          },
          "execution_count": 8
        }
      ]
    },
    {
      "cell_type": "markdown",
      "metadata": {
        "id": "V9VMo1HkHGoT"
      },
      "source": [
        "### Variáveis numéricas - *integer* (int) ou *float* "
      ]
    },
    {
      "cell_type": "markdown",
      "metadata": {
        "id": "MW2mQs6MFHQw"
      },
      "source": [
        "Calculando o meu IMC - **IMC = Peso / (altura²)**"
      ]
    },
    {
      "cell_type": "code",
      "metadata": {
        "id": "eLA9CFjEEnMF"
      },
      "source": [
        "peso = 95 # kg"
      ],
      "execution_count": 9,
      "outputs": []
    },
    {
      "cell_type": "code",
      "metadata": {
        "id": "_0HW326UErwD",
        "colab": {
          "base_uri": "https://localhost:8080/"
        },
        "outputId": "e03e5ae9-64d2-4b5b-dc02-2ff658c1e22d"
      },
      "source": [
        "peso"
      ],
      "execution_count": 10,
      "outputs": [
        {
          "output_type": "execute_result",
          "data": {
            "text/plain": [
              "95"
            ]
          },
          "metadata": {
            "tags": []
          },
          "execution_count": 10
        }
      ]
    },
    {
      "cell_type": "code",
      "metadata": {
        "colab": {
          "base_uri": "https://localhost:8080/"
        },
        "id": "BmLT0xpMHijG",
        "outputId": "03a1ce0b-719e-4f1a-b42b-6c269f5b8719"
      },
      "source": [
        "type(peso)"
      ],
      "execution_count": 11,
      "outputs": [
        {
          "output_type": "execute_result",
          "data": {
            "text/plain": [
              "int"
            ]
          },
          "metadata": {
            "tags": []
          },
          "execution_count": 11
        }
      ]
    },
    {
      "cell_type": "code",
      "metadata": {
        "id": "19nIGxL8Hna3"
      },
      "source": [
        "altura = 1.90 # (m)"
      ],
      "execution_count": 12,
      "outputs": []
    },
    {
      "cell_type": "code",
      "metadata": {
        "colab": {
          "base_uri": "https://localhost:8080/"
        },
        "id": "H2t97x09Fmy5",
        "outputId": "b56d6c8d-69b5-4da3-ecfe-17174d4a08e8"
      },
      "source": [
        "altura"
      ],
      "execution_count": 13,
      "outputs": [
        {
          "output_type": "execute_result",
          "data": {
            "text/plain": [
              "1.9"
            ]
          },
          "metadata": {
            "tags": []
          },
          "execution_count": 13
        }
      ]
    },
    {
      "cell_type": "code",
      "metadata": {
        "colab": {
          "base_uri": "https://localhost:8080/"
        },
        "id": "N6xAIm8PHrQa",
        "outputId": "337dc2db-10e7-47f8-de74-e4d479077a79"
      },
      "source": [
        "type(altura)"
      ],
      "execution_count": 14,
      "outputs": [
        {
          "output_type": "execute_result",
          "data": {
            "text/plain": [
              "float"
            ]
          },
          "metadata": {
            "tags": []
          },
          "execution_count": 14
        }
      ]
    },
    {
      "cell_type": "code",
      "metadata": {
        "colab": {
          "base_uri": "https://localhost:8080/"
        },
        "id": "WCW-wBQdFtUm",
        "outputId": "a96836b0-9b54-4c69-ab09-a8907a03033c"
      },
      "source": [
        "peso / (altura * altura)"
      ],
      "execution_count": 15,
      "outputs": [
        {
          "output_type": "execute_result",
          "data": {
            "text/plain": [
              "26.315789473684212"
            ]
          },
          "metadata": {
            "tags": []
          },
          "execution_count": 15
        }
      ]
    },
    {
      "cell_type": "markdown",
      "metadata": {
        "id": "_8LO53CeH5SB"
      },
      "source": [
        "## Juntando tudo"
      ]
    },
    {
      "cell_type": "code",
      "metadata": {
        "colab": {
          "base_uri": "https://localhost:8080/",
          "height": 35
        },
        "id": "hlf9gWaPH-hd",
        "outputId": "91d835a0-bf44-4b4a-ed37-24ffb24415ed"
      },
      "source": [
        "nome_sobrenome = nome + \" \" + sobrenome\n",
        "nome_sobrenome"
      ],
      "execution_count": 16,
      "outputs": [
        {
          "output_type": "execute_result",
          "data": {
            "application/vnd.google.colaboratory.intrinsic+json": {
              "type": "string"
            },
            "text/plain": [
              "'João Souza'"
            ]
          },
          "metadata": {
            "tags": []
          },
          "execution_count": 16
        }
      ]
    },
    {
      "cell_type": "code",
      "metadata": {
        "colab": {
          "base_uri": "https://localhost:8080/"
        },
        "id": "9VsBA1Q-IKX0",
        "outputId": "e388ec00-26cc-4b60-de05-840f9528435f"
      },
      "source": [
        "imc_joao = peso / (altura * altura)\n",
        "imc_joao"
      ],
      "execution_count": 17,
      "outputs": [
        {
          "output_type": "execute_result",
          "data": {
            "text/plain": [
              "26.315789473684212"
            ]
          },
          "metadata": {
            "tags": []
          },
          "execution_count": 17
        }
      ]
    },
    {
      "cell_type": "code",
      "metadata": {
        "colab": {
          "base_uri": "https://localhost:8080/"
        },
        "id": "2nNpAUwlHzQK",
        "outputId": "faec972c-d373-4643-c761-bd63d6139eed"
      },
      "source": [
        "print(\"O IMC do\", nome_sobrenome, \"é\", imc_joao)"
      ],
      "execution_count": 18,
      "outputs": [
        {
          "output_type": "stream",
          "text": [
            "O IMC do João Souza é 26.315789473684212\n"
          ],
          "name": "stdout"
        }
      ]
    },
    {
      "cell_type": "markdown",
      "metadata": {
        "id": "Opy24yZwt88y"
      },
      "source": [
        "### Operações matemáticas"
      ]
    },
    {
      "cell_type": "markdown",
      "metadata": {
        "id": "1uWQnMGeuAUF"
      },
      "source": [
        "Soma"
      ]
    },
    {
      "cell_type": "code",
      "metadata": {
        "colab": {
          "base_uri": "https://localhost:8080/"
        },
        "id": "AdZDGh2puBvR",
        "outputId": "e4ffade9-fbfb-4e76-c622-6439ce9e59d1"
      },
      "source": [
        "1+1"
      ],
      "execution_count": 19,
      "outputs": [
        {
          "output_type": "execute_result",
          "data": {
            "text/plain": [
              "2"
            ]
          },
          "metadata": {
            "tags": []
          },
          "execution_count": 19
        }
      ]
    },
    {
      "cell_type": "markdown",
      "metadata": {
        "id": "uFSuVapAuDX6"
      },
      "source": [
        "Divisão"
      ]
    },
    {
      "cell_type": "code",
      "metadata": {
        "colab": {
          "base_uri": "https://localhost:8080/"
        },
        "id": "y2rlsGmcuEwZ",
        "outputId": "88913e19-4ef3-421a-af37-1450624cb6f8"
      },
      "source": [
        "10/10"
      ],
      "execution_count": 20,
      "outputs": [
        {
          "output_type": "execute_result",
          "data": {
            "text/plain": [
              "1.0"
            ]
          },
          "metadata": {
            "tags": []
          },
          "execution_count": 20
        }
      ]
    },
    {
      "cell_type": "markdown",
      "metadata": {
        "id": "F_uiQV4fuF3K"
      },
      "source": [
        "Expoente"
      ]
    },
    {
      "cell_type": "code",
      "metadata": {
        "colab": {
          "base_uri": "https://localhost:8080/"
        },
        "id": "MZ_gZEduuLjA",
        "outputId": "c5cacba5-59af-4c1a-f70e-0cb8656c8026"
      },
      "source": [
        "2**2"
      ],
      "execution_count": 21,
      "outputs": [
        {
          "output_type": "execute_result",
          "data": {
            "text/plain": [
              "4"
            ]
          },
          "metadata": {
            "tags": []
          },
          "execution_count": 21
        }
      ]
    },
    {
      "cell_type": "code",
      "metadata": {
        "colab": {
          "base_uri": "https://localhost:8080/"
        },
        "id": "xL9FIibruMVc",
        "outputId": "ebb4c835-6033-4630-a0bc-e886f33276ab"
      },
      "source": [
        "3**3"
      ],
      "execution_count": 22,
      "outputs": [
        {
          "output_type": "execute_result",
          "data": {
            "text/plain": [
              "27"
            ]
          },
          "metadata": {
            "tags": []
          },
          "execution_count": 22
        }
      ]
    },
    {
      "cell_type": "markdown",
      "metadata": {
        "id": "zMOi1Wm-uSA_"
      },
      "source": [
        "inteiro da divisão"
      ]
    },
    {
      "cell_type": "code",
      "metadata": {
        "id": "lYgMmVUruYC3",
        "colab": {
          "base_uri": "https://localhost:8080/"
        },
        "outputId": "92b538df-cc60-4eab-c7f1-e1af3d2dd06e"
      },
      "source": [
        "3 % 2"
      ],
      "execution_count": 23,
      "outputs": [
        {
          "output_type": "execute_result",
          "data": {
            "text/plain": [
              "1"
            ]
          },
          "metadata": {
            "tags": []
          },
          "execution_count": 23
        }
      ]
    },
    {
      "cell_type": "markdown",
      "metadata": {
        "id": "sw6wvkGFIWNK"
      },
      "source": [
        "## Funções básicas!\n",
        "O python tem várias funções básicas já inclusas. \n",
        "\n",
        "**Vimos algumas delas ali em cima**, mas vamos focar melhor nelas agora!"
      ]
    },
    {
      "cell_type": "markdown",
      "metadata": {
        "id": "HKddVk2iJD4b"
      },
      "source": [
        "### print(*a*, *b*, *c*, *d*, ...) - Imprime qualquer conteúdo para a tela. \n",
        "\n",
        "Ela aceita diversos parâmetros ao mesmo tempo!"
      ]
    },
    {
      "cell_type": "code",
      "metadata": {
        "colab": {
          "base_uri": "https://localhost:8080/"
        },
        "id": "ZDnYkavFJySS",
        "outputId": "9ba25b2a-c336-4d83-d6bf-732c4fdc0bf8"
      },
      "source": [
        "print(2+2)"
      ],
      "execution_count": 24,
      "outputs": [
        {
          "output_type": "stream",
          "text": [
            "4\n"
          ],
          "name": "stdout"
        }
      ]
    },
    {
      "cell_type": "code",
      "metadata": {
        "colab": {
          "base_uri": "https://localhost:8080/"
        },
        "id": "Yq-VMoiSJ0Ew",
        "outputId": "6ba8ed0e-0da5-4ded-b9fd-fcdaf53c538a"
      },
      "source": [
        "print('João')"
      ],
      "execution_count": 25,
      "outputs": [
        {
          "output_type": "stream",
          "text": [
            "João\n"
          ],
          "name": "stdout"
        }
      ]
    },
    {
      "cell_type": "code",
      "metadata": {
        "colab": {
          "base_uri": "https://localhost:8080/"
        },
        "id": "u8i5ZsdtJ3wb",
        "outputId": "d6def8b4-3d4b-4666-fd5a-0ae684e27488"
      },
      "source": [
        "print('João' + ' Letícia =', 6, 'anos juntos de muito amor')"
      ],
      "execution_count": 26,
      "outputs": [
        {
          "output_type": "stream",
          "text": [
            "João Letícia = 6 anos juntos de muito amor\n"
          ],
          "name": "stdout"
        }
      ]
    },
    {
      "cell_type": "markdown",
      "metadata": {
        "id": "JgTCUD16I3dF"
      },
      "source": [
        "### round(*a*, *b*) - Permite arredondar um número!\n",
        "*a* = número que deseja arredondar\n",
        "\n",
        "*b* = número de casas decimais\n",
        "\n"
      ]
    },
    {
      "cell_type": "code",
      "metadata": {
        "colab": {
          "base_uri": "https://localhost:8080/"
        },
        "id": "uOx92ZCRJCCv",
        "outputId": "435f27de-4a13-42b3-f675-660bb149f558"
      },
      "source": [
        "imc_joao"
      ],
      "execution_count": 27,
      "outputs": [
        {
          "output_type": "execute_result",
          "data": {
            "text/plain": [
              "26.315789473684212"
            ]
          },
          "metadata": {
            "tags": []
          },
          "execution_count": 27
        }
      ]
    },
    {
      "cell_type": "code",
      "metadata": {
        "colab": {
          "base_uri": "https://localhost:8080/"
        },
        "id": "nGdIYu3cI-gj",
        "outputId": "d04288b4-87ac-4c24-e453-7a35a1066e69"
      },
      "source": [
        "round(imc_joao, 2)"
      ],
      "execution_count": 28,
      "outputs": [
        {
          "output_type": "execute_result",
          "data": {
            "text/plain": [
              "26.32"
            ]
          },
          "metadata": {
            "tags": []
          },
          "execution_count": 28
        }
      ]
    },
    {
      "cell_type": "markdown",
      "metadata": {
        "id": "vFTq_xpJq422"
      },
      "source": [
        "### range() - Retorna números dentro de um intervalo"
      ]
    },
    {
      "cell_type": "code",
      "metadata": {
        "colab": {
          "base_uri": "https://localhost:8080/"
        },
        "id": "BfA_lIYJrAEa",
        "outputId": "0196b2ec-2da6-40a2-8903-f7c8a9e14f2d"
      },
      "source": [
        "for numero in range(10):\n",
        "    print(numero)"
      ],
      "execution_count": 29,
      "outputs": [
        {
          "output_type": "stream",
          "text": [
            "0\n",
            "1\n",
            "2\n",
            "3\n",
            "4\n",
            "5\n",
            "6\n",
            "7\n",
            "8\n",
            "9\n"
          ],
          "name": "stdout"
        }
      ]
    },
    {
      "cell_type": "code",
      "metadata": {
        "colab": {
          "base_uri": "https://localhost:8080/"
        },
        "id": "yAM-ChBirX-K",
        "outputId": "416851a6-cfce-4fc2-b6ad-9e9be01244b7"
      },
      "source": [
        "for numero in range(10,101,10):\n",
        "    print(numero)"
      ],
      "execution_count": 30,
      "outputs": [
        {
          "output_type": "stream",
          "text": [
            "10\n",
            "20\n",
            "30\n",
            "40\n",
            "50\n",
            "60\n",
            "70\n",
            "80\n",
            "90\n",
            "100\n"
          ],
          "name": "stdout"
        }
      ]
    },
    {
      "cell_type": "markdown",
      "metadata": {
        "id": "CIZYbEs2rkp0"
      },
      "source": [
        "### int(), float(), str() - nos permitem mudar o formato dos nossos dados!"
      ]
    },
    {
      "cell_type": "code",
      "metadata": {
        "colab": {
          "base_uri": "https://localhost:8080/"
        },
        "id": "bot_jTS4ruW4",
        "outputId": "9aa8a181-cc98-42b2-ebad-7ac9679b9678"
      },
      "source": [
        "int(2.1)"
      ],
      "execution_count": 31,
      "outputs": [
        {
          "output_type": "execute_result",
          "data": {
            "text/plain": [
              "2"
            ]
          },
          "metadata": {
            "tags": []
          },
          "execution_count": 31
        }
      ]
    },
    {
      "cell_type": "code",
      "metadata": {
        "colab": {
          "base_uri": "https://localhost:8080/"
        },
        "id": "Xy8yJAmSrv1J",
        "outputId": "1b2959a4-c2a1-440c-d0b3-d840c926c2ff"
      },
      "source": [
        "float(2)"
      ],
      "execution_count": 32,
      "outputs": [
        {
          "output_type": "execute_result",
          "data": {
            "text/plain": [
              "2.0"
            ]
          },
          "metadata": {
            "tags": []
          },
          "execution_count": 32
        }
      ]
    },
    {
      "cell_type": "code",
      "metadata": {
        "colab": {
          "base_uri": "https://localhost:8080/",
          "height": 35
        },
        "id": "PKv7Tk63rxW9",
        "outputId": "b49d1067-5e94-4d8f-d2b6-7b3d207639ad"
      },
      "source": [
        "str(3)"
      ],
      "execution_count": 33,
      "outputs": [
        {
          "output_type": "execute_result",
          "data": {
            "application/vnd.google.colaboratory.intrinsic+json": {
              "type": "string"
            },
            "text/plain": [
              "'3'"
            ]
          },
          "metadata": {
            "tags": []
          },
          "execution_count": 33
        }
      ]
    },
    {
      "cell_type": "markdown",
      "metadata": {
        "id": "8K4yruCXrq9h"
      },
      "source": [
        "## Listas"
      ]
    },
    {
      "cell_type": "code",
      "metadata": {
        "id": "J4iwFonDsKWL"
      },
      "source": [
        "nomes = ['Letícia', 'Carolina', 'Beatriz']\n",
        "idades = [26, 25, 19]"
      ],
      "execution_count": 34,
      "outputs": []
    },
    {
      "cell_type": "markdown",
      "metadata": {
        "id": "VwoXvWeHseyj"
      },
      "source": [
        "Acessar valores dentro das listas"
      ]
    },
    {
      "cell_type": "markdown",
      "metadata": {
        "id": "PEHR9vpospDh"
      },
      "source": [
        "Primeiro item vai ser sempre o \"0\"!\n",
        "\n",
        "**Obs**: De forma geral, sempre funciona assim com python."
      ]
    },
    {
      "cell_type": "code",
      "metadata": {
        "colab": {
          "base_uri": "https://localhost:8080/",
          "height": 35
        },
        "id": "6AWF11RTshlI",
        "outputId": "64e1a495-47eb-4f42-99c7-166b2840c798"
      },
      "source": [
        "nomes[0]"
      ],
      "execution_count": 35,
      "outputs": [
        {
          "output_type": "execute_result",
          "data": {
            "application/vnd.google.colaboratory.intrinsic+json": {
              "type": "string"
            },
            "text/plain": [
              "'Letícia'"
            ]
          },
          "metadata": {
            "tags": []
          },
          "execution_count": 35
        }
      ]
    },
    {
      "cell_type": "code",
      "metadata": {
        "colab": {
          "base_uri": "https://localhost:8080/",
          "height": 35
        },
        "id": "FkQIq_Qdsif4",
        "outputId": "cc270d25-a3c6-448f-c17f-bfd26994a93a"
      },
      "source": [
        "nomes[1]"
      ],
      "execution_count": 36,
      "outputs": [
        {
          "output_type": "execute_result",
          "data": {
            "application/vnd.google.colaboratory.intrinsic+json": {
              "type": "string"
            },
            "text/plain": [
              "'Carolina'"
            ]
          },
          "metadata": {
            "tags": []
          },
          "execution_count": 36
        }
      ]
    },
    {
      "cell_type": "code",
      "metadata": {
        "colab": {
          "base_uri": "https://localhost:8080/",
          "height": 35
        },
        "id": "_8MsFyQasjVI",
        "outputId": "d16009d4-d728-44b2-ea93-c7bb39a939ae"
      },
      "source": [
        "nomes[2]"
      ],
      "execution_count": 37,
      "outputs": [
        {
          "output_type": "execute_result",
          "data": {
            "application/vnd.google.colaboratory.intrinsic+json": {
              "type": "string"
            },
            "text/plain": [
              "'Beatriz'"
            ]
          },
          "metadata": {
            "tags": []
          },
          "execution_count": 37
        }
      ]
    },
    {
      "cell_type": "markdown",
      "metadata": {
        "id": "x_pBKYtzs22S"
      },
      "source": [
        "Também podemos acessar os itens na ordem reversa"
      ]
    },
    {
      "cell_type": "code",
      "metadata": {
        "colab": {
          "base_uri": "https://localhost:8080/",
          "height": 35
        },
        "id": "MtkWTfnnsksD",
        "outputId": "f9d43899-7f67-4e21-c89b-34111e11049c"
      },
      "source": [
        "nomes[-1]"
      ],
      "execution_count": 38,
      "outputs": [
        {
          "output_type": "execute_result",
          "data": {
            "application/vnd.google.colaboratory.intrinsic+json": {
              "type": "string"
            },
            "text/plain": [
              "'Beatriz'"
            ]
          },
          "metadata": {
            "tags": []
          },
          "execution_count": 38
        }
      ]
    },
    {
      "cell_type": "markdown",
      "metadata": {
        "id": "u_XVFeh-s8O0"
      },
      "source": [
        "Exemplos de como listas são interessantes"
      ]
    },
    {
      "cell_type": "code",
      "metadata": {
        "colab": {
          "base_uri": "https://localhost:8080/"
        },
        "id": "wDAtHNxRtAb_",
        "outputId": "419d3a1f-e92a-4891-f80e-ac639df4b80e"
      },
      "source": [
        "for i in range(len(nomes)):\n",
        "    print(f'A {nomes[i]} tem {idades[i]} anos de idade.')"
      ],
      "execution_count": 39,
      "outputs": [
        {
          "output_type": "stream",
          "text": [
            "A Letícia tem 26 anos de idade.\n",
            "A Carolina tem 25 anos de idade.\n",
            "A Beatriz tem 19 anos de idade.\n"
          ],
          "name": "stdout"
        }
      ]
    },
    {
      "cell_type": "markdown",
      "metadata": {
        "id": "mdeTD2KkYBXb"
      },
      "source": [
        "Vamos supor que vocês tem uma lista de pesos e alturas dos pacientes do Lepac"
      ]
    },
    {
      "cell_type": "code",
      "metadata": {
        "id": "R8iMEjyUv8PU"
      },
      "source": [
        "import numpy as np\n",
        "\n",
        "peso = np.linspace(50,120,100)\n",
        "altura = np.linspace(1.4,2,100)"
      ],
      "execution_count": 50,
      "outputs": []
    },
    {
      "cell_type": "code",
      "metadata": {
        "colab": {
          "base_uri": "https://localhost:8080/",
          "height": 265
        },
        "id": "Bd4qZaI_YnZR",
        "outputId": "9e199a4e-d1f7-49de-e727-b6496e053033"
      },
      "source": [
        "import matplotlib.pyplot as plt\n",
        "plt.plot(peso, altura, '.')\n",
        "# plt.xlim(0, max(peso) + 20)\n",
        "# plt.ylim(0, max(altura) + 20)\n",
        "plt.show()"
      ],
      "execution_count": 56,
      "outputs": [
        {
          "output_type": "display_data",
          "data": {
            "image/png": "[encoded data removed]",
            "text/plain": [
              "<Figure size 432x288 with 1 Axes>"
            ]
          },
          "metadata": {
            "tags": [],
            "needs_background": "light"
          }
        }
      ]
    },
    {
      "cell_type": "markdown",
      "metadata": {
        "id": "wOMmDpTwxdtx"
      },
      "source": [
        "Trabalhando com tabelas - *dataframes*"
      ]
    },
    {
      "cell_type": "code",
      "metadata": {
        "id": "qG6zUnPixuzC"
      },
      "source": [
        "import pandas as pd"
      ],
      "execution_count": 58,
      "outputs": []
    },
    {
      "cell_type": "code",
      "metadata": {
        "colab": {
          "base_uri": "https://localhost:8080/",
          "height": 423
        },
        "id": "6PTE4ajyxg0X",
        "outputId": "e00983db-0d4f-49da-9bc0-60083b2c9b25"
      },
      "source": [
        "lepac = pd.DataFrame(columns=['Peso', 'Altura'], data=np.column_stack((peso, altura)))\n",
        "lepac"
      ],
      "execution_count": 59,
      "outputs": [
        {
          "output_type": "execute_result",
          "data": {
            "text/html": [
              "<div>\n",
              "<style scoped>\n",
              "    .dataframe tbody tr th:only-of-type {\n",
              "        vertical-align: middle;\n",
              "    }\n",
              "\n",
              "    .dataframe tbody tr th {\n",
              "        vertical-align: top;\n",
              "    }\n",
              "\n",
              "    .dataframe thead th {\n",
              "        text-align: right;\n",
              "    }\n",
              "</style>\n",
              "<table border=\"1\" class=\"dataframe\">\n",
              "  <thead>\n",
              "    <tr style=\"text-align: right;\">\n",
              "      <th></th>\n",
              "      <th>Peso</th>\n",
              "      <th>Altura</th>\n",
              "    </tr>\n",
              "  </thead>\n",
              "  <tbody>\n",
              "    <tr>\n",
              "      <th>0</th>\n",
              "      <td>50.000000</td>\n",
              "      <td>1.400000</td>\n",
              "    </tr>\n",
              "    <tr>\n",
              "      <th>1</th>\n",
              "      <td>50.707071</td>\n",
              "      <td>1.406061</td>\n",
              "    </tr>\n",
              "    <tr>\n",
              "      <th>2</th>\n",
              "      <td>51.414141</td>\n",
              "      <td>1.412121</td>\n",
              "    </tr>\n",
              "    <tr>\n",
              "      <th>3</th>\n",
              "      <td>52.121212</td>\n",
              "      <td>1.418182</td>\n",
              "    </tr>\n",
              "    <tr>\n",
              "      <th>4</th>\n",
              "      <td>52.828283</td>\n",
              "      <td>1.424242</td>\n",
              "    </tr>\n",
              "    <tr>\n",
              "      <th>...</th>\n",
              "      <td>...</td>\n",
              "      <td>...</td>\n",
              "    </tr>\n",
              "    <tr>\n",
              "      <th>95</th>\n",
              "      <td>117.171717</td>\n",
              "      <td>1.975758</td>\n",
              "    </tr>\n",
              "    <tr>\n",
              "      <th>96</th>\n",
              "      <td>117.878788</td>\n",
              "      <td>1.981818</td>\n",
              "    </tr>\n",
              "    <tr>\n",
              "      <th>97</th>\n",
              "      <td>118.585859</td>\n",
              "      <td>1.987879</td>\n",
              "    </tr>\n",
              "    <tr>\n",
              "      <th>98</th>\n",
              "      <td>119.292929</td>\n",
              "      <td>1.993939</td>\n",
              "    </tr>\n",
              "    <tr>\n",
              "      <th>99</th>\n",
              "      <td>120.000000</td>\n",
              "      <td>2.000000</td>\n",
              "    </tr>\n",
              "  </tbody>\n",
              "</table>\n",
              "<p>100 rows × 2 columns</p>\n",
              "</div>"
            ],
            "text/plain": [
              "          Peso    Altura\n",
              "0    50.000000  1.400000\n",
              "1    50.707071  1.406061\n",
              "2    51.414141  1.412121\n",
              "3    52.121212  1.418182\n",
              "4    52.828283  1.424242\n",
              "..         ...       ...\n",
              "95  117.171717  1.975758\n",
              "96  117.878788  1.981818\n",
              "97  118.585859  1.987879\n",
              "98  119.292929  1.993939\n",
              "99  120.000000  2.000000\n",
              "\n",
              "[100 rows x 2 columns]"
            ]
          },
          "metadata": {
            "tags": []
          },
          "execution_count": 59
        }
      ]
    },
    {
      "cell_type": "markdown",
      "metadata": {
        "id": "e-QdPgGqxttd"
      },
      "source": [
        "Calculando o IMC de forma eficiente"
      ]
    },
    {
      "cell_type": "code",
      "metadata": {
        "id": "7VJhpao7x0sJ"
      },
      "source": [
        "lepac['IMC'] = lepac['Peso'] / (lepac['Altura']**2) "
      ],
      "execution_count": 61,
      "outputs": []
    },
    {
      "cell_type": "code",
      "metadata": {
        "colab": {
          "base_uri": "https://localhost:8080/",
          "height": 423
        },
        "id": "aWPma-JIx7FW",
        "outputId": "d2629689-13e6-47b6-f226-3b90e29e11ed"
      },
      "source": [
        "lepac"
      ],
      "execution_count": 62,
      "outputs": [
        {
          "output_type": "execute_result",
          "data": {
            "text/html": [
              "<div>\n",
              "<style scoped>\n",
              "    .dataframe tbody tr th:only-of-type {\n",
              "        vertical-align: middle;\n",
              "    }\n",
              "\n",
              "    .dataframe tbody tr th {\n",
              "        vertical-align: top;\n",
              "    }\n",
              "\n",
              "    .dataframe thead th {\n",
              "        text-align: right;\n",
              "    }\n",
              "</style>\n",
              "<table border=\"1\" class=\"dataframe\">\n",
              "  <thead>\n",
              "    <tr style=\"text-align: right;\">\n",
              "      <th></th>\n",
              "      <th>Peso</th>\n",
              "      <th>Altura</th>\n",
              "      <th>IMC</th>\n",
              "    </tr>\n",
              "  </thead>\n",
              "  <tbody>\n",
              "    <tr>\n",
              "      <th>0</th>\n",
              "      <td>50.000000</td>\n",
              "      <td>1.400000</td>\n",
              "      <td>25.510204</td>\n",
              "    </tr>\n",
              "    <tr>\n",
              "      <th>1</th>\n",
              "      <td>50.707071</td>\n",
              "      <td>1.406061</td>\n",
              "      <td>25.648410</td>\n",
              "    </tr>\n",
              "    <tr>\n",
              "      <th>2</th>\n",
              "      <td>51.414141</td>\n",
              "      <td>1.412121</td>\n",
              "      <td>25.783308</td>\n",
              "    </tr>\n",
              "    <tr>\n",
              "      <th>3</th>\n",
              "      <td>52.121212</td>\n",
              "      <td>1.418182</td>\n",
              "      <td>25.914968</td>\n",
              "    </tr>\n",
              "    <tr>\n",
              "      <th>4</th>\n",
              "      <td>52.828283</td>\n",
              "      <td>1.424242</td>\n",
              "      <td>26.043459</td>\n",
              "    </tr>\n",
              "    <tr>\n",
              "      <th>...</th>\n",
              "      <td>...</td>\n",
              "      <td>...</td>\n",
              "      <td>...</td>\n",
              "    </tr>\n",
              "    <tr>\n",
              "      <th>95</th>\n",
              "      <td>117.171717</td>\n",
              "      <td>1.975758</td>\n",
              "      <td>30.016184</td>\n",
              "    </tr>\n",
              "    <tr>\n",
              "      <th>96</th>\n",
              "      <td>117.878788</td>\n",
              "      <td>1.981818</td>\n",
              "      <td>30.012906</td>\n",
              "    </tr>\n",
              "    <tr>\n",
              "      <th>97</th>\n",
              "      <td>118.585859</td>\n",
              "      <td>1.987879</td>\n",
              "      <td>30.009109</td>\n",
              "    </tr>\n",
              "    <tr>\n",
              "      <th>98</th>\n",
              "      <td>119.292929</td>\n",
              "      <td>1.993939</td>\n",
              "      <td>30.004804</td>\n",
              "    </tr>\n",
              "    <tr>\n",
              "      <th>99</th>\n",
              "      <td>120.000000</td>\n",
              "      <td>2.000000</td>\n",
              "      <td>30.000000</td>\n",
              "    </tr>\n",
              "  </tbody>\n",
              "</table>\n",
              "<p>100 rows × 3 columns</p>\n",
              "</div>"
            ],
            "text/plain": [
              "          Peso    Altura        IMC\n",
              "0    50.000000  1.400000  25.510204\n",
              "1    50.707071  1.406061  25.648410\n",
              "2    51.414141  1.412121  25.783308\n",
              "3    52.121212  1.418182  25.914968\n",
              "4    52.828283  1.424242  26.043459\n",
              "..         ...       ...        ...\n",
              "95  117.171717  1.975758  30.016184\n",
              "96  117.878788  1.981818  30.012906\n",
              "97  118.585859  1.987879  30.009109\n",
              "98  119.292929  1.993939  30.004804\n",
              "99  120.000000  2.000000  30.000000\n",
              "\n",
              "[100 rows x 3 columns]"
            ]
          },
          "metadata": {
            "tags": []
          },
          "execution_count": 62
        }
      ]
    },
    {
      "cell_type": "code",
      "metadata": {
        "colab": {
          "base_uri": "https://localhost:8080/",
          "height": 391
        },
        "id": "Ki1KEYABx-ZF",
        "outputId": "64c6f60f-4711-47ba-f925-74d6425012bc"
      },
      "source": [
        "lepac['IMC'].plot(kind='hist', figsize=(8,6))"
      ],
      "execution_count": 70,
      "outputs": [
        {
          "output_type": "execute_result",
          "data": {
            "text/plain": [
              "<matplotlib.axes._subplots.AxesSubplot at 0x7fee3dba2fd0>"
            ]
          },
          "metadata": {
            "tags": []
          },
          "execution_count": 70
        },
        {
          "output_type": "display_data",
          "data": {
            "image/png": "[encoded data removed]",
            "text/plain": [
              "<Figure size 576x432 with 1 Axes>"
            ]
          },
          "metadata": {
            "tags": [],
            "needs_background": "light"
          }
        }
      ]
    },
    {
      "cell_type": "code",
      "metadata": {
        "colab": {
          "base_uri": "https://localhost:8080/",
          "height": 265
        },
        "id": "2t51049VyT6o",
        "outputId": "d879b807-b012-4303-c53c-1c204fa97a19"
      },
      "source": [
        "lepac['Peso'].plot(kind='box')\n",
        "plt.show()"
      ],
      "execution_count": 71,
      "outputs": [
        {
          "output_type": "display_data",
          "data": {
            "image/png": "[encoded data removed]",
            "text/plain": [
              "<Figure size 432x288 with 1 Axes>"
            ]
          },
          "metadata": {
            "tags": [],
            "needs_background": "light"
          }
        }
      ]
    },
    {
      "cell_type": "markdown",
      "metadata": {
        "id": "LNaEo0xWtX9b"
      },
      "source": [
        "# Exercícios!"
      ]
    },
    {
      "cell_type": "markdown",
      "metadata": {
        "id": "QdAIFNWgtaCy"
      },
      "source": [
        "### Crie uma variável para cada nome seu. Em seguida imprima na tela de forma \"bonita\" usando a função `print()`"
      ]
    },
    {
      "cell_type": "code",
      "metadata": {
        "id": "VUQAWLCZtoOk"
      },
      "source": [
        "nome = 'João'"
      ],
      "execution_count": 81,
      "outputs": []
    },
    {
      "cell_type": "code",
      "metadata": {
        "id": "1o-t8pUitoLp"
      },
      "source": [
        "segundo_nome = 'Vítor'"
      ],
      "execution_count": 82,
      "outputs": []
    },
    {
      "cell_type": "code",
      "metadata": {
        "id": "0SWR8oaktoE6"
      },
      "source": [
        "sobrenome = 'Souza'"
      ],
      "execution_count": 83,
      "outputs": []
    },
    {
      "cell_type": "code",
      "metadata": {
        "id": "CoalNO8ttoA5",
        "colab": {
          "base_uri": "https://localhost:8080/"
        },
        "outputId": "d112f5af-b194-4b02-f48d-1667dcf18855"
      },
      "source": [
        "print('Meu nome é', nome, segundo_nome, sobrenome)"
      ],
      "execution_count": 84,
      "outputs": [
        {
          "output_type": "stream",
          "text": [
            "Meu nome é João Vítor Souza\n"
          ],
          "name": "stdout"
        }
      ]
    },
    {
      "cell_type": "markdown",
      "metadata": {
        "id": "TSFZb7nKtpK3"
      },
      "source": [
        "### Crie uma variável para sua altura, outra para seu peso e por fim, uma que armazene o resultado do seu IMC\n",
        "\n",
        "Lembrando que a fórmula é IMC = Peso(kg)/(altura²)"
      ]
    },
    {
      "cell_type": "code",
      "metadata": {
        "id": "jiMMh6YOX-xQ"
      },
      "source": [
        "peso = 96"
      ],
      "execution_count": 77,
      "outputs": []
    },
    {
      "cell_type": "code",
      "metadata": {
        "id": "boT5JrpyX-hM"
      },
      "source": [
        "altura = 1.9"
      ],
      "execution_count": 78,
      "outputs": []
    },
    {
      "cell_type": "code",
      "metadata": {
        "id": "Q6EnVXzLX-bd"
      },
      "source": [
        "imc = peso / (altura**2)"
      ],
      "execution_count": 79,
      "outputs": []
    },
    {
      "cell_type": "code",
      "metadata": {
        "id": "KNoo6RqmX-Ve",
        "colab": {
          "base_uri": "https://localhost:8080/"
        },
        "outputId": "59343404-54aa-4250-972c-6958359611bc"
      },
      "source": [
        "imc"
      ],
      "execution_count": 80,
      "outputs": [
        {
          "output_type": "execute_result",
          "data": {
            "text/plain": [
              "26.59279778393352"
            ]
          },
          "metadata": {
            "tags": []
          },
          "execution_count": 80
        }
      ]
    },
    {
      "cell_type": "markdown",
      "metadata": {
        "id": "OZyVDzEI4hwB"
      },
      "source": [
        "### Crie duas listas para armazenar os nomes e idades de pessoas da sua família, em seguida use o método `print()` para obter uma frase bem feitinha"
      ]
    },
    {
      "cell_type": "code",
      "metadata": {
        "id": "Ev7-qqIe4yW6"
      },
      "source": [
        "nomes =  ['João Vítor', 'João', 'Renata', 'Letícia', 'Nico']\n",
        "idades = [25, 53, 52, 26, 2]"
      ],
      "execution_count": 72,
      "outputs": []
    },
    {
      "cell_type": "code",
      "metadata": {
        "colab": {
          "base_uri": "https://localhost:8080/"
        },
        "id": "JJaNSrB45Dpu",
        "outputId": "6216fa0b-83d6-410c-b979-87900295f4d8"
      },
      "source": [
        "print('O', nomes[0], 'tem', idades[0], 'anos de idade')"
      ],
      "execution_count": 73,
      "outputs": [
        {
          "output_type": "stream",
          "text": [
            "O João Vítor tem 25 anos de idade\n"
          ],
          "name": "stdout"
        }
      ]
    },
    {
      "cell_type": "code",
      "metadata": {
        "colab": {
          "base_uri": "https://localhost:8080/"
        },
        "id": "hbBaDE6X5NTR",
        "outputId": "a82e3098-dd51-479a-9de6-f584371c13a7"
      },
      "source": [
        "print('O', nomes[1], 'tem', idades[1], 'anos de idade')"
      ],
      "execution_count": 74,
      "outputs": [
        {
          "output_type": "stream",
          "text": [
            "O João tem 53 anos de idade\n"
          ],
          "name": "stdout"
        }
      ]
    },
    {
      "cell_type": "code",
      "metadata": {
        "colab": {
          "base_uri": "https://localhost:8080/"
        },
        "id": "7fJj_Czc5QwY",
        "outputId": "47057701-bc1a-4193-bcf9-c8fbed009355"
      },
      "source": [
        "print('A', nomes[2], 'tem', idades[2], 'anos de idade')"
      ],
      "execution_count": 75,
      "outputs": [
        {
          "output_type": "stream",
          "text": [
            "A Renata tem 52 anos de idade\n"
          ],
          "name": "stdout"
        }
      ]
    },
    {
      "cell_type": "markdown",
      "metadata": {
        "id": "s6UQWnbW5UXQ"
      },
      "source": [
        "Uma versão mais eficente! E um pouco mais complexa também hehe"
      ]
    },
    {
      "cell_type": "code",
      "metadata": {
        "colab": {
          "base_uri": "https://localhost:8080/"
        },
        "id": "aM-vumvz5Y5b",
        "outputId": "0608a6f4-247d-4764-a5b7-4767dd708bbe"
      },
      "source": [
        "for i in range(len(nomes)):\n",
        "    print(f'{nomes[i]} tem {idades[i]} anos de idade')"
      ],
      "execution_count": 76,
      "outputs": [
        {
          "output_type": "stream",
          "text": [
            "João Vítor tem 25 anos de idade\n",
            "João tem 53 anos de idade\n",
            "Renata tem 52 anos de idade\n",
            "Letícia tem 26 anos de idade\n",
            "Nico tem 2 anos de idade\n"
          ],
          "name": "stdout"
        }
      ]
    }
  ]
}