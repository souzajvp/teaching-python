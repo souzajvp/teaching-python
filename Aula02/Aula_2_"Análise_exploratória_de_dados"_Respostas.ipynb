{
  "nbformat": 4,
  "nbformat_minor": 0,
  "metadata": {
    "colab": {
      "name": "Aula_2_\"Análise_exploratória_de_dados\"_Respostas.ipynb",
      "provenance": [],
      "authorship_tag": "ABX9TyPqX2hJT1ez8/8tOrMDoC2H",
      "include_colab_link": true
    },
    "kernelspec": {
      "name": "python3",
      "display_name": "Python 3"
    },
    "language_info": {
      "name": "python"
    }
  },
  "cells": [
    {
      "cell_type": "markdown",
      "metadata": {
        "id": "view-in-github",
        "colab_type": "text"
      },
      "source": [
        "<a href=\"https://colab.research.google.com/github/souzajvp/teaching-python/blob/main/Aula02/Aula_2_%22An%C3%A1lise_explorat%C3%B3ria_de_dados%22_Respostas.ipynb\" target=\"_parent\"><img src=\"https://colab.research.google.com/assets/colab-badge.svg\" alt=\"Open In Colab\"/></a>"
      ]
    },
    {
      "cell_type": "markdown",
      "metadata": {
        "id": "4DLnf1dDU8LI"
      },
      "source": [
        "# Revisão da última aula"
      ]
    },
    {
      "cell_type": "markdown",
      "metadata": {
        "id": "tCPKQKuPVRGJ"
      },
      "source": [
        "1. Crie uma variável para cada nome seu. Em seguida imprima na tela de forma \"bonita\" usando a função print()"
      ]
    },
    {
      "cell_type": "code",
      "metadata": {
        "id": "vQRwE2CPVOx_"
      },
      "source": [
        "nome = 'João'"
      ],
      "execution_count": 1,
      "outputs": []
    },
    {
      "cell_type": "code",
      "metadata": {
        "id": "ylDNBfmRVYf7"
      },
      "source": [
        "segundo_nome = 'Vítor'"
      ],
      "execution_count": 2,
      "outputs": []
    },
    {
      "cell_type": "code",
      "metadata": {
        "id": "HQ7lKRZKVadq"
      },
      "source": [
        "sobrenome = 'Souza'"
      ],
      "execution_count": 80,
      "outputs": []
    },
    {
      "cell_type": "code",
      "metadata": {
        "colab": {
          "base_uri": "https://localhost:8080/"
        },
        "id": "l7lq8_HBVcaq",
        "outputId": "b6d7d6e3-b777-434b-dc4b-5d39c5ca6c9d"
      },
      "source": [
        "print('Meu nome é', nome, segundo_nome, sobrenome)"
      ],
      "execution_count": 4,
      "outputs": [
        {
          "output_type": "stream",
          "text": [
            "Meu nome é João Vítor Souza\n"
          ],
          "name": "stdout"
        }
      ]
    },
    {
      "cell_type": "markdown",
      "metadata": {
        "id": "7DbMaZqAVgja"
      },
      "source": [
        "2. Crie uma variável para sua altura, outra para seu peso e por fim, uma que armazene o resultado do seu IMC  "
      ]
    },
    {
      "cell_type": "code",
      "metadata": {
        "id": "IAkZRy9pVjdS"
      },
      "source": [
        "peso = 96"
      ],
      "execution_count": 5,
      "outputs": []
    },
    {
      "cell_type": "code",
      "metadata": {
        "id": "dy4aYtBiVlQC"
      },
      "source": [
        "altura = 1.9"
      ],
      "execution_count": 6,
      "outputs": []
    },
    {
      "cell_type": "code",
      "metadata": {
        "id": "5DaJpCbBVmos"
      },
      "source": [
        "imc = peso / (altura**2)"
      ],
      "execution_count": 7,
      "outputs": []
    },
    {
      "cell_type": "code",
      "metadata": {
        "colab": {
          "base_uri": "https://localhost:8080/"
        },
        "id": "sRWfWNBrVowa",
        "outputId": "87e5faa9-4684-44f5-a6e4-ec44768744a4"
      },
      "source": [
        "imc"
      ],
      "execution_count": 9,
      "outputs": [
        {
          "output_type": "execute_result",
          "data": {
            "text/plain": [
              "26.59279778393352"
            ]
          },
          "metadata": {
            "tags": []
          },
          "execution_count": 9
        }
      ]
    },
    {
      "cell_type": "markdown",
      "metadata": {
        "id": "TApqIMQoVquT"
      },
      "source": [
        "3. Crie duas listas para armazenar os nomes e idades de pessoas da sua família, em seguida use o método print() para obter uma frase bem feitinha"
      ]
    },
    {
      "cell_type": "code",
      "metadata": {
        "id": "yueGWvuzVtZS"
      },
      "source": [
        "nomes =  ['João Vítor', 'João', 'Renata', 'Letícia', 'Nico']\n",
        "idades = [25, 53, 52, 26, 2]"
      ],
      "execution_count": 10,
      "outputs": []
    },
    {
      "cell_type": "code",
      "metadata": {
        "colab": {
          "base_uri": "https://localhost:8080/"
        },
        "id": "YpjqhPDqVw9D",
        "outputId": "41db437a-579f-429b-dbe6-74fe5f274eba"
      },
      "source": [
        "print('O', nomes[0], 'tem', idades[0], 'anos de idade')"
      ],
      "execution_count": 11,
      "outputs": [
        {
          "output_type": "stream",
          "text": [
            "O João Vítor tem 25 anos de idade\n"
          ],
          "name": "stdout"
        }
      ]
    },
    {
      "cell_type": "code",
      "metadata": {
        "colab": {
          "base_uri": "https://localhost:8080/"
        },
        "id": "8lKi8ofMVyZE",
        "outputId": "73d0f362-10e1-49b0-f3e8-5697a8f21fe5"
      },
      "source": [
        "print('O', nomes[1], 'tem', idades[1], 'anos de idade')"
      ],
      "execution_count": 12,
      "outputs": [
        {
          "output_type": "stream",
          "text": [
            "O João tem 53 anos de idade\n"
          ],
          "name": "stdout"
        }
      ]
    },
    {
      "cell_type": "code",
      "metadata": {
        "colab": {
          "base_uri": "https://localhost:8080/"
        },
        "id": "2RmKh8maVzVk",
        "outputId": "7c342c73-d4c4-4458-c577-e0acd0b5d63e"
      },
      "source": [
        "print('A', nomes[2], 'tem', idades[2], 'anos de idade')"
      ],
      "execution_count": 13,
      "outputs": [
        {
          "output_type": "stream",
          "text": [
            "A Renata tem 52 anos de idade\n"
          ],
          "name": "stdout"
        }
      ]
    },
    {
      "cell_type": "code",
      "metadata": {
        "colab": {
          "base_uri": "https://localhost:8080/"
        },
        "id": "S-of3OCWV04i",
        "outputId": "2d8221e5-42ce-463f-bf03-ebf69e8e0bcc"
      },
      "source": [
        "for i in range(len(nomes)):\n",
        "    print(f'{nomes[i]} tem {idades[i]} anos de idade')"
      ],
      "execution_count": 14,
      "outputs": [
        {
          "output_type": "stream",
          "text": [
            "João Vítor tem 25 anos de idade\n",
            "João tem 53 anos de idade\n",
            "Renata tem 52 anos de idade\n",
            "Letícia tem 26 anos de idade\n",
            "Nico tem 2 anos de idade\n"
          ],
          "name": "stdout"
        }
      ]
    },
    {
      "cell_type": "markdown",
      "metadata": {
        "id": "jGioliEdMfMC"
      },
      "source": [
        "# Explorando dados usando python!\n",
        "\n",
        "Uma das primeiras coisas que devemos fazer em um projeto é explorar nossos dados e entender como eles se comportam.\n",
        "***\n",
        "Para criar um exemplo bem comum, vamos trabalhar **com um conjunto de 10 moléculas** que foram testadas contra *Mycobacterium tuberculosis* no nosso laboratório.\n",
        "\n",
        "Temos as informações das concentrações inibitórias mínimas (CIM) destas moléculas e queremos avaliar de forma geral quais conclusões podem ser tiradas destes resultados.\n",
        "\n"
      ]
    },
    {
      "cell_type": "code",
      "metadata": {
        "id": "q4sLO-pIPwY5"
      },
      "source": [
        "cim = [2,8,6,24,52,125,512,32,2,0.2]"
      ],
      "execution_count": 82,
      "outputs": []
    },
    {
      "cell_type": "markdown",
      "metadata": {
        "id": "IAwLdVQWWUB2"
      },
      "source": [
        "# Média e  mediana\n",
        "Quando vamos avaliar nossos dados, é muito comum que precisemos resumir as informações em uma única medida.\n",
        "\n",
        "Para isso, podemos usar algumas medidas de centralidade como:"
      ]
    },
    {
      "cell_type": "markdown",
      "metadata": {
        "id": "dGbaVpyYY5LQ"
      },
      "source": [
        "## Média\n",
        "A média procura resumir todos os nossos dados em um único número. Ou seja, **é uma medida capaz de concentrar as informações dos nossos dados**.\n",
        "\n",
        "**Obs:** `média = soma de todos os itens / quantidade de itens`"
      ]
    },
    {
      "cell_type": "markdown",
      "metadata": {
        "id": "LKxi6zsnZvpv"
      },
      "source": [
        "Existem diversos jeitos de fazer uma coisa usando python!\n",
        "***\n",
        "\n",
        "1. Usando variáveis para calcular a média"
      ]
    },
    {
      "cell_type": "code",
      "metadata": {
        "id": "hh3xlcwhZA32"
      },
      "source": [
        "soma = (2+8+6+24+52+125+512+32+2+0.2)"
      ],
      "execution_count": 84,
      "outputs": []
    },
    {
      "cell_type": "code",
      "metadata": {
        "id": "AyXNSo8uRJwJ"
      },
      "source": [
        "elementos = 10"
      ],
      "execution_count": 85,
      "outputs": []
    },
    {
      "cell_type": "code",
      "metadata": {
        "colab": {
          "base_uri": "https://localhost:8080/"
        },
        "id": "RCilEyDTROhz",
        "outputId": "3148b338-1c6c-49c1-d089-0257c743564f"
      },
      "source": [
        "media = soma/elementos\n",
        "media"
      ],
      "execution_count": 86,
      "outputs": [
        {
          "output_type": "execute_result",
          "data": {
            "text/plain": [
              "76.32000000000001"
            ]
          },
          "metadata": {
            "tags": []
          },
          "execution_count": 86
        }
      ]
    },
    {
      "cell_type": "markdown",
      "metadata": {
        "id": "QK2xcfDeZ4CM"
      },
      "source": [
        "2. Usando as funções *built-in* `sum()` e `len()`.\n",
        "\n",
        "**Obs**: `sum()` = soma; `len()` vem de length = comprimento"
      ]
    },
    {
      "cell_type": "code",
      "metadata": {
        "colab": {
          "base_uri": "https://localhost:8080/"
        },
        "id": "_kqZxYv5aDEz",
        "outputId": "1d0ab83b-9d8c-48ac-8887-3e1d774e89f1"
      },
      "source": [
        "cim"
      ],
      "execution_count": 83,
      "outputs": [
        {
          "output_type": "execute_result",
          "data": {
            "text/plain": [
              "[2, 8, 6, 24, 52, 125, 512, 32, 2, 0.2]"
            ]
          },
          "metadata": {
            "tags": []
          },
          "execution_count": 83
        }
      ]
    },
    {
      "cell_type": "code",
      "metadata": {
        "colab": {
          "base_uri": "https://localhost:8080/"
        },
        "id": "vfr4812CRYR2",
        "outputId": "33e1a698-0007-4a4b-c34a-c1be0316a0e7"
      },
      "source": [
        "sum(cim)"
      ],
      "execution_count": 87,
      "outputs": [
        {
          "output_type": "execute_result",
          "data": {
            "text/plain": [
              "763.2"
            ]
          },
          "metadata": {
            "tags": []
          },
          "execution_count": 87
        }
      ]
    },
    {
      "cell_type": "code",
      "metadata": {
        "colab": {
          "base_uri": "https://localhost:8080/"
        },
        "id": "nmZQncqxRZgm",
        "outputId": "d79d7678-f377-489b-9798-bb9a865a86e4"
      },
      "source": [
        "len(cim)"
      ],
      "execution_count": 88,
      "outputs": [
        {
          "output_type": "execute_result",
          "data": {
            "text/plain": [
              "10"
            ]
          },
          "metadata": {
            "tags": []
          },
          "execution_count": 88
        }
      ]
    },
    {
      "cell_type": "code",
      "metadata": {
        "colab": {
          "base_uri": "https://localhost:8080/"
        },
        "id": "B1lv9s3KaKCt",
        "outputId": "8b3036c4-3f7f-49d0-d4d9-5a9ea6162298"
      },
      "source": [
        "media = sum(cim)/len(cim)\n",
        "media"
      ],
      "execution_count": 18,
      "outputs": [
        {
          "output_type": "execute_result",
          "data": {
            "text/plain": [
              "76.32000000000001"
            ]
          },
          "metadata": {
            "tags": []
          },
          "execution_count": 18
        }
      ]
    },
    {
      "cell_type": "markdown",
      "metadata": {
        "id": "WPMYqiE9aVFA"
      },
      "source": [
        "3. Usando a função `np.mean()` do pacote numpy."
      ]
    },
    {
      "cell_type": "code",
      "metadata": {
        "id": "rBlrEiv_adPr"
      },
      "source": [
        "import numpy as np"
      ],
      "execution_count": 21,
      "outputs": []
    },
    {
      "cell_type": "code",
      "metadata": {
        "colab": {
          "base_uri": "https://localhost:8080/"
        },
        "id": "A-KLa_FMaXmn",
        "outputId": "df876f0c-65d7-41ff-e8e4-796748ae6b35"
      },
      "source": [
        "media = np.mean(cim)\n",
        "media"
      ],
      "execution_count": 24,
      "outputs": [
        {
          "output_type": "execute_result",
          "data": {
            "text/plain": [
              "76.32000000000001"
            ]
          },
          "metadata": {
            "tags": []
          },
          "execution_count": 24
        }
      ]
    },
    {
      "cell_type": "markdown",
      "metadata": {
        "id": "UeYtQ_mnalKW"
      },
      "source": [
        "### Reportando os resultados!"
      ]
    },
    {
      "cell_type": "code",
      "metadata": {
        "colab": {
          "base_uri": "https://localhost:8080/"
        },
        "id": "VaD8ZPY7aofa",
        "outputId": "2b963210-1097-4a5a-fa01-561a81a4c0d5"
      },
      "source": [
        "print('Os 10 compostos testados apresentaram uma CIM média de', round(media,2), 'µg/mL contra M. tuberculosis')"
      ],
      "execution_count": 26,
      "outputs": [
        {
          "output_type": "stream",
          "text": [
            "Os 10 compostos testados apresentaram uma CIM média de 76.32 µg/mL contra M. tuberculosis\n"
          ],
          "name": "stdout"
        }
      ]
    },
    {
      "cell_type": "markdown",
      "metadata": {
        "id": "DiWfgHwURm4h"
      },
      "source": [
        "<font color='red'> >> </font>O que esssa média isso nos diz?"
      ]
    },
    {
      "cell_type": "markdown",
      "metadata": {
        "id": "NRky9e_dbG5c"
      },
      "source": [
        "## Mediana e quartis\n",
        "Nem sempre a média é capaz de representar nossos dados adequadamente.\n",
        "***\n",
        "\n",
        "\n",
        "Exemplo: *Eu ganho R\\$ 10.000,00 por mês. Meu amigo está desempregado, logo ele ganha R\\$ 0,00 por mês.*"
      ]
    },
    {
      "cell_type": "code",
      "metadata": {
        "colab": {
          "base_uri": "https://localhost:8080/"
        },
        "id": "f6eRexVPbvdy",
        "outputId": "41fa3b0a-280a-40f7-ae52-00f7ae295fa6"
      },
      "source": [
        "media_salario = np.mean([10000, 0])\n",
        "print(\"Eu e meu amigo ganhamos em média R$\", media_salario, \"por mês.\")"
      ],
      "execution_count": 27,
      "outputs": [
        {
          "output_type": "stream",
          "text": [
            "Eu e meu amigo ganhamos em média R$ 5000.0 por mês.\n"
          ],
          "name": "stdout"
        }
      ]
    },
    {
      "cell_type": "markdown",
      "metadata": {
        "id": "uqNSDXxpcCUm"
      },
      "source": [
        "<font color='red'> >> </font>Isso é errado (ou pelo menos inadequado)!\n",
        "\n",
        "<font color='blue'> >> </font>Uma métrica que pode nos ajudar a analisar a distribuição dos nossos dados é a **mediana**.\n",
        "\n",
        "A mediana nos diz que ponto que separa nossos dados em 50%. Podemos calcular a mediana usando a função `np.median()`."
      ]
    },
    {
      "cell_type": "code",
      "metadata": {
        "colab": {
          "base_uri": "https://localhost:8080/"
        },
        "id": "VIKN1YAocjZq",
        "outputId": "286be6bd-9325-460a-d2fc-b30fa6c6ce39"
      },
      "source": [
        "np.median(cim)"
      ],
      "execution_count": 28,
      "outputs": [
        {
          "output_type": "execute_result",
          "data": {
            "text/plain": [
              "16.0"
            ]
          },
          "metadata": {
            "tags": []
          },
          "execution_count": 28
        }
      ]
    },
    {
      "cell_type": "markdown",
      "metadata": {
        "id": "3JZY0Z3bcuaY"
      },
      "source": [
        "<font color='blue'>>></font>Basicamente, temos que 50% dos nossos compostos tem CIM menor ou igual a 16.0 e que a outra metade tem CIM maior que 16.0."
      ]
    },
    {
      "cell_type": "markdown",
      "metadata": {
        "id": "MCvy2uIocPBU"
      },
      "source": [
        "### Além da mediana, que separa nossos dados em metades, podemos usar outras métricas como os quartis:\n",
        "1. Primeiro quartil (q1) = 25%;\n",
        "2. Segundo quartil (q2) = 50% = mediana;\n",
        "3. Terceiro quartil (q3) = 75%.\n",
        "\n",
        "Basicamente, cada quartil representa uma certa fatia de 1/4 dos nossos dados!\n",
        "\n",
        "\n",
        "Para calcular os quartis, podemos usar a função `np.quantile()`"
      ]
    },
    {
      "cell_type": "code",
      "metadata": {
        "colab": {
          "base_uri": "https://localhost:8080/"
        },
        "id": "FgGGPYdBdaf-",
        "outputId": "830da74f-2362-4b94-ddd7-f24ea8b52e9f"
      },
      "source": [
        "primeiro_quartil = np.quantile(cim, 0.25)\n",
        "primeiro_quartil"
      ],
      "execution_count": 32,
      "outputs": [
        {
          "output_type": "execute_result",
          "data": {
            "text/plain": [
              "3.0"
            ]
          },
          "metadata": {
            "tags": []
          },
          "execution_count": 32
        }
      ]
    },
    {
      "cell_type": "code",
      "metadata": {
        "colab": {
          "base_uri": "https://localhost:8080/"
        },
        "id": "McDWibM0d4Pz",
        "outputId": "bbf3b99d-9201-4b0c-831c-a852cd06c36b"
      },
      "source": [
        "segundo_quartil = np.quantile(cim, 0.5)\n",
        "segundo_quartil"
      ],
      "execution_count": 34,
      "outputs": [
        {
          "output_type": "execute_result",
          "data": {
            "text/plain": [
              "16.0"
            ]
          },
          "metadata": {
            "tags": []
          },
          "execution_count": 34
        }
      ]
    },
    {
      "cell_type": "markdown",
      "metadata": {
        "id": "EzfZkaKbvA6O"
      },
      "source": [
        "# Desvio padrão\n",
        "Muitas vezes, calcular apenas uma medida de centralidade como a média ou mediana não é o suficiente. Assim, podemos usar **medidas de dispersão** para representar a distribuição dos nossos dados. Uma das medidas mais usadas é o desvio padrão, que nos da uma idea de quanto a quanto os nossos dados variam.\n",
        "\n",
        "De forma simples, podemos calcular o desvio padrão usando a função `np.std()`.\n",
        "\n",
        "**Obs:** std vem de *standard deviation*, que é a tradução de desvio padrão em inglês."
      ]
    },
    {
      "cell_type": "code",
      "metadata": {
        "colab": {
          "base_uri": "https://localhost:8080/"
        },
        "id": "m7UVve5vvOCI",
        "outputId": "cc51aa03-ebcc-46df-f449-1f43a5a5a004"
      },
      "source": [
        "np.std(cim)"
      ],
      "execution_count": 52,
      "outputs": [
        {
          "output_type": "execute_result",
          "data": {
            "text/plain": [
              "149.64411648975712"
            ]
          },
          "metadata": {
            "tags": []
          },
          "execution_count": 52
        }
      ]
    },
    {
      "cell_type": "markdown",
      "metadata": {
        "id": "nJLb_x1Cz52P"
      },
      "source": [
        "<font color='red'> >> </font>O que esse desvio padrão nos informa?"
      ]
    },
    {
      "cell_type": "code",
      "metadata": {
        "colab": {
          "base_uri": "https://localhost:8080/"
        },
        "id": "sTOyAkCe0JvI",
        "outputId": "51e3ab6c-f17d-4c85-b2be-529bc6b4fadd"
      },
      "source": [
        "print('CIMs variam de', np.mean(cim)-np.std(cim),'a', np.mean(cim)+np.std(cim))"
      ],
      "execution_count": 54,
      "outputs": [
        {
          "output_type": "stream",
          "text": [
            "CIMs variam de -73.32411648975712 a 225.96411648975715\n"
          ],
          "name": "stdout"
        }
      ]
    },
    {
      "cell_type": "code",
      "metadata": {
        "colab": {
          "base_uri": "https://localhost:8080/"
        },
        "id": "YBvRK2RrywDQ",
        "outputId": "fa0b05e2-1abd-4bcb-b4df-efc206348eb0"
      },
      "source": [
        "cim"
      ],
      "execution_count": 45,
      "outputs": [
        {
          "output_type": "execute_result",
          "data": {
            "text/plain": [
              "[2, 8, 6, 24, 52, 125, 512, 32, 2, 0.2]"
            ]
          },
          "metadata": {
            "tags": []
          },
          "execution_count": 45
        }
      ]
    },
    {
      "cell_type": "markdown",
      "metadata": {
        "id": "nmgdHnDwv3Ze"
      },
      "source": [
        "### Juntando média e desvio padrão"
      ]
    },
    {
      "cell_type": "code",
      "metadata": {
        "colab": {
          "base_uri": "https://localhost:8080/"
        },
        "id": "-SeY0SeiwEA4",
        "outputId": "5645db6e-082e-4b23-986b-19c9fd6ae9be"
      },
      "source": [
        "print('Os 10 compostos testados apresentaram uma CIM média de', round(media,2), '+-', round(np.std(cim), 2),'µg/mL contra M. tuberculosis')"
      ],
      "execution_count": 38,
      "outputs": [
        {
          "output_type": "stream",
          "text": [
            "Os 10 compostos testados apresentaram uma CIM média de 76.32 +- 149.64 µg/mL contra M. tuberculosis\n"
          ],
          "name": "stdout"
        }
      ]
    },
    {
      "cell_type": "markdown",
      "metadata": {
        "id": "JBKgR9nPv51L"
      },
      "source": [
        "<font color='blue'>>></font> Usando a média o desvio padrão podemos descrever de forma breve os nossos resultados, **sem induzir** erros de leitura (manipular os dados a nosso favor).\n",
        "\n",
        "<font color='red'> **Importante**:</font> É sempre interessante comparar o tamanho do desvio com a média. Um desvio grande indica que a média não está representando seus dados de forma adequada"
      ]
    },
    {
      "cell_type": "code",
      "metadata": {
        "colab": {
          "base_uri": "https://localhost:8080/"
        },
        "id": "ldcR9jlmwn4V",
        "outputId": "000b4299-89f1-4246-8c67-cb4465bc6c44"
      },
      "source": [
        "print('Os 10 compostos testados apresentaram uma CIM média de', round(media,2), '+-', round(np.std(cim), 2),'µg/mL contra M. tuberculosis')\n",
        "print('Além disso, 75% dos compostos aprentaram CIMs de até', np.quantile(cim, 0.75), 'µg/mL')"
      ],
      "execution_count": 41,
      "outputs": [
        {
          "output_type": "stream",
          "text": [
            "Os 10 compostos testados apresentaram uma CIM média de 76.32 +- 149.64 µg/mL contra M. tuberculosis\n",
            "Além disso, 75% dos compostos aprentaram CIMs de até 47.0 µg/mL\n"
          ],
          "name": "stdout"
        }
      ]
    },
    {
      "cell_type": "markdown",
      "metadata": {
        "id": "IF0RagFwxEH0"
      },
      "source": [
        "Com base nessas informações, podemos afirmar que de forma geral os 10 compostos *derivados da piperina* testados neste estudo apresentam atividade promissora contra *M. tuberculosis*."
      ]
    },
    {
      "cell_type": "code",
      "metadata": {
        "colab": {
          "base_uri": "https://localhost:8080/"
        },
        "id": "TeCucyd6xaZ4",
        "outputId": "5012b194-807e-427f-b6cf-767ff7f5e052"
      },
      "source": [
        "print(f'Ainda assim é necessário reportar que um dos derivados apresentou alta CIM ({max(cim)} µg/mL)')"
      ],
      "execution_count": 44,
      "outputs": [
        {
          "output_type": "stream",
          "text": [
            "Ainda assim é necessário reportar que um dos derivados apresentou alta CIM (512 µg/mL)\n"
          ],
          "name": "stdout"
        }
      ]
    },
    {
      "cell_type": "markdown",
      "metadata": {
        "id": "2l6nOb-a1Nwu"
      },
      "source": [
        "# Visualizando tudo isso usando gráficos!"
      ]
    },
    {
      "cell_type": "markdown",
      "metadata": {
        "id": "dcQ6ebYs17-h"
      },
      "source": [
        "## Histograma"
      ]
    },
    {
      "cell_type": "code",
      "metadata": {
        "colab": {
          "base_uri": "https://localhost:8080/",
          "height": 311
        },
        "id": "RKmkL64u1P4l",
        "outputId": "2595eca5-e79c-4f26-f628-ebb3fc396474"
      },
      "source": [
        "import matplotlib.pyplot as plt\n",
        "plt.hist(cim)\n",
        "plt.ylabel('Frequência')\n",
        "plt.xlabel('Concentração inibitória mínima')\n",
        "plt.title('Figura 1. Distribuição das CIMs dos 10 compostos testados',\n",
        "          y=-0.3, fontsize=14)\n",
        "plt.show()"
      ],
      "execution_count": 78,
      "outputs": [
        {
          "output_type": "display_data",
          "data": {
            "image/png": "[encoded data removed]",
            "text/plain": [
              "<Figure size 432x288 with 1 Axes>"
            ]
          },
          "metadata": {
            "tags": [],
            "needs_background": "light"
          }
        }
      ]
    },
    {
      "cell_type": "code",
      "metadata": {
        "colab": {
          "base_uri": "https://localhost:8080/",
          "height": 269
        },
        "id": "Ct4lp2Wm1-Jf",
        "outputId": "6db83e88-b9f2-460c-d3a0-be0310032449"
      },
      "source": [
        "fig, ax = plt.subplots(1,2, figsize=(12,4))\n",
        "\n",
        "ax[0].boxplot(cim)\n",
        "ax[1].boxplot(cim)\n",
        "ax[1].set_ylim(0,100)\n",
        "\n",
        "for a in ax:\n",
        "    a.set_ylabel('Concentração inibitória mínima (µg/mL)')\n",
        "# plt.ylabel('Frequência')\n",
        "# plt.ylabel('Concentração inibitória mínima')\n",
        "# plt.title('Figura 1. Distribuição das CIMs dos 10 compostos testados',\n",
        "#           y=-0.3, fontsize=14)"
      ],
      "execution_count": 77,
      "outputs": [
        {
          "output_type": "display_data",
          "data": {
            "image/png": "[encoded data removed]",
            "text/plain": [
              "<Figure size 864x288 with 2 Axes>"
            ]
          },
          "metadata": {
            "tags": [],
            "needs_background": "light"
          }
        }
      ]
    },
    {
      "cell_type": "markdown",
      "metadata": {
        "id": "vdNUQPu8yPak"
      },
      "source": [
        "# Exercícios"
      ]
    },
    {
      "cell_type": "markdown",
      "metadata": {
        "id": "SRXaJfoVyRua"
      },
      "source": [
        "* Avalie qual a média e o desvio padrão das idades dos seguintes pacientes. Em seguida tente tirar conclusões dos valores encontrados."
      ]
    },
    {
      "cell_type": "code",
      "metadata": {
        "id": "eSsW87d1y_HE"
      },
      "source": [
        "idades = [50,55,63,34,75,55,66,49,51,35,66]"
      ],
      "execution_count": 46,
      "outputs": []
    },
    {
      "cell_type": "code",
      "metadata": {
        "colab": {
          "base_uri": "https://localhost:8080/"
        },
        "id": "ZQInmCBTzHmO",
        "outputId": "875c5a4e-2447-4f26-b4cc-508d4df17ed8"
      },
      "source": [
        "np.mean(idades)"
      ],
      "execution_count": 47,
      "outputs": [
        {
          "output_type": "execute_result",
          "data": {
            "text/plain": [
              "54.45454545454545"
            ]
          },
          "metadata": {
            "tags": []
          },
          "execution_count": 47
        }
      ]
    },
    {
      "cell_type": "code",
      "metadata": {
        "colab": {
          "base_uri": "https://localhost:8080/"
        },
        "id": "0cy4Am6dzJVD",
        "outputId": "36de23cf-0619-4106-c925-d3942e79890a"
      },
      "source": [
        "np.std(idades)"
      ],
      "execution_count": 48,
      "outputs": [
        {
          "output_type": "execute_result",
          "data": {
            "text/plain": [
              "12.138321258526922"
            ]
          },
          "metadata": {
            "tags": []
          },
          "execution_count": 48
        }
      ]
    },
    {
      "cell_type": "markdown",
      "metadata": {
        "id": "M4_QtHYnzLn7"
      },
      "source": [
        "Considerando as idades acima, notamos que os pacientes tem 54 anos de idade, em média. Além disso, também notamos que o desvio é pequeno comparado a média, o que pode indicar que temos uma **concentração de pacientes com idades próximas!**\n"
      ]
    },
    {
      "cell_type": "markdown",
      "metadata": {
        "id": "l6GnuL84zc_Q"
      },
      "source": [
        "* Avalie qual a média e o desvio padrão dos pesos dos seguintes pacientes. Em seguida tente tirar conclusões dos valores encontrados."
      ]
    },
    {
      "cell_type": "code",
      "metadata": {
        "id": "ry81wkihzgz0"
      },
      "source": [
        "pesos = [55,20,77,93,54,110,25,99,66,67,33,115]"
      ],
      "execution_count": 49,
      "outputs": []
    },
    {
      "cell_type": "code",
      "metadata": {
        "colab": {
          "base_uri": "https://localhost:8080/"
        },
        "id": "IUe8zBfQzp2B",
        "outputId": "81b01c42-57cc-44ad-a184-2f0d9b57159d"
      },
      "source": [
        "np.mean(pesos)"
      ],
      "execution_count": 79,
      "outputs": [
        {
          "output_type": "execute_result",
          "data": {
            "text/plain": [
              "67.83333333333333"
            ]
          },
          "metadata": {
            "tags": []
          },
          "execution_count": 79
        }
      ]
    },
    {
      "cell_type": "code",
      "metadata": {
        "colab": {
          "base_uri": "https://localhost:8080/"
        },
        "id": "QQHOkwwpzqkU",
        "outputId": "7d8f4ba9-6734-4521-c205-33f0a600e0a6"
      },
      "source": [
        "np.std(pesos)"
      ],
      "execution_count": 51,
      "outputs": [
        {
          "output_type": "execute_result",
          "data": {
            "text/plain": [
              "30.805392745787582"
            ]
          },
          "metadata": {
            "tags": []
          },
          "execution_count": 51
        }
      ]
    },
    {
      "cell_type": "markdown",
      "metadata": {
        "id": "1IrMAdL6zrsT"
      },
      "source": [
        "Neste caso, notamos que o desvio dos pesos é grande, indicando que temos pacientes com peso reduzido até pesos mais elevados.\n",
        "\n",
        "Isso poderia indicar que temos um grupo de pacientes com diferentes idades!"
      ]
    },
    {
      "cell_type": "markdown",
      "metadata": {
        "id": "anjcUKwP0iDU"
      },
      "source": [
        "* Use a função `print()` para criar frases usando os resultados dos dois exercícios anteriores.\n",
        "\n",
        "**Obs**: Lembre-se de usar a função `round()` para arredondar os valores!"
      ]
    },
    {
      "cell_type": "code",
      "metadata": {
        "colab": {
          "base_uri": "https://localhost:8080/"
        },
        "id": "NHRt0g1S0ty3",
        "outputId": "b4946132-4948-41b2-85e6-b1cbb85572eb"
      },
      "source": [
        "print('A média de idades dos meus pacientes é', round(np.mean(idades),2), '+-', round(np.std(idades), 2))"
      ],
      "execution_count": 56,
      "outputs": [
        {
          "output_type": "stream",
          "text": [
            "A média de idades dos meus pacientes é 54.45 +- 12.14\n"
          ],
          "name": "stdout"
        }
      ]
    },
    {
      "cell_type": "code",
      "metadata": {
        "colab": {
          "base_uri": "https://localhost:8080/"
        },
        "id": "2agx9blJ0_CE",
        "outputId": "56490fd5-db53-4413-d16a-dac19e248cad"
      },
      "source": [
        "print('A média dos pesos dos meus pacientes é de', round(np.mean(pesos),2), '+-', round(np.std(pesos), 2))"
      ],
      "execution_count": 57,
      "outputs": [
        {
          "output_type": "stream",
          "text": [
            "A média dos pesos dos meus pacientes é de 67.83 +- 30.81\n"
          ],
          "name": "stdout"
        }
      ]
    }
  ]
}