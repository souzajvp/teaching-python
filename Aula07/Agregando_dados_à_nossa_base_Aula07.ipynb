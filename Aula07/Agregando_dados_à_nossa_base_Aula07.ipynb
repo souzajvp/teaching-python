{
  "nbformat": 4,
  "nbformat_minor": 0,
  "metadata": {
    "colab": {
      "name": "Agregando dados à nossa base - Aula07.ipynb",
      "provenance": [],
      "authorship_tag": "ABX9TyNEoEEuFuDkD1pB1Iv2bEqa",
      "include_colab_link": true
    },
    "kernelspec": {
      "name": "python3",
      "display_name": "Python 3"
    },
    "language_info": {
      "name": "python"
    }
  },
  "cells": [
    {
      "cell_type": "markdown",
      "metadata": {
        "id": "view-in-github",
        "colab_type": "text"
      },
      "source": [
        "<a href=\"https://colab.research.google.com/github/souzajvp/teaching-python/blob/main/Aula07/Agregando_dados_%C3%A0_nossa_base_Aula07.ipynb\" target=\"_parent\"><img src=\"https://colab.research.google.com/assets/colab-badge.svg\" alt=\"Open In Colab\"/></a>"
      ]
    },
    {
      "cell_type": "markdown",
      "metadata": {
        "id": "hJ9a-1n-npCq"
      },
      "source": [
        "# Importando módulos"
      ]
    },
    {
      "cell_type": "code",
      "metadata": {
        "id": "lP4nAEh8oGHQ"
      },
      "source": [
        "import pandas as pd"
      ],
      "execution_count": 1,
      "outputs": []
    },
    {
      "cell_type": "code",
      "metadata": {
        "id": "Y8WEe8iioN5t"
      },
      "source": [
        "url = 'https://raw.githubusercontent.com/souzajvp/teaching-python/main/dados_tb_pr_2016_aula05.csv'"
      ],
      "execution_count": 2,
      "outputs": []
    },
    {
      "cell_type": "code",
      "metadata": {
        "id": "XkrAR3ffoHkd"
      },
      "source": [
        ""
      ],
      "execution_count": 2,
      "outputs": []
    },
    {
      "cell_type": "markdown",
      "metadata": {
        "id": "BkJQKdwAouZW"
      },
      "source": [
        "## Agregando informações ao nosso banco de dados\n",
        "O diferencial de um pesquisador (ou cientista de dados) é a capacidade de enxergar além dos dados disponíveis. \n",
        "\n",
        "Assim, que tal adicionarmos informações dos municípios do PR para auxiliar nas análises?\n"
      ]
    },
    {
      "cell_type": "markdown",
      "metadata": {
        "id": "v1w947Jiu5aK"
      },
      "source": [
        "Usando o [TabNet](https://datasus.saude.gov.br/informacoes-de-saude-tabnet/), coletei informações populacionais do PR obtidas através do Censo Populacional de 2010. Em seguida, fiz o upload do banco no meu [GitHub](https://github.com/souzajvp/teaching-python/blob/main/pop_parana_2010.csv)."
      ]
    },
    {
      "cell_type": "code",
      "metadata": {
        "id": "wA_Sg9y5vFyL"
      },
      "source": [
        "url = 'https://raw.githubusercontent.com/souzajvp/teaching-python/main/pop_parana_2010.csv'"
      ],
      "execution_count": 3,
      "outputs": []
    },
    {
      "cell_type": "markdown",
      "metadata": {
        "id": "rsFBr112vyNA"
      },
      "source": [
        "Uma característica comum dos bancos de dados extraídos do TabNet é a presença de linhas extras e caracteres incomuns.\n",
        "\n",
        "Assim, vai ser necessário especificar alguns comandos no momento de ler os dados com o `pd.read_csv()`. encoding='ISO-8859-1'"
      ]
    },
    {
      "cell_type": "code",
      "metadata": {
        "collapsed": true,
        "id": "h7hinprOv_K_"
      },
      "source": [
        ""
      ],
      "execution_count": 3,
      "outputs": []
    },
    {
      "cell_type": "markdown",
      "metadata": {
        "id": "vdatlD6dy32W"
      },
      "source": [
        "* `skiprows` e `skipfooter` são usados para pular linhas inicias e finais, respectivamente;\n",
        "* `sep` nos permite especificar qual o separador dos campos utilizado;\n",
        "* `encoding` permite que o pandas leia arquivos com caracteres diferentes do inglês. De modo geral, teremos que usar o encoding para ler bancos em português."
      ]
    },
    {
      "cell_type": "code",
      "metadata": {
        "collapsed": true,
        "id": "VACbhNAkx1_v"
      },
      "source": [
        ""
      ],
      "execution_count": 3,
      "outputs": []
    },
    {
      "cell_type": "markdown",
      "metadata": {
        "id": "fHd5XQq2zTJ3"
      },
      "source": [
        "A coluna `Município` trás uma sequência de 6 dígitos seguida pelo nome da cidade. Este formato não é muito útil para nós.\n",
        "\n",
        "### Modificando dados de uma coluna"
      ]
    },
    {
      "cell_type": "markdown",
      "metadata": {
        "id": "ZsbEubbZzx7u"
      },
      "source": [
        "Para facilitar nosso trabalho, podemos selecionar apenas os primeiros 6 dígitos de cada valor na coluna `Município` e criar uma nova variável. Isso pode ser feito usando o método `.str` do pandas, que nos permite trabalhar com o conteúdo de texto dentro de cada coluna."
      ]
    },
    {
      "cell_type": "code",
      "metadata": {
        "collapsed": true,
        "id": "AN6upSQXzpN0"
      },
      "source": [
        ""
      ],
      "execution_count": 3,
      "outputs": []
    },
    {
      "cell_type": "markdown",
      "metadata": {
        "id": "NAiRFyxR0G-V"
      },
      "source": [
        "Criando a variável `ID_MUNICIP`. \n",
        "\n",
        "**Obs**: aqui vamos usar o mesmo padrão do banco de dados original."
      ]
    },
    {
      "cell_type": "code",
      "metadata": {
        "id": "DSMfU3ll0Je1"
      },
      "source": [
        ""
      ],
      "execution_count": 3,
      "outputs": []
    },
    {
      "cell_type": "markdown",
      "metadata": {
        "id": "tmxdNu-f0XD_"
      },
      "source": [
        "Criando a variável `NOME_MUN`."
      ]
    },
    {
      "cell_type": "code",
      "metadata": {
        "collapsed": true,
        "id": "w0GpRL0s0ZvO"
      },
      "source": [
        ""
      ],
      "execution_count": 3,
      "outputs": []
    },
    {
      "cell_type": "code",
      "metadata": {
        "id": "-e1_x8N90dpQ"
      },
      "source": [
        ""
      ],
      "execution_count": 3,
      "outputs": []
    },
    {
      "cell_type": "code",
      "metadata": {
        "collapsed": true,
        "id": "ZOig077m0s3O"
      },
      "source": [
        ""
      ],
      "execution_count": 3,
      "outputs": []
    },
    {
      "cell_type": "markdown",
      "metadata": {
        "id": "nQQ3_wUk0wRI"
      },
      "source": [
        "### Removendo e renomeando variáveis\n",
        "Após realizar as modificações necessárias, podemos \"limpar o nosso banco\"."
      ]
    },
    {
      "cell_type": "markdown",
      "metadata": {
        "id": "6UTLE3pg1IPg"
      },
      "source": [
        "Para remover colunas podemos:\n",
        "1. Renomear o nosso banco, selecionando apenas as colunas desejadas;\n",
        "2. Usar o método `.drop()`."
      ]
    },
    {
      "cell_type": "code",
      "metadata": {
        "collapsed": true,
        "id": "SvWHZz4C1TIo"
      },
      "source": [
        ""
      ],
      "execution_count": 3,
      "outputs": []
    },
    {
      "cell_type": "code",
      "metadata": {
        "id": "SV36W0lV1g87"
      },
      "source": [
        ""
      ],
      "execution_count": 3,
      "outputs": []
    },
    {
      "cell_type": "markdown",
      "metadata": {
        "id": "NVho4wyb1qvY"
      },
      "source": [
        "Para a função drop, temos que especificar o *axis* (eixo) pois ela funciona para remoção de linhas e colunas. `axis=0` para linhas e `axis=1` para colunas."
      ]
    },
    {
      "cell_type": "markdown",
      "metadata": {
        "id": "yUjK7HAz3p3O"
      },
      "source": [
        "Para renomear colunas, podemos renomear a variável `populacao.columns` com a lista de novos nomes que desejamos. Nesse caso, apenas queremos mudar o nome da primeira variável (2010), assim vamos repetir os nomes das outras e alterar o primeiro para `POP_2010`."
      ]
    },
    {
      "cell_type": "code",
      "metadata": {
        "id": "8gtWTChl30G1"
      },
      "source": [
        ""
      ],
      "execution_count": 3,
      "outputs": []
    },
    {
      "cell_type": "markdown",
      "metadata": {
        "id": "ulbhCCts1_AO"
      },
      "source": [
        "### Fundindo os dois bancos\n",
        "Existem diversos modos de realizar a junção de bancos. Um método bem simples é o `.merge()`.\n",
        "\n",
        "Para usá-lo, vamos trabalhar da seguinte forma:\n",
        "`dados.merge(populacao, on ='ID_MUNICIP`)"
      ]
    },
    {
      "cell_type": "markdown",
      "metadata": {
        "id": "FcZ2e4HI6puR"
      },
      "source": [
        "Antes de realizarmos o merge, precisamos checar o tipo de dado das colunas."
      ]
    },
    {
      "cell_type": "code",
      "metadata": {
        "collapsed": true,
        "id": "Gz1HM0UU6uWe"
      },
      "source": [
        ""
      ],
      "execution_count": 3,
      "outputs": []
    },
    {
      "cell_type": "code",
      "metadata": {
        "collapsed": true,
        "id": "9HFTb2Fn6xnL"
      },
      "source": [
        ""
      ],
      "execution_count": 3,
      "outputs": []
    },
    {
      "cell_type": "markdown",
      "metadata": {
        "id": "obiAdb-O6zsG"
      },
      "source": [
        "Mudando o tipo de dados do `ID_MUNICIP` do banco `populacao` para `int`. Isso pode ser feito usando o método `.astype(int)`"
      ]
    },
    {
      "cell_type": "code",
      "metadata": {
        "id": "whfrAsdN66pT"
      },
      "source": [
        ""
      ],
      "execution_count": 3,
      "outputs": []
    },
    {
      "cell_type": "markdown",
      "metadata": {
        "id": "J-KZ16kk7PAN"
      },
      "source": [
        "Realizando o merge"
      ]
    },
    {
      "cell_type": "code",
      "metadata": {
        "collapsed": true,
        "id": "qFV_Wfpi3ZlM"
      },
      "source": [
        ""
      ],
      "execution_count": 3,
      "outputs": []
    },
    {
      "cell_type": "markdown",
      "metadata": {
        "id": "3vy0pZBn8-U-"
      },
      "source": [
        "Atualizando o banco de dados com a nova versão"
      ]
    },
    {
      "cell_type": "code",
      "metadata": {
        "id": "1IREb8vJ9A4X"
      },
      "source": [
        ""
      ],
      "execution_count": 3,
      "outputs": []
    },
    {
      "cell_type": "markdown",
      "metadata": {
        "id": "a0ASKKIG9CB9"
      },
      "source": [
        "### Quais cidades apresentaram o maior número de casos?"
      ]
    },
    {
      "cell_type": "code",
      "metadata": {
        "collapsed": true,
        "id": "71VEjAZN9JA8"
      },
      "source": [
        ""
      ],
      "execution_count": 3,
      "outputs": []
    },
    {
      "cell_type": "markdown",
      "metadata": {
        "id": "tqvnB4sW9O0d"
      },
      "source": [
        "### E se consideramos o número de habitantes?\n",
        "Fica pra próxima aula!"
      ]
    }
  ]
}