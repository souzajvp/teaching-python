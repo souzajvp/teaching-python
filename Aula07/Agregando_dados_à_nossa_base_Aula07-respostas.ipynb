{
  "nbformat": 4,
  "nbformat_minor": 0,
  "metadata": {
    "colab": {
      "name": "Agregando dados à nossa base - Aula07.ipynb",
      "provenance": [],
      "authorship_tag": "ABX9TyP+5ZJSTd84iRoDpRywNbj4",
      "include_colab_link": true
    },
    "kernelspec": {
      "name": "python3",
      "display_name": "Python 3"
    },
    "language_info": {
      "name": "python"
    }
  },
  "cells": [
    {
      "cell_type": "markdown",
      "metadata": {
        "id": "view-in-github",
        "colab_type": "text"
      },
      "source": [
        "<a href=\"https://colab.research.google.com/github/souzajvp/teaching-python/blob/main/Aula07/Agregando_dados_%C3%A0_nossa_base_Aula07-respostas.ipynb\" target=\"_parent\"><img src=\"https://colab.research.google.com/assets/colab-badge.svg\" alt=\"Open In Colab\"/></a>"
      ]
    },
    {
      "cell_type": "markdown",
      "metadata": {
        "id": "hJ9a-1n-npCq"
      },
      "source": [
        "# Importando módulos"
      ]
    },
    {
      "cell_type": "code",
      "metadata": {
        "id": "lP4nAEh8oGHQ"
      },
      "source": [
        "import pandas as pd"
      ],
      "execution_count": 1,
      "outputs": []
    },
    {
      "cell_type": "code",
      "metadata": {
        "id": "Y8WEe8iioN5t"
      },
      "source": [
        "url = 'https://raw.githubusercontent.com/souzajvp/teaching-python/main/dados_tb_pr_2016_aula05.csv'"
      ],
      "execution_count": 2,
      "outputs": []
    },
    {
      "cell_type": "code",
      "metadata": {
        "id": "XkrAR3ffoHkd"
      },
      "source": [
        "dados = pd.read_csv(url)"
      ],
      "execution_count": 3,
      "outputs": []
    },
    {
      "cell_type": "markdown",
      "metadata": {
        "id": "BkJQKdwAouZW"
      },
      "source": [
        "## Agregando informações ao nosso banco de dados\n",
        "O diferencial de um pesquisador (ou cientista de dados) é a capacidade de enxergar além dos dados disponíveis. \n",
        "\n",
        "Assim, que tal adicionarmos informações dos municípios do PR para auxiliar nas análises?\n"
      ]
    },
    {
      "cell_type": "markdown",
      "metadata": {
        "id": "v1w947Jiu5aK"
      },
      "source": [
        "Usando o [TabNet](https://datasus.saude.gov.br/informacoes-de-saude-tabnet/), coletei informações populacionais do PR obtidas através do Censo Populacional de 2010. Em seguida, fiz o upload do banco no meu [GitHub](https://github.com/souzajvp/teaching-python/blob/main/pop_parana_2010.csv)."
      ]
    },
    {
      "cell_type": "code",
      "metadata": {
        "id": "wA_Sg9y5vFyL"
      },
      "source": [
        "url = 'https://raw.githubusercontent.com/souzajvp/teaching-python/main/pop_parana_2010.csv'"
      ],
      "execution_count": 4,
      "outputs": []
    },
    {
      "cell_type": "markdown",
      "metadata": {
        "id": "rsFBr112vyNA"
      },
      "source": [
        "Uma característica comum dos bancos de dados extraídos do TabNet é a presença de linhas extras e caracteres incomuns.\n",
        "\n",
        "Assim, vai ser necessário especificar alguns comandos no momento de ler os dados com o `pd.read_csv()`."
      ]
    },
    {
      "cell_type": "code",
      "metadata": {
        "colab": {
          "base_uri": "https://localhost:8080/"
        },
        "id": "h7hinprOv_K_",
        "outputId": "aa054e34-936b-43c2-944d-91889eb932a6"
      },
      "source": [
        "populacao = pd.read_csv(url, skiprows=3, skipfooter=14, sep=';',\n",
        "                        encoding='ISO-8859-1', )"
      ],
      "execution_count": 5,
      "outputs": [
        {
          "output_type": "stream",
          "text": [
            "/usr/local/lib/python3.7/dist-packages/ipykernel_launcher.py:2: ParserWarning: Falling back to the 'python' engine because the 'c' engine does not support skipfooter; you can avoid this warning by specifying engine='python'.\n",
            "  \n"
          ],
          "name": "stderr"
        }
      ]
    },
    {
      "cell_type": "markdown",
      "metadata": {
        "id": "vdatlD6dy32W"
      },
      "source": [
        "* `skiprows` e `skipfooter` são usados para pular linhas inicias e finais, respectivamente;\n",
        "* `sep` nos permite especificar qual o separador dos campos utilizado;\n",
        "* `encoding` permite que o pandas leia arquivos com caracteres diferentes do inglês. De modo geral, teremos que usar o encoding para ler bancos em português."
      ]
    },
    {
      "cell_type": "code",
      "metadata": {
        "colab": {
          "base_uri": "https://localhost:8080/",
          "height": 423
        },
        "id": "VACbhNAkx1_v",
        "outputId": "22867503-d7ee-46c9-9f5b-964860e8f571"
      },
      "source": [
        "populacao"
      ],
      "execution_count": 6,
      "outputs": [
        {
          "output_type": "execute_result",
          "data": {
            "text/html": [
              "<div>\n",
              "<style scoped>\n",
              "    .dataframe tbody tr th:only-of-type {\n",
              "        vertical-align: middle;\n",
              "    }\n",
              "\n",
              "    .dataframe tbody tr th {\n",
              "        vertical-align: top;\n",
              "    }\n",
              "\n",
              "    .dataframe thead th {\n",
              "        text-align: right;\n",
              "    }\n",
              "</style>\n",
              "<table border=\"1\" class=\"dataframe\">\n",
              "  <thead>\n",
              "    <tr style=\"text-align: right;\">\n",
              "      <th></th>\n",
              "      <th>Município</th>\n",
              "      <th>2010</th>\n",
              "      <th>Total</th>\n",
              "    </tr>\n",
              "  </thead>\n",
              "  <tbody>\n",
              "    <tr>\n",
              "      <th>0</th>\n",
              "      <td>410010 Abatiá</td>\n",
              "      <td>7764</td>\n",
              "      <td>7764</td>\n",
              "    </tr>\n",
              "    <tr>\n",
              "      <th>1</th>\n",
              "      <td>410020 Adrianópolis</td>\n",
              "      <td>6376</td>\n",
              "      <td>6376</td>\n",
              "    </tr>\n",
              "    <tr>\n",
              "      <th>2</th>\n",
              "      <td>410030 Agudos do Sul</td>\n",
              "      <td>8270</td>\n",
              "      <td>8270</td>\n",
              "    </tr>\n",
              "    <tr>\n",
              "      <th>3</th>\n",
              "      <td>410040 Almirante Tamandaré</td>\n",
              "      <td>103204</td>\n",
              "      <td>103204</td>\n",
              "    </tr>\n",
              "    <tr>\n",
              "      <th>4</th>\n",
              "      <td>410045 Altamira do Paraná</td>\n",
              "      <td>4306</td>\n",
              "      <td>4306</td>\n",
              "    </tr>\n",
              "    <tr>\n",
              "      <th>...</th>\n",
              "      <td>...</td>\n",
              "      <td>...</td>\n",
              "      <td>...</td>\n",
              "    </tr>\n",
              "    <tr>\n",
              "      <th>394</th>\n",
              "      <td>412860 Verê</td>\n",
              "      <td>7878</td>\n",
              "      <td>7878</td>\n",
              "    </tr>\n",
              "    <tr>\n",
              "      <th>395</th>\n",
              "      <td>412865 Virmond</td>\n",
              "      <td>3950</td>\n",
              "      <td>3950</td>\n",
              "    </tr>\n",
              "    <tr>\n",
              "      <th>396</th>\n",
              "      <td>412870 Vitorino</td>\n",
              "      <td>6513</td>\n",
              "      <td>6513</td>\n",
              "    </tr>\n",
              "    <tr>\n",
              "      <th>397</th>\n",
              "      <td>412850 Wenceslau Braz</td>\n",
              "      <td>19298</td>\n",
              "      <td>19298</td>\n",
              "    </tr>\n",
              "    <tr>\n",
              "      <th>398</th>\n",
              "      <td>412880 Xambrê</td>\n",
              "      <td>6012</td>\n",
              "      <td>6012</td>\n",
              "    </tr>\n",
              "  </tbody>\n",
              "</table>\n",
              "<p>399 rows × 3 columns</p>\n",
              "</div>"
            ],
            "text/plain": [
              "                      Município    2010   Total\n",
              "0                 410010 Abatiá    7764    7764\n",
              "1           410020 Adrianópolis    6376    6376\n",
              "2          410030 Agudos do Sul    8270    8270\n",
              "3    410040 Almirante Tamandaré  103204  103204\n",
              "4     410045 Altamira do Paraná    4306    4306\n",
              "..                          ...     ...     ...\n",
              "394                 412860 Verê    7878    7878\n",
              "395              412865 Virmond    3950    3950\n",
              "396             412870 Vitorino    6513    6513\n",
              "397       412850 Wenceslau Braz   19298   19298\n",
              "398               412880 Xambrê    6012    6012\n",
              "\n",
              "[399 rows x 3 columns]"
            ]
          },
          "metadata": {
            "tags": []
          },
          "execution_count": 6
        }
      ]
    },
    {
      "cell_type": "markdown",
      "metadata": {
        "id": "fHd5XQq2zTJ3"
      },
      "source": [
        "A coluna `Município` trás uma sequência de 6 dígitos seguida pelo nome da cidade. Este formato não é muito útil para nós.\n",
        "\n",
        "### Modificando dados de uma coluna"
      ]
    },
    {
      "cell_type": "markdown",
      "metadata": {
        "id": "ZsbEubbZzx7u"
      },
      "source": [
        "Para facilitar nosso trabalho, podemos selecionar apenas os primeiros 6 dígitos de cada valor na coluna `Município` e criar uma nova variável. Isso pode ser feito usando o método `.str` do pandas, que nos permite trabalhar com o conteúdo de texto dentro de cada coluna."
      ]
    },
    {
      "cell_type": "code",
      "metadata": {
        "colab": {
          "base_uri": "https://localhost:8080/"
        },
        "id": "AN6upSQXzpN0",
        "outputId": "de2b9ed7-251d-4100-e5c0-28594fe35914"
      },
      "source": [
        "populacao['Município'].str[:6]"
      ],
      "execution_count": 7,
      "outputs": [
        {
          "output_type": "execute_result",
          "data": {
            "text/plain": [
              "0      410010\n",
              "1      410020\n",
              "2      410030\n",
              "3      410040\n",
              "4      410045\n",
              "        ...  \n",
              "394    412860\n",
              "395    412865\n",
              "396    412870\n",
              "397    412850\n",
              "398    412880\n",
              "Name: Município, Length: 399, dtype: object"
            ]
          },
          "metadata": {
            "tags": []
          },
          "execution_count": 7
        }
      ]
    },
    {
      "cell_type": "markdown",
      "metadata": {
        "id": "NAiRFyxR0G-V"
      },
      "source": [
        "Criando a variável `ID_MUNICIP`. \n",
        "\n",
        "**Obs**: aqui vamos usar o mesmo padrão do banco de dados original."
      ]
    },
    {
      "cell_type": "code",
      "metadata": {
        "id": "DSMfU3ll0Je1"
      },
      "source": [
        "populacao['ID_MUNICIP'] = populacao['Município'].str[0:6]"
      ],
      "execution_count": 8,
      "outputs": []
    },
    {
      "cell_type": "markdown",
      "metadata": {
        "id": "tmxdNu-f0XD_"
      },
      "source": [
        "Criando a variável `NOME_MUN`."
      ]
    },
    {
      "cell_type": "code",
      "metadata": {
        "colab": {
          "base_uri": "https://localhost:8080/"
        },
        "id": "w0GpRL0s0ZvO",
        "outputId": "1b6aab63-cb6c-43f9-c57c-7b65a074e57f"
      },
      "source": [
        "populacao['Município'].str[6:]"
      ],
      "execution_count": 9,
      "outputs": [
        {
          "output_type": "execute_result",
          "data": {
            "text/plain": [
              "0                    Abatiá\n",
              "1              Adrianópolis\n",
              "2             Agudos do Sul\n",
              "3       Almirante Tamandaré\n",
              "4        Altamira do Paraná\n",
              "               ...         \n",
              "394                    Verê\n",
              "395                 Virmond\n",
              "396                Vitorino\n",
              "397          Wenceslau Braz\n",
              "398                  Xambrê\n",
              "Name: Município, Length: 399, dtype: object"
            ]
          },
          "metadata": {
            "tags": []
          },
          "execution_count": 9
        }
      ]
    },
    {
      "cell_type": "code",
      "metadata": {
        "id": "-e1_x8N90dpQ"
      },
      "source": [
        "populacao['NOME_MUN'] = populacao['Município'].str[7:]"
      ],
      "execution_count": 10,
      "outputs": []
    },
    {
      "cell_type": "code",
      "metadata": {
        "colab": {
          "base_uri": "https://localhost:8080/",
          "height": 423
        },
        "id": "ZOig077m0s3O",
        "outputId": "1803fb23-98e5-4950-93e6-bd50cb5d82f6"
      },
      "source": [
        "populacao"
      ],
      "execution_count": 11,
      "outputs": [
        {
          "output_type": "execute_result",
          "data": {
            "text/html": [
              "<div>\n",
              "<style scoped>\n",
              "    .dataframe tbody tr th:only-of-type {\n",
              "        vertical-align: middle;\n",
              "    }\n",
              "\n",
              "    .dataframe tbody tr th {\n",
              "        vertical-align: top;\n",
              "    }\n",
              "\n",
              "    .dataframe thead th {\n",
              "        text-align: right;\n",
              "    }\n",
              "</style>\n",
              "<table border=\"1\" class=\"dataframe\">\n",
              "  <thead>\n",
              "    <tr style=\"text-align: right;\">\n",
              "      <th></th>\n",
              "      <th>Município</th>\n",
              "      <th>2010</th>\n",
              "      <th>Total</th>\n",
              "      <th>ID_MUNICIP</th>\n",
              "      <th>NOME_MUN</th>\n",
              "    </tr>\n",
              "  </thead>\n",
              "  <tbody>\n",
              "    <tr>\n",
              "      <th>0</th>\n",
              "      <td>410010 Abatiá</td>\n",
              "      <td>7764</td>\n",
              "      <td>7764</td>\n",
              "      <td>410010</td>\n",
              "      <td>Abatiá</td>\n",
              "    </tr>\n",
              "    <tr>\n",
              "      <th>1</th>\n",
              "      <td>410020 Adrianópolis</td>\n",
              "      <td>6376</td>\n",
              "      <td>6376</td>\n",
              "      <td>410020</td>\n",
              "      <td>Adrianópolis</td>\n",
              "    </tr>\n",
              "    <tr>\n",
              "      <th>2</th>\n",
              "      <td>410030 Agudos do Sul</td>\n",
              "      <td>8270</td>\n",
              "      <td>8270</td>\n",
              "      <td>410030</td>\n",
              "      <td>Agudos do Sul</td>\n",
              "    </tr>\n",
              "    <tr>\n",
              "      <th>3</th>\n",
              "      <td>410040 Almirante Tamandaré</td>\n",
              "      <td>103204</td>\n",
              "      <td>103204</td>\n",
              "      <td>410040</td>\n",
              "      <td>Almirante Tamandaré</td>\n",
              "    </tr>\n",
              "    <tr>\n",
              "      <th>4</th>\n",
              "      <td>410045 Altamira do Paraná</td>\n",
              "      <td>4306</td>\n",
              "      <td>4306</td>\n",
              "      <td>410045</td>\n",
              "      <td>Altamira do Paraná</td>\n",
              "    </tr>\n",
              "    <tr>\n",
              "      <th>...</th>\n",
              "      <td>...</td>\n",
              "      <td>...</td>\n",
              "      <td>...</td>\n",
              "      <td>...</td>\n",
              "      <td>...</td>\n",
              "    </tr>\n",
              "    <tr>\n",
              "      <th>394</th>\n",
              "      <td>412860 Verê</td>\n",
              "      <td>7878</td>\n",
              "      <td>7878</td>\n",
              "      <td>412860</td>\n",
              "      <td>Verê</td>\n",
              "    </tr>\n",
              "    <tr>\n",
              "      <th>395</th>\n",
              "      <td>412865 Virmond</td>\n",
              "      <td>3950</td>\n",
              "      <td>3950</td>\n",
              "      <td>412865</td>\n",
              "      <td>Virmond</td>\n",
              "    </tr>\n",
              "    <tr>\n",
              "      <th>396</th>\n",
              "      <td>412870 Vitorino</td>\n",
              "      <td>6513</td>\n",
              "      <td>6513</td>\n",
              "      <td>412870</td>\n",
              "      <td>Vitorino</td>\n",
              "    </tr>\n",
              "    <tr>\n",
              "      <th>397</th>\n",
              "      <td>412850 Wenceslau Braz</td>\n",
              "      <td>19298</td>\n",
              "      <td>19298</td>\n",
              "      <td>412850</td>\n",
              "      <td>Wenceslau Braz</td>\n",
              "    </tr>\n",
              "    <tr>\n",
              "      <th>398</th>\n",
              "      <td>412880 Xambrê</td>\n",
              "      <td>6012</td>\n",
              "      <td>6012</td>\n",
              "      <td>412880</td>\n",
              "      <td>Xambrê</td>\n",
              "    </tr>\n",
              "  </tbody>\n",
              "</table>\n",
              "<p>399 rows × 5 columns</p>\n",
              "</div>"
            ],
            "text/plain": [
              "                      Município    2010   Total ID_MUNICIP             NOME_MUN\n",
              "0                 410010 Abatiá    7764    7764     410010               Abatiá\n",
              "1           410020 Adrianópolis    6376    6376     410020         Adrianópolis\n",
              "2          410030 Agudos do Sul    8270    8270     410030        Agudos do Sul\n",
              "3    410040 Almirante Tamandaré  103204  103204     410040  Almirante Tamandaré\n",
              "4     410045 Altamira do Paraná    4306    4306     410045   Altamira do Paraná\n",
              "..                          ...     ...     ...        ...                  ...\n",
              "394                 412860 Verê    7878    7878     412860                 Verê\n",
              "395              412865 Virmond    3950    3950     412865              Virmond\n",
              "396             412870 Vitorino    6513    6513     412870             Vitorino\n",
              "397       412850 Wenceslau Braz   19298   19298     412850       Wenceslau Braz\n",
              "398               412880 Xambrê    6012    6012     412880               Xambrê\n",
              "\n",
              "[399 rows x 5 columns]"
            ]
          },
          "metadata": {
            "tags": []
          },
          "execution_count": 11
        }
      ]
    },
    {
      "cell_type": "markdown",
      "metadata": {
        "id": "nQQ3_wUk0wRI"
      },
      "source": [
        "### Removendo e renomeando variáveis\n",
        "Após realizar as modificações necessárias, podemos \"limpar o nosso banco\"."
      ]
    },
    {
      "cell_type": "markdown",
      "metadata": {
        "id": "6UTLE3pg1IPg"
      },
      "source": [
        "Para remover colunas podemos:\n",
        "1. Renomear o nosso banco, selecionando apenas as colunas desejadas;\n",
        "2. Usar o método `.drop()`."
      ]
    },
    {
      "cell_type": "code",
      "metadata": {
        "colab": {
          "base_uri": "https://localhost:8080/",
          "height": 423
        },
        "id": "SvWHZz4C1TIo",
        "outputId": "1fa8d72e-6475-4317-daec-d7a486299f32"
      },
      "source": [
        "populacao[['NOME_MUN', 'ID_MUNICIP', '2010']]"
      ],
      "execution_count": 12,
      "outputs": [
        {
          "output_type": "execute_result",
          "data": {
            "text/html": [
              "<div>\n",
              "<style scoped>\n",
              "    .dataframe tbody tr th:only-of-type {\n",
              "        vertical-align: middle;\n",
              "    }\n",
              "\n",
              "    .dataframe tbody tr th {\n",
              "        vertical-align: top;\n",
              "    }\n",
              "\n",
              "    .dataframe thead th {\n",
              "        text-align: right;\n",
              "    }\n",
              "</style>\n",
              "<table border=\"1\" class=\"dataframe\">\n",
              "  <thead>\n",
              "    <tr style=\"text-align: right;\">\n",
              "      <th></th>\n",
              "      <th>NOME_MUN</th>\n",
              "      <th>ID_MUNICIP</th>\n",
              "      <th>2010</th>\n",
              "    </tr>\n",
              "  </thead>\n",
              "  <tbody>\n",
              "    <tr>\n",
              "      <th>0</th>\n",
              "      <td>Abatiá</td>\n",
              "      <td>410010</td>\n",
              "      <td>7764</td>\n",
              "    </tr>\n",
              "    <tr>\n",
              "      <th>1</th>\n",
              "      <td>Adrianópolis</td>\n",
              "      <td>410020</td>\n",
              "      <td>6376</td>\n",
              "    </tr>\n",
              "    <tr>\n",
              "      <th>2</th>\n",
              "      <td>Agudos do Sul</td>\n",
              "      <td>410030</td>\n",
              "      <td>8270</td>\n",
              "    </tr>\n",
              "    <tr>\n",
              "      <th>3</th>\n",
              "      <td>Almirante Tamandaré</td>\n",
              "      <td>410040</td>\n",
              "      <td>103204</td>\n",
              "    </tr>\n",
              "    <tr>\n",
              "      <th>4</th>\n",
              "      <td>Altamira do Paraná</td>\n",
              "      <td>410045</td>\n",
              "      <td>4306</td>\n",
              "    </tr>\n",
              "    <tr>\n",
              "      <th>...</th>\n",
              "      <td>...</td>\n",
              "      <td>...</td>\n",
              "      <td>...</td>\n",
              "    </tr>\n",
              "    <tr>\n",
              "      <th>394</th>\n",
              "      <td>Verê</td>\n",
              "      <td>412860</td>\n",
              "      <td>7878</td>\n",
              "    </tr>\n",
              "    <tr>\n",
              "      <th>395</th>\n",
              "      <td>Virmond</td>\n",
              "      <td>412865</td>\n",
              "      <td>3950</td>\n",
              "    </tr>\n",
              "    <tr>\n",
              "      <th>396</th>\n",
              "      <td>Vitorino</td>\n",
              "      <td>412870</td>\n",
              "      <td>6513</td>\n",
              "    </tr>\n",
              "    <tr>\n",
              "      <th>397</th>\n",
              "      <td>Wenceslau Braz</td>\n",
              "      <td>412850</td>\n",
              "      <td>19298</td>\n",
              "    </tr>\n",
              "    <tr>\n",
              "      <th>398</th>\n",
              "      <td>Xambrê</td>\n",
              "      <td>412880</td>\n",
              "      <td>6012</td>\n",
              "    </tr>\n",
              "  </tbody>\n",
              "</table>\n",
              "<p>399 rows × 3 columns</p>\n",
              "</div>"
            ],
            "text/plain": [
              "                NOME_MUN ID_MUNICIP    2010\n",
              "0                 Abatiá     410010    7764\n",
              "1           Adrianópolis     410020    6376\n",
              "2          Agudos do Sul     410030    8270\n",
              "3    Almirante Tamandaré     410040  103204\n",
              "4     Altamira do Paraná     410045    4306\n",
              "..                   ...        ...     ...\n",
              "394                 Verê     412860    7878\n",
              "395              Virmond     412865    3950\n",
              "396             Vitorino     412870    6513\n",
              "397       Wenceslau Braz     412850   19298\n",
              "398               Xambrê     412880    6012\n",
              "\n",
              "[399 rows x 3 columns]"
            ]
          },
          "metadata": {
            "tags": []
          },
          "execution_count": 12
        }
      ]
    },
    {
      "cell_type": "code",
      "metadata": {
        "id": "SV36W0lV1g87"
      },
      "source": [
        "populacao = populacao.drop(['Município', 'Total'], axis =1)"
      ],
      "execution_count": 13,
      "outputs": []
    },
    {
      "cell_type": "markdown",
      "metadata": {
        "id": "NVho4wyb1qvY"
      },
      "source": [
        "Para a função drop, temos que especificar o *axis* (eixo) pois ela funciona para remoção de linhas e colunas. `axis=0` para linhas e `axis=1` para colunas."
      ]
    },
    {
      "cell_type": "markdown",
      "metadata": {
        "id": "yUjK7HAz3p3O"
      },
      "source": [
        "Para renomear colunas, podemos renomear a variável `populacao.columns` com a lista de novos nomes que desejamos. Nesse caso, apenas queremos mudar o nome da primeira variável (2010), assim vamos repetir os nomes das outras e alterar o primeiro para `POP_2010`."
      ]
    },
    {
      "cell_type": "code",
      "metadata": {
        "id": "8gtWTChl30G1"
      },
      "source": [
        "populacao.columns = ['POP_2010', 'ID_MUNICIP', 'NOME_MUN']"
      ],
      "execution_count": 14,
      "outputs": []
    },
    {
      "cell_type": "markdown",
      "metadata": {
        "id": "ulbhCCts1_AO"
      },
      "source": [
        "### Fundindo os dois bancos\n",
        "Existem diversos modos de realizar a junção de bancos. Um método bem simples é o `.merge()`.\n",
        "\n",
        "Para usá-lo, vamos trabalhar da seguinte forma:\n",
        "`dados.merge(populacao, on ='ID_MUNICIP`)"
      ]
    },
    {
      "cell_type": "markdown",
      "metadata": {
        "id": "FcZ2e4HI6puR"
      },
      "source": [
        "Antes de realizarmos o merge, precisamos checar o tipo de dado das colunas."
      ]
    },
    {
      "cell_type": "code",
      "metadata": {
        "colab": {
          "base_uri": "https://localhost:8080/"
        },
        "id": "Gz1HM0UU6uWe",
        "outputId": "1edd0de7-2f62-4f15-97bf-96e15ba5a6dd"
      },
      "source": [
        "dados['ID_MUNICIP'].dtype"
      ],
      "execution_count": 15,
      "outputs": [
        {
          "output_type": "execute_result",
          "data": {
            "text/plain": [
              "dtype('int64')"
            ]
          },
          "metadata": {
            "tags": []
          },
          "execution_count": 15
        }
      ]
    },
    {
      "cell_type": "code",
      "metadata": {
        "colab": {
          "base_uri": "https://localhost:8080/"
        },
        "id": "9HFTb2Fn6xnL",
        "outputId": "509c1fe6-8c6b-4aac-9a31-02af2ef57cdb"
      },
      "source": [
        "populacao['ID_MUNICIP'].dtype"
      ],
      "execution_count": 16,
      "outputs": [
        {
          "output_type": "execute_result",
          "data": {
            "text/plain": [
              "dtype('O')"
            ]
          },
          "metadata": {
            "tags": []
          },
          "execution_count": 16
        }
      ]
    },
    {
      "cell_type": "markdown",
      "metadata": {
        "id": "obiAdb-O6zsG"
      },
      "source": [
        "Mudando o tipo de dados do `ID_MUNICIP` do banco `populacao` para `int`. Isso pode ser feito usando o método `.astype(int)`"
      ]
    },
    {
      "cell_type": "code",
      "metadata": {
        "id": "whfrAsdN66pT"
      },
      "source": [
        "populacao['ID_MUNICIP'] = populacao['ID_MUNICIP'].astype(int)"
      ],
      "execution_count": 17,
      "outputs": []
    },
    {
      "cell_type": "markdown",
      "metadata": {
        "id": "J-KZ16kk7PAN"
      },
      "source": [
        "Realizando o merge"
      ]
    },
    {
      "cell_type": "code",
      "metadata": {
        "colab": {
          "base_uri": "https://localhost:8080/",
          "height": 461
        },
        "id": "qFV_Wfpi3ZlM",
        "outputId": "36011023-da02-4981-c59d-62d9735bf1e7"
      },
      "source": [
        "dados.merge(populacao, on='ID_MUNICIP')"
      ],
      "execution_count": 18,
      "outputs": [
        {
          "output_type": "execute_result",
          "data": {
            "text/html": [
              "<div>\n",
              "<style scoped>\n",
              "    .dataframe tbody tr th:only-of-type {\n",
              "        vertical-align: middle;\n",
              "    }\n",
              "\n",
              "    .dataframe tbody tr th {\n",
              "        vertical-align: top;\n",
              "    }\n",
              "\n",
              "    .dataframe thead th {\n",
              "        text-align: right;\n",
              "    }\n",
              "</style>\n",
              "<table border=\"1\" class=\"dataframe\">\n",
              "  <thead>\n",
              "    <tr style=\"text-align: right;\">\n",
              "      <th></th>\n",
              "      <th>DT_NOTIFIC</th>\n",
              "      <th>ID_MUNICIP</th>\n",
              "      <th>DT_DIAG</th>\n",
              "      <th>NU_IDADE_N</th>\n",
              "      <th>CS_SEXO</th>\n",
              "      <th>CS_RACA</th>\n",
              "      <th>CS_ESCOL_N</th>\n",
              "      <th>ID_MN_RESI</th>\n",
              "      <th>ID_OCUPA_N</th>\n",
              "      <th>TRATAMENTO</th>\n",
              "      <th>INSTITUCIO</th>\n",
              "      <th>RAIOX_TORA</th>\n",
              "      <th>TESTE_TUBE</th>\n",
              "      <th>FORMA</th>\n",
              "      <th>AGRAVAIDS</th>\n",
              "      <th>AGRAVALCOO</th>\n",
              "      <th>AGRAVDIABE</th>\n",
              "      <th>AGRAVDOENC</th>\n",
              "      <th>AGRAVOUTRA</th>\n",
              "      <th>AGRAVOUTDE</th>\n",
              "      <th>BACILOSC_E</th>\n",
              "      <th>BACILOS_E2</th>\n",
              "      <th>BACILOSC_O</th>\n",
              "      <th>CULTURA_ES</th>\n",
              "      <th>CULTURA_OU</th>\n",
              "      <th>HIV</th>\n",
              "      <th>HISTOPATOL</th>\n",
              "      <th>DT_INIC_TR</th>\n",
              "      <th>RIFAMPICIN</th>\n",
              "      <th>ISONIAZIDA</th>\n",
              "      <th>BACILOSC_1</th>\n",
              "      <th>BACILOSC_2</th>\n",
              "      <th>BACILOSC_3</th>\n",
              "      <th>BACILOSC_4</th>\n",
              "      <th>BACILOSC_5</th>\n",
              "      <th>BACILOSC_6</th>\n",
              "      <th>SITUA_9_M</th>\n",
              "      <th>SITUA_12_M</th>\n",
              "      <th>SITUA_ENCE</th>\n",
              "      <th>DT_ENCERRA</th>\n",
              "      <th>TPUNINOT</th>\n",
              "      <th>POP_LIBER</th>\n",
              "      <th>POP_RUA</th>\n",
              "      <th>POP_SAUDE</th>\n",
              "      <th>POP_IMIG</th>\n",
              "      <th>BENEF_GOV</th>\n",
              "      <th>AGRAVDROGA</th>\n",
              "      <th>AGRAVTABAC</th>\n",
              "      <th>TEST_MOLEC</th>\n",
              "      <th>TEST_SENSI</th>\n",
              "      <th>ANT_RETRO</th>\n",
              "      <th>BAC_APOS_6</th>\n",
              "      <th>POP_2010</th>\n",
              "      <th>NOME_MUN</th>\n",
              "    </tr>\n",
              "  </thead>\n",
              "  <tbody>\n",
              "    <tr>\n",
              "      <th>0</th>\n",
              "      <td>2017-02-10</td>\n",
              "      <td>410690</td>\n",
              "      <td>2016-10-10</td>\n",
              "      <td>4037</td>\n",
              "      <td>M</td>\n",
              "      <td>Branca</td>\n",
              "      <td>9.0</td>\n",
              "      <td>410690</td>\n",
              "      <td>NaN</td>\n",
              "      <td>3</td>\n",
              "      <td>NaN</td>\n",
              "      <td>4.0</td>\n",
              "      <td>NaN</td>\n",
              "      <td>1</td>\n",
              "      <td>9.0</td>\n",
              "      <td>1.0</td>\n",
              "      <td>2.0</td>\n",
              "      <td>2.0</td>\n",
              "      <td>9.0</td>\n",
              "      <td>NaN</td>\n",
              "      <td>1</td>\n",
              "      <td>NaN</td>\n",
              "      <td>NaN</td>\n",
              "      <td>4</td>\n",
              "      <td>NaN</td>\n",
              "      <td>2</td>\n",
              "      <td>5.0</td>\n",
              "      <td>2017-02-10</td>\n",
              "      <td>NaN</td>\n",
              "      <td>NaN</td>\n",
              "      <td>NaN</td>\n",
              "      <td>NaN</td>\n",
              "      <td>NaN</td>\n",
              "      <td>NaN</td>\n",
              "      <td>NaN</td>\n",
              "      <td>NaN</td>\n",
              "      <td>NaN</td>\n",
              "      <td>NaN</td>\n",
              "      <td>2.0</td>\n",
              "      <td>2017-03-06</td>\n",
              "      <td>2.0</td>\n",
              "      <td>2.0</td>\n",
              "      <td>1.0</td>\n",
              "      <td>2.0</td>\n",
              "      <td>2.0</td>\n",
              "      <td>9.0</td>\n",
              "      <td>9.0</td>\n",
              "      <td>9.0</td>\n",
              "      <td>5.0</td>\n",
              "      <td>NaN</td>\n",
              "      <td>NaN</td>\n",
              "      <td>NaN</td>\n",
              "      <td>1751907</td>\n",
              "      <td>Curitiba</td>\n",
              "    </tr>\n",
              "    <tr>\n",
              "      <th>1</th>\n",
              "      <td>2016-03-31</td>\n",
              "      <td>410690</td>\n",
              "      <td>2016-03-31</td>\n",
              "      <td>4031</td>\n",
              "      <td>M</td>\n",
              "      <td>Branca</td>\n",
              "      <td>9.0</td>\n",
              "      <td>411840</td>\n",
              "      <td>NaN</td>\n",
              "      <td>1</td>\n",
              "      <td>NaN</td>\n",
              "      <td>2.0</td>\n",
              "      <td>NaN</td>\n",
              "      <td>2</td>\n",
              "      <td>2.0</td>\n",
              "      <td>2.0</td>\n",
              "      <td>2.0</td>\n",
              "      <td>2.0</td>\n",
              "      <td>2.0</td>\n",
              "      <td>NaN</td>\n",
              "      <td>3</td>\n",
              "      <td>NaN</td>\n",
              "      <td>NaN</td>\n",
              "      <td>4</td>\n",
              "      <td>NaN</td>\n",
              "      <td>2</td>\n",
              "      <td>2.0</td>\n",
              "      <td>2016-03-31</td>\n",
              "      <td>NaN</td>\n",
              "      <td>NaN</td>\n",
              "      <td>4.0</td>\n",
              "      <td>4.0</td>\n",
              "      <td>4.0</td>\n",
              "      <td>4.0</td>\n",
              "      <td>4.0</td>\n",
              "      <td>4.0</td>\n",
              "      <td>NaN</td>\n",
              "      <td>NaN</td>\n",
              "      <td>5.0</td>\n",
              "      <td>2016-04-01</td>\n",
              "      <td>5.0</td>\n",
              "      <td>2.0</td>\n",
              "      <td>2.0</td>\n",
              "      <td>2.0</td>\n",
              "      <td>2.0</td>\n",
              "      <td>2.0</td>\n",
              "      <td>2.0</td>\n",
              "      <td>2.0</td>\n",
              "      <td>5.0</td>\n",
              "      <td>NaN</td>\n",
              "      <td>NaN</td>\n",
              "      <td>4.0</td>\n",
              "      <td>1751907</td>\n",
              "      <td>Curitiba</td>\n",
              "    </tr>\n",
              "    <tr>\n",
              "      <th>2</th>\n",
              "      <td>2016-06-22</td>\n",
              "      <td>410690</td>\n",
              "      <td>2016-06-06</td>\n",
              "      <td>4031</td>\n",
              "      <td>F</td>\n",
              "      <td>Amarela</td>\n",
              "      <td>9.0</td>\n",
              "      <td>410690</td>\n",
              "      <td>NaN</td>\n",
              "      <td>1</td>\n",
              "      <td>NaN</td>\n",
              "      <td>4.0</td>\n",
              "      <td>NaN</td>\n",
              "      <td>1</td>\n",
              "      <td>9.0</td>\n",
              "      <td>9.0</td>\n",
              "      <td>9.0</td>\n",
              "      <td>9.0</td>\n",
              "      <td>9.0</td>\n",
              "      <td>NaN</td>\n",
              "      <td>3</td>\n",
              "      <td>NaN</td>\n",
              "      <td>NaN</td>\n",
              "      <td>4</td>\n",
              "      <td>NaN</td>\n",
              "      <td>4</td>\n",
              "      <td>5.0</td>\n",
              "      <td>NaN</td>\n",
              "      <td>NaN</td>\n",
              "      <td>NaN</td>\n",
              "      <td>2.0</td>\n",
              "      <td>2.0</td>\n",
              "      <td>3.0</td>\n",
              "      <td>3.0</td>\n",
              "      <td>3.0</td>\n",
              "      <td>3.0</td>\n",
              "      <td>NaN</td>\n",
              "      <td>NaN</td>\n",
              "      <td>2.0</td>\n",
              "      <td>2016-11-27</td>\n",
              "      <td>2.0</td>\n",
              "      <td>2.0</td>\n",
              "      <td>1.0</td>\n",
              "      <td>2.0</td>\n",
              "      <td>2.0</td>\n",
              "      <td>9.0</td>\n",
              "      <td>1.0</td>\n",
              "      <td>9.0</td>\n",
              "      <td>1.0</td>\n",
              "      <td>NaN</td>\n",
              "      <td>NaN</td>\n",
              "      <td>NaN</td>\n",
              "      <td>1751907</td>\n",
              "      <td>Curitiba</td>\n",
              "    </tr>\n",
              "    <tr>\n",
              "      <th>3</th>\n",
              "      <td>2017-08-21</td>\n",
              "      <td>410690</td>\n",
              "      <td>2016-06-06</td>\n",
              "      <td>4031</td>\n",
              "      <td>M</td>\n",
              "      <td>Branca</td>\n",
              "      <td>9.0</td>\n",
              "      <td>410690</td>\n",
              "      <td>NaN</td>\n",
              "      <td>3</td>\n",
              "      <td>NaN</td>\n",
              "      <td>4.0</td>\n",
              "      <td>NaN</td>\n",
              "      <td>1</td>\n",
              "      <td>2.0</td>\n",
              "      <td>1.0</td>\n",
              "      <td>2.0</td>\n",
              "      <td>2.0</td>\n",
              "      <td>2.0</td>\n",
              "      <td>NaN</td>\n",
              "      <td>3</td>\n",
              "      <td>NaN</td>\n",
              "      <td>NaN</td>\n",
              "      <td>4</td>\n",
              "      <td>NaN</td>\n",
              "      <td>4</td>\n",
              "      <td>5.0</td>\n",
              "      <td>2017-08-28</td>\n",
              "      <td>NaN</td>\n",
              "      <td>NaN</td>\n",
              "      <td>3.0</td>\n",
              "      <td>3.0</td>\n",
              "      <td>3.0</td>\n",
              "      <td>3.0</td>\n",
              "      <td>3.0</td>\n",
              "      <td>3.0</td>\n",
              "      <td>NaN</td>\n",
              "      <td>NaN</td>\n",
              "      <td>2.0</td>\n",
              "      <td>2018-08-01</td>\n",
              "      <td>2.0</td>\n",
              "      <td>2.0</td>\n",
              "      <td>1.0</td>\n",
              "      <td>2.0</td>\n",
              "      <td>2.0</td>\n",
              "      <td>2.0</td>\n",
              "      <td>1.0</td>\n",
              "      <td>2.0</td>\n",
              "      <td>2.0</td>\n",
              "      <td>2.0</td>\n",
              "      <td>NaN</td>\n",
              "      <td>3.0</td>\n",
              "      <td>1751907</td>\n",
              "      <td>Curitiba</td>\n",
              "    </tr>\n",
              "    <tr>\n",
              "      <th>4</th>\n",
              "      <td>2016-07-28</td>\n",
              "      <td>410690</td>\n",
              "      <td>2016-07-28</td>\n",
              "      <td>4021</td>\n",
              "      <td>F</td>\n",
              "      <td>Branca</td>\n",
              "      <td>9.0</td>\n",
              "      <td>410690</td>\n",
              "      <td>NaN</td>\n",
              "      <td>1</td>\n",
              "      <td>NaN</td>\n",
              "      <td>1.0</td>\n",
              "      <td>NaN</td>\n",
              "      <td>1</td>\n",
              "      <td>2.0</td>\n",
              "      <td>2.0</td>\n",
              "      <td>2.0</td>\n",
              "      <td>2.0</td>\n",
              "      <td>2.0</td>\n",
              "      <td>NaN</td>\n",
              "      <td>3</td>\n",
              "      <td>NaN</td>\n",
              "      <td>NaN</td>\n",
              "      <td>1</td>\n",
              "      <td>NaN</td>\n",
              "      <td>2</td>\n",
              "      <td>5.0</td>\n",
              "      <td>2016-07-28</td>\n",
              "      <td>NaN</td>\n",
              "      <td>NaN</td>\n",
              "      <td>3.0</td>\n",
              "      <td>3.0</td>\n",
              "      <td>3.0</td>\n",
              "      <td>3.0</td>\n",
              "      <td>3.0</td>\n",
              "      <td>3.0</td>\n",
              "      <td>NaN</td>\n",
              "      <td>NaN</td>\n",
              "      <td>1.0</td>\n",
              "      <td>2017-02-13</td>\n",
              "      <td>2.0</td>\n",
              "      <td>2.0</td>\n",
              "      <td>2.0</td>\n",
              "      <td>2.0</td>\n",
              "      <td>2.0</td>\n",
              "      <td>2.0</td>\n",
              "      <td>2.0</td>\n",
              "      <td>2.0</td>\n",
              "      <td>5.0</td>\n",
              "      <td>6.0</td>\n",
              "      <td>NaN</td>\n",
              "      <td>NaN</td>\n",
              "      <td>1751907</td>\n",
              "      <td>Curitiba</td>\n",
              "    </tr>\n",
              "    <tr>\n",
              "      <th>...</th>\n",
              "      <td>...</td>\n",
              "      <td>...</td>\n",
              "      <td>...</td>\n",
              "      <td>...</td>\n",
              "      <td>...</td>\n",
              "      <td>...</td>\n",
              "      <td>...</td>\n",
              "      <td>...</td>\n",
              "      <td>...</td>\n",
              "      <td>...</td>\n",
              "      <td>...</td>\n",
              "      <td>...</td>\n",
              "      <td>...</td>\n",
              "      <td>...</td>\n",
              "      <td>...</td>\n",
              "      <td>...</td>\n",
              "      <td>...</td>\n",
              "      <td>...</td>\n",
              "      <td>...</td>\n",
              "      <td>...</td>\n",
              "      <td>...</td>\n",
              "      <td>...</td>\n",
              "      <td>...</td>\n",
              "      <td>...</td>\n",
              "      <td>...</td>\n",
              "      <td>...</td>\n",
              "      <td>...</td>\n",
              "      <td>...</td>\n",
              "      <td>...</td>\n",
              "      <td>...</td>\n",
              "      <td>...</td>\n",
              "      <td>...</td>\n",
              "      <td>...</td>\n",
              "      <td>...</td>\n",
              "      <td>...</td>\n",
              "      <td>...</td>\n",
              "      <td>...</td>\n",
              "      <td>...</td>\n",
              "      <td>...</td>\n",
              "      <td>...</td>\n",
              "      <td>...</td>\n",
              "      <td>...</td>\n",
              "      <td>...</td>\n",
              "      <td>...</td>\n",
              "      <td>...</td>\n",
              "      <td>...</td>\n",
              "      <td>...</td>\n",
              "      <td>...</td>\n",
              "      <td>...</td>\n",
              "      <td>...</td>\n",
              "      <td>...</td>\n",
              "      <td>...</td>\n",
              "      <td>...</td>\n",
              "      <td>...</td>\n",
              "    </tr>\n",
              "    <tr>\n",
              "      <th>2526</th>\n",
              "      <td>2016-12-09</td>\n",
              "      <td>410100</td>\n",
              "      <td>2016-12-08</td>\n",
              "      <td>4060</td>\n",
              "      <td>M</td>\n",
              "      <td>Branca</td>\n",
              "      <td>1.0</td>\n",
              "      <td>410100</td>\n",
              "      <td>NaN</td>\n",
              "      <td>1</td>\n",
              "      <td>NaN</td>\n",
              "      <td>1.0</td>\n",
              "      <td>NaN</td>\n",
              "      <td>2</td>\n",
              "      <td>2.0</td>\n",
              "      <td>2.0</td>\n",
              "      <td>2.0</td>\n",
              "      <td>2.0</td>\n",
              "      <td>1.0</td>\n",
              "      <td>HAS</td>\n",
              "      <td>2</td>\n",
              "      <td>NaN</td>\n",
              "      <td>NaN</td>\n",
              "      <td>4</td>\n",
              "      <td>NaN</td>\n",
              "      <td>2</td>\n",
              "      <td>5.0</td>\n",
              "      <td>2016-12-09</td>\n",
              "      <td>NaN</td>\n",
              "      <td>NaN</td>\n",
              "      <td>4.0</td>\n",
              "      <td>4.0</td>\n",
              "      <td>4.0</td>\n",
              "      <td>4.0</td>\n",
              "      <td>4.0</td>\n",
              "      <td>4.0</td>\n",
              "      <td>NaN</td>\n",
              "      <td>NaN</td>\n",
              "      <td>6.0</td>\n",
              "      <td>2018-05-04</td>\n",
              "      <td>2.0</td>\n",
              "      <td>2.0</td>\n",
              "      <td>2.0</td>\n",
              "      <td>2.0</td>\n",
              "      <td>2.0</td>\n",
              "      <td>2.0</td>\n",
              "      <td>2.0</td>\n",
              "      <td>1.0</td>\n",
              "      <td>5.0</td>\n",
              "      <td>NaN</td>\n",
              "      <td>NaN</td>\n",
              "      <td>4.0</td>\n",
              "      <td>17308</td>\n",
              "      <td>Ampére</td>\n",
              "    </tr>\n",
              "    <tr>\n",
              "      <th>2527</th>\n",
              "      <td>2016-12-12</td>\n",
              "      <td>412270</td>\n",
              "      <td>2016-12-12</td>\n",
              "      <td>4035</td>\n",
              "      <td>M</td>\n",
              "      <td>Branca</td>\n",
              "      <td>1.0</td>\n",
              "      <td>412270</td>\n",
              "      <td>NaN</td>\n",
              "      <td>1</td>\n",
              "      <td>NaN</td>\n",
              "      <td>1.0</td>\n",
              "      <td>NaN</td>\n",
              "      <td>1</td>\n",
              "      <td>2.0</td>\n",
              "      <td>1.0</td>\n",
              "      <td>2.0</td>\n",
              "      <td>2.0</td>\n",
              "      <td>2.0</td>\n",
              "      <td>NaN</td>\n",
              "      <td>1</td>\n",
              "      <td>NaN</td>\n",
              "      <td>NaN</td>\n",
              "      <td>1</td>\n",
              "      <td>NaN</td>\n",
              "      <td>2</td>\n",
              "      <td>5.0</td>\n",
              "      <td>2016-12-15</td>\n",
              "      <td>NaN</td>\n",
              "      <td>NaN</td>\n",
              "      <td>1.0</td>\n",
              "      <td>2.0</td>\n",
              "      <td>2.0</td>\n",
              "      <td>2.0</td>\n",
              "      <td>2.0</td>\n",
              "      <td>2.0</td>\n",
              "      <td>NaN</td>\n",
              "      <td>NaN</td>\n",
              "      <td>1.0</td>\n",
              "      <td>2017-06-22</td>\n",
              "      <td>73.0</td>\n",
              "      <td>1.0</td>\n",
              "      <td>2.0</td>\n",
              "      <td>2.0</td>\n",
              "      <td>2.0</td>\n",
              "      <td>2.0</td>\n",
              "      <td>2.0</td>\n",
              "      <td>2.0</td>\n",
              "      <td>5.0</td>\n",
              "      <td>7.0</td>\n",
              "      <td>NaN</td>\n",
              "      <td>NaN</td>\n",
              "      <td>6096</td>\n",
              "      <td>Sabáudia</td>\n",
              "    </tr>\n",
              "    <tr>\n",
              "      <th>2528</th>\n",
              "      <td>2017-06-12</td>\n",
              "      <td>411605</td>\n",
              "      <td>2016-12-12</td>\n",
              "      <td>4032</td>\n",
              "      <td>M</td>\n",
              "      <td>Branca</td>\n",
              "      <td>6.0</td>\n",
              "      <td>411605</td>\n",
              "      <td>NaN</td>\n",
              "      <td>1</td>\n",
              "      <td>NaN</td>\n",
              "      <td>1.0</td>\n",
              "      <td>NaN</td>\n",
              "      <td>1</td>\n",
              "      <td>2.0</td>\n",
              "      <td>2.0</td>\n",
              "      <td>2.0</td>\n",
              "      <td>2.0</td>\n",
              "      <td>2.0</td>\n",
              "      <td>NaN</td>\n",
              "      <td>2</td>\n",
              "      <td>NaN</td>\n",
              "      <td>NaN</td>\n",
              "      <td>2</td>\n",
              "      <td>NaN</td>\n",
              "      <td>2</td>\n",
              "      <td>3.0</td>\n",
              "      <td>NaN</td>\n",
              "      <td>NaN</td>\n",
              "      <td>NaN</td>\n",
              "      <td>NaN</td>\n",
              "      <td>NaN</td>\n",
              "      <td>NaN</td>\n",
              "      <td>NaN</td>\n",
              "      <td>NaN</td>\n",
              "      <td>NaN</td>\n",
              "      <td>NaN</td>\n",
              "      <td>NaN</td>\n",
              "      <td>6.0</td>\n",
              "      <td>2017-08-04</td>\n",
              "      <td>2.0</td>\n",
              "      <td>2.0</td>\n",
              "      <td>2.0</td>\n",
              "      <td>2.0</td>\n",
              "      <td>2.0</td>\n",
              "      <td>2.0</td>\n",
              "      <td>2.0</td>\n",
              "      <td>2.0</td>\n",
              "      <td>5.0</td>\n",
              "      <td>NaN</td>\n",
              "      <td>NaN</td>\n",
              "      <td>NaN</td>\n",
              "      <td>10474</td>\n",
              "      <td>Missal</td>\n",
              "    </tr>\n",
              "    <tr>\n",
              "      <th>2529</th>\n",
              "      <td>2016-12-16</td>\n",
              "      <td>410030</td>\n",
              "      <td>2016-12-16</td>\n",
              "      <td>4032</td>\n",
              "      <td>F</td>\n",
              "      <td>Branca</td>\n",
              "      <td>NaN</td>\n",
              "      <td>410030</td>\n",
              "      <td>NaN</td>\n",
              "      <td>1</td>\n",
              "      <td>NaN</td>\n",
              "      <td>1.0</td>\n",
              "      <td>NaN</td>\n",
              "      <td>2</td>\n",
              "      <td>2.0</td>\n",
              "      <td>2.0</td>\n",
              "      <td>2.0</td>\n",
              "      <td>2.0</td>\n",
              "      <td>2.0</td>\n",
              "      <td>NaN</td>\n",
              "      <td>4</td>\n",
              "      <td>NaN</td>\n",
              "      <td>NaN</td>\n",
              "      <td>1</td>\n",
              "      <td>NaN</td>\n",
              "      <td>2</td>\n",
              "      <td>1.0</td>\n",
              "      <td>2016-12-19</td>\n",
              "      <td>NaN</td>\n",
              "      <td>NaN</td>\n",
              "      <td>4.0</td>\n",
              "      <td>4.0</td>\n",
              "      <td>4.0</td>\n",
              "      <td>4.0</td>\n",
              "      <td>4.0</td>\n",
              "      <td>4.0</td>\n",
              "      <td>NaN</td>\n",
              "      <td>NaN</td>\n",
              "      <td>NaN</td>\n",
              "      <td>NaN</td>\n",
              "      <td>73.0</td>\n",
              "      <td>2.0</td>\n",
              "      <td>2.0</td>\n",
              "      <td>2.0</td>\n",
              "      <td>2.0</td>\n",
              "      <td>2.0</td>\n",
              "      <td>2.0</td>\n",
              "      <td>2.0</td>\n",
              "      <td>NaN</td>\n",
              "      <td>6.0</td>\n",
              "      <td>NaN</td>\n",
              "      <td>4.0</td>\n",
              "      <td>8270</td>\n",
              "      <td>Agudos do Sul</td>\n",
              "    </tr>\n",
              "    <tr>\n",
              "      <th>2530</th>\n",
              "      <td>2016-12-21</td>\n",
              "      <td>411360</td>\n",
              "      <td>2016-12-21</td>\n",
              "      <td>4046</td>\n",
              "      <td>M</td>\n",
              "      <td>Parda</td>\n",
              "      <td>NaN</td>\n",
              "      <td>411360</td>\n",
              "      <td>NaN</td>\n",
              "      <td>1</td>\n",
              "      <td>NaN</td>\n",
              "      <td>1.0</td>\n",
              "      <td>NaN</td>\n",
              "      <td>1</td>\n",
              "      <td>1.0</td>\n",
              "      <td>2.0</td>\n",
              "      <td>2.0</td>\n",
              "      <td>2.0</td>\n",
              "      <td>2.0</td>\n",
              "      <td>NaN</td>\n",
              "      <td>1</td>\n",
              "      <td>NaN</td>\n",
              "      <td>NaN</td>\n",
              "      <td>2</td>\n",
              "      <td>NaN</td>\n",
              "      <td>1</td>\n",
              "      <td>2.0</td>\n",
              "      <td>2016-12-24</td>\n",
              "      <td>NaN</td>\n",
              "      <td>NaN</td>\n",
              "      <td>2.0</td>\n",
              "      <td>3.0</td>\n",
              "      <td>3.0</td>\n",
              "      <td>3.0</td>\n",
              "      <td>2.0</td>\n",
              "      <td>3.0</td>\n",
              "      <td>NaN</td>\n",
              "      <td>NaN</td>\n",
              "      <td>1.0</td>\n",
              "      <td>2017-07-17</td>\n",
              "      <td>2.0</td>\n",
              "      <td>2.0</td>\n",
              "      <td>2.0</td>\n",
              "      <td>2.0</td>\n",
              "      <td>2.0</td>\n",
              "      <td>2.0</td>\n",
              "      <td>2.0</td>\n",
              "      <td>2.0</td>\n",
              "      <td>NaN</td>\n",
              "      <td>NaN</td>\n",
              "      <td>1.0</td>\n",
              "      <td>NaN</td>\n",
              "      <td>4401</td>\n",
              "      <td>Lobato</td>\n",
              "    </tr>\n",
              "  </tbody>\n",
              "</table>\n",
              "<p>2531 rows × 54 columns</p>\n",
              "</div>"
            ],
            "text/plain": [
              "      DT_NOTIFIC  ID_MUNICIP     DT_DIAG  ...  BAC_APOS_6 POP_2010       NOME_MUN\n",
              "0     2017-02-10      410690  2016-10-10  ...         NaN  1751907       Curitiba\n",
              "1     2016-03-31      410690  2016-03-31  ...         4.0  1751907       Curitiba\n",
              "2     2016-06-22      410690  2016-06-06  ...         NaN  1751907       Curitiba\n",
              "3     2017-08-21      410690  2016-06-06  ...         3.0  1751907       Curitiba\n",
              "4     2016-07-28      410690  2016-07-28  ...         NaN  1751907       Curitiba\n",
              "...          ...         ...         ...  ...         ...      ...            ...\n",
              "2526  2016-12-09      410100  2016-12-08  ...         4.0    17308         Ampére\n",
              "2527  2016-12-12      412270  2016-12-12  ...         NaN     6096       Sabáudia\n",
              "2528  2017-06-12      411605  2016-12-12  ...         NaN    10474         Missal\n",
              "2529  2016-12-16      410030  2016-12-16  ...         4.0     8270  Agudos do Sul\n",
              "2530  2016-12-21      411360  2016-12-21  ...         NaN     4401         Lobato\n",
              "\n",
              "[2531 rows x 54 columns]"
            ]
          },
          "metadata": {
            "tags": []
          },
          "execution_count": 18
        }
      ]
    },
    {
      "cell_type": "markdown",
      "metadata": {
        "id": "3vy0pZBn8-U-"
      },
      "source": [
        "Atualizando o banco de dados com a nova versão"
      ]
    },
    {
      "cell_type": "code",
      "metadata": {
        "id": "1IREb8vJ9A4X"
      },
      "source": [
        "dados = dados.merge(populacao, on='ID_MUNICIP')"
      ],
      "execution_count": 19,
      "outputs": []
    },
    {
      "cell_type": "markdown",
      "metadata": {
        "id": "a0ASKKIG9CB9"
      },
      "source": [
        "### Quais cidades apresentaram o maior número de casos?"
      ]
    },
    {
      "cell_type": "code",
      "metadata": {
        "colab": {
          "base_uri": "https://localhost:8080/"
        },
        "id": "71VEjAZN9JA8",
        "outputId": "876d26e2-9c63-439b-ed2c-8b215de74d5e"
      },
      "source": [
        "dados['NOME_MUN'].value_counts()"
      ],
      "execution_count": 20,
      "outputs": [
        {
          "output_type": "execute_result",
          "data": {
            "text/plain": [
              "Curitiba               481\n",
              "Londrina               199\n",
              "Paranaguá              117\n",
              "Foz do Iguaçu          112\n",
              "Pinhais                 95\n",
              "                      ... \n",
              "Marmeleiro               1\n",
              "Fernandes Pinheiro       1\n",
              "Borrazópolis             1\n",
              "Inajá                    1\n",
              "Ouro Verde do Oeste      1\n",
              "Name: NOME_MUN, Length: 249, dtype: int64"
            ]
          },
          "metadata": {
            "tags": []
          },
          "execution_count": 20
        }
      ]
    },
    {
      "cell_type": "markdown",
      "metadata": {
        "id": "tqvnB4sW9O0d"
      },
      "source": [
        "### E se consideramos o número de habitantes?\n",
        "Fica pra próxima aula!"
      ]
    }
  ]
}