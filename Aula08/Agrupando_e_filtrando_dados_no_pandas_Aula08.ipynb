{
  "nbformat": 4,
  "nbformat_minor": 0,
  "metadata": {
    "colab": {
      "name": "Agrupando e filtrando dados no pandas - Aula08.ipynb",
      "provenance": [],
      "include_colab_link": true
    },
    "kernelspec": {
      "name": "python3",
      "display_name": "Python 3"
    },
    "language_info": {
      "name": "python"
    }
  },
  "cells": [
    {
      "cell_type": "markdown",
      "metadata": {
        "id": "view-in-github",
        "colab_type": "text"
      },
      "source": [
        "<a href=\"https://colab.research.google.com/github/souzajvp/teaching-python/blob/main/Aula08/Agrupando_e_filtrando_dados_no_pandas_Aula08.ipynb\" target=\"_parent\"><img src=\"https://colab.research.google.com/assets/colab-badge.svg\" alt=\"Open In Colab\"/></a>"
      ]
    },
    {
      "cell_type": "markdown",
      "metadata": {
        "id": "uV3t4TSTb3TX"
      },
      "source": [
        "# Agrupando e filtrando dados com o pandas\n",
        "A capacidade de manipular, agrupar ou filtrar dados de acordo com alguma caractéristca pode ser muito útil.\n",
        "\n",
        "Desta forma, hoje vamos aprender como usar o pandas para fazer tudo isso!"
      ]
    },
    {
      "cell_type": "markdown",
      "metadata": {
        "id": "z6JVP-X6fQHe"
      },
      "source": [
        "Carregando os dados de TB do SINAN"
      ]
    },
    {
      "cell_type": "code",
      "metadata": {
        "id": "Xb6pCfnFfSJ7"
      },
      "source": [
        "import pandas as pd "
      ],
      "execution_count": 1,
      "outputs": []
    },
    {
      "cell_type": "code",
      "metadata": {
        "colab": {
          "base_uri": "https://localhost:8080/"
        },
        "id": "iONEvXf4fUnc",
        "outputId": "3b353fba-1547-4577-ccbc-ab103a0e2d3e"
      },
      "source": [
        "url = \"https://raw.githubusercontent.com/souzajvp/teaching-python/main/dataset/tb_pr_sinan.csv\"\n",
        "dados = pd.read_csv(url)"
      ],
      "execution_count": 2,
      "outputs": [
        {
          "output_type": "stream",
          "text": [
            "/usr/local/lib/python3.7/dist-packages/IPython/core/interactiveshell.py:2718: DtypeWarning: Columns (61) have mixed types.Specify dtype option on import or set low_memory=False.\n",
            "  interactivity=interactivity, compiler=compiler, result=result)\n"
          ],
          "name": "stderr"
        }
      ]
    },
    {
      "cell_type": "markdown",
      "metadata": {
        "id": "gIAjnEy3fmso"
      },
      "source": [
        "## Agrupando dados com o método `.groupby()`\n",
        "O método `.groupby()` permite que especifiquemos uma ou mais características para agrupar nossos dados.\n",
        "\n",
        "Como exemplo, vamos agrupar nosso dados pela variável `CS_SEXO`."
      ]
    },
    {
      "cell_type": "code",
      "metadata": {
        "id": "swzQ-s2mf6vO"
      },
      "source": [
        ""
      ],
      "execution_count": 2,
      "outputs": []
    },
    {
      "cell_type": "markdown",
      "metadata": {
        "id": "tB9VBkZIf9ME"
      },
      "source": [
        "Na verdade, precisamos especificar algumas coisas quando executamos o `.groupby()`. Por exemplo, podemos usar `.groupby().mean()` para obter a média de todas as variáveis agrupadas."
      ]
    },
    {
      "cell_type": "code",
      "metadata": {
        "id": "0ckfoXMMgQqB"
      },
      "source": [
        ""
      ],
      "execution_count": 2,
      "outputs": []
    },
    {
      "cell_type": "markdown",
      "metadata": {
        "id": "nzKdy5RxgX7R"
      },
      "source": [
        "Aparentemente, não temos uma saída muito útil nesse caso. Isso se da pois nossos dados estão codificados e não faz muito sentido calcular a média do código de `CS_RACA`, por exemplo.\n",
        "\n",
        "Como cada linha do nosso banco representa um paciente, poderíamos usar o método `.groupby().count()` para obter uma contagem dos pacientes de cada sexo."
      ]
    },
    {
      "cell_type": "code",
      "metadata": {
        "id": "En6n8jQogjzc"
      },
      "source": [
        ""
      ],
      "execution_count": 2,
      "outputs": []
    },
    {
      "cell_type": "markdown",
      "metadata": {
        "id": "8FU-iY1ihHY3"
      },
      "source": [
        "Assim, temos então o número de vezes que cada variável aparece no banco de acordo com o sexo....\n",
        "\n",
        "**Que tal tentarmos agrupar por ano?**"
      ]
    },
    {
      "cell_type": "code",
      "metadata": {
        "id": "JqzUIgNlhVe2"
      },
      "source": [
        ""
      ],
      "execution_count": 2,
      "outputs": []
    },
    {
      "cell_type": "markdown",
      "metadata": {
        "id": "oQiGc7Fkhdqi"
      },
      "source": [
        "Assim, conseguimos transformar um banco de dados que estava separado à nivel de paciente, para dados separados por ano.\n",
        "\n",
        "**Que tal um gráfico dos casos?**"
      ]
    },
    {
      "cell_type": "code",
      "metadata": {
        "id": "3Ja9MSzbiAZk"
      },
      "source": [
        "import matplotlib.pyplot as plt"
      ],
      "execution_count": 3,
      "outputs": []
    },
    {
      "cell_type": "code",
      "metadata": {
        "id": "Lw1c_cULh3Mu"
      },
      "source": [
        ""
      ],
      "execution_count": 3,
      "outputs": []
    },
    {
      "cell_type": "markdown",
      "metadata": {
        "id": "RzbfahDqkX0H"
      },
      "source": [
        "**Mas e quanto aos casos separados por sexo?**\n",
        "\n",
        "Podemos usar o `groupby()` com várias variáveis ao mesmo tempo!\n",
        "\n",
        "**Obs:** usar o `.reset_index()` ajuda bastante nesse caso!"
      ]
    },
    {
      "cell_type": "code",
      "metadata": {
        "id": "ZKX1050siIa2"
      },
      "source": [
        ""
      ],
      "execution_count": 3,
      "outputs": []
    },
    {
      "cell_type": "code",
      "metadata": {
        "id": "ZFLgeHAWll98"
      },
      "source": [
        ""
      ],
      "execution_count": 3,
      "outputs": []
    },
    {
      "cell_type": "code",
      "metadata": {
        "id": "yPDbeoIUlnsY"
      },
      "source": [
        "import seaborn as sns"
      ],
      "execution_count": 4,
      "outputs": []
    },
    {
      "cell_type": "code",
      "metadata": {
        "id": "a2Dk0cD5lpBv"
      },
      "source": [
        ""
      ],
      "execution_count": 4,
      "outputs": []
    },
    {
      "cell_type": "markdown",
      "metadata": {
        "id": "Wlv70mphm4GW"
      },
      "source": [
        "É possível comparamos o sexos e os totais?"
      ]
    },
    {
      "cell_type": "code",
      "metadata": {
        "id": "mmgQ_dbfm74N"
      },
      "source": [
        "\n",
        "\n"
      ],
      "execution_count": 4,
      "outputs": []
    },
    {
      "cell_type": "markdown",
      "metadata": {
        "id": "pRnBkfvzHiRT"
      },
      "source": [
        "# Filtrando os dados com o método `.query()`\n",
        "\n",
        "O método `.query()` permite que filtremos o banco de dados de acordo com condições específicas.\n",
        "\n",
        "Seguindo, o exemplo que usamos, podemos agrupar por `CS_SEXO`."
      ]
    },
    {
      "cell_type": "code",
      "metadata": {
        "id": "Nw4rErDYHv_3"
      },
      "source": [
        ""
      ],
      "execution_count": 4,
      "outputs": []
    },
    {
      "cell_type": "code",
      "metadata": {
        "id": "WmGZfC4EISgG"
      },
      "source": [
        ""
      ],
      "execution_count": 4,
      "outputs": []
    },
    {
      "cell_type": "markdown",
      "metadata": {
        "id": "YJ7GbHrHLc0n"
      },
      "source": [
        "**Existe diferença entre a variáveil `CS_RACA` para os sexos?**"
      ]
    },
    {
      "cell_type": "code",
      "metadata": {
        "id": "M5njzSavO9WL"
      },
      "source": [
        ""
      ],
      "execution_count": 4,
      "outputs": []
    },
    {
      "cell_type": "code",
      "metadata": {
        "id": "5legDrYKLrW1",
        "collapsed": true
      },
      "source": [
        ""
      ],
      "execution_count": 4,
      "outputs": []
    }
  ]
}