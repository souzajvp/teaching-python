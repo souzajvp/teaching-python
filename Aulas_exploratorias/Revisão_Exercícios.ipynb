{
  "nbformat": 4,
  "nbformat_minor": 0,
  "metadata": {
    "colab": {
      "name": "Revisão - Exercícios.ipynb",
      "provenance": [],
      "authorship_tag": "ABX9TyNQADPhFnD2LBgJ5U9Xudyh",
      "include_colab_link": true
    },
    "kernelspec": {
      "name": "python3",
      "display_name": "Python 3"
    },
    "language_info": {
      "name": "python"
    }
  },
  "cells": [
    {
      "cell_type": "markdown",
      "metadata": {
        "id": "view-in-github",
        "colab_type": "text"
      },
      "source": [
        "<a href=\"https://colab.research.google.com/github/souzajvp/teaching-python/blob/main/Aulas_exploratorias/Revis%C3%A3o_Exerc%C3%ADcios.ipynb\" target=\"_parent\"><img src=\"https://colab.research.google.com/assets/colab-badge.svg\" alt=\"Open In Colab\"/></a>"
      ]
    },
    {
      "cell_type": "markdown",
      "metadata": {
        "id": "zZw5zYOBlNec"
      },
      "source": [
        "# Revisão\n",
        "Durante as aulas, vimos um pouco sobre funções básicas, tipos de variáveis, pacotes essenciais para análise de dados e etc.\n",
        "\n",
        "Agora, é a hora de vocês colocarem tudo isso na prática!"
      ]
    },
    {
      "cell_type": "markdown",
      "metadata": {
        "id": "0aORaDOelmvt"
      },
      "source": [
        "\n",
        "Para essa revisão, vamos trabalhar com um novo conjuntos de dados que representa informações sobre diabetes de mulheres indianas com mais de 21 anos. O banco original pode ser encontrado no [Kaggle](https://www.kaggle.com/uciml/pima-indians-diabetes-database).\n",
        "\n",
        "\n",
        "Esse conjunto é mais \"simples\" e contém menos informações do que o que estávamos usando em aula. Ao mesmo tempo, temos mais informações **numéricas** nele e não trabalhamos tanto esse tipo de dado durante as aulas."
      ]
    },
    {
      "cell_type": "markdown",
      "metadata": {
        "id": "sCmICXONmlD4"
      },
      "source": [
        "# Diabetes"
      ]
    },
    {
      "cell_type": "markdown",
      "metadata": {
        "id": "BFwMmcq6nIo6"
      },
      "source": [
        "Para facilitar, aí vai o link para download dos dados."
      ]
    },
    {
      "cell_type": "code",
      "metadata": {
        "id": "tvxoc7utmwnZ"
      },
      "source": [
        "url_diabetes = 'https://github.com/souzajvp/IA_tutorials/blob/main/diabetes_class/archive.zip?raw=true'"
      ],
      "execution_count": 1,
      "outputs": []
    },
    {
      "cell_type": "markdown",
      "metadata": {
        "id": "uJcEnhj6nOh4"
      },
      "source": [
        "### **Parte 1**. Carregando, corrigindo explorando os dados."
      ]
    },
    {
      "cell_type": "markdown",
      "metadata": {
        "id": "EZT5UvYToJlv"
      },
      "source": [
        "#### Carregue os dados usando o pandas. **Atenção**: O formato do arquivo é `.zip`."
      ]
    },
    {
      "cell_type": "code",
      "metadata": {
        "id": "BDZoqj6Y5jbk"
      },
      "source": [
        ""
      ],
      "execution_count": 1,
      "outputs": []
    },
    {
      "cell_type": "code",
      "metadata": {
        "id": "dotkzsEHmyC8"
      },
      "source": [
        ""
      ],
      "execution_count": 1,
      "outputs": []
    },
    {
      "cell_type": "markdown",
      "metadata": {
        "id": "OZXCtEd8oM3B"
      },
      "source": [
        "#### Visualize as primeiras linhas do banco.\n",
        " Analise visualmente as colunas que temos e os tipos de informação presentes."
      ]
    },
    {
      "cell_type": "code",
      "metadata": {
        "id": "X05QotyYogxw"
      },
      "source": [
        ""
      ],
      "execution_count": 1,
      "outputs": []
    },
    {
      "cell_type": "markdown",
      "metadata": {
        "id": "9cX_G96com19"
      },
      "source": [
        "#### Traduza o nome das colunas e realize a substituição.\n",
        "Aqui você pode usar qualquer nome que achar **justo de acordo com o significado**. Uma dica é ser consistente nos nomes usados. Ex: `['n_gestacoes', 'glicose'...]` **OU** `['N_Gestacoes', 'Glicose']`\n",
        "\n",
        "**Atenção**: A coluna `\"Outcome\"` representa se a pessoa tem ou não diabetes. Um nome adequado para essa coluna seria `diabetes`\n",
        "\n",
        "\n",
        "**Dica**: você pode substituir o nome das colunas dessa forma: `dados.columns = ['nome_col1', 'nome_col2', ... 'nome_ultima_col']`"
      ]
    },
    {
      "cell_type": "code",
      "metadata": {
        "id": "Zbtt5WwDpzfO"
      },
      "source": [
        ""
      ],
      "execution_count": 1,
      "outputs": []
    },
    {
      "cell_type": "markdown",
      "metadata": {
        "id": "1AF5OkI-qQFf"
      },
      "source": [
        "Visualize novamente o banco de dados e confirme se a substituição foi feita."
      ]
    },
    {
      "cell_type": "code",
      "metadata": {
        "id": "bnwhEc74qT0H"
      },
      "source": [
        ""
      ],
      "execution_count": 1,
      "outputs": []
    },
    {
      "cell_type": "markdown",
      "metadata": {
        "id": "oQ2t-Qinz45m"
      },
      "source": [
        "#### Faça a substituição dos valores presentes na coluna `diabetes`\n",
        "Ao analizar os primeiros valores dessa coluna, notamos que temos 0 e 1, representando \"Sim\" e \"Não\"."
      ]
    },
    {
      "cell_type": "markdown",
      "metadata": {
        "id": "cdg9CASq0ZUa"
      },
      "source": [
        "Antes de renomear 1 como \"Sim\" e 0 como \"Não\",Verifique quais são os valores únicos (classes) presentes na coluna `diabetes`"
      ]
    },
    {
      "cell_type": "code",
      "metadata": {
        "id": "-YeBwgd00nqO"
      },
      "source": [
        ""
      ],
      "execution_count": 1,
      "outputs": []
    },
    {
      "cell_type": "markdown",
      "metadata": {
        "id": "aNB3hV0-0mYT"
      },
      "source": [
        "Agora, tendo certeza que só existem 0 e 1, podemos fazer a substituição"
      ]
    },
    {
      "cell_type": "code",
      "metadata": {
        "id": "kn43agUn2AsU"
      },
      "source": [
        ""
      ],
      "execution_count": 1,
      "outputs": []
    },
    {
      "cell_type": "markdown",
      "metadata": {
        "id": "5TOHn7yrqU1a"
      },
      "source": [
        "### **Parte 2.** Análises univariadas\n",
        "Temos diversas colunas para trabalhar... **Quero que você analise cada uma delas.**\n",
        "\n",
        "A primeira coisa é entender se a variável é **numérica ou catégorica**. Se **numérica**, podemos obter valores como média, desvio padrão, mediana, máximo e mínimo. Se **categórica**, podemos verificar quais sãos classes e quantas observações temos de cada classe.\n",
        "\n"
      ]
    },
    {
      "cell_type": "markdown",
      "metadata": {
        "id": "nxDXYMv45Lqs"
      },
      "source": [
        "#### Número de gestações"
      ]
    },
    {
      "cell_type": "code",
      "metadata": {
        "id": "Hw-pZotw6q80"
      },
      "source": [
        ""
      ],
      "execution_count": 1,
      "outputs": []
    },
    {
      "cell_type": "code",
      "metadata": {
        "id": "aGSm9nIL6qzN"
      },
      "source": [
        ""
      ],
      "execution_count": 1,
      "outputs": []
    },
    {
      "cell_type": "code",
      "metadata": {
        "id": "98qEgpG36qq5"
      },
      "source": [
        ""
      ],
      "execution_count": 1,
      "outputs": []
    },
    {
      "cell_type": "markdown",
      "metadata": {
        "id": "cioJxolG5LoW"
      },
      "source": [
        "#### Glicose"
      ]
    },
    {
      "cell_type": "code",
      "metadata": {
        "id": "LI7io22A6rlg"
      },
      "source": [
        ""
      ],
      "execution_count": 1,
      "outputs": []
    },
    {
      "cell_type": "code",
      "metadata": {
        "id": "OuyZWEEu6ri6"
      },
      "source": [
        ""
      ],
      "execution_count": 1,
      "outputs": []
    },
    {
      "cell_type": "code",
      "metadata": {
        "id": "Z8gYVYuh6rgE"
      },
      "source": [
        ""
      ],
      "execution_count": 1,
      "outputs": []
    },
    {
      "cell_type": "markdown",
      "metadata": {
        "id": "cc651bvc5Llu"
      },
      "source": [
        "#### Pressão"
      ]
    },
    {
      "cell_type": "code",
      "metadata": {
        "id": "tG328Qo06sQY"
      },
      "source": [
        ""
      ],
      "execution_count": 1,
      "outputs": []
    },
    {
      "cell_type": "code",
      "metadata": {
        "id": "yziLc4CH6sKk"
      },
      "source": [
        ""
      ],
      "execution_count": 1,
      "outputs": []
    },
    {
      "cell_type": "code",
      "metadata": {
        "id": "IfAkMb_86sFt"
      },
      "source": [
        ""
      ],
      "execution_count": 1,
      "outputs": []
    },
    {
      "cell_type": "code",
      "metadata": {
        "id": "ilWnz17R6siE"
      },
      "source": [
        ""
      ],
      "execution_count": 1,
      "outputs": []
    },
    {
      "cell_type": "markdown",
      "metadata": {
        "id": "zXtJ4att5LjH"
      },
      "source": [
        "#### Espessura da pele"
      ]
    },
    {
      "cell_type": "code",
      "metadata": {
        "id": "gG9VE15w6tyh"
      },
      "source": [
        ""
      ],
      "execution_count": 1,
      "outputs": []
    },
    {
      "cell_type": "code",
      "metadata": {
        "id": "a-B-0lr56uF8"
      },
      "source": [
        ""
      ],
      "execution_count": 1,
      "outputs": []
    },
    {
      "cell_type": "code",
      "metadata": {
        "id": "e0lK0_1z6twA"
      },
      "source": [
        ""
      ],
      "execution_count": 1,
      "outputs": []
    },
    {
      "cell_type": "code",
      "metadata": {
        "id": "-lAi-Lol6uj4"
      },
      "source": [
        ""
      ],
      "execution_count": 1,
      "outputs": []
    },
    {
      "cell_type": "markdown",
      "metadata": {
        "id": "rlFDOw_q5Lgw"
      },
      "source": [
        "#### Insulina"
      ]
    },
    {
      "cell_type": "code",
      "metadata": {
        "id": "odIFzc9V6wiW"
      },
      "source": [
        ""
      ],
      "execution_count": 1,
      "outputs": []
    },
    {
      "cell_type": "code",
      "metadata": {
        "id": "eyU4Qv4y6wYe"
      },
      "source": [
        ""
      ],
      "execution_count": 1,
      "outputs": []
    },
    {
      "cell_type": "code",
      "metadata": {
        "id": "-NECV2b16wMA"
      },
      "source": [
        ""
      ],
      "execution_count": 1,
      "outputs": []
    },
    {
      "cell_type": "markdown",
      "metadata": {
        "id": "z5PuFON05LeY"
      },
      "source": [
        "#### Índice de massa corporal (imc)"
      ]
    },
    {
      "cell_type": "code",
      "metadata": {
        "id": "gPEllSvM6x6c"
      },
      "source": [
        ""
      ],
      "execution_count": 1,
      "outputs": []
    },
    {
      "cell_type": "code",
      "metadata": {
        "id": "sCMbKwTF6x1O"
      },
      "source": [
        ""
      ],
      "execution_count": 1,
      "outputs": []
    },
    {
      "cell_type": "code",
      "metadata": {
        "id": "GHV2BpkZ6xQI"
      },
      "source": [
        ""
      ],
      "execution_count": 1,
      "outputs": []
    },
    {
      "cell_type": "markdown",
      "metadata": {
        "id": "MtyNRxhX5Lbj"
      },
      "source": [
        "#### Função da diabetes"
      ]
    },
    {
      "cell_type": "code",
      "metadata": {
        "id": "e34IZKlG6zGv"
      },
      "source": [
        ""
      ],
      "execution_count": 1,
      "outputs": []
    },
    {
      "cell_type": "code",
      "metadata": {
        "id": "eLUc3qW26zEM"
      },
      "source": [
        ""
      ],
      "execution_count": 1,
      "outputs": []
    },
    {
      "cell_type": "code",
      "metadata": {
        "id": "ZqMDyHEj6y9K"
      },
      "source": [
        ""
      ],
      "execution_count": 1,
      "outputs": []
    },
    {
      "cell_type": "markdown",
      "metadata": {
        "id": "VVRRbLKt5LZB"
      },
      "source": [
        "#### Idade"
      ]
    },
    {
      "cell_type": "code",
      "metadata": {
        "id": "cf-IT3UG6zqe"
      },
      "source": [
        ""
      ],
      "execution_count": 1,
      "outputs": []
    },
    {
      "cell_type": "code",
      "metadata": {
        "id": "hosYkBgt6zoI"
      },
      "source": [
        ""
      ],
      "execution_count": 1,
      "outputs": []
    },
    {
      "cell_type": "code",
      "metadata": {
        "id": "j48Pdwlp6zln"
      },
      "source": [
        ""
      ],
      "execution_count": 1,
      "outputs": []
    },
    {
      "cell_type": "markdown",
      "metadata": {
        "id": "Er2T_gQy5LWj"
      },
      "source": [
        "#### Diabetes"
      ]
    },
    {
      "cell_type": "code",
      "metadata": {
        "id": "NQQ8PIPN60UK"
      },
      "source": [
        ""
      ],
      "execution_count": 1,
      "outputs": []
    },
    {
      "cell_type": "code",
      "metadata": {
        "id": "1LlBHVOG60RS"
      },
      "source": [
        ""
      ],
      "execution_count": 1,
      "outputs": []
    },
    {
      "cell_type": "code",
      "metadata": {
        "id": "cHp1dFEj60Ow"
      },
      "source": [
        ""
      ],
      "execution_count": 1,
      "outputs": []
    },
    {
      "cell_type": "markdown",
      "metadata": {
        "id": "CiI0Npva64Qm"
      },
      "source": [
        "### **Parte 3.** Análises bivariadas.\n",
        "Agora vamos combinar variáveis para começar a chegar em conclusões. Aqui quero que você selecione 2 variáveis das que analisou acima e combine-ás com a variável `diabetes`.\n",
        "\n",
        "Exemplo: qual é o **número de gestações médio** de uma mulher que **tem diabetes**? E de **quem não tem diabetes**?\n",
        "\n",
        "**Dica**: Aqui, você pode usar o método `.groupby('diabetes')` combinado com `mean()`, `std()`\n",
        "***\n",
        "**Aqui eu quero que você faça**:\n",
        "1. A análise separando por \"Sim\" e \"Não\";\n",
        "2. Gráficos pra deixar seus resultados bem claros;\n",
        "3. Pequenas teorias/conclusões dos resultados observados."
      ]
    },
    {
      "cell_type": "code",
      "metadata": {
        "id": "t2M9CcpZ8HRP"
      },
      "source": [
        ""
      ],
      "execution_count": 1,
      "outputs": []
    },
    {
      "cell_type": "code",
      "metadata": {
        "id": "zbrXyUxo8HLg"
      },
      "source": [
        ""
      ],
      "execution_count": 1,
      "outputs": []
    },
    {
      "cell_type": "code",
      "metadata": {
        "id": "85WTNbie8HJF"
      },
      "source": [
        ""
      ],
      "execution_count": 1,
      "outputs": []
    }
  ]
}