{
  "nbformat": 4,
  "nbformat_minor": 0,
  "metadata": {
    "colab": {
      "name": "Exploração_TB_PR(16_07)_Datas.ipynb",
      "provenance": [],
      "collapsed_sections": [],
      "authorship_tag": "ABX9TyN2oSAOEgMlyrW7sJM+KLs3",
      "include_colab_link": true
    },
    "kernelspec": {
      "name": "python3",
      "display_name": "Python 3"
    },
    "language_info": {
      "name": "python"
    }
  },
  "cells": [
    {
      "cell_type": "markdown",
      "metadata": {
        "id": "view-in-github",
        "colab_type": "text"
      },
      "source": [
        "<a href=\"https://colab.research.google.com/github/souzajvp/teaching-python/blob/main/Aulas_exploratorias/Aula03/Explora%C3%A7%C3%A3o_TB_PR(16_07)_Datas.ipynb\" target=\"_parent\"><img src=\"https://colab.research.google.com/assets/colab-badge.svg\" alt=\"Open In Colab\"/></a>"
      ]
    },
    {
      "cell_type": "markdown",
      "metadata": {
        "id": "0T4tttpeFfEo"
      },
      "source": [
        "Nessa análise, trabalhamos com dados em formato de data. \n",
        "\n",
        "Basicamente, podemos especificar que uma variável está em formato de  data e usar essa informação para extrair significados interessantes do nosso conjunto de dados"
      ]
    },
    {
      "cell_type": "code",
      "metadata": {
        "id": "MAz2RbwaQ9Mc"
      },
      "source": [
        "import pandas as pd"
      ],
      "execution_count": 1,
      "outputs": []
    },
    {
      "cell_type": "markdown",
      "metadata": {
        "id": "0feloXngGqEh"
      },
      "source": [
        "Lendo o banco do GitHub"
      ]
    },
    {
      "cell_type": "code",
      "metadata": {
        "id": "P1FTYokSRAq-"
      },
      "source": [
        "url = 'https://github.com/souzajvp/teaching-python/raw/main/dataset/tb_pr_sinan_organizado.zip'"
      ],
      "execution_count": 2,
      "outputs": []
    },
    {
      "cell_type": "code",
      "metadata": {
        "colab": {
          "base_uri": "https://localhost:8080/"
        },
        "id": "_iFRajPHRBlm",
        "outputId": "b49ea8a8-304d-4897-ffa2-a6ae26ddb5d3"
      },
      "source": [
        "dados = pd.read_csv(url, compression='zip')"
      ],
      "execution_count": 3,
      "outputs": [
        {
          "output_type": "stream",
          "text": [
            "/usr/local/lib/python3.7/dist-packages/IPython/core/interactiveshell.py:2718: DtypeWarning: Columns (38,61,85,86,87,88,89,90,91,92,93,94,95,96) have mixed types.Specify dtype option on import or set low_memory=False.\n",
            "  interactivity=interactivity, compiler=compiler, result=result)\n"
          ],
          "name": "stderr"
        }
      ]
    },
    {
      "cell_type": "markdown",
      "metadata": {
        "id": "Ww5EjIIhGufh"
      },
      "source": [
        "Vamos trabalhar com a data de nascimento dos indivíduos no estudo.\n",
        "\n",
        "Vamos inspecionar como esses valores estão armazenados na coluna `DT_NASC`."
      ]
    },
    {
      "cell_type": "code",
      "metadata": {
        "colab": {
          "base_uri": "https://localhost:8080/"
        },
        "id": "mAexoo6URhnf",
        "outputId": "ddd8f7d5-8989-4569-e356-4092ac248a34"
      },
      "source": [
        "dados['DT_NASC'][0]"
      ],
      "execution_count": 4,
      "outputs": [
        {
          "output_type": "execute_result",
          "data": {
            "text/plain": [
              "19611202.0"
            ]
          },
          "metadata": {
            "tags": []
          },
          "execution_count": 4
        }
      ]
    },
    {
      "cell_type": "markdown",
      "metadata": {
        "id": "XXi8mmpJHKZm"
      },
      "source": [
        "Na data de nascimento acima vemos que os dados estão em formato numérico. Mais especificamente em formato *float* (decimal).\n",
        "\n",
        "Temos os números \"grudados\" para ano (1996), mês (11) e dia (02)"
      ]
    },
    {
      "cell_type": "markdown",
      "metadata": {
        "id": "mt5KORGnHyhI"
      },
      "source": [
        "Para transformar um valor em data, usaremos a o método `pd.datetime()` do pandas. Para isso, precisamos também especificar o formato dos números (ex: AAAAmmdd).\n",
        "\n",
        "Obs: existem muitos especificadores para trabalhar com informações de tempo. Alguns muito usados são %Y(ano, ex: 1992), %m (mês numérico, ex:11) e %d (dia numérico, ex:02)\n",
        "\n",
        "**Vamos fazer um exemplo usando a minha data de nascimento**: 19951207"
      ]
    },
    {
      "cell_type": "code",
      "metadata": {
        "colab": {
          "base_uri": "https://localhost:8080/"
        },
        "id": "KC72ZauxIzWT",
        "outputId": "f24ab0a1-1201-462f-c1b6-e0502f6cb9b0"
      },
      "source": [
        "pd.to_datetime(19951207, format='%Y%m%d')"
      ],
      "execution_count": 5,
      "outputs": [
        {
          "output_type": "execute_result",
          "data": {
            "text/plain": [
              "Timestamp('1995-12-07 00:00:00')"
            ]
          },
          "metadata": {
            "tags": []
          },
          "execution_count": 5
        }
      ]
    },
    {
      "cell_type": "markdown",
      "metadata": {
        "id": "MaFjYmb2I7GZ"
      },
      "source": [
        "Prontinho! Agora os dados foram transformados para o formato \"Timestamp\", que é o padrão para dados de data/tempo.\n",
        "\n",
        "**Mas e se tivéssemos um dado com barras ou traços**, tipo: '1995-12-07' ou '1995/12/07'?"
      ]
    },
    {
      "cell_type": "code",
      "metadata": {
        "colab": {
          "base_uri": "https://localhost:8080/"
        },
        "id": "u8ZVsyrzJSlk",
        "outputId": "1d46ae8e-1f8b-473f-ed3f-d15a7cc47ede"
      },
      "source": [
        "pd.to_datetime('1995-12-07', format='%Y-%m-%d')"
      ],
      "execution_count": 6,
      "outputs": [
        {
          "output_type": "execute_result",
          "data": {
            "text/plain": [
              "Timestamp('1995-12-07 00:00:00')"
            ]
          },
          "metadata": {
            "tags": []
          },
          "execution_count": 6
        }
      ]
    },
    {
      "cell_type": "code",
      "metadata": {
        "colab": {
          "base_uri": "https://localhost:8080/"
        },
        "id": "iuPwbSiTJoOD",
        "outputId": "75bf43da-b535-4d39-b231-6c34dfb6aa0b"
      },
      "source": [
        "pd.to_datetime('1995/12/07', format='%Y/%m/%d')\n"
      ],
      "execution_count": 7,
      "outputs": [
        {
          "output_type": "execute_result",
          "data": {
            "text/plain": [
              "Timestamp('1995-12-07 00:00:00')"
            ]
          },
          "metadata": {
            "tags": []
          },
          "execution_count": 7
        }
      ]
    },
    {
      "cell_type": "markdown",
      "metadata": {
        "id": "K7KhkhFPJPti"
      },
      "source": [
        "Como podemos ver acima, basta modificar o argumento `format`, incluindo os separadores entre especificadores para corrigir o problema."
      ]
    },
    {
      "cell_type": "markdown",
      "metadata": {
        "id": "Hlu4MVkaKeAq"
      },
      "source": [
        "## Calculando a idade dos pacientes\n",
        "Para fazer a alteração de uma variável, basta passarmos a seleção da variável e o format.\n",
        "\n",
        "Para ter certeza do formato dos dados, vamos visualizar novamente um dos elementos presentes."
      ]
    },
    {
      "cell_type": "code",
      "metadata": {
        "colab": {
          "base_uri": "https://localhost:8080/"
        },
        "id": "uNgL2ar5KtuP",
        "outputId": "4f8ac314-086f-4a0d-9feb-ffc2b97546ca"
      },
      "source": [
        "dados['DT_NASC'][0]"
      ],
      "execution_count": 8,
      "outputs": [
        {
          "output_type": "execute_result",
          "data": {
            "text/plain": [
              "19611202.0"
            ]
          },
          "metadata": {
            "tags": []
          },
          "execution_count": 8
        }
      ]
    },
    {
      "cell_type": "markdown",
      "metadata": {
        "id": "eSt2OWTDKwX2"
      },
      "source": [
        "Agora, sabendo do formato dos números, podemos executar a transformação."
      ]
    },
    {
      "cell_type": "code",
      "metadata": {
        "colab": {
          "base_uri": "https://localhost:8080/"
        },
        "id": "OceeIgOsRjX0",
        "outputId": "7fb3a6e7-ea69-4d09-b0aa-c7d15b6f8271"
      },
      "source": [
        "pd.to_datetime(dados['DT_NASC'], format='%Y%m%d')"
      ],
      "execution_count": 9,
      "outputs": [
        {
          "output_type": "execute_result",
          "data": {
            "text/plain": [
              "0       1961-12-02\n",
              "1       1974-05-05\n",
              "2       1955-05-29\n",
              "3       1966-11-28\n",
              "4       1960-03-12\n",
              "           ...    \n",
              "57426   1995-09-04\n",
              "57427   1985-03-29\n",
              "57428   1976-01-16\n",
              "57429   2003-06-12\n",
              "57430   1966-03-12\n",
              "Name: DT_NASC, Length: 57431, dtype: datetime64[ns]"
            ]
          },
          "metadata": {
            "tags": []
          },
          "execution_count": 9
        }
      ]
    },
    {
      "cell_type": "markdown",
      "metadata": {
        "id": "gjxoi9HxK5Of"
      },
      "source": [
        "Agora precisamos renomear a variável para armazenar os resultados na nossa variável `DT_NASC`"
      ]
    },
    {
      "cell_type": "code",
      "metadata": {
        "id": "j7FkXelgRM4l"
      },
      "source": [
        "dados['DT_NASC'] = pd.to_datetime(dados['DT_NASC'], format='%Y%m%d')"
      ],
      "execution_count": 10,
      "outputs": []
    },
    {
      "cell_type": "markdown",
      "metadata": {
        "id": "NHsazkNPLTj6"
      },
      "source": [
        "Agora que temos a data de nascimento dos pacientes, **precisamos fazer a mesma coisa para a data de diagnóstico.**"
      ]
    },
    {
      "cell_type": "code",
      "metadata": {
        "id": "O9UyO7L9LTMf"
      },
      "source": [
        "dados['DT_DIAG'] = pd.to_datetime(dados['DT_DIAG'], format='%Y%m%d')"
      ],
      "execution_count": 11,
      "outputs": []
    },
    {
      "cell_type": "markdown",
      "metadata": {
        "id": "1owpw1F6QaHl"
      },
      "source": [
        "Para calcular a idade no momento de diagnóstico, podemos subtrair: DT_DIAG - DT_NASC"
      ]
    },
    {
      "cell_type": "code",
      "metadata": {
        "colab": {
          "base_uri": "https://localhost:8080/"
        },
        "id": "ftrXfxvhRpaO",
        "outputId": "db3c8485-d000-416e-f504-8f7b600a4209"
      },
      "source": [
        "dados['DT_DIAG'] - dados['DT_NASC']"
      ],
      "execution_count": 12,
      "outputs": [
        {
          "output_type": "execute_result",
          "data": {
            "text/plain": [
              "0       14278 days\n",
              "1        9788 days\n",
              "2       16660 days\n",
              "3       12469 days\n",
              "4       14951 days\n",
              "           ...    \n",
              "57426    9249 days\n",
              "57427   13060 days\n",
              "57428   16420 days\n",
              "57429    6411 days\n",
              "57430   20017 days\n",
              "Length: 57431, dtype: timedelta64[ns]"
            ]
          },
          "metadata": {
            "tags": []
          },
          "execution_count": 12
        }
      ]
    },
    {
      "cell_type": "code",
      "metadata": {
        "id": "A-tGJk_gR4TU"
      },
      "source": [
        "dados['idade_dias'] = dados['DT_DIAG'] - dados['DT_NASC']"
      ],
      "execution_count": 13,
      "outputs": []
    },
    {
      "cell_type": "markdown",
      "metadata": {
        "id": "XrZnKuvmRvj3"
      },
      "source": [
        "Essa operação nos da o resultado em dias, porém para nós faz mais sentido que seja em anos.\n",
        "\n",
        "Para fazer a alteração para anos, podemos dividir a idade em dias por `np.timedelta(1, 'Y')`"
      ]
    },
    {
      "cell_type": "code",
      "metadata": {
        "id": "4tCd0pNNUz7u"
      },
      "source": [
        "import numpy as np"
      ],
      "execution_count": 14,
      "outputs": []
    },
    {
      "cell_type": "code",
      "metadata": {
        "colab": {
          "base_uri": "https://localhost:8080/"
        },
        "id": "k6-mYiRkXLYU",
        "outputId": "484ec461-32ff-48a7-ff44-b21fcc754c6e"
      },
      "source": [
        "dados['idade_dias'] / np.timedelta64(1, 'Y')"
      ],
      "execution_count": 15,
      "outputs": [
        {
          "output_type": "execute_result",
          "data": {
            "text/plain": [
              "0        39.091836\n",
              "1        26.798634\n",
              "2        45.613531\n",
              "3        34.138962\n",
              "4        40.934448\n",
              "           ...    \n",
              "57426    25.322902\n",
              "57427    35.757066\n",
              "57428    44.956433\n",
              "57429    17.552722\n",
              "57430    54.804685\n",
              "Name: idade_dias, Length: 57431, dtype: float64"
            ]
          },
          "metadata": {
            "tags": []
          },
          "execution_count": 15
        }
      ]
    },
    {
      "cell_type": "markdown",
      "metadata": {
        "id": "N7-7byBHSip9"
      },
      "source": [
        "Adicionando a nova variável `idade`"
      ]
    },
    {
      "cell_type": "code",
      "metadata": {
        "id": "3s6IfTTeTzdp"
      },
      "source": [
        "dados['idade'] = dados['idade_dias'] / np.timedelta64(1, 'Y')"
      ],
      "execution_count": 16,
      "outputs": []
    },
    {
      "cell_type": "code",
      "metadata": {
        "colab": {
          "base_uri": "https://localhost:8080/"
        },
        "id": "Da59qQ2rSrYF",
        "outputId": "d595b1be-0160-4e9d-f263-1cdda6bea127"
      },
      "source": [
        "dados['idade']"
      ],
      "execution_count": 17,
      "outputs": [
        {
          "output_type": "execute_result",
          "data": {
            "text/plain": [
              "0        39.091836\n",
              "1        26.798634\n",
              "2        45.613531\n",
              "3        34.138962\n",
              "4        40.934448\n",
              "           ...    \n",
              "57426    25.322902\n",
              "57427    35.757066\n",
              "57428    44.956433\n",
              "57429    17.552722\n",
              "57430    54.804685\n",
              "Name: idade, Length: 57431, dtype: float64"
            ]
          },
          "metadata": {
            "tags": []
          },
          "execution_count": 17
        }
      ]
    },
    {
      "cell_type": "markdown",
      "metadata": {
        "id": "YAWcRV4bSJiM"
      },
      "source": [
        "Assim, temos a idade dos pacientes em anos.\n",
        "\n",
        "Para finalizar, temos que s**elecionar apenas os números inteiros**."
      ]
    },
    {
      "cell_type": "markdown",
      "metadata": {
        "id": "TAMRMqX5SwWp"
      },
      "source": [
        "Para fazer isso, teremos que fazer algumas correções devido a presença de valores nulos no nosso banco de dados.\n",
        "\n",
        "1. Primeiro preencheremos os valores nulos com um valor qualquer (999) usando o método `.fillna(999)`;\n",
        "2. Aí sim transformaremos os dados em inteiros usando método `.astype(int)`;\n",
        "3. Por fim, vamos substituir os valores 999 novamente por valores nulos usado o método `.replace(999, np.nan)`"
      ]
    },
    {
      "cell_type": "markdown",
      "metadata": {
        "id": "UgxOcr7gTbJ1"
      },
      "source": [
        "Checando valores nulos"
      ]
    },
    {
      "cell_type": "code",
      "metadata": {
        "colab": {
          "base_uri": "https://localhost:8080/"
        },
        "id": "5eBEOq-zYNg3",
        "outputId": "ea4cb1ed-7b71-4891-86bd-19fd76db4629"
      },
      "source": [
        "dados['DT_NASC'].isna().sum()"
      ],
      "execution_count": 18,
      "outputs": [
        {
          "output_type": "execute_result",
          "data": {
            "text/plain": [
              "172"
            ]
          },
          "metadata": {
            "tags": []
          },
          "execution_count": 18
        }
      ]
    },
    {
      "cell_type": "markdown",
      "metadata": {
        "id": "5PWRhCXSYdzK"
      },
      "source": [
        "Preencher valores nulos com 999"
      ]
    },
    {
      "cell_type": "code",
      "metadata": {
        "id": "T26nRe5YXoeP"
      },
      "source": [
        "dados['idade'] = dados['idade'].fillna(999)"
      ],
      "execution_count": 19,
      "outputs": []
    },
    {
      "cell_type": "markdown",
      "metadata": {
        "id": "U-d0u-xlZH0H"
      },
      "source": [
        "Após preencher com 999, é então possível mudar os dados para formato inteiro"
      ]
    },
    {
      "cell_type": "code",
      "metadata": {
        "id": "BRuN84zfYpFP"
      },
      "source": [
        "dados['idade'] = dados['idade'].astype(int)"
      ],
      "execution_count": 20,
      "outputs": []
    },
    {
      "cell_type": "markdown",
      "metadata": {
        "id": "syb6e6pOZOAU"
      },
      "source": [
        "Volto a classificação de nulo para as pessoas que tinham 999 anos"
      ]
    },
    {
      "cell_type": "code",
      "metadata": {
        "id": "-5FIj6FsYxlP"
      },
      "source": [
        "dados['idade'] = dados['idade'].replace([999], [np.nan])"
      ],
      "execution_count": 21,
      "outputs": []
    },
    {
      "cell_type": "markdown",
      "metadata": {
        "id": "NA78DWNbTjDH"
      },
      "source": [
        "**Finalmente temos a idade dos nossos pacientes!!**"
      ]
    },
    {
      "cell_type": "code",
      "metadata": {
        "colab": {
          "base_uri": "https://localhost:8080/",
          "height": 282
        },
        "id": "X3nwY578Zxby",
        "outputId": "df925fd7-cc55-4fe0-96c7-0e675f24c072"
      },
      "source": [
        "dados['idade'].plot(kind='hist')"
      ],
      "execution_count": 22,
      "outputs": [
        {
          "output_type": "execute_result",
          "data": {
            "text/plain": [
              "<matplotlib.axes._subplots.AxesSubplot at 0x7f498363bd90>"
            ]
          },
          "metadata": {
            "tags": []
          },
          "execution_count": 22
        },
        {
          "output_type": "display_data",
          "data": {
            "image/png": "[encoded data removed]",
            "text/plain": [
              "<Figure size 432x288 with 1 Axes>"
            ]
          },
          "metadata": {
            "tags": [],
            "needs_background": "light"
          }
        }
      ]
    },
    {
      "cell_type": "markdown",
      "metadata": {
        "id": "TBWz2y4qqC_W"
      },
      "source": [
        "Agora sim podemos entender melhor quais eram as idades dos individuos com TB no PR. Com o método describe() temos as estatísticas descritivas do nosso conjunto"
      ]
    },
    {
      "cell_type": "code",
      "metadata": {
        "colab": {
          "base_uri": "https://localhost:8080/"
        },
        "id": "QV0bXH0QaUe8",
        "outputId": "c5ab9cf2-72fe-42b7-9a4f-2e3ea908e8ba"
      },
      "source": [
        "dados['idade'].describe()"
      ],
      "execution_count": 23,
      "outputs": [
        {
          "output_type": "execute_result",
          "data": {
            "text/plain": [
              "count    57259.000000\n",
              "mean        40.050612\n",
              "std         16.627037\n",
              "min          0.000000\n",
              "25%         27.000000\n",
              "50%         38.000000\n",
              "75%         51.000000\n",
              "max        105.000000\n",
              "Name: idade, dtype: float64"
            ]
          },
          "metadata": {
            "tags": []
          },
          "execution_count": 23
        }
      ]
    },
    {
      "cell_type": "markdown",
      "metadata": {
        "id": "nOJDfRP9qYf5"
      },
      "source": [
        "Podemos ver que a média de idade das pessoas afetadas com TB foi de 40 anos. Além disso, 50% dos 75% dos pacientes tinha 51 anos ou menos!!!"
      ]
    },
    {
      "cell_type": "markdown",
      "metadata": {
        "id": "Vr7lX840qtC7"
      },
      "source": [
        "Agora, tendo a idade dos nossos pacientes, podemos começar a interpretar oe feito da idade em outra variáveis."
      ]
    },
    {
      "cell_type": "code",
      "metadata": {
        "colab": {
          "base_uri": "https://localhost:8080/",
          "height": 425
        },
        "id": "_ALoB7O4beI5",
        "outputId": "b3777785-f524-4ddf-818a-e58b4dcf70cc"
      },
      "source": [
        "dados.groupby('CS_ESCOL_N').mean()[['idade']]"
      ],
      "execution_count": 24,
      "outputs": [
        {
          "output_type": "execute_result",
          "data": {
            "text/html": [
              "<div>\n",
              "<style scoped>\n",
              "    .dataframe tbody tr th:only-of-type {\n",
              "        vertical-align: middle;\n",
              "    }\n",
              "\n",
              "    .dataframe tbody tr th {\n",
              "        vertical-align: top;\n",
              "    }\n",
              "\n",
              "    .dataframe thead th {\n",
              "        text-align: right;\n",
              "    }\n",
              "</style>\n",
              "<table border=\"1\" class=\"dataframe\">\n",
              "  <thead>\n",
              "    <tr style=\"text-align: right;\">\n",
              "      <th></th>\n",
              "      <th>idade</th>\n",
              "    </tr>\n",
              "    <tr>\n",
              "      <th>CS_ESCOL_N</th>\n",
              "      <th></th>\n",
              "    </tr>\n",
              "  </thead>\n",
              "  <tbody>\n",
              "    <tr>\n",
              "      <th>1ª a 4ª série incompleta do EF</th>\n",
              "      <td>47.195122</td>\n",
              "    </tr>\n",
              "    <tr>\n",
              "      <th>4ª série completa do EF</th>\n",
              "      <td>44.966649</td>\n",
              "    </tr>\n",
              "    <tr>\n",
              "      <th>5ª à 8ª série incompleta do EF</th>\n",
              "      <td>37.123646</td>\n",
              "    </tr>\n",
              "    <tr>\n",
              "      <th>Analfabeto</th>\n",
              "      <td>54.044424</td>\n",
              "    </tr>\n",
              "    <tr>\n",
              "      <th>Educação superior completa</th>\n",
              "      <td>39.508266</td>\n",
              "    </tr>\n",
              "    <tr>\n",
              "      <th>Educação superior incompleta</th>\n",
              "      <td>32.380747</td>\n",
              "    </tr>\n",
              "    <tr>\n",
              "      <th>Ensino fundamental completo</th>\n",
              "      <td>37.964381</td>\n",
              "    </tr>\n",
              "    <tr>\n",
              "      <th>Ensino médio completo</th>\n",
              "      <td>36.624058</td>\n",
              "    </tr>\n",
              "    <tr>\n",
              "      <th>Ensino médio incompleto</th>\n",
              "      <td>32.937864</td>\n",
              "    </tr>\n",
              "    <tr>\n",
              "      <th>Ignorado</th>\n",
              "      <td>41.380346</td>\n",
              "    </tr>\n",
              "    <tr>\n",
              "      <th>Não se aplica</th>\n",
              "      <td>12.014222</td>\n",
              "    </tr>\n",
              "  </tbody>\n",
              "</table>\n",
              "</div>"
            ],
            "text/plain": [
              "                                    idade\n",
              "CS_ESCOL_N                               \n",
              "1ª a 4ª série incompleta do EF  47.195122\n",
              "4ª série completa do EF         44.966649\n",
              "5ª à 8ª série incompleta do EF  37.123646\n",
              "Analfabeto                      54.044424\n",
              "Educação superior completa      39.508266\n",
              "Educação superior incompleta    32.380747\n",
              "Ensino fundamental completo     37.964381\n",
              "Ensino médio completo           36.624058\n",
              "Ensino médio incompleto         32.937864\n",
              "Ignorado                        41.380346\n",
              "Não se aplica                   12.014222"
            ]
          },
          "metadata": {
            "tags": []
          },
          "execution_count": 24
        }
      ]
    },
    {
      "cell_type": "markdown",
      "metadata": {
        "id": "BhyVfPuCrBu5"
      },
      "source": [
        "Na tabela acima, agrupei os dados por escolaridade, calculei a média dos dados e selecionei apenas a variável idade."
      ]
    },
    {
      "cell_type": "markdown",
      "metadata": {
        "id": "5IiosUpqQoks"
      },
      "source": [
        "## Desafios"
      ]
    },
    {
      "cell_type": "markdown",
      "metadata": {
        "id": "uflTDnxrQsFc"
      },
      "source": [
        "<font color='red'>**Desafio 01.** </font>Crie uma variável com sua data de nascimento e depois transforme ela para o formato data usando o pd.to_datetime()."
      ]
    },
    {
      "cell_type": "code",
      "metadata": {
        "id": "n8XfUWeWQqZ7"
      },
      "source": [
        ""
      ],
      "execution_count": 24,
      "outputs": []
    },
    {
      "cell_type": "code",
      "metadata": {
        "id": "klPARK1ErbRM"
      },
      "source": [
        ""
      ],
      "execution_count": 24,
      "outputs": []
    },
    {
      "cell_type": "markdown",
      "metadata": {
        "id": "t32Xh5FWrcGU"
      },
      "source": [
        "<font color='red'>**Desafio 02.** </font> Transforme a variável 'DT_INIC_TR' para o formato de data e a insira novamente no banco"
      ]
    },
    {
      "cell_type": "code",
      "metadata": {
        "id": "xpTEpFlwsH-g"
      },
      "source": [
        ""
      ],
      "execution_count": 24,
      "outputs": []
    },
    {
      "cell_type": "code",
      "metadata": {
        "id": "tWzkwzeWsIFI"
      },
      "source": [
        ""
      ],
      "execution_count": 24,
      "outputs": []
    },
    {
      "cell_type": "markdown",
      "metadata": {
        "id": "dyG5rsv0sIue"
      },
      "source": [
        "<font color='red'>**Desafio 03.** </font> Agora temos as variáveis DT_DIAG e DT_INIC_TR em formato de data. **Calcule a diferença entre o início do tratamento e a data de diagnóstico**. Em seguida, crie uma nova variável para inseri-la no banco de dados\n",
        "\n",
        "Obs: após fazer a subtração, você vai precisar dividir a nova variável por `np.timedelta64(1, 'D')` para transforma-lá em um número de dias."
      ]
    },
    {
      "cell_type": "code",
      "metadata": {
        "id": "TjfGBXmztV6C"
      },
      "source": [
        ""
      ],
      "execution_count": 24,
      "outputs": []
    },
    {
      "cell_type": "code",
      "metadata": {
        "id": "LBvdIlcqtWQA"
      },
      "source": [
        ""
      ],
      "execution_count": 24,
      "outputs": []
    },
    {
      "cell_type": "markdown",
      "metadata": {
        "id": "o3FUt0FKtWm6"
      },
      "source": [
        "<font color='red'>**Desafio 04.** </font> A partir da nova variável, faça um histograma como o que fizemos para a idade dos pacientes.\n",
        "\n",
        "Adicione ao gráfico:\n",
        "1. Nome para o eixo X;\n",
        "2. Nome para o eixo Y;\n",
        "3. Titulo adequado"
      ]
    },
    {
      "cell_type": "code",
      "metadata": {
        "id": "HTlP1QPhtlHH"
      },
      "source": [
        ""
      ],
      "execution_count": 24,
      "outputs": []
    },
    {
      "cell_type": "code",
      "metadata": {
        "id": "-Yv1TI-btlj9"
      },
      "source": [
        ""
      ],
      "execution_count": 24,
      "outputs": []
    },
    {
      "cell_type": "markdown",
      "metadata": {
        "id": "wcb484kAtl4i"
      },
      "source": [
        "<font color='red'>**Desafio 05.** </font> Use o método .describe() para visualizar as estatísticas descritivas da nova variável criada"
      ]
    },
    {
      "cell_type": "code",
      "metadata": {
        "id": "f9pOZzrut5Pz"
      },
      "source": [
        ""
      ],
      "execution_count": 24,
      "outputs": []
    },
    {
      "cell_type": "code",
      "metadata": {
        "id": "Qnw8RFsqz5pp"
      },
      "source": [
        ""
      ],
      "execution_count": 24,
      "outputs": []
    }
  ]
}