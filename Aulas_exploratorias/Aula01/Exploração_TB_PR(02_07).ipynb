{
  "nbformat": 4,
  "nbformat_minor": 0,
  "metadata": {
    "colab": {
      "name": "Exploração TB-PR(02/07).ipynb",
      "provenance": [],
      "collapsed_sections": [],
      "include_colab_link": true
    },
    "kernelspec": {
      "name": "python3",
      "display_name": "Python 3"
    },
    "language_info": {
      "name": "python"
    }
  },
  "cells": [
    {
      "cell_type": "markdown",
      "metadata": {
        "id": "view-in-github",
        "colab_type": "text"
      },
      "source": [
        "<a href=\"https://colab.research.google.com/github/souzajvp/teaching-python/blob/main/Aulas_exploratorias/Aula01/Explora%C3%A7%C3%A3o_TB_PR(02_07).ipynb\" target=\"_parent\"><img src=\"https://colab.research.google.com/assets/colab-badge.svg\" alt=\"Open In Colab\"/></a>"
      ]
    },
    {
      "cell_type": "code",
      "metadata": {
        "id": "jAaJYF9EHc3q"
      },
      "source": [
        "import pandas as pd"
      ],
      "execution_count": 1,
      "outputs": []
    },
    {
      "cell_type": "markdown",
      "metadata": {
        "id": "_TB-ZbsMp2Mn"
      },
      "source": [
        "Lendo os dados de TB no PR do meu GitHub"
      ]
    },
    {
      "cell_type": "code",
      "metadata": {
        "id": "E-cWjDh_IW8b"
      },
      "source": [
        "url = 'https://raw.githubusercontent.com/souzajvp/teaching-python/main/dataset/tb_pr_sinan.csv'"
      ],
      "execution_count": 2,
      "outputs": []
    },
    {
      "cell_type": "code",
      "metadata": {
        "colab": {
          "base_uri": "https://localhost:8080/"
        },
        "id": "U7gGF8M1Ih_T",
        "outputId": "e1d60266-91e4-4a56-8476-841d293b013f"
      },
      "source": [
        "dados = pd.read_csv(url)"
      ],
      "execution_count": 3,
      "outputs": [
        {
          "output_type": "stream",
          "text": [
            "/usr/local/lib/python3.7/dist-packages/IPython/core/interactiveshell.py:2718: DtypeWarning: Columns (61) have mixed types.Specify dtype option on import or set low_memory=False.\n",
            "  interactivity=interactivity, compiler=compiler, result=result)\n"
          ],
          "name": "stderr"
        }
      ]
    },
    {
      "cell_type": "markdown",
      "metadata": {
        "id": "oNNa6UsLr0Tv"
      },
      "source": [
        "Visualizando as colunas e primeiras linhas do banco de dados"
      ]
    },
    {
      "cell_type": "code",
      "metadata": {
        "colab": {
          "base_uri": "https://localhost:8080/",
          "height": 255
        },
        "id": "l-InEzqwI3wk",
        "outputId": "1090edb4-211a-430c-d0da-b3a1073d56e7"
      },
      "source": [
        "dados.head()"
      ],
      "execution_count": 4,
      "outputs": [
        {
          "output_type": "execute_result",
          "data": {
            "text/html": [
              "<div>\n",
              "<style scoped>\n",
              "    .dataframe tbody tr th:only-of-type {\n",
              "        vertical-align: middle;\n",
              "    }\n",
              "\n",
              "    .dataframe tbody tr th {\n",
              "        vertical-align: top;\n",
              "    }\n",
              "\n",
              "    .dataframe thead th {\n",
              "        text-align: right;\n",
              "    }\n",
              "</style>\n",
              "<table border=\"1\" class=\"dataframe\">\n",
              "  <thead>\n",
              "    <tr style=\"text-align: right;\">\n",
              "      <th></th>\n",
              "      <th>NU_NOTIFIC</th>\n",
              "      <th>TP_NOT</th>\n",
              "      <th>ID_AGRAVO</th>\n",
              "      <th>DT_NOTIFIC</th>\n",
              "      <th>NU_ANO</th>\n",
              "      <th>SG_UF_NOT</th>\n",
              "      <th>ID_MUNICIP</th>\n",
              "      <th>ID_REGIONA</th>\n",
              "      <th>DT_DIAG</th>\n",
              "      <th>DT_NASC</th>\n",
              "      <th>NU_IDADE_N</th>\n",
              "      <th>CS_SEXO</th>\n",
              "      <th>CS_GESTANT</th>\n",
              "      <th>CS_RACA</th>\n",
              "      <th>CS_ESCOL_N</th>\n",
              "      <th>SG_UF</th>\n",
              "      <th>ID_MN_RESI</th>\n",
              "      <th>ID_RG_RESI</th>\n",
              "      <th>CS_ZONA</th>\n",
              "      <th>ID_PAIS</th>\n",
              "      <th>NDUPLIC_N</th>\n",
              "      <th>IN_VINCULA</th>\n",
              "      <th>DT_DIGITA</th>\n",
              "      <th>DT_TRANSUS</th>\n",
              "      <th>DT_TRANSDM</th>\n",
              "      <th>DT_TRANSSM</th>\n",
              "      <th>DT_TRANSRM</th>\n",
              "      <th>DT_TRANSRS</th>\n",
              "      <th>DT_TRANSSE</th>\n",
              "      <th>IDENT_MICR</th>\n",
              "      <th>MIGRADO_W</th>\n",
              "      <th>ID_OCUPA_N</th>\n",
              "      <th>TRATAMENTO</th>\n",
              "      <th>INSTITUCIO</th>\n",
              "      <th>RAIOX_TORA</th>\n",
              "      <th>TESTE_TUBE</th>\n",
              "      <th>FORMA</th>\n",
              "      <th>EXTRAPU1_N</th>\n",
              "      <th>EXTRAPU2_N</th>\n",
              "      <th>EXTRAPUL_O</th>\n",
              "      <th>...</th>\n",
              "      <th>ETIONAMIDA</th>\n",
              "      <th>OUTRAS</th>\n",
              "      <th>OUTRAS_DES</th>\n",
              "      <th>TRAT_SUPER</th>\n",
              "      <th>NU_CONTATO</th>\n",
              "      <th>DOENCA_TRA</th>\n",
              "      <th>SG_UF_AT</th>\n",
              "      <th>ID_MUNIC_A</th>\n",
              "      <th>NU_NOTI_AT</th>\n",
              "      <th>DT_NOTI_AT</th>\n",
              "      <th>SG_UF_2</th>\n",
              "      <th>ID_MUNIC_2</th>\n",
              "      <th>BACILOSC_1</th>\n",
              "      <th>BACILOSC_2</th>\n",
              "      <th>BACILOSC_3</th>\n",
              "      <th>BACILOSC_4</th>\n",
              "      <th>BACILOSC_5</th>\n",
              "      <th>BACILOSC_6</th>\n",
              "      <th>TRATSUP_AT</th>\n",
              "      <th>DT_MUDANCA</th>\n",
              "      <th>NU_COMU_EX</th>\n",
              "      <th>SITUA_9_M</th>\n",
              "      <th>SITUA_12_M</th>\n",
              "      <th>SITUA_ENCE</th>\n",
              "      <th>DT_ENCERRA</th>\n",
              "      <th>TPUNINOT</th>\n",
              "      <th>POP_LIBER</th>\n",
              "      <th>POP_RUA</th>\n",
              "      <th>POP_SAUDE</th>\n",
              "      <th>POP_IMIG</th>\n",
              "      <th>BENEF_GOV</th>\n",
              "      <th>AGRAVDROGA</th>\n",
              "      <th>AGRAVTABAC</th>\n",
              "      <th>TEST_MOLEC</th>\n",
              "      <th>TEST_SENSI</th>\n",
              "      <th>ANT_RETRO</th>\n",
              "      <th>BAC_APOS_6</th>\n",
              "      <th>TRANSF</th>\n",
              "      <th>UF_TRANSF</th>\n",
              "      <th>MUN_TRANSF</th>\n",
              "    </tr>\n",
              "  </thead>\n",
              "  <tbody>\n",
              "    <tr>\n",
              "      <th>0</th>\n",
              "      <td>233072</td>\n",
              "      <td>2</td>\n",
              "      <td>A169</td>\n",
              "      <td>20010104</td>\n",
              "      <td>2001</td>\n",
              "      <td>41</td>\n",
              "      <td>410420.0</td>\n",
              "      <td>1356.0</td>\n",
              "      <td>20010104</td>\n",
              "      <td>19611202.0</td>\n",
              "      <td>4039.0</td>\n",
              "      <td>F</td>\n",
              "      <td>9.0</td>\n",
              "      <td>NaN</td>\n",
              "      <td>3.0</td>\n",
              "      <td>41.0</td>\n",
              "      <td>410420.0</td>\n",
              "      <td>1356.0</td>\n",
              "      <td>1.0</td>\n",
              "      <td>1.0</td>\n",
              "      <td>0.0</td>\n",
              "      <td>0.0</td>\n",
              "      <td>18991230.0</td>\n",
              "      <td>18991230.0</td>\n",
              "      <td>18991230.0</td>\n",
              "      <td>20071210.0</td>\n",
              "      <td>NaN</td>\n",
              "      <td>18991230.0</td>\n",
              "      <td>20080815.0</td>\n",
              "      <td>NaN</td>\n",
              "      <td>1.0</td>\n",
              "      <td>NaN</td>\n",
              "      <td>1.0</td>\n",
              "      <td>NaN</td>\n",
              "      <td>1.0</td>\n",
              "      <td>4.0</td>\n",
              "      <td>1.0</td>\n",
              "      <td>NaN</td>\n",
              "      <td>NaN</td>\n",
              "      <td>NaN</td>\n",
              "      <td>...</td>\n",
              "      <td>2.0</td>\n",
              "      <td>2.0</td>\n",
              "      <td>NaN</td>\n",
              "      <td>9.0</td>\n",
              "      <td>NaN</td>\n",
              "      <td>NaN</td>\n",
              "      <td>41.0</td>\n",
              "      <td>410420.0</td>\n",
              "      <td>233072.0</td>\n",
              "      <td>20010104.0</td>\n",
              "      <td>41.0</td>\n",
              "      <td>410420.0</td>\n",
              "      <td>NaN</td>\n",
              "      <td>2.0</td>\n",
              "      <td>NaN</td>\n",
              "      <td>2.0</td>\n",
              "      <td>NaN</td>\n",
              "      <td>2.0</td>\n",
              "      <td>NaN</td>\n",
              "      <td>NaN</td>\n",
              "      <td>NaN</td>\n",
              "      <td>1.0</td>\n",
              "      <td>NaN</td>\n",
              "      <td>1.0</td>\n",
              "      <td>20010703.0</td>\n",
              "      <td>NaN</td>\n",
              "      <td>NaN</td>\n",
              "      <td>NaN</td>\n",
              "      <td>NaN</td>\n",
              "      <td>NaN</td>\n",
              "      <td>NaN</td>\n",
              "      <td>NaN</td>\n",
              "      <td>NaN</td>\n",
              "      <td>NaN</td>\n",
              "      <td>NaN</td>\n",
              "      <td>NaN</td>\n",
              "      <td>NaN</td>\n",
              "      <td>NaN</td>\n",
              "      <td>NaN</td>\n",
              "      <td>NaN</td>\n",
              "    </tr>\n",
              "    <tr>\n",
              "      <th>1</th>\n",
              "      <td>233073</td>\n",
              "      <td>2</td>\n",
              "      <td>A169</td>\n",
              "      <td>20010220</td>\n",
              "      <td>2001</td>\n",
              "      <td>41</td>\n",
              "      <td>410690.0</td>\n",
              "      <td>1356.0</td>\n",
              "      <td>20010220</td>\n",
              "      <td>19740505.0</td>\n",
              "      <td>4026.0</td>\n",
              "      <td>F</td>\n",
              "      <td>9.0</td>\n",
              "      <td>NaN</td>\n",
              "      <td>3.0</td>\n",
              "      <td>41.0</td>\n",
              "      <td>410420.0</td>\n",
              "      <td>1356.0</td>\n",
              "      <td>1.0</td>\n",
              "      <td>1.0</td>\n",
              "      <td>0.0</td>\n",
              "      <td>0.0</td>\n",
              "      <td>18991230.0</td>\n",
              "      <td>18991230.0</td>\n",
              "      <td>18991230.0</td>\n",
              "      <td>20071210.0</td>\n",
              "      <td>NaN</td>\n",
              "      <td>18991230.0</td>\n",
              "      <td>20080815.0</td>\n",
              "      <td>NaN</td>\n",
              "      <td>1.0</td>\n",
              "      <td>NaN</td>\n",
              "      <td>1.0</td>\n",
              "      <td>NaN</td>\n",
              "      <td>1.0</td>\n",
              "      <td>4.0</td>\n",
              "      <td>1.0</td>\n",
              "      <td>NaN</td>\n",
              "      <td>NaN</td>\n",
              "      <td>NaN</td>\n",
              "      <td>...</td>\n",
              "      <td>NaN</td>\n",
              "      <td>NaN</td>\n",
              "      <td>NaN</td>\n",
              "      <td>9.0</td>\n",
              "      <td>NaN</td>\n",
              "      <td>NaN</td>\n",
              "      <td>41.0</td>\n",
              "      <td>410690.0</td>\n",
              "      <td>233073.0</td>\n",
              "      <td>20010220.0</td>\n",
              "      <td>41.0</td>\n",
              "      <td>410420.0</td>\n",
              "      <td>NaN</td>\n",
              "      <td>NaN</td>\n",
              "      <td>NaN</td>\n",
              "      <td>NaN</td>\n",
              "      <td>NaN</td>\n",
              "      <td>NaN</td>\n",
              "      <td>NaN</td>\n",
              "      <td>NaN</td>\n",
              "      <td>NaN</td>\n",
              "      <td>NaN</td>\n",
              "      <td>NaN</td>\n",
              "      <td>NaN</td>\n",
              "      <td>18991230.0</td>\n",
              "      <td>NaN</td>\n",
              "      <td>NaN</td>\n",
              "      <td>NaN</td>\n",
              "      <td>NaN</td>\n",
              "      <td>NaN</td>\n",
              "      <td>NaN</td>\n",
              "      <td>NaN</td>\n",
              "      <td>NaN</td>\n",
              "      <td>NaN</td>\n",
              "      <td>NaN</td>\n",
              "      <td>NaN</td>\n",
              "      <td>NaN</td>\n",
              "      <td>NaN</td>\n",
              "      <td>NaN</td>\n",
              "      <td>NaN</td>\n",
              "    </tr>\n",
              "    <tr>\n",
              "      <th>2</th>\n",
              "      <td>668320</td>\n",
              "      <td>2</td>\n",
              "      <td>A169</td>\n",
              "      <td>20010107</td>\n",
              "      <td>2001</td>\n",
              "      <td>41</td>\n",
              "      <td>411950.0</td>\n",
              "      <td>1356.0</td>\n",
              "      <td>20010107</td>\n",
              "      <td>19550529.0</td>\n",
              "      <td>4045.0</td>\n",
              "      <td>I</td>\n",
              "      <td>6.0</td>\n",
              "      <td>NaN</td>\n",
              "      <td>0.0</td>\n",
              "      <td>41.0</td>\n",
              "      <td>411950.0</td>\n",
              "      <td>1356.0</td>\n",
              "      <td>1.0</td>\n",
              "      <td>1.0</td>\n",
              "      <td>0.0</td>\n",
              "      <td>0.0</td>\n",
              "      <td>18991230.0</td>\n",
              "      <td>18991230.0</td>\n",
              "      <td>18991230.0</td>\n",
              "      <td>20071214.0</td>\n",
              "      <td>NaN</td>\n",
              "      <td>18991230.0</td>\n",
              "      <td>20080815.0</td>\n",
              "      <td>NaN</td>\n",
              "      <td>1.0</td>\n",
              "      <td>NaN</td>\n",
              "      <td>3.0</td>\n",
              "      <td>NaN</td>\n",
              "      <td>1.0</td>\n",
              "      <td>4.0</td>\n",
              "      <td>1.0</td>\n",
              "      <td>NaN</td>\n",
              "      <td>NaN</td>\n",
              "      <td>NaN</td>\n",
              "      <td>...</td>\n",
              "      <td>2.0</td>\n",
              "      <td>2.0</td>\n",
              "      <td>NaN</td>\n",
              "      <td>9.0</td>\n",
              "      <td>NaN</td>\n",
              "      <td>NaN</td>\n",
              "      <td>41.0</td>\n",
              "      <td>411950.0</td>\n",
              "      <td>668320.0</td>\n",
              "      <td>20010107.0</td>\n",
              "      <td>41.0</td>\n",
              "      <td>411950.0</td>\n",
              "      <td>NaN</td>\n",
              "      <td>NaN</td>\n",
              "      <td>NaN</td>\n",
              "      <td>NaN</td>\n",
              "      <td>NaN</td>\n",
              "      <td>NaN</td>\n",
              "      <td>NaN</td>\n",
              "      <td>NaN</td>\n",
              "      <td>NaN</td>\n",
              "      <td>2.0</td>\n",
              "      <td>NaN</td>\n",
              "      <td>2.0</td>\n",
              "      <td>20020103.0</td>\n",
              "      <td>NaN</td>\n",
              "      <td>NaN</td>\n",
              "      <td>NaN</td>\n",
              "      <td>NaN</td>\n",
              "      <td>NaN</td>\n",
              "      <td>NaN</td>\n",
              "      <td>NaN</td>\n",
              "      <td>NaN</td>\n",
              "      <td>NaN</td>\n",
              "      <td>NaN</td>\n",
              "      <td>NaN</td>\n",
              "      <td>NaN</td>\n",
              "      <td>NaN</td>\n",
              "      <td>NaN</td>\n",
              "      <td>NaN</td>\n",
              "    </tr>\n",
              "    <tr>\n",
              "      <th>3</th>\n",
              "      <td>223888</td>\n",
              "      <td>2</td>\n",
              "      <td>A169</td>\n",
              "      <td>20010117</td>\n",
              "      <td>2001</td>\n",
              "      <td>41</td>\n",
              "      <td>411950.0</td>\n",
              "      <td>1356.0</td>\n",
              "      <td>20010117</td>\n",
              "      <td>19661128.0</td>\n",
              "      <td>4034.0</td>\n",
              "      <td>F</td>\n",
              "      <td>9.0</td>\n",
              "      <td>NaN</td>\n",
              "      <td>3.0</td>\n",
              "      <td>41.0</td>\n",
              "      <td>412770.0</td>\n",
              "      <td>1356.0</td>\n",
              "      <td>1.0</td>\n",
              "      <td>1.0</td>\n",
              "      <td>1.0</td>\n",
              "      <td>0.0</td>\n",
              "      <td>18991230.0</td>\n",
              "      <td>18991230.0</td>\n",
              "      <td>18991230.0</td>\n",
              "      <td>20080107.0</td>\n",
              "      <td>NaN</td>\n",
              "      <td>18991230.0</td>\n",
              "      <td>20080815.0</td>\n",
              "      <td>NaN</td>\n",
              "      <td>1.0</td>\n",
              "      <td>NaN</td>\n",
              "      <td>1.0</td>\n",
              "      <td>NaN</td>\n",
              "      <td>2.0</td>\n",
              "      <td>4.0</td>\n",
              "      <td>1.0</td>\n",
              "      <td>NaN</td>\n",
              "      <td>NaN</td>\n",
              "      <td>NaN</td>\n",
              "      <td>...</td>\n",
              "      <td>2.0</td>\n",
              "      <td>NaN</td>\n",
              "      <td>NaN</td>\n",
              "      <td>9.0</td>\n",
              "      <td>NaN</td>\n",
              "      <td>NaN</td>\n",
              "      <td>41.0</td>\n",
              "      <td>411950.0</td>\n",
              "      <td>223888.0</td>\n",
              "      <td>20010117.0</td>\n",
              "      <td>41.0</td>\n",
              "      <td>411950.0</td>\n",
              "      <td>NaN</td>\n",
              "      <td>2.0</td>\n",
              "      <td>NaN</td>\n",
              "      <td>NaN</td>\n",
              "      <td>NaN</td>\n",
              "      <td>NaN</td>\n",
              "      <td>NaN</td>\n",
              "      <td>NaN</td>\n",
              "      <td>NaN</td>\n",
              "      <td>5.0</td>\n",
              "      <td>NaN</td>\n",
              "      <td>5.0</td>\n",
              "      <td>20010718.0</td>\n",
              "      <td>NaN</td>\n",
              "      <td>NaN</td>\n",
              "      <td>NaN</td>\n",
              "      <td>NaN</td>\n",
              "      <td>NaN</td>\n",
              "      <td>NaN</td>\n",
              "      <td>NaN</td>\n",
              "      <td>NaN</td>\n",
              "      <td>NaN</td>\n",
              "      <td>NaN</td>\n",
              "      <td>NaN</td>\n",
              "      <td>NaN</td>\n",
              "      <td>NaN</td>\n",
              "      <td>NaN</td>\n",
              "      <td>NaN</td>\n",
              "    </tr>\n",
              "    <tr>\n",
              "      <th>4</th>\n",
              "      <td>766013</td>\n",
              "      <td>2</td>\n",
              "      <td>A169</td>\n",
              "      <td>20010216</td>\n",
              "      <td>2001</td>\n",
              "      <td>41</td>\n",
              "      <td>410690.0</td>\n",
              "      <td>1356.0</td>\n",
              "      <td>20010216</td>\n",
              "      <td>19600312.0</td>\n",
              "      <td>4040.0</td>\n",
              "      <td>M</td>\n",
              "      <td>6.0</td>\n",
              "      <td>1.0</td>\n",
              "      <td>3.0</td>\n",
              "      <td>41.0</td>\n",
              "      <td>410690.0</td>\n",
              "      <td>1356.0</td>\n",
              "      <td>1.0</td>\n",
              "      <td>1.0</td>\n",
              "      <td>0.0</td>\n",
              "      <td>0.0</td>\n",
              "      <td>18991230.0</td>\n",
              "      <td>18991230.0</td>\n",
              "      <td>20080125.0</td>\n",
              "      <td>18991230.0</td>\n",
              "      <td>NaN</td>\n",
              "      <td>18991230.0</td>\n",
              "      <td>20080806.0</td>\n",
              "      <td>NaN</td>\n",
              "      <td>1.0</td>\n",
              "      <td>NaN</td>\n",
              "      <td>3.0</td>\n",
              "      <td>1.0</td>\n",
              "      <td>1.0</td>\n",
              "      <td>4.0</td>\n",
              "      <td>1.0</td>\n",
              "      <td>NaN</td>\n",
              "      <td>NaN</td>\n",
              "      <td>NaN</td>\n",
              "      <td>...</td>\n",
              "      <td>2.0</td>\n",
              "      <td>2.0</td>\n",
              "      <td>NaN</td>\n",
              "      <td>9.0</td>\n",
              "      <td>0.0</td>\n",
              "      <td>2.0</td>\n",
              "      <td>41.0</td>\n",
              "      <td>410690.0</td>\n",
              "      <td>766013.0</td>\n",
              "      <td>20010216.0</td>\n",
              "      <td>41.0</td>\n",
              "      <td>410690.0</td>\n",
              "      <td>NaN</td>\n",
              "      <td>3.0</td>\n",
              "      <td>NaN</td>\n",
              "      <td>2.0</td>\n",
              "      <td>NaN</td>\n",
              "      <td>2.0</td>\n",
              "      <td>2.0</td>\n",
              "      <td>NaN</td>\n",
              "      <td>0.0</td>\n",
              "      <td>1.0</td>\n",
              "      <td>NaN</td>\n",
              "      <td>1.0</td>\n",
              "      <td>20010928.0</td>\n",
              "      <td>NaN</td>\n",
              "      <td>NaN</td>\n",
              "      <td>NaN</td>\n",
              "      <td>NaN</td>\n",
              "      <td>NaN</td>\n",
              "      <td>NaN</td>\n",
              "      <td>NaN</td>\n",
              "      <td>NaN</td>\n",
              "      <td>NaN</td>\n",
              "      <td>NaN</td>\n",
              "      <td>NaN</td>\n",
              "      <td>NaN</td>\n",
              "      <td>NaN</td>\n",
              "      <td>NaN</td>\n",
              "      <td>NaN</td>\n",
              "    </tr>\n",
              "  </tbody>\n",
              "</table>\n",
              "<p>5 rows × 99 columns</p>\n",
              "</div>"
            ],
            "text/plain": [
              "   NU_NOTIFIC  TP_NOT ID_AGRAVO  ...  TRANSF  UF_TRANSF  MUN_TRANSF\n",
              "0      233072       2      A169  ...     NaN        NaN         NaN\n",
              "1      233073       2      A169  ...     NaN        NaN         NaN\n",
              "2      668320       2      A169  ...     NaN        NaN         NaN\n",
              "3      223888       2      A169  ...     NaN        NaN         NaN\n",
              "4      766013       2      A169  ...     NaN        NaN         NaN\n",
              "\n",
              "[5 rows x 99 columns]"
            ]
          },
          "metadata": {
            "tags": []
          },
          "execution_count": 4
        }
      ]
    },
    {
      "cell_type": "markdown",
      "metadata": {
        "id": "z6EtQ1RAKt8E"
      },
      "source": [
        "Para observar apenas os nomes das colunas, podemos usar o método `.columns`."
      ]
    },
    {
      "cell_type": "code",
      "metadata": {
        "colab": {
          "base_uri": "https://localhost:8080/"
        },
        "id": "H9UbJ3eEsEa4",
        "outputId": "052b8330-7ef8-40a0-cfd8-0ca88ae93c2e"
      },
      "source": [
        "dados.columns"
      ],
      "execution_count": 5,
      "outputs": [
        {
          "output_type": "execute_result",
          "data": {
            "text/plain": [
              "Index(['NU_NOTIFIC', 'TP_NOT', 'ID_AGRAVO', 'DT_NOTIFIC', 'NU_ANO',\n",
              "       'SG_UF_NOT', 'ID_MUNICIP', 'ID_REGIONA', 'DT_DIAG', 'DT_NASC',\n",
              "       'NU_IDADE_N', 'CS_SEXO', 'CS_GESTANT', 'CS_RACA', 'CS_ESCOL_N', 'SG_UF',\n",
              "       'ID_MN_RESI', 'ID_RG_RESI', 'CS_ZONA', 'ID_PAIS', 'NDUPLIC_N',\n",
              "       'IN_VINCULA', 'DT_DIGITA', 'DT_TRANSUS', 'DT_TRANSDM', 'DT_TRANSSM',\n",
              "       'DT_TRANSRM', 'DT_TRANSRS', 'DT_TRANSSE', 'IDENT_MICR', 'MIGRADO_W',\n",
              "       'ID_OCUPA_N', 'TRATAMENTO', 'INSTITUCIO', 'RAIOX_TORA', 'TESTE_TUBE',\n",
              "       'FORMA', 'EXTRAPU1_N', 'EXTRAPU2_N', 'EXTRAPUL_O', 'AGRAVAIDS',\n",
              "       'AGRAVALCOO', 'AGRAVDIABE', 'AGRAVDOENC', 'AGRAVOUTRA', 'AGRAVOUTDE',\n",
              "       'BACILOSC_E', 'BACILOS_E2', 'BACILOSC_O', 'CULTURA_ES', 'CULTURA_OU',\n",
              "       'HIV', 'HISTOPATOL', 'DT_INIC_TR', 'RIFAMPICIN', 'ISONIAZIDA',\n",
              "       'ETAMBUTOL', 'ESTREPTOMI', 'PIRAZINAMI', 'ETIONAMIDA', 'OUTRAS',\n",
              "       'OUTRAS_DES', 'TRAT_SUPER', 'NU_CONTATO', 'DOENCA_TRA', 'SG_UF_AT',\n",
              "       'ID_MUNIC_A', 'NU_NOTI_AT', 'DT_NOTI_AT', 'SG_UF_2', 'ID_MUNIC_2',\n",
              "       'BACILOSC_1', 'BACILOSC_2', 'BACILOSC_3', 'BACILOSC_4', 'BACILOSC_5',\n",
              "       'BACILOSC_6', 'TRATSUP_AT', 'DT_MUDANCA', 'NU_COMU_EX', 'SITUA_9_M',\n",
              "       'SITUA_12_M', 'SITUA_ENCE', 'DT_ENCERRA', 'TPUNINOT', 'POP_LIBER',\n",
              "       'POP_RUA', 'POP_SAUDE', 'POP_IMIG', 'BENEF_GOV', 'AGRAVDROGA',\n",
              "       'AGRAVTABAC', 'TEST_MOLEC', 'TEST_SENSI', 'ANT_RETRO', 'BAC_APOS_6',\n",
              "       'TRANSF', 'UF_TRANSF', 'MUN_TRANSF'],\n",
              "      dtype='object')"
            ]
          },
          "metadata": {
            "tags": []
          },
          "execution_count": 5
        }
      ]
    },
    {
      "cell_type": "markdown",
      "metadata": {
        "id": "rHh4Ljl7sFSA"
      },
      "source": [
        "Como o número de colunas é grande, podemos fatiar as colunas exibidas e analisar de 20 em 20, por exemplo.\n",
        "\n",
        "Se vocês perceberem, o método `.columns` retorna algo parecido com uma lista (fechado por colchetes). Desta forma, basta usarmos os métodos para selecionar intervalos que vimos em outras aulas.\n",
        "\n",
        "Abaixo, vamos exibir somente as primeiras 20 colunas."
      ]
    },
    {
      "cell_type": "code",
      "metadata": {
        "colab": {
          "base_uri": "https://localhost:8080/"
        },
        "id": "xOQ2rSCTJit1",
        "outputId": "0313fc4d-81b5-4ff2-e96b-018628c9f8ab"
      },
      "source": [
        "dados.columns[0:20]"
      ],
      "execution_count": 6,
      "outputs": [
        {
          "output_type": "execute_result",
          "data": {
            "text/plain": [
              "Index(['NU_NOTIFIC', 'TP_NOT', 'ID_AGRAVO', 'DT_NOTIFIC', 'NU_ANO',\n",
              "       'SG_UF_NOT', 'ID_MUNICIP', 'ID_REGIONA', 'DT_DIAG', 'DT_NASC',\n",
              "       'NU_IDADE_N', 'CS_SEXO', 'CS_GESTANT', 'CS_RACA', 'CS_ESCOL_N', 'SG_UF',\n",
              "       'ID_MN_RESI', 'ID_RG_RESI', 'CS_ZONA', 'ID_PAIS'],\n",
              "      dtype='object')"
            ]
          },
          "metadata": {
            "tags": []
          },
          "execution_count": 6
        }
      ]
    },
    {
      "cell_type": "markdown",
      "metadata": {
        "id": "W9_2fF1QEeJb"
      },
      "source": [
        "<font color='red'>**-->** </font>Execute o Desafio 01, ao final do notebook."
      ]
    },
    {
      "cell_type": "markdown",
      "metadata": {
        "id": "a5lgBW5eKzu9"
      },
      "source": [
        "Outra forma de analisarmos o formato (ou conteúdo) de um banco de dados, é usando o método `.shape`.\n"
      ]
    },
    {
      "cell_type": "code",
      "metadata": {
        "colab": {
          "base_uri": "https://localhost:8080/"
        },
        "id": "z_qoSKohKgxo",
        "outputId": "2f2b2e1d-bd0e-45bf-df8f-f108d7a8c953"
      },
      "source": [
        "dados.shape"
      ],
      "execution_count": 7,
      "outputs": [
        {
          "output_type": "execute_result",
          "data": {
            "text/plain": [
              "(57431, 99)"
            ]
          },
          "metadata": {
            "tags": []
          },
          "execution_count": 7
        }
      ]
    },
    {
      "cell_type": "markdown",
      "metadata": {
        "id": "qmn8ZYSUsvvf"
      },
      "source": [
        "O método `.shape` retorna uma tupla. Basicamente algo nesse formato (a, b).\n",
        "\n",
        "* a = número de linhas no nosso banco;\n",
        "* b = número de colunas no nosso banco.\n",
        "\n",
        "Para deixar mais claro, podemos até criar um print para nos mostrar essas informações."
      ]
    },
    {
      "cell_type": "code",
      "metadata": {
        "colab": {
          "base_uri": "https://localhost:8080/"
        },
        "id": "I2Qmadp3Lx3M",
        "outputId": "72d25a98-8aca-4b9e-e96d-8afcc72ef21a"
      },
      "source": [
        "print(\"No nosso banco, temos\", dados.shape[0], \"linhas\")\n",
        "print(\"No nosso banco, temos\", dados.shape[1], \"colunas\")"
      ],
      "execution_count": 8,
      "outputs": [
        {
          "output_type": "stream",
          "text": [
            "No nosso banco, temos 57431 linhas\n",
            "No nosso banco, temos 99 colunas\n"
          ],
          "name": "stdout"
        }
      ]
    },
    {
      "cell_type": "markdown",
      "metadata": {
        "id": "KphSU5UuMeeK"
      },
      "source": [
        "### Trabalhando com dados a nível de município\n",
        "1. `ID_MN_RESI` - Código do município de residência;\n",
        "2. `ID_MUNICIP` - Código do município de notificação."
      ]
    },
    {
      "cell_type": "markdown",
      "metadata": {
        "id": "jZw9l3-etslf"
      },
      "source": [
        "Como nosso objetivo hoje é trabalhar com os casos de TB por cidade do PR, podemos usar o método groupby para agrupar os casos por município de residência."
      ]
    },
    {
      "cell_type": "code",
      "metadata": {
        "id": "5tFdMRjVMnlF"
      },
      "source": [
        "dados_mun = dados.groupby('ID_MN_RESI').count().reset_index()"
      ],
      "execution_count": 9,
      "outputs": []
    },
    {
      "cell_type": "code",
      "metadata": {
        "colab": {
          "base_uri": "https://localhost:8080/",
          "height": 255
        },
        "id": "I_nl85HkvCPW",
        "outputId": "9de29f7e-7914-4dd3-8d6b-e62cd5c03c89"
      },
      "source": [
        "dados_mun.head()"
      ],
      "execution_count": 10,
      "outputs": [
        {
          "output_type": "execute_result",
          "data": {
            "text/html": [
              "<div>\n",
              "<style scoped>\n",
              "    .dataframe tbody tr th:only-of-type {\n",
              "        vertical-align: middle;\n",
              "    }\n",
              "\n",
              "    .dataframe tbody tr th {\n",
              "        vertical-align: top;\n",
              "    }\n",
              "\n",
              "    .dataframe thead th {\n",
              "        text-align: right;\n",
              "    }\n",
              "</style>\n",
              "<table border=\"1\" class=\"dataframe\">\n",
              "  <thead>\n",
              "    <tr style=\"text-align: right;\">\n",
              "      <th></th>\n",
              "      <th>ID_MN_RESI</th>\n",
              "      <th>NU_NOTIFIC</th>\n",
              "      <th>TP_NOT</th>\n",
              "      <th>ID_AGRAVO</th>\n",
              "      <th>DT_NOTIFIC</th>\n",
              "      <th>NU_ANO</th>\n",
              "      <th>SG_UF_NOT</th>\n",
              "      <th>ID_MUNICIP</th>\n",
              "      <th>ID_REGIONA</th>\n",
              "      <th>DT_DIAG</th>\n",
              "      <th>DT_NASC</th>\n",
              "      <th>NU_IDADE_N</th>\n",
              "      <th>CS_SEXO</th>\n",
              "      <th>CS_GESTANT</th>\n",
              "      <th>CS_RACA</th>\n",
              "      <th>CS_ESCOL_N</th>\n",
              "      <th>SG_UF</th>\n",
              "      <th>ID_RG_RESI</th>\n",
              "      <th>CS_ZONA</th>\n",
              "      <th>ID_PAIS</th>\n",
              "      <th>NDUPLIC_N</th>\n",
              "      <th>IN_VINCULA</th>\n",
              "      <th>DT_DIGITA</th>\n",
              "      <th>DT_TRANSUS</th>\n",
              "      <th>DT_TRANSDM</th>\n",
              "      <th>DT_TRANSSM</th>\n",
              "      <th>DT_TRANSRM</th>\n",
              "      <th>DT_TRANSRS</th>\n",
              "      <th>DT_TRANSSE</th>\n",
              "      <th>IDENT_MICR</th>\n",
              "      <th>MIGRADO_W</th>\n",
              "      <th>ID_OCUPA_N</th>\n",
              "      <th>TRATAMENTO</th>\n",
              "      <th>INSTITUCIO</th>\n",
              "      <th>RAIOX_TORA</th>\n",
              "      <th>TESTE_TUBE</th>\n",
              "      <th>FORMA</th>\n",
              "      <th>EXTRAPU1_N</th>\n",
              "      <th>EXTRAPU2_N</th>\n",
              "      <th>EXTRAPUL_O</th>\n",
              "      <th>...</th>\n",
              "      <th>ETIONAMIDA</th>\n",
              "      <th>OUTRAS</th>\n",
              "      <th>OUTRAS_DES</th>\n",
              "      <th>TRAT_SUPER</th>\n",
              "      <th>NU_CONTATO</th>\n",
              "      <th>DOENCA_TRA</th>\n",
              "      <th>SG_UF_AT</th>\n",
              "      <th>ID_MUNIC_A</th>\n",
              "      <th>NU_NOTI_AT</th>\n",
              "      <th>DT_NOTI_AT</th>\n",
              "      <th>SG_UF_2</th>\n",
              "      <th>ID_MUNIC_2</th>\n",
              "      <th>BACILOSC_1</th>\n",
              "      <th>BACILOSC_2</th>\n",
              "      <th>BACILOSC_3</th>\n",
              "      <th>BACILOSC_4</th>\n",
              "      <th>BACILOSC_5</th>\n",
              "      <th>BACILOSC_6</th>\n",
              "      <th>TRATSUP_AT</th>\n",
              "      <th>DT_MUDANCA</th>\n",
              "      <th>NU_COMU_EX</th>\n",
              "      <th>SITUA_9_M</th>\n",
              "      <th>SITUA_12_M</th>\n",
              "      <th>SITUA_ENCE</th>\n",
              "      <th>DT_ENCERRA</th>\n",
              "      <th>TPUNINOT</th>\n",
              "      <th>POP_LIBER</th>\n",
              "      <th>POP_RUA</th>\n",
              "      <th>POP_SAUDE</th>\n",
              "      <th>POP_IMIG</th>\n",
              "      <th>BENEF_GOV</th>\n",
              "      <th>AGRAVDROGA</th>\n",
              "      <th>AGRAVTABAC</th>\n",
              "      <th>TEST_MOLEC</th>\n",
              "      <th>TEST_SENSI</th>\n",
              "      <th>ANT_RETRO</th>\n",
              "      <th>BAC_APOS_6</th>\n",
              "      <th>TRANSF</th>\n",
              "      <th>UF_TRANSF</th>\n",
              "      <th>MUN_TRANSF</th>\n",
              "    </tr>\n",
              "  </thead>\n",
              "  <tbody>\n",
              "    <tr>\n",
              "      <th>0</th>\n",
              "      <td>330250.0</td>\n",
              "      <td>1</td>\n",
              "      <td>1</td>\n",
              "      <td>1</td>\n",
              "      <td>1</td>\n",
              "      <td>1</td>\n",
              "      <td>1</td>\n",
              "      <td>1</td>\n",
              "      <td>0</td>\n",
              "      <td>1</td>\n",
              "      <td>1</td>\n",
              "      <td>1</td>\n",
              "      <td>1</td>\n",
              "      <td>1</td>\n",
              "      <td>1</td>\n",
              "      <td>1</td>\n",
              "      <td>1</td>\n",
              "      <td>0</td>\n",
              "      <td>1</td>\n",
              "      <td>1</td>\n",
              "      <td>0</td>\n",
              "      <td>0</td>\n",
              "      <td>1</td>\n",
              "      <td>0</td>\n",
              "      <td>0</td>\n",
              "      <td>0</td>\n",
              "      <td>0</td>\n",
              "      <td>0</td>\n",
              "      <td>1</td>\n",
              "      <td>1</td>\n",
              "      <td>0</td>\n",
              "      <td>0</td>\n",
              "      <td>1</td>\n",
              "      <td>0</td>\n",
              "      <td>1</td>\n",
              "      <td>0</td>\n",
              "      <td>1</td>\n",
              "      <td>0</td>\n",
              "      <td>0</td>\n",
              "      <td>0</td>\n",
              "      <td>...</td>\n",
              "      <td>0</td>\n",
              "      <td>0</td>\n",
              "      <td>0</td>\n",
              "      <td>0</td>\n",
              "      <td>1</td>\n",
              "      <td>0</td>\n",
              "      <td>1</td>\n",
              "      <td>1</td>\n",
              "      <td>1</td>\n",
              "      <td>1</td>\n",
              "      <td>1</td>\n",
              "      <td>1</td>\n",
              "      <td>1</td>\n",
              "      <td>1</td>\n",
              "      <td>1</td>\n",
              "      <td>0</td>\n",
              "      <td>1</td>\n",
              "      <td>1</td>\n",
              "      <td>1</td>\n",
              "      <td>0</td>\n",
              "      <td>1</td>\n",
              "      <td>0</td>\n",
              "      <td>0</td>\n",
              "      <td>1</td>\n",
              "      <td>1</td>\n",
              "      <td>1</td>\n",
              "      <td>1</td>\n",
              "      <td>1</td>\n",
              "      <td>1</td>\n",
              "      <td>1</td>\n",
              "      <td>1</td>\n",
              "      <td>1</td>\n",
              "      <td>1</td>\n",
              "      <td>1</td>\n",
              "      <td>0</td>\n",
              "      <td>0</td>\n",
              "      <td>0</td>\n",
              "      <td>0</td>\n",
              "      <td>0</td>\n",
              "      <td>0</td>\n",
              "    </tr>\n",
              "    <tr>\n",
              "      <th>1</th>\n",
              "      <td>330455.0</td>\n",
              "      <td>6</td>\n",
              "      <td>6</td>\n",
              "      <td>6</td>\n",
              "      <td>6</td>\n",
              "      <td>6</td>\n",
              "      <td>6</td>\n",
              "      <td>6</td>\n",
              "      <td>0</td>\n",
              "      <td>6</td>\n",
              "      <td>6</td>\n",
              "      <td>6</td>\n",
              "      <td>6</td>\n",
              "      <td>6</td>\n",
              "      <td>6</td>\n",
              "      <td>6</td>\n",
              "      <td>6</td>\n",
              "      <td>0</td>\n",
              "      <td>6</td>\n",
              "      <td>6</td>\n",
              "      <td>0</td>\n",
              "      <td>0</td>\n",
              "      <td>6</td>\n",
              "      <td>0</td>\n",
              "      <td>0</td>\n",
              "      <td>0</td>\n",
              "      <td>0</td>\n",
              "      <td>0</td>\n",
              "      <td>5</td>\n",
              "      <td>5</td>\n",
              "      <td>0</td>\n",
              "      <td>0</td>\n",
              "      <td>6</td>\n",
              "      <td>0</td>\n",
              "      <td>6</td>\n",
              "      <td>0</td>\n",
              "      <td>6</td>\n",
              "      <td>0</td>\n",
              "      <td>0</td>\n",
              "      <td>0</td>\n",
              "      <td>...</td>\n",
              "      <td>0</td>\n",
              "      <td>0</td>\n",
              "      <td>0</td>\n",
              "      <td>0</td>\n",
              "      <td>6</td>\n",
              "      <td>0</td>\n",
              "      <td>6</td>\n",
              "      <td>6</td>\n",
              "      <td>6</td>\n",
              "      <td>6</td>\n",
              "      <td>6</td>\n",
              "      <td>6</td>\n",
              "      <td>4</td>\n",
              "      <td>3</td>\n",
              "      <td>1</td>\n",
              "      <td>3</td>\n",
              "      <td>1</td>\n",
              "      <td>3</td>\n",
              "      <td>6</td>\n",
              "      <td>0</td>\n",
              "      <td>6</td>\n",
              "      <td>0</td>\n",
              "      <td>0</td>\n",
              "      <td>6</td>\n",
              "      <td>6</td>\n",
              "      <td>5</td>\n",
              "      <td>6</td>\n",
              "      <td>6</td>\n",
              "      <td>6</td>\n",
              "      <td>6</td>\n",
              "      <td>6</td>\n",
              "      <td>6</td>\n",
              "      <td>6</td>\n",
              "      <td>6</td>\n",
              "      <td>6</td>\n",
              "      <td>0</td>\n",
              "      <td>1</td>\n",
              "      <td>0</td>\n",
              "      <td>1</td>\n",
              "      <td>0</td>\n",
              "    </tr>\n",
              "    <tr>\n",
              "      <th>2</th>\n",
              "      <td>410000.0</td>\n",
              "      <td>8</td>\n",
              "      <td>8</td>\n",
              "      <td>8</td>\n",
              "      <td>8</td>\n",
              "      <td>8</td>\n",
              "      <td>8</td>\n",
              "      <td>8</td>\n",
              "      <td>8</td>\n",
              "      <td>8</td>\n",
              "      <td>8</td>\n",
              "      <td>8</td>\n",
              "      <td>8</td>\n",
              "      <td>8</td>\n",
              "      <td>3</td>\n",
              "      <td>8</td>\n",
              "      <td>8</td>\n",
              "      <td>6</td>\n",
              "      <td>5</td>\n",
              "      <td>8</td>\n",
              "      <td>7</td>\n",
              "      <td>7</td>\n",
              "      <td>8</td>\n",
              "      <td>6</td>\n",
              "      <td>6</td>\n",
              "      <td>7</td>\n",
              "      <td>0</td>\n",
              "      <td>6</td>\n",
              "      <td>7</td>\n",
              "      <td>2</td>\n",
              "      <td>6</td>\n",
              "      <td>0</td>\n",
              "      <td>8</td>\n",
              "      <td>1</td>\n",
              "      <td>8</td>\n",
              "      <td>6</td>\n",
              "      <td>8</td>\n",
              "      <td>0</td>\n",
              "      <td>0</td>\n",
              "      <td>0</td>\n",
              "      <td>...</td>\n",
              "      <td>7</td>\n",
              "      <td>7</td>\n",
              "      <td>0</td>\n",
              "      <td>7</td>\n",
              "      <td>2</td>\n",
              "      <td>2</td>\n",
              "      <td>8</td>\n",
              "      <td>8</td>\n",
              "      <td>8</td>\n",
              "      <td>8</td>\n",
              "      <td>8</td>\n",
              "      <td>8</td>\n",
              "      <td>2</td>\n",
              "      <td>6</td>\n",
              "      <td>1</td>\n",
              "      <td>5</td>\n",
              "      <td>1</td>\n",
              "      <td>5</td>\n",
              "      <td>1</td>\n",
              "      <td>0</td>\n",
              "      <td>0</td>\n",
              "      <td>7</td>\n",
              "      <td>0</td>\n",
              "      <td>8</td>\n",
              "      <td>8</td>\n",
              "      <td>2</td>\n",
              "      <td>1</td>\n",
              "      <td>1</td>\n",
              "      <td>1</td>\n",
              "      <td>1</td>\n",
              "      <td>1</td>\n",
              "      <td>1</td>\n",
              "      <td>1</td>\n",
              "      <td>1</td>\n",
              "      <td>0</td>\n",
              "      <td>0</td>\n",
              "      <td>0</td>\n",
              "      <td>0</td>\n",
              "      <td>0</td>\n",
              "      <td>0</td>\n",
              "    </tr>\n",
              "    <tr>\n",
              "      <th>3</th>\n",
              "      <td>410010.0</td>\n",
              "      <td>10</td>\n",
              "      <td>10</td>\n",
              "      <td>10</td>\n",
              "      <td>10</td>\n",
              "      <td>10</td>\n",
              "      <td>10</td>\n",
              "      <td>10</td>\n",
              "      <td>10</td>\n",
              "      <td>10</td>\n",
              "      <td>10</td>\n",
              "      <td>10</td>\n",
              "      <td>10</td>\n",
              "      <td>10</td>\n",
              "      <td>9</td>\n",
              "      <td>10</td>\n",
              "      <td>10</td>\n",
              "      <td>10</td>\n",
              "      <td>10</td>\n",
              "      <td>10</td>\n",
              "      <td>1</td>\n",
              "      <td>3</td>\n",
              "      <td>10</td>\n",
              "      <td>1</td>\n",
              "      <td>2</td>\n",
              "      <td>9</td>\n",
              "      <td>0</td>\n",
              "      <td>1</td>\n",
              "      <td>4</td>\n",
              "      <td>9</td>\n",
              "      <td>1</td>\n",
              "      <td>2</td>\n",
              "      <td>10</td>\n",
              "      <td>4</td>\n",
              "      <td>10</td>\n",
              "      <td>5</td>\n",
              "      <td>10</td>\n",
              "      <td>1</td>\n",
              "      <td>0</td>\n",
              "      <td>0</td>\n",
              "      <td>...</td>\n",
              "      <td>5</td>\n",
              "      <td>5</td>\n",
              "      <td>0</td>\n",
              "      <td>5</td>\n",
              "      <td>9</td>\n",
              "      <td>3</td>\n",
              "      <td>10</td>\n",
              "      <td>10</td>\n",
              "      <td>10</td>\n",
              "      <td>10</td>\n",
              "      <td>10</td>\n",
              "      <td>10</td>\n",
              "      <td>9</td>\n",
              "      <td>8</td>\n",
              "      <td>7</td>\n",
              "      <td>8</td>\n",
              "      <td>7</td>\n",
              "      <td>8</td>\n",
              "      <td>9</td>\n",
              "      <td>0</td>\n",
              "      <td>10</td>\n",
              "      <td>5</td>\n",
              "      <td>0</td>\n",
              "      <td>10</td>\n",
              "      <td>10</td>\n",
              "      <td>9</td>\n",
              "      <td>5</td>\n",
              "      <td>5</td>\n",
              "      <td>5</td>\n",
              "      <td>5</td>\n",
              "      <td>5</td>\n",
              "      <td>5</td>\n",
              "      <td>5</td>\n",
              "      <td>5</td>\n",
              "      <td>1</td>\n",
              "      <td>0</td>\n",
              "      <td>5</td>\n",
              "      <td>0</td>\n",
              "      <td>0</td>\n",
              "      <td>0</td>\n",
              "    </tr>\n",
              "    <tr>\n",
              "      <th>4</th>\n",
              "      <td>410020.0</td>\n",
              "      <td>43</td>\n",
              "      <td>43</td>\n",
              "      <td>43</td>\n",
              "      <td>43</td>\n",
              "      <td>43</td>\n",
              "      <td>43</td>\n",
              "      <td>43</td>\n",
              "      <td>43</td>\n",
              "      <td>43</td>\n",
              "      <td>43</td>\n",
              "      <td>43</td>\n",
              "      <td>43</td>\n",
              "      <td>43</td>\n",
              "      <td>42</td>\n",
              "      <td>36</td>\n",
              "      <td>43</td>\n",
              "      <td>43</td>\n",
              "      <td>43</td>\n",
              "      <td>43</td>\n",
              "      <td>17</td>\n",
              "      <td>17</td>\n",
              "      <td>30</td>\n",
              "      <td>7</td>\n",
              "      <td>4</td>\n",
              "      <td>35</td>\n",
              "      <td>0</td>\n",
              "      <td>3</td>\n",
              "      <td>25</td>\n",
              "      <td>31</td>\n",
              "      <td>16</td>\n",
              "      <td>3</td>\n",
              "      <td>43</td>\n",
              "      <td>25</td>\n",
              "      <td>42</td>\n",
              "      <td>40</td>\n",
              "      <td>43</td>\n",
              "      <td>1</td>\n",
              "      <td>0</td>\n",
              "      <td>0</td>\n",
              "      <td>...</td>\n",
              "      <td>39</td>\n",
              "      <td>34</td>\n",
              "      <td>3</td>\n",
              "      <td>41</td>\n",
              "      <td>28</td>\n",
              "      <td>39</td>\n",
              "      <td>43</td>\n",
              "      <td>43</td>\n",
              "      <td>43</td>\n",
              "      <td>43</td>\n",
              "      <td>43</td>\n",
              "      <td>43</td>\n",
              "      <td>6</td>\n",
              "      <td>13</td>\n",
              "      <td>4</td>\n",
              "      <td>12</td>\n",
              "      <td>4</td>\n",
              "      <td>10</td>\n",
              "      <td>27</td>\n",
              "      <td>3</td>\n",
              "      <td>12</td>\n",
              "      <td>27</td>\n",
              "      <td>0</td>\n",
              "      <td>41</td>\n",
              "      <td>42</td>\n",
              "      <td>31</td>\n",
              "      <td>1</td>\n",
              "      <td>1</td>\n",
              "      <td>1</td>\n",
              "      <td>1</td>\n",
              "      <td>1</td>\n",
              "      <td>1</td>\n",
              "      <td>1</td>\n",
              "      <td>1</td>\n",
              "      <td>0</td>\n",
              "      <td>0</td>\n",
              "      <td>0</td>\n",
              "      <td>0</td>\n",
              "      <td>0</td>\n",
              "      <td>0</td>\n",
              "    </tr>\n",
              "  </tbody>\n",
              "</table>\n",
              "<p>5 rows × 99 columns</p>\n",
              "</div>"
            ],
            "text/plain": [
              "   ID_MN_RESI  NU_NOTIFIC  TP_NOT  ...  TRANSF  UF_TRANSF  MUN_TRANSF\n",
              "0    330250.0           1       1  ...       0          0           0\n",
              "1    330455.0           6       6  ...       0          1           0\n",
              "2    410000.0           8       8  ...       0          0           0\n",
              "3    410010.0          10      10  ...       0          0           0\n",
              "4    410020.0          43      43  ...       0          0           0\n",
              "\n",
              "[5 rows x 99 columns]"
            ]
          },
          "metadata": {
            "tags": []
          },
          "execution_count": 10
        }
      ]
    },
    {
      "cell_type": "markdown",
      "metadata": {
        "id": "JBJf9eIIvHuL"
      },
      "source": [
        "Como usamos apenas o método `.groupby('ID_MN_RESI').count()`, todos os valores das outras colunas serão repetidos.\n",
        "\n",
        "De forma resumida, o que fizemos foi contar quantas vezes o município '410020' aparece nas linhas do nosso banco."
      ]
    },
    {
      "cell_type": "code",
      "metadata": {
        "colab": {
          "base_uri": "https://localhost:8080/"
        },
        "id": "x5N4BZ4RO4cE",
        "outputId": "8b5e5159-59ed-4729-f062-36a9e60dd6ba"
      },
      "source": [
        "dados_mun.shape"
      ],
      "execution_count": 11,
      "outputs": [
        {
          "output_type": "execute_result",
          "data": {
            "text/plain": [
              "(402, 99)"
            ]
          },
          "metadata": {
            "tags": []
          },
          "execution_count": 11
        }
      ]
    },
    {
      "cell_type": "markdown",
      "metadata": {
        "id": "lVqnK6sAFSkN"
      },
      "source": [
        "<font color='red'>**-->** </font>Execute o Desafio 02, ao final do notebook."
      ]
    },
    {
      "cell_type": "markdown",
      "metadata": {
        "id": "x0UIHPCMvuBy"
      },
      "source": [
        "O PR tem 399 municípios. Ainda assim, obtivemos 402 linhas após agruparmos por `ID_MN_RESI`. Os casos extras, provavelmente são de pessoas que moram em outros estados e foram atentidos no PR.\n",
        "\n",
        "Isso pode ter sido um erro de digitação, uma vez que ao criar o banco de dados, eu especifiquei que queria apenas casos em que o indivíduo fosse residente no PR."
      ]
    },
    {
      "cell_type": "markdown",
      "metadata": {
        "id": "4fcsW42iR0Xp"
      },
      "source": [
        "### População dos municípios\n",
        "Para melhorar nossa análise, podemos adicionar os valores poulacionais que extraímos do Censo de 2010, lá do Tabnet."
      ]
    },
    {
      "cell_type": "code",
      "metadata": {
        "id": "wpbEBPlJR3Kw"
      },
      "source": [
        "url_pr = 'https://raw.githubusercontent.com/souzajvp/teaching-python/main/pop_parana_2010.csv'"
      ],
      "execution_count": 12,
      "outputs": []
    },
    {
      "cell_type": "code",
      "metadata": {
        "id": "YxaUw9PlR9Fu"
      },
      "source": [
        "pop_pr = pd.read_csv(url_pr)"
      ],
      "execution_count": 13,
      "outputs": []
    },
    {
      "cell_type": "code",
      "metadata": {
        "colab": {
          "base_uri": "https://localhost:8080/",
          "height": 206
        },
        "id": "781IdSmaSBI_",
        "outputId": "9a0168d7-8e41-43e0-ec4e-acf6592810e7"
      },
      "source": [
        "pop_pr.head()"
      ],
      "execution_count": 14,
      "outputs": [
        {
          "output_type": "execute_result",
          "data": {
            "text/html": [
              "<div>\n",
              "<style scoped>\n",
              "    .dataframe tbody tr th:only-of-type {\n",
              "        vertical-align: middle;\n",
              "    }\n",
              "\n",
              "    .dataframe tbody tr th {\n",
              "        vertical-align: top;\n",
              "    }\n",
              "\n",
              "    .dataframe thead th {\n",
              "        text-align: right;\n",
              "    }\n",
              "</style>\n",
              "<table border=\"1\" class=\"dataframe\">\n",
              "  <thead>\n",
              "    <tr style=\"text-align: right;\">\n",
              "      <th></th>\n",
              "      <th>POP_2010</th>\n",
              "      <th>ID_MUN_RES</th>\n",
              "      <th>MUNICIPIO</th>\n",
              "    </tr>\n",
              "  </thead>\n",
              "  <tbody>\n",
              "    <tr>\n",
              "      <th>0</th>\n",
              "      <td>7764</td>\n",
              "      <td>410010</td>\n",
              "      <td>Abatiá</td>\n",
              "    </tr>\n",
              "    <tr>\n",
              "      <th>1</th>\n",
              "      <td>6376</td>\n",
              "      <td>410020</td>\n",
              "      <td>Adrianópolis</td>\n",
              "    </tr>\n",
              "    <tr>\n",
              "      <th>2</th>\n",
              "      <td>8270</td>\n",
              "      <td>410030</td>\n",
              "      <td>Agudos do Sul</td>\n",
              "    </tr>\n",
              "    <tr>\n",
              "      <th>3</th>\n",
              "      <td>103204</td>\n",
              "      <td>410040</td>\n",
              "      <td>Almirante Tamandaré</td>\n",
              "    </tr>\n",
              "    <tr>\n",
              "      <th>4</th>\n",
              "      <td>4306</td>\n",
              "      <td>410045</td>\n",
              "      <td>Altamira do Paraná</td>\n",
              "    </tr>\n",
              "  </tbody>\n",
              "</table>\n",
              "</div>"
            ],
            "text/plain": [
              "   POP_2010  ID_MUN_RES            MUNICIPIO\n",
              "0      7764      410010               Abatiá\n",
              "1      6376      410020         Adrianópolis\n",
              "2      8270      410030        Agudos do Sul\n",
              "3    103204      410040  Almirante Tamandaré\n",
              "4      4306      410045   Altamira do Paraná"
            ]
          },
          "metadata": {
            "tags": []
          },
          "execution_count": 14
        }
      ]
    },
    {
      "cell_type": "markdown",
      "metadata": {
        "id": "FkQfuHWpwpiO"
      },
      "source": [
        "Nesse banco, temos as seguintes colunas\n",
        "1. `POP_2010` - População dos municípios do PR em 2010;\n",
        "2. `ID_MUN_RES` - Código do IBGE dos municípios do PR;\n",
        "3. `MUNICIPIO` - Nome dos municípios do PR."
      ]
    },
    {
      "cell_type": "markdown",
      "metadata": {
        "id": "wrnqRPSYSlNy"
      },
      "source": [
        "### Junção dos casos por município com a população\n",
        "No nosso banco de TB (dados e dados_mun), temos apenas o código do IBGE para cada município. Apesar de útil, esse número dificulta a interpretação dos resultados.\n",
        "\n",
        "Para melhorar nossa interpretação, podemos fundir os dados de população do PR no nosso banco."
      ]
    },
    {
      "cell_type": "markdown",
      "metadata": {
        "id": "x3LCmkKxzAB2"
      },
      "source": [
        "Primeiro, vamos olhar a coluna que contém os códigos de município do nosso banco de TB\n",
        "\n",
        "Neste caso, a coluna que tem essa informação é `ID_MN_RESI`"
      ]
    },
    {
      "cell_type": "code",
      "metadata": {
        "colab": {
          "base_uri": "https://localhost:8080/",
          "height": 130
        },
        "id": "WuVxRkLvS7uL",
        "outputId": "31fef8dd-197e-41d0-dd3b-97bb361897ec"
      },
      "source": [
        "dados_mun.head(1)"
      ],
      "execution_count": 15,
      "outputs": [
        {
          "output_type": "execute_result",
          "data": {
            "text/html": [
              "<div>\n",
              "<style scoped>\n",
              "    .dataframe tbody tr th:only-of-type {\n",
              "        vertical-align: middle;\n",
              "    }\n",
              "\n",
              "    .dataframe tbody tr th {\n",
              "        vertical-align: top;\n",
              "    }\n",
              "\n",
              "    .dataframe thead th {\n",
              "        text-align: right;\n",
              "    }\n",
              "</style>\n",
              "<table border=\"1\" class=\"dataframe\">\n",
              "  <thead>\n",
              "    <tr style=\"text-align: right;\">\n",
              "      <th></th>\n",
              "      <th>ID_MN_RESI</th>\n",
              "      <th>NU_NOTIFIC</th>\n",
              "      <th>TP_NOT</th>\n",
              "      <th>ID_AGRAVO</th>\n",
              "      <th>DT_NOTIFIC</th>\n",
              "      <th>NU_ANO</th>\n",
              "      <th>SG_UF_NOT</th>\n",
              "      <th>ID_MUNICIP</th>\n",
              "      <th>ID_REGIONA</th>\n",
              "      <th>DT_DIAG</th>\n",
              "      <th>DT_NASC</th>\n",
              "      <th>NU_IDADE_N</th>\n",
              "      <th>CS_SEXO</th>\n",
              "      <th>CS_GESTANT</th>\n",
              "      <th>CS_RACA</th>\n",
              "      <th>CS_ESCOL_N</th>\n",
              "      <th>SG_UF</th>\n",
              "      <th>ID_RG_RESI</th>\n",
              "      <th>CS_ZONA</th>\n",
              "      <th>ID_PAIS</th>\n",
              "      <th>NDUPLIC_N</th>\n",
              "      <th>IN_VINCULA</th>\n",
              "      <th>DT_DIGITA</th>\n",
              "      <th>DT_TRANSUS</th>\n",
              "      <th>DT_TRANSDM</th>\n",
              "      <th>DT_TRANSSM</th>\n",
              "      <th>DT_TRANSRM</th>\n",
              "      <th>DT_TRANSRS</th>\n",
              "      <th>DT_TRANSSE</th>\n",
              "      <th>IDENT_MICR</th>\n",
              "      <th>MIGRADO_W</th>\n",
              "      <th>ID_OCUPA_N</th>\n",
              "      <th>TRATAMENTO</th>\n",
              "      <th>INSTITUCIO</th>\n",
              "      <th>RAIOX_TORA</th>\n",
              "      <th>TESTE_TUBE</th>\n",
              "      <th>FORMA</th>\n",
              "      <th>EXTRAPU1_N</th>\n",
              "      <th>EXTRAPU2_N</th>\n",
              "      <th>EXTRAPUL_O</th>\n",
              "      <th>...</th>\n",
              "      <th>ETIONAMIDA</th>\n",
              "      <th>OUTRAS</th>\n",
              "      <th>OUTRAS_DES</th>\n",
              "      <th>TRAT_SUPER</th>\n",
              "      <th>NU_CONTATO</th>\n",
              "      <th>DOENCA_TRA</th>\n",
              "      <th>SG_UF_AT</th>\n",
              "      <th>ID_MUNIC_A</th>\n",
              "      <th>NU_NOTI_AT</th>\n",
              "      <th>DT_NOTI_AT</th>\n",
              "      <th>SG_UF_2</th>\n",
              "      <th>ID_MUNIC_2</th>\n",
              "      <th>BACILOSC_1</th>\n",
              "      <th>BACILOSC_2</th>\n",
              "      <th>BACILOSC_3</th>\n",
              "      <th>BACILOSC_4</th>\n",
              "      <th>BACILOSC_5</th>\n",
              "      <th>BACILOSC_6</th>\n",
              "      <th>TRATSUP_AT</th>\n",
              "      <th>DT_MUDANCA</th>\n",
              "      <th>NU_COMU_EX</th>\n",
              "      <th>SITUA_9_M</th>\n",
              "      <th>SITUA_12_M</th>\n",
              "      <th>SITUA_ENCE</th>\n",
              "      <th>DT_ENCERRA</th>\n",
              "      <th>TPUNINOT</th>\n",
              "      <th>POP_LIBER</th>\n",
              "      <th>POP_RUA</th>\n",
              "      <th>POP_SAUDE</th>\n",
              "      <th>POP_IMIG</th>\n",
              "      <th>BENEF_GOV</th>\n",
              "      <th>AGRAVDROGA</th>\n",
              "      <th>AGRAVTABAC</th>\n",
              "      <th>TEST_MOLEC</th>\n",
              "      <th>TEST_SENSI</th>\n",
              "      <th>ANT_RETRO</th>\n",
              "      <th>BAC_APOS_6</th>\n",
              "      <th>TRANSF</th>\n",
              "      <th>UF_TRANSF</th>\n",
              "      <th>MUN_TRANSF</th>\n",
              "    </tr>\n",
              "  </thead>\n",
              "  <tbody>\n",
              "    <tr>\n",
              "      <th>0</th>\n",
              "      <td>330250.0</td>\n",
              "      <td>1</td>\n",
              "      <td>1</td>\n",
              "      <td>1</td>\n",
              "      <td>1</td>\n",
              "      <td>1</td>\n",
              "      <td>1</td>\n",
              "      <td>1</td>\n",
              "      <td>0</td>\n",
              "      <td>1</td>\n",
              "      <td>1</td>\n",
              "      <td>1</td>\n",
              "      <td>1</td>\n",
              "      <td>1</td>\n",
              "      <td>1</td>\n",
              "      <td>1</td>\n",
              "      <td>1</td>\n",
              "      <td>0</td>\n",
              "      <td>1</td>\n",
              "      <td>1</td>\n",
              "      <td>0</td>\n",
              "      <td>0</td>\n",
              "      <td>1</td>\n",
              "      <td>0</td>\n",
              "      <td>0</td>\n",
              "      <td>0</td>\n",
              "      <td>0</td>\n",
              "      <td>0</td>\n",
              "      <td>1</td>\n",
              "      <td>1</td>\n",
              "      <td>0</td>\n",
              "      <td>0</td>\n",
              "      <td>1</td>\n",
              "      <td>0</td>\n",
              "      <td>1</td>\n",
              "      <td>0</td>\n",
              "      <td>1</td>\n",
              "      <td>0</td>\n",
              "      <td>0</td>\n",
              "      <td>0</td>\n",
              "      <td>...</td>\n",
              "      <td>0</td>\n",
              "      <td>0</td>\n",
              "      <td>0</td>\n",
              "      <td>0</td>\n",
              "      <td>1</td>\n",
              "      <td>0</td>\n",
              "      <td>1</td>\n",
              "      <td>1</td>\n",
              "      <td>1</td>\n",
              "      <td>1</td>\n",
              "      <td>1</td>\n",
              "      <td>1</td>\n",
              "      <td>1</td>\n",
              "      <td>1</td>\n",
              "      <td>1</td>\n",
              "      <td>0</td>\n",
              "      <td>1</td>\n",
              "      <td>1</td>\n",
              "      <td>1</td>\n",
              "      <td>0</td>\n",
              "      <td>1</td>\n",
              "      <td>0</td>\n",
              "      <td>0</td>\n",
              "      <td>1</td>\n",
              "      <td>1</td>\n",
              "      <td>1</td>\n",
              "      <td>1</td>\n",
              "      <td>1</td>\n",
              "      <td>1</td>\n",
              "      <td>1</td>\n",
              "      <td>1</td>\n",
              "      <td>1</td>\n",
              "      <td>1</td>\n",
              "      <td>1</td>\n",
              "      <td>0</td>\n",
              "      <td>0</td>\n",
              "      <td>0</td>\n",
              "      <td>0</td>\n",
              "      <td>0</td>\n",
              "      <td>0</td>\n",
              "    </tr>\n",
              "  </tbody>\n",
              "</table>\n",
              "<p>1 rows × 99 columns</p>\n",
              "</div>"
            ],
            "text/plain": [
              "   ID_MN_RESI  NU_NOTIFIC  TP_NOT  ...  TRANSF  UF_TRANSF  MUN_TRANSF\n",
              "0    330250.0           1       1  ...       0          0           0\n",
              "\n",
              "[1 rows x 99 columns]"
            ]
          },
          "metadata": {
            "tags": []
          },
          "execution_count": 15
        }
      ]
    },
    {
      "cell_type": "markdown",
      "metadata": {
        "id": "sUnqsAy0zK2c"
      },
      "source": [
        "Já no nosso banco de população, a coluna que contém o código de IBGE é `ID_MUN_RES`"
      ]
    },
    {
      "cell_type": "code",
      "metadata": {
        "colab": {
          "base_uri": "https://localhost:8080/",
          "height": 80
        },
        "id": "m4jhFfGuTITI",
        "outputId": "085c01f2-6313-4d7a-fefe-96f60d3a789b"
      },
      "source": [
        "pop_pr.head(1)"
      ],
      "execution_count": 16,
      "outputs": [
        {
          "output_type": "execute_result",
          "data": {
            "text/html": [
              "<div>\n",
              "<style scoped>\n",
              "    .dataframe tbody tr th:only-of-type {\n",
              "        vertical-align: middle;\n",
              "    }\n",
              "\n",
              "    .dataframe tbody tr th {\n",
              "        vertical-align: top;\n",
              "    }\n",
              "\n",
              "    .dataframe thead th {\n",
              "        text-align: right;\n",
              "    }\n",
              "</style>\n",
              "<table border=\"1\" class=\"dataframe\">\n",
              "  <thead>\n",
              "    <tr style=\"text-align: right;\">\n",
              "      <th></th>\n",
              "      <th>POP_2010</th>\n",
              "      <th>ID_MUN_RES</th>\n",
              "      <th>MUNICIPIO</th>\n",
              "    </tr>\n",
              "  </thead>\n",
              "  <tbody>\n",
              "    <tr>\n",
              "      <th>0</th>\n",
              "      <td>7764</td>\n",
              "      <td>410010</td>\n",
              "      <td>Abatiá</td>\n",
              "    </tr>\n",
              "  </tbody>\n",
              "</table>\n",
              "</div>"
            ],
            "text/plain": [
              "   POP_2010  ID_MUN_RES MUNICIPIO\n",
              "0      7764      410010    Abatiá"
            ]
          },
          "metadata": {
            "tags": []
          },
          "execution_count": 16
        }
      ]
    },
    {
      "cell_type": "markdown",
      "metadata": {
        "id": "yX03VTGMzR81"
      },
      "source": [
        "Assim, notamos que temos duas colunas com nomes diferentes, porém similares:\n",
        "1. `ID_MN_RESI` - Banco de TB;\n",
        "2. `ID_MUN_RES` - Banco de população do PR.\n",
        "***\n",
        "Finalmente, para fazermos a junção dos bancos, vamos usar o método `pd.merge()`"
      ]
    },
    {
      "cell_type": "markdown",
      "metadata": {
        "id": "d02CsWcXTlJA"
      },
      "source": [
        "Para realizar o **merge**, precisamos especificar (nessa ordem):\n",
        "1. nome do banco TB;\n",
        "2. nome do banco de população;\n",
        "3. `left_on=` :coluna do banco de TB que tem os códigos IBGE;\n",
        "4.` right_on=` : coluna do banco de população que tem os códigos do IBGE;\n",
        "***\n",
        "Desta forma, teríamos a seguinte formatação:\n",
        "\n",
        "`pd.merge(dados_mun, pop_pr, left_on='ID_MN_RESI', right_on='ID_MUN_RES')`"
      ]
    },
    {
      "cell_type": "markdown",
      "metadata": {
        "id": "SXfguUU20N7O"
      },
      "source": [
        "Utilizando a notação acima, vamos criar o novo banco (contendo os casos por município e a população)."
      ]
    },
    {
      "cell_type": "code",
      "metadata": {
        "id": "KDgC2m5LSps3"
      },
      "source": [
        "dados_mun_pop = pd.merge(dados_mun, pop_pr, left_on='ID_MN_RESI', right_on='ID_MUN_RES')"
      ],
      "execution_count": 17,
      "outputs": []
    },
    {
      "cell_type": "code",
      "metadata": {
        "colab": {
          "base_uri": "https://localhost:8080/",
          "height": 307
        },
        "id": "QZMhNgNQ0xCQ",
        "outputId": "764182ee-86f8-4b99-83c9-94a621ab7d00"
      },
      "source": [
        "dados_mun_pop.head()"
      ],
      "execution_count": 18,
      "outputs": [
        {
          "output_type": "execute_result",
          "data": {
            "text/html": [
              "<div>\n",
              "<style scoped>\n",
              "    .dataframe tbody tr th:only-of-type {\n",
              "        vertical-align: middle;\n",
              "    }\n",
              "\n",
              "    .dataframe tbody tr th {\n",
              "        vertical-align: top;\n",
              "    }\n",
              "\n",
              "    .dataframe thead th {\n",
              "        text-align: right;\n",
              "    }\n",
              "</style>\n",
              "<table border=\"1\" class=\"dataframe\">\n",
              "  <thead>\n",
              "    <tr style=\"text-align: right;\">\n",
              "      <th></th>\n",
              "      <th>ID_MN_RESI</th>\n",
              "      <th>NU_NOTIFIC</th>\n",
              "      <th>TP_NOT</th>\n",
              "      <th>ID_AGRAVO</th>\n",
              "      <th>DT_NOTIFIC</th>\n",
              "      <th>NU_ANO</th>\n",
              "      <th>SG_UF_NOT</th>\n",
              "      <th>ID_MUNICIP</th>\n",
              "      <th>ID_REGIONA</th>\n",
              "      <th>DT_DIAG</th>\n",
              "      <th>DT_NASC</th>\n",
              "      <th>NU_IDADE_N</th>\n",
              "      <th>CS_SEXO</th>\n",
              "      <th>CS_GESTANT</th>\n",
              "      <th>CS_RACA</th>\n",
              "      <th>CS_ESCOL_N</th>\n",
              "      <th>SG_UF</th>\n",
              "      <th>ID_RG_RESI</th>\n",
              "      <th>CS_ZONA</th>\n",
              "      <th>ID_PAIS</th>\n",
              "      <th>NDUPLIC_N</th>\n",
              "      <th>IN_VINCULA</th>\n",
              "      <th>DT_DIGITA</th>\n",
              "      <th>DT_TRANSUS</th>\n",
              "      <th>DT_TRANSDM</th>\n",
              "      <th>DT_TRANSSM</th>\n",
              "      <th>DT_TRANSRM</th>\n",
              "      <th>DT_TRANSRS</th>\n",
              "      <th>DT_TRANSSE</th>\n",
              "      <th>IDENT_MICR</th>\n",
              "      <th>MIGRADO_W</th>\n",
              "      <th>ID_OCUPA_N</th>\n",
              "      <th>TRATAMENTO</th>\n",
              "      <th>INSTITUCIO</th>\n",
              "      <th>RAIOX_TORA</th>\n",
              "      <th>TESTE_TUBE</th>\n",
              "      <th>FORMA</th>\n",
              "      <th>EXTRAPU1_N</th>\n",
              "      <th>EXTRAPU2_N</th>\n",
              "      <th>EXTRAPUL_O</th>\n",
              "      <th>...</th>\n",
              "      <th>TRAT_SUPER</th>\n",
              "      <th>NU_CONTATO</th>\n",
              "      <th>DOENCA_TRA</th>\n",
              "      <th>SG_UF_AT</th>\n",
              "      <th>ID_MUNIC_A</th>\n",
              "      <th>NU_NOTI_AT</th>\n",
              "      <th>DT_NOTI_AT</th>\n",
              "      <th>SG_UF_2</th>\n",
              "      <th>ID_MUNIC_2</th>\n",
              "      <th>BACILOSC_1</th>\n",
              "      <th>BACILOSC_2</th>\n",
              "      <th>BACILOSC_3</th>\n",
              "      <th>BACILOSC_4</th>\n",
              "      <th>BACILOSC_5</th>\n",
              "      <th>BACILOSC_6</th>\n",
              "      <th>TRATSUP_AT</th>\n",
              "      <th>DT_MUDANCA</th>\n",
              "      <th>NU_COMU_EX</th>\n",
              "      <th>SITUA_9_M</th>\n",
              "      <th>SITUA_12_M</th>\n",
              "      <th>SITUA_ENCE</th>\n",
              "      <th>DT_ENCERRA</th>\n",
              "      <th>TPUNINOT</th>\n",
              "      <th>POP_LIBER</th>\n",
              "      <th>POP_RUA</th>\n",
              "      <th>POP_SAUDE</th>\n",
              "      <th>POP_IMIG</th>\n",
              "      <th>BENEF_GOV</th>\n",
              "      <th>AGRAVDROGA</th>\n",
              "      <th>AGRAVTABAC</th>\n",
              "      <th>TEST_MOLEC</th>\n",
              "      <th>TEST_SENSI</th>\n",
              "      <th>ANT_RETRO</th>\n",
              "      <th>BAC_APOS_6</th>\n",
              "      <th>TRANSF</th>\n",
              "      <th>UF_TRANSF</th>\n",
              "      <th>MUN_TRANSF</th>\n",
              "      <th>POP_2010</th>\n",
              "      <th>ID_MUN_RES</th>\n",
              "      <th>MUNICIPIO</th>\n",
              "    </tr>\n",
              "  </thead>\n",
              "  <tbody>\n",
              "    <tr>\n",
              "      <th>0</th>\n",
              "      <td>410010.0</td>\n",
              "      <td>10</td>\n",
              "      <td>10</td>\n",
              "      <td>10</td>\n",
              "      <td>10</td>\n",
              "      <td>10</td>\n",
              "      <td>10</td>\n",
              "      <td>10</td>\n",
              "      <td>10</td>\n",
              "      <td>10</td>\n",
              "      <td>10</td>\n",
              "      <td>10</td>\n",
              "      <td>10</td>\n",
              "      <td>10</td>\n",
              "      <td>9</td>\n",
              "      <td>10</td>\n",
              "      <td>10</td>\n",
              "      <td>10</td>\n",
              "      <td>10</td>\n",
              "      <td>10</td>\n",
              "      <td>1</td>\n",
              "      <td>3</td>\n",
              "      <td>10</td>\n",
              "      <td>1</td>\n",
              "      <td>2</td>\n",
              "      <td>9</td>\n",
              "      <td>0</td>\n",
              "      <td>1</td>\n",
              "      <td>4</td>\n",
              "      <td>9</td>\n",
              "      <td>1</td>\n",
              "      <td>2</td>\n",
              "      <td>10</td>\n",
              "      <td>4</td>\n",
              "      <td>10</td>\n",
              "      <td>5</td>\n",
              "      <td>10</td>\n",
              "      <td>1</td>\n",
              "      <td>0</td>\n",
              "      <td>0</td>\n",
              "      <td>...</td>\n",
              "      <td>5</td>\n",
              "      <td>9</td>\n",
              "      <td>3</td>\n",
              "      <td>10</td>\n",
              "      <td>10</td>\n",
              "      <td>10</td>\n",
              "      <td>10</td>\n",
              "      <td>10</td>\n",
              "      <td>10</td>\n",
              "      <td>9</td>\n",
              "      <td>8</td>\n",
              "      <td>7</td>\n",
              "      <td>8</td>\n",
              "      <td>7</td>\n",
              "      <td>8</td>\n",
              "      <td>9</td>\n",
              "      <td>0</td>\n",
              "      <td>10</td>\n",
              "      <td>5</td>\n",
              "      <td>0</td>\n",
              "      <td>10</td>\n",
              "      <td>10</td>\n",
              "      <td>9</td>\n",
              "      <td>5</td>\n",
              "      <td>5</td>\n",
              "      <td>5</td>\n",
              "      <td>5</td>\n",
              "      <td>5</td>\n",
              "      <td>5</td>\n",
              "      <td>5</td>\n",
              "      <td>5</td>\n",
              "      <td>1</td>\n",
              "      <td>0</td>\n",
              "      <td>5</td>\n",
              "      <td>0</td>\n",
              "      <td>0</td>\n",
              "      <td>0</td>\n",
              "      <td>7764</td>\n",
              "      <td>410010</td>\n",
              "      <td>Abatiá</td>\n",
              "    </tr>\n",
              "    <tr>\n",
              "      <th>1</th>\n",
              "      <td>410020.0</td>\n",
              "      <td>43</td>\n",
              "      <td>43</td>\n",
              "      <td>43</td>\n",
              "      <td>43</td>\n",
              "      <td>43</td>\n",
              "      <td>43</td>\n",
              "      <td>43</td>\n",
              "      <td>43</td>\n",
              "      <td>43</td>\n",
              "      <td>43</td>\n",
              "      <td>43</td>\n",
              "      <td>43</td>\n",
              "      <td>43</td>\n",
              "      <td>42</td>\n",
              "      <td>36</td>\n",
              "      <td>43</td>\n",
              "      <td>43</td>\n",
              "      <td>43</td>\n",
              "      <td>43</td>\n",
              "      <td>17</td>\n",
              "      <td>17</td>\n",
              "      <td>30</td>\n",
              "      <td>7</td>\n",
              "      <td>4</td>\n",
              "      <td>35</td>\n",
              "      <td>0</td>\n",
              "      <td>3</td>\n",
              "      <td>25</td>\n",
              "      <td>31</td>\n",
              "      <td>16</td>\n",
              "      <td>3</td>\n",
              "      <td>43</td>\n",
              "      <td>25</td>\n",
              "      <td>42</td>\n",
              "      <td>40</td>\n",
              "      <td>43</td>\n",
              "      <td>1</td>\n",
              "      <td>0</td>\n",
              "      <td>0</td>\n",
              "      <td>...</td>\n",
              "      <td>41</td>\n",
              "      <td>28</td>\n",
              "      <td>39</td>\n",
              "      <td>43</td>\n",
              "      <td>43</td>\n",
              "      <td>43</td>\n",
              "      <td>43</td>\n",
              "      <td>43</td>\n",
              "      <td>43</td>\n",
              "      <td>6</td>\n",
              "      <td>13</td>\n",
              "      <td>4</td>\n",
              "      <td>12</td>\n",
              "      <td>4</td>\n",
              "      <td>10</td>\n",
              "      <td>27</td>\n",
              "      <td>3</td>\n",
              "      <td>12</td>\n",
              "      <td>27</td>\n",
              "      <td>0</td>\n",
              "      <td>41</td>\n",
              "      <td>42</td>\n",
              "      <td>31</td>\n",
              "      <td>1</td>\n",
              "      <td>1</td>\n",
              "      <td>1</td>\n",
              "      <td>1</td>\n",
              "      <td>1</td>\n",
              "      <td>1</td>\n",
              "      <td>1</td>\n",
              "      <td>1</td>\n",
              "      <td>0</td>\n",
              "      <td>0</td>\n",
              "      <td>0</td>\n",
              "      <td>0</td>\n",
              "      <td>0</td>\n",
              "      <td>0</td>\n",
              "      <td>6376</td>\n",
              "      <td>410020</td>\n",
              "      <td>Adrianópolis</td>\n",
              "    </tr>\n",
              "    <tr>\n",
              "      <th>2</th>\n",
              "      <td>410030.0</td>\n",
              "      <td>18</td>\n",
              "      <td>18</td>\n",
              "      <td>18</td>\n",
              "      <td>18</td>\n",
              "      <td>18</td>\n",
              "      <td>18</td>\n",
              "      <td>18</td>\n",
              "      <td>18</td>\n",
              "      <td>18</td>\n",
              "      <td>18</td>\n",
              "      <td>18</td>\n",
              "      <td>18</td>\n",
              "      <td>18</td>\n",
              "      <td>17</td>\n",
              "      <td>9</td>\n",
              "      <td>18</td>\n",
              "      <td>18</td>\n",
              "      <td>18</td>\n",
              "      <td>18</td>\n",
              "      <td>3</td>\n",
              "      <td>4</td>\n",
              "      <td>17</td>\n",
              "      <td>3</td>\n",
              "      <td>0</td>\n",
              "      <td>15</td>\n",
              "      <td>0</td>\n",
              "      <td>0</td>\n",
              "      <td>7</td>\n",
              "      <td>17</td>\n",
              "      <td>1</td>\n",
              "      <td>7</td>\n",
              "      <td>18</td>\n",
              "      <td>7</td>\n",
              "      <td>17</td>\n",
              "      <td>7</td>\n",
              "      <td>18</td>\n",
              "      <td>2</td>\n",
              "      <td>0</td>\n",
              "      <td>0</td>\n",
              "      <td>...</td>\n",
              "      <td>7</td>\n",
              "      <td>18</td>\n",
              "      <td>7</td>\n",
              "      <td>18</td>\n",
              "      <td>18</td>\n",
              "      <td>18</td>\n",
              "      <td>18</td>\n",
              "      <td>18</td>\n",
              "      <td>18</td>\n",
              "      <td>17</td>\n",
              "      <td>16</td>\n",
              "      <td>14</td>\n",
              "      <td>14</td>\n",
              "      <td>13</td>\n",
              "      <td>13</td>\n",
              "      <td>16</td>\n",
              "      <td>0</td>\n",
              "      <td>16</td>\n",
              "      <td>7</td>\n",
              "      <td>0</td>\n",
              "      <td>17</td>\n",
              "      <td>17</td>\n",
              "      <td>17</td>\n",
              "      <td>11</td>\n",
              "      <td>11</td>\n",
              "      <td>11</td>\n",
              "      <td>11</td>\n",
              "      <td>10</td>\n",
              "      <td>11</td>\n",
              "      <td>11</td>\n",
              "      <td>9</td>\n",
              "      <td>6</td>\n",
              "      <td>1</td>\n",
              "      <td>5</td>\n",
              "      <td>0</td>\n",
              "      <td>0</td>\n",
              "      <td>0</td>\n",
              "      <td>8270</td>\n",
              "      <td>410030</td>\n",
              "      <td>Agudos do Sul</td>\n",
              "    </tr>\n",
              "    <tr>\n",
              "      <th>3</th>\n",
              "      <td>410040.0</td>\n",
              "      <td>685</td>\n",
              "      <td>685</td>\n",
              "      <td>685</td>\n",
              "      <td>685</td>\n",
              "      <td>685</td>\n",
              "      <td>685</td>\n",
              "      <td>685</td>\n",
              "      <td>685</td>\n",
              "      <td>685</td>\n",
              "      <td>683</td>\n",
              "      <td>685</td>\n",
              "      <td>685</td>\n",
              "      <td>685</td>\n",
              "      <td>578</td>\n",
              "      <td>660</td>\n",
              "      <td>685</td>\n",
              "      <td>685</td>\n",
              "      <td>678</td>\n",
              "      <td>685</td>\n",
              "      <td>274</td>\n",
              "      <td>354</td>\n",
              "      <td>609</td>\n",
              "      <td>241</td>\n",
              "      <td>260</td>\n",
              "      <td>486</td>\n",
              "      <td>0</td>\n",
              "      <td>173</td>\n",
              "      <td>347</td>\n",
              "      <td>444</td>\n",
              "      <td>250</td>\n",
              "      <td>76</td>\n",
              "      <td>684</td>\n",
              "      <td>280</td>\n",
              "      <td>678</td>\n",
              "      <td>506</td>\n",
              "      <td>684</td>\n",
              "      <td>127</td>\n",
              "      <td>12</td>\n",
              "      <td>9</td>\n",
              "      <td>...</td>\n",
              "      <td>519</td>\n",
              "      <td>446</td>\n",
              "      <td>406</td>\n",
              "      <td>684</td>\n",
              "      <td>684</td>\n",
              "      <td>684</td>\n",
              "      <td>684</td>\n",
              "      <td>683</td>\n",
              "      <td>680</td>\n",
              "      <td>390</td>\n",
              "      <td>566</td>\n",
              "      <td>363</td>\n",
              "      <td>537</td>\n",
              "      <td>348</td>\n",
              "      <td>513</td>\n",
              "      <td>442</td>\n",
              "      <td>190</td>\n",
              "      <td>444</td>\n",
              "      <td>364</td>\n",
              "      <td>7</td>\n",
              "      <td>655</td>\n",
              "      <td>665</td>\n",
              "      <td>453</td>\n",
              "      <td>168</td>\n",
              "      <td>168</td>\n",
              "      <td>168</td>\n",
              "      <td>168</td>\n",
              "      <td>168</td>\n",
              "      <td>169</td>\n",
              "      <td>169</td>\n",
              "      <td>165</td>\n",
              "      <td>91</td>\n",
              "      <td>33</td>\n",
              "      <td>76</td>\n",
              "      <td>19</td>\n",
              "      <td>19</td>\n",
              "      <td>19</td>\n",
              "      <td>103204</td>\n",
              "      <td>410040</td>\n",
              "      <td>Almirante Tamandaré</td>\n",
              "    </tr>\n",
              "    <tr>\n",
              "      <th>4</th>\n",
              "      <td>410045.0</td>\n",
              "      <td>1</td>\n",
              "      <td>1</td>\n",
              "      <td>1</td>\n",
              "      <td>1</td>\n",
              "      <td>1</td>\n",
              "      <td>1</td>\n",
              "      <td>1</td>\n",
              "      <td>1</td>\n",
              "      <td>1</td>\n",
              "      <td>1</td>\n",
              "      <td>1</td>\n",
              "      <td>1</td>\n",
              "      <td>1</td>\n",
              "      <td>1</td>\n",
              "      <td>1</td>\n",
              "      <td>1</td>\n",
              "      <td>1</td>\n",
              "      <td>1</td>\n",
              "      <td>1</td>\n",
              "      <td>0</td>\n",
              "      <td>0</td>\n",
              "      <td>1</td>\n",
              "      <td>0</td>\n",
              "      <td>0</td>\n",
              "      <td>1</td>\n",
              "      <td>0</td>\n",
              "      <td>0</td>\n",
              "      <td>0</td>\n",
              "      <td>1</td>\n",
              "      <td>0</td>\n",
              "      <td>1</td>\n",
              "      <td>1</td>\n",
              "      <td>1</td>\n",
              "      <td>1</td>\n",
              "      <td>1</td>\n",
              "      <td>1</td>\n",
              "      <td>0</td>\n",
              "      <td>0</td>\n",
              "      <td>0</td>\n",
              "      <td>...</td>\n",
              "      <td>1</td>\n",
              "      <td>1</td>\n",
              "      <td>1</td>\n",
              "      <td>1</td>\n",
              "      <td>1</td>\n",
              "      <td>1</td>\n",
              "      <td>1</td>\n",
              "      <td>1</td>\n",
              "      <td>1</td>\n",
              "      <td>0</td>\n",
              "      <td>0</td>\n",
              "      <td>0</td>\n",
              "      <td>0</td>\n",
              "      <td>0</td>\n",
              "      <td>0</td>\n",
              "      <td>1</td>\n",
              "      <td>0</td>\n",
              "      <td>0</td>\n",
              "      <td>0</td>\n",
              "      <td>0</td>\n",
              "      <td>1</td>\n",
              "      <td>1</td>\n",
              "      <td>1</td>\n",
              "      <td>0</td>\n",
              "      <td>0</td>\n",
              "      <td>0</td>\n",
              "      <td>0</td>\n",
              "      <td>0</td>\n",
              "      <td>0</td>\n",
              "      <td>0</td>\n",
              "      <td>0</td>\n",
              "      <td>0</td>\n",
              "      <td>0</td>\n",
              "      <td>0</td>\n",
              "      <td>0</td>\n",
              "      <td>0</td>\n",
              "      <td>0</td>\n",
              "      <td>4306</td>\n",
              "      <td>410045</td>\n",
              "      <td>Altamira do Paraná</td>\n",
              "    </tr>\n",
              "  </tbody>\n",
              "</table>\n",
              "<p>5 rows × 102 columns</p>\n",
              "</div>"
            ],
            "text/plain": [
              "   ID_MN_RESI  NU_NOTIFIC  TP_NOT  ...  POP_2010  ID_MUN_RES            MUNICIPIO\n",
              "0    410010.0          10      10  ...      7764      410010               Abatiá\n",
              "1    410020.0          43      43  ...      6376      410020         Adrianópolis\n",
              "2    410030.0          18      18  ...      8270      410030        Agudos do Sul\n",
              "3    410040.0         685     685  ...    103204      410040  Almirante Tamandaré\n",
              "4    410045.0           1       1  ...      4306      410045   Altamira do Paraná\n",
              "\n",
              "[5 rows x 102 columns]"
            ]
          },
          "metadata": {
            "tags": []
          },
          "execution_count": 18
        }
      ]
    },
    {
      "cell_type": "markdown",
      "metadata": {
        "id": "o4QhUORQ0zXN"
      },
      "source": [
        "Após fazer a junção das colunas, temos então 102 colunas, ao invés de 99.\n",
        "\n",
        "Neste caso, o número excessivo de colunas está atrapalhando a visualização. Para melhorar a nossa análise, vamos selecionar apenas as colunas de interesse.\n",
        "\n",
        "Isso pode ser feito chamando os `dados` e abrindo dois colchetes para especificar as colunas de interesse.\n",
        "\n",
        "Desta forma: `dados[['coluna_a', 'coluna_b']]`"
      ]
    },
    {
      "cell_type": "markdown",
      "metadata": {
        "id": "L0Fday9g1QvZ"
      },
      "source": [
        "Criando os `dados_finais` contendo apenas as colunas de interesse"
      ]
    },
    {
      "cell_type": "code",
      "metadata": {
        "id": "6sapj7J_UZQD"
      },
      "source": [
        "dados_finais = dados_mun_pop[['ID_MN_RESI', 'NU_NOTIFIC', 'POP_2010', 'MUNICIPIO']]"
      ],
      "execution_count": 19,
      "outputs": []
    },
    {
      "cell_type": "markdown",
      "metadata": {
        "id": "uFJcIFPbF8Cw"
      },
      "source": [
        "<font color='red'>**-->**</font> Execute o Desafio 03, ao final do notebook."
      ]
    },
    {
      "cell_type": "code",
      "metadata": {
        "colab": {
          "base_uri": "https://localhost:8080/",
          "height": 206
        },
        "id": "H-QTuFfZV6TJ",
        "outputId": "51a8cfb0-54ca-4218-c5aa-d5318656ca08"
      },
      "source": [
        "dados_finais.head()"
      ],
      "execution_count": 20,
      "outputs": [
        {
          "output_type": "execute_result",
          "data": {
            "text/html": [
              "<div>\n",
              "<style scoped>\n",
              "    .dataframe tbody tr th:only-of-type {\n",
              "        vertical-align: middle;\n",
              "    }\n",
              "\n",
              "    .dataframe tbody tr th {\n",
              "        vertical-align: top;\n",
              "    }\n",
              "\n",
              "    .dataframe thead th {\n",
              "        text-align: right;\n",
              "    }\n",
              "</style>\n",
              "<table border=\"1\" class=\"dataframe\">\n",
              "  <thead>\n",
              "    <tr style=\"text-align: right;\">\n",
              "      <th></th>\n",
              "      <th>ID_MN_RESI</th>\n",
              "      <th>NU_NOTIFIC</th>\n",
              "      <th>POP_2010</th>\n",
              "      <th>MUNICIPIO</th>\n",
              "    </tr>\n",
              "  </thead>\n",
              "  <tbody>\n",
              "    <tr>\n",
              "      <th>0</th>\n",
              "      <td>410010.0</td>\n",
              "      <td>10</td>\n",
              "      <td>7764</td>\n",
              "      <td>Abatiá</td>\n",
              "    </tr>\n",
              "    <tr>\n",
              "      <th>1</th>\n",
              "      <td>410020.0</td>\n",
              "      <td>43</td>\n",
              "      <td>6376</td>\n",
              "      <td>Adrianópolis</td>\n",
              "    </tr>\n",
              "    <tr>\n",
              "      <th>2</th>\n",
              "      <td>410030.0</td>\n",
              "      <td>18</td>\n",
              "      <td>8270</td>\n",
              "      <td>Agudos do Sul</td>\n",
              "    </tr>\n",
              "    <tr>\n",
              "      <th>3</th>\n",
              "      <td>410040.0</td>\n",
              "      <td>685</td>\n",
              "      <td>103204</td>\n",
              "      <td>Almirante Tamandaré</td>\n",
              "    </tr>\n",
              "    <tr>\n",
              "      <th>4</th>\n",
              "      <td>410045.0</td>\n",
              "      <td>1</td>\n",
              "      <td>4306</td>\n",
              "      <td>Altamira do Paraná</td>\n",
              "    </tr>\n",
              "  </tbody>\n",
              "</table>\n",
              "</div>"
            ],
            "text/plain": [
              "   ID_MN_RESI  NU_NOTIFIC  POP_2010            MUNICIPIO\n",
              "0    410010.0          10      7764               Abatiá\n",
              "1    410020.0          43      6376         Adrianópolis\n",
              "2    410030.0          18      8270        Agudos do Sul\n",
              "3    410040.0         685    103204  Almirante Tamandaré\n",
              "4    410045.0           1      4306   Altamira do Paraná"
            ]
          },
          "metadata": {
            "tags": []
          },
          "execution_count": 20
        }
      ]
    },
    {
      "cell_type": "markdown",
      "metadata": {
        "id": "YoTWEVZ-3uas"
      },
      "source": [
        "Agora podemos verificar quais cidades tem o maior número de casos. Isso pode ser feito usando o método `sort_values()`.\n",
        "\n",
        "De forma geral, vamos organizar os `dados_finais` de acordo com o número de casos de TB reportados.\n",
        "\n",
        "Isso pode ser feito da seguinte forma: `dados_finais.sort_values('NU_NOTIFIC', ascending=False)`"
      ]
    },
    {
      "cell_type": "code",
      "metadata": {
        "colab": {
          "base_uri": "https://localhost:8080/",
          "height": 423
        },
        "id": "ow4XbNk94BrL",
        "outputId": "e7d24cfa-a39d-47c8-a1eb-3f2fb70272f0"
      },
      "source": [
        "dados_finais.sort_values('NU_NOTIFIC', ascending=False)"
      ],
      "execution_count": 21,
      "outputs": [
        {
          "output_type": "execute_result",
          "data": {
            "text/html": [
              "<div>\n",
              "<style scoped>\n",
              "    .dataframe tbody tr th:only-of-type {\n",
              "        vertical-align: middle;\n",
              "    }\n",
              "\n",
              "    .dataframe tbody tr th {\n",
              "        vertical-align: top;\n",
              "    }\n",
              "\n",
              "    .dataframe thead th {\n",
              "        text-align: right;\n",
              "    }\n",
              "</style>\n",
              "<table border=\"1\" class=\"dataframe\">\n",
              "  <thead>\n",
              "    <tr style=\"text-align: right;\">\n",
              "      <th></th>\n",
              "      <th>ID_MN_RESI</th>\n",
              "      <th>NU_NOTIFIC</th>\n",
              "      <th>POP_2010</th>\n",
              "      <th>MUNICIPIO</th>\n",
              "    </tr>\n",
              "  </thead>\n",
              "  <tbody>\n",
              "    <tr>\n",
              "      <th>93</th>\n",
              "      <td>410690.0</td>\n",
              "      <td>10471</td>\n",
              "      <td>1751907</td>\n",
              "      <td>Curitiba</td>\n",
              "    </tr>\n",
              "    <tr>\n",
              "      <th>118</th>\n",
              "      <td>410830.0</td>\n",
              "      <td>3149</td>\n",
              "      <td>256088</td>\n",
              "      <td>Foz do Iguaçu</td>\n",
              "    </tr>\n",
              "    <tr>\n",
              "      <th>190</th>\n",
              "      <td>411370.0</td>\n",
              "      <td>3011</td>\n",
              "      <td>506701</td>\n",
              "      <td>Londrina</td>\n",
              "    </tr>\n",
              "    <tr>\n",
              "      <th>252</th>\n",
              "      <td>411820.0</td>\n",
              "      <td>2785</td>\n",
              "      <td>140469</td>\n",
              "      <td>Paranaguá</td>\n",
              "    </tr>\n",
              "    <tr>\n",
              "      <th>274</th>\n",
              "      <td>411990.0</td>\n",
              "      <td>1691</td>\n",
              "      <td>311611</td>\n",
              "      <td>Ponta Grossa</td>\n",
              "    </tr>\n",
              "    <tr>\n",
              "      <th>...</th>\n",
              "      <td>...</td>\n",
              "      <td>...</td>\n",
              "      <td>...</td>\n",
              "      <td>...</td>\n",
              "    </tr>\n",
              "    <tr>\n",
              "      <th>329</th>\n",
              "      <td>412395.0</td>\n",
              "      <td>3</td>\n",
              "      <td>3571</td>\n",
              "      <td>Santa Mônica</td>\n",
              "    </tr>\n",
              "    <tr>\n",
              "      <th>26</th>\n",
              "      <td>410220.0</td>\n",
              "      <td>2</td>\n",
              "      <td>3913</td>\n",
              "      <td>Atalaia</td>\n",
              "    </tr>\n",
              "    <tr>\n",
              "      <th>13</th>\n",
              "      <td>410115.0</td>\n",
              "      <td>2</td>\n",
              "      <td>2859</td>\n",
              "      <td>Ângulo</td>\n",
              "    </tr>\n",
              "    <tr>\n",
              "      <th>289</th>\n",
              "      <td>412085.0</td>\n",
              "      <td>1</td>\n",
              "      <td>3803</td>\n",
              "      <td>Quatro Pontes</td>\n",
              "    </tr>\n",
              "    <tr>\n",
              "      <th>4</th>\n",
              "      <td>410045.0</td>\n",
              "      <td>1</td>\n",
              "      <td>4306</td>\n",
              "      <td>Altamira do Paraná</td>\n",
              "    </tr>\n",
              "  </tbody>\n",
              "</table>\n",
              "<p>399 rows × 4 columns</p>\n",
              "</div>"
            ],
            "text/plain": [
              "     ID_MN_RESI  NU_NOTIFIC  POP_2010           MUNICIPIO\n",
              "93     410690.0       10471   1751907            Curitiba\n",
              "118    410830.0        3149    256088       Foz do Iguaçu\n",
              "190    411370.0        3011    506701            Londrina\n",
              "252    411820.0        2785    140469           Paranaguá\n",
              "274    411990.0        1691    311611        Ponta Grossa\n",
              "..          ...         ...       ...                 ...\n",
              "329    412395.0           3      3571        Santa Mônica\n",
              "26     410220.0           2      3913             Atalaia\n",
              "13     410115.0           2      2859              Ângulo\n",
              "289    412085.0           1      3803       Quatro Pontes\n",
              "4      410045.0           1      4306  Altamira do Paraná\n",
              "\n",
              "[399 rows x 4 columns]"
            ]
          },
          "metadata": {
            "tags": []
          },
          "execution_count": 21
        }
      ]
    },
    {
      "cell_type": "markdown",
      "metadata": {
        "id": "LfXzs6-C6qgc"
      },
      "source": [
        "Assim vemos que os 3 municípios com maior número de casos são Curitiba, Foz do Iguaçu e Londrina.\n",
        "\n",
        "**Que tal fazermos um gráfico de barras com o número de casos para cada município?**"
      ]
    },
    {
      "cell_type": "markdown",
      "metadata": {
        "id": "TTkuRA8LGi4t"
      },
      "source": [
        "<font color='red'>**-->**</font> Execute o Desafio 04, ao final do notebook."
      ]
    },
    {
      "cell_type": "code",
      "metadata": {
        "id": "nu6PXIjB7HA_"
      },
      "source": [
        "import matplotlib.pyplot as plt"
      ],
      "execution_count": 22,
      "outputs": []
    },
    {
      "cell_type": "code",
      "metadata": {
        "colab": {
          "base_uri": "https://localhost:8080/",
          "height": 284
        },
        "id": "PEpj7z1B7NWx",
        "outputId": "bfac33b1-b4a5-450b-d354-1306fbe9b913"
      },
      "source": [
        "plt.bar(dados_finais['MUNICIPIO'], dados_finais['NU_NOTIFIC'])"
      ],
      "execution_count": 23,
      "outputs": [
        {
          "output_type": "execute_result",
          "data": {
            "text/plain": [
              "<BarContainer object of 399 artists>"
            ]
          },
          "metadata": {
            "tags": []
          },
          "execution_count": 23
        },
        {
          "output_type": "display_data",
          "data": {
            "image/png": "[encoded data removed]",
            "text/plain": [
              "<Figure size 432x288 with 1 Axes>"
            ]
          },
          "metadata": {
            "tags": [],
            "needs_background": "light"
          }
        }
      ]
    },
    {
      "cell_type": "markdown",
      "metadata": {
        "id": "w1U1zx9W-SoK"
      },
      "source": [
        "Notamos algumas coisas de errado no nosso gráfico:\n",
        "1. Plotar as 399 cidades ao mesmo tempo faz com que seja impossível discernir as barras e os nomes no eixo x;\n",
        "2. Alguma coisa está acontencendo que está fazendo com que o eixo y esteja muito grande.\n",
        "\n",
        "Uma possível solução seria plotarmos apenas as cidades que tem mais de 100 mil habitantes.\n",
        "\n",
        "Para fazer isso, podemos usar o método `.query()` da seguinte forma:"
      ]
    },
    {
      "cell_type": "code",
      "metadata": {
        "colab": {
          "base_uri": "https://localhost:8080/",
          "height": 614
        },
        "id": "-sSqDr-Q-yJ-",
        "outputId": "b0353cec-12ae-4e39-cd01-be281583bd1a"
      },
      "source": [
        "dados_finais.query('POP_2010 >= 100000')"
      ],
      "execution_count": 24,
      "outputs": [
        {
          "output_type": "execute_result",
          "data": {
            "text/html": [
              "<div>\n",
              "<style scoped>\n",
              "    .dataframe tbody tr th:only-of-type {\n",
              "        vertical-align: middle;\n",
              "    }\n",
              "\n",
              "    .dataframe tbody tr th {\n",
              "        vertical-align: top;\n",
              "    }\n",
              "\n",
              "    .dataframe thead th {\n",
              "        text-align: right;\n",
              "    }\n",
              "</style>\n",
              "<table border=\"1\" class=\"dataframe\">\n",
              "  <thead>\n",
              "    <tr style=\"text-align: right;\">\n",
              "      <th></th>\n",
              "      <th>ID_MN_RESI</th>\n",
              "      <th>NU_NOTIFIC</th>\n",
              "      <th>POP_2010</th>\n",
              "      <th>MUNICIPIO</th>\n",
              "    </tr>\n",
              "  </thead>\n",
              "  <tbody>\n",
              "    <tr>\n",
              "      <th>3</th>\n",
              "      <td>410040.0</td>\n",
              "      <td>685</td>\n",
              "      <td>103204</td>\n",
              "      <td>Almirante Tamandaré</td>\n",
              "    </tr>\n",
              "    <tr>\n",
              "      <th>16</th>\n",
              "      <td>410140.0</td>\n",
              "      <td>536</td>\n",
              "      <td>120919</td>\n",
              "      <td>Apucarana</td>\n",
              "    </tr>\n",
              "    <tr>\n",
              "      <th>17</th>\n",
              "      <td>410150.0</td>\n",
              "      <td>452</td>\n",
              "      <td>104150</td>\n",
              "      <td>Arapongas</td>\n",
              "    </tr>\n",
              "    <tr>\n",
              "      <th>21</th>\n",
              "      <td>410180.0</td>\n",
              "      <td>633</td>\n",
              "      <td>119123</td>\n",
              "      <td>Araucária</td>\n",
              "    </tr>\n",
              "    <tr>\n",
              "      <th>58</th>\n",
              "      <td>410420.0</td>\n",
              "      <td>477</td>\n",
              "      <td>112377</td>\n",
              "      <td>Campo Largo</td>\n",
              "    </tr>\n",
              "    <tr>\n",
              "      <th>68</th>\n",
              "      <td>410480.0</td>\n",
              "      <td>1333</td>\n",
              "      <td>286205</td>\n",
              "      <td>Cascavel</td>\n",
              "    </tr>\n",
              "    <tr>\n",
              "      <th>78</th>\n",
              "      <td>410580.0</td>\n",
              "      <td>1464</td>\n",
              "      <td>212967</td>\n",
              "      <td>Colombo</td>\n",
              "    </tr>\n",
              "    <tr>\n",
              "      <th>93</th>\n",
              "      <td>410690.0</td>\n",
              "      <td>10471</td>\n",
              "      <td>1751907</td>\n",
              "      <td>Curitiba</td>\n",
              "    </tr>\n",
              "    <tr>\n",
              "      <th>118</th>\n",
              "      <td>410830.0</td>\n",
              "      <td>3149</td>\n",
              "      <td>256088</td>\n",
              "      <td>Foz do Iguaçu</td>\n",
              "    </tr>\n",
              "    <tr>\n",
              "      <th>134</th>\n",
              "      <td>410940.0</td>\n",
              "      <td>753</td>\n",
              "      <td>167328</td>\n",
              "      <td>Guarapuava</td>\n",
              "    </tr>\n",
              "    <tr>\n",
              "      <th>190</th>\n",
              "      <td>411370.0</td>\n",
              "      <td>3011</td>\n",
              "      <td>506701</td>\n",
              "      <td>Londrina</td>\n",
              "    </tr>\n",
              "    <tr>\n",
              "      <th>208</th>\n",
              "      <td>411520.0</td>\n",
              "      <td>1541</td>\n",
              "      <td>357077</td>\n",
              "      <td>Maringá</td>\n",
              "    </tr>\n",
              "    <tr>\n",
              "      <th>252</th>\n",
              "      <td>411820.0</td>\n",
              "      <td>2785</td>\n",
              "      <td>140469</td>\n",
              "      <td>Paranaguá</td>\n",
              "    </tr>\n",
              "    <tr>\n",
              "      <th>264</th>\n",
              "      <td>411915.0</td>\n",
              "      <td>1569</td>\n",
              "      <td>117008</td>\n",
              "      <td>Pinhais</td>\n",
              "    </tr>\n",
              "    <tr>\n",
              "      <th>274</th>\n",
              "      <td>411990.0</td>\n",
              "      <td>1691</td>\n",
              "      <td>311611</td>\n",
              "      <td>Ponta Grossa</td>\n",
              "    </tr>\n",
              "    <tr>\n",
              "      <th>349</th>\n",
              "      <td>412550.0</td>\n",
              "      <td>1635</td>\n",
              "      <td>264210</td>\n",
              "      <td>São José dos Pinhais</td>\n",
              "    </tr>\n",
              "    <tr>\n",
              "      <th>378</th>\n",
              "      <td>412770.0</td>\n",
              "      <td>489</td>\n",
              "      <td>119313</td>\n",
              "      <td>Toledo</td>\n",
              "    </tr>\n",
              "    <tr>\n",
              "      <th>386</th>\n",
              "      <td>412810.0</td>\n",
              "      <td>630</td>\n",
              "      <td>100676</td>\n",
              "      <td>Umuarama</td>\n",
              "    </tr>\n",
              "  </tbody>\n",
              "</table>\n",
              "</div>"
            ],
            "text/plain": [
              "     ID_MN_RESI  NU_NOTIFIC  POP_2010             MUNICIPIO\n",
              "3      410040.0         685    103204   Almirante Tamandaré\n",
              "16     410140.0         536    120919             Apucarana\n",
              "17     410150.0         452    104150             Arapongas\n",
              "21     410180.0         633    119123             Araucária\n",
              "58     410420.0         477    112377           Campo Largo\n",
              "68     410480.0        1333    286205              Cascavel\n",
              "78     410580.0        1464    212967               Colombo\n",
              "93     410690.0       10471   1751907              Curitiba\n",
              "118    410830.0        3149    256088         Foz do Iguaçu\n",
              "134    410940.0         753    167328            Guarapuava\n",
              "190    411370.0        3011    506701              Londrina\n",
              "208    411520.0        1541    357077               Maringá\n",
              "252    411820.0        2785    140469             Paranaguá\n",
              "264    411915.0        1569    117008               Pinhais\n",
              "274    411990.0        1691    311611          Ponta Grossa\n",
              "349    412550.0        1635    264210  São José dos Pinhais\n",
              "378    412770.0         489    119313                Toledo\n",
              "386    412810.0         630    100676              Umuarama"
            ]
          },
          "metadata": {
            "tags": []
          },
          "execution_count": 24
        }
      ]
    },
    {
      "cell_type": "markdown",
      "metadata": {
        "id": "J27rP8MY-8zI"
      },
      "source": [
        "Podemos renomear esses dados_finais após filtragem para `dados_finais_filtrados` e aí sim plotar novamente o gráfico de barras."
      ]
    },
    {
      "cell_type": "code",
      "metadata": {
        "id": "qzO0cqgNG9y7"
      },
      "source": [
        "dados_finais_filtrados = dados_finais.query('POP_2010 >= 100000')"
      ],
      "execution_count": 25,
      "outputs": []
    },
    {
      "cell_type": "markdown",
      "metadata": {
        "id": "R820gD07G7oz"
      },
      "source": [
        "<font color='red'>**-->**</font> Execute o Desafio 05, ao final do notebook."
      ]
    },
    {
      "cell_type": "code",
      "metadata": {
        "colab": {
          "base_uri": "https://localhost:8080/",
          "height": 397
        },
        "id": "U3S75oZ8_D9f",
        "outputId": "15ff6ff9-b321-4f3a-da4b-4b8b92d63e8b"
      },
      "source": [
        "plt.bar(dados_finais_filtrados['MUNICIPIO'], dados_finais_filtrados['NU_NOTIFIC'])\n",
        "# corrigindo a orientação das identificações do eixo x\n",
        "plt.xticks(rotation=90)"
      ],
      "execution_count": 26,
      "outputs": [
        {
          "output_type": "execute_result",
          "data": {
            "text/plain": [
              "([0, 1, 2, 3, 4, 5, 6, 7, 8, 9, 10, 11, 12, 13, 14, 15, 16, 17],\n",
              " <a list of 18 Text major ticklabel objects>)"
            ]
          },
          "metadata": {
            "tags": []
          },
          "execution_count": 26
        },
        {
          "output_type": "display_data",
          "data": {
            "image/png": "[encoded data removed]",
            "text/plain": [
              "<Figure size 432x288 with 1 Axes>"
            ]
          },
          "metadata": {
            "tags": [],
            "needs_background": "light"
          }
        }
      ]
    },
    {
      "cell_type": "markdown",
      "metadata": {
        "id": "WnfOryCM_kmj"
      },
      "source": [
        "Então, no gráfico acima vemos o número de casos de TB em municípios com mais de 100 mil habitantes no PR"
      ]
    },
    {
      "cell_type": "markdown",
      "metadata": {
        "id": "BdR-chrFHEIY"
      },
      "source": [
        "<font color='red'>**-->**</font> Execute o Desafio 06, ao final do notebook."
      ]
    },
    {
      "cell_type": "markdown",
      "metadata": {
        "id": "KCwJDTg5_yKL"
      },
      "source": [
        "Para finalizar nossa análise, vamos calcular o número de casos reportados considerando a população de cada local.\n",
        "\n",
        "Para fazer isso, basta selecionarmos a coluna de casos e dividir pela coluna de população."
      ]
    },
    {
      "cell_type": "code",
      "metadata": {
        "colab": {
          "base_uri": "https://localhost:8080/"
        },
        "id": "6HSVi-alABS3",
        "outputId": "8da01de9-7acb-4d9b-a24a-e876f91a9343"
      },
      "source": [
        "dados_finais['NU_NOTIFIC'] / dados_finais['POP_2010']"
      ],
      "execution_count": 27,
      "outputs": [
        {
          "output_type": "execute_result",
          "data": {
            "text/plain": [
              "0      0.001288\n",
              "1      0.006744\n",
              "2      0.002177\n",
              "3      0.006637\n",
              "4      0.000232\n",
              "         ...   \n",
              "394    0.006862\n",
              "395    0.001048\n",
              "396    0.003797\n",
              "397    0.002917\n",
              "398    0.005655\n",
              "Length: 399, dtype: float64"
            ]
          },
          "metadata": {
            "tags": []
          },
          "execution_count": 27
        }
      ]
    },
    {
      "cell_type": "markdown",
      "metadata": {
        "id": "Mvj5TjUgAFxD"
      },
      "source": [
        "Assim, podemos criar uma nova coluna nos nossos `dados_finais` chamada `CASOS/HAB` para armazenar o resultado dessa equação."
      ]
    },
    {
      "cell_type": "code",
      "metadata": {
        "colab": {
          "base_uri": "https://localhost:8080/"
        },
        "id": "GSCiVN6aWE6E",
        "outputId": "8934cf4f-f0b0-4127-9695-80d6136debe2"
      },
      "source": [
        "dados_finais['CASOS/HAB'] = dados_finais['NU_NOTIFIC'] / dados_finais['POP_2010']"
      ],
      "execution_count": 28,
      "outputs": [
        {
          "output_type": "stream",
          "text": [
            "/usr/local/lib/python3.7/dist-packages/ipykernel_launcher.py:1: SettingWithCopyWarning: \n",
            "A value is trying to be set on a copy of a slice from a DataFrame.\n",
            "Try using .loc[row_indexer,col_indexer] = value instead\n",
            "\n",
            "See the caveats in the documentation: https://pandas.pydata.org/pandas-docs/stable/user_guide/indexing.html#returning-a-view-versus-a-copy\n",
            "  \"\"\"Entry point for launching an IPython kernel.\n"
          ],
          "name": "stderr"
        }
      ]
    },
    {
      "cell_type": "markdown",
      "metadata": {
        "id": "CAX2yC_tBU57"
      },
      "source": [
        "Em seguida, podemos multiplicar essa coluna por **100000** para ter o número de casos a cada 100 mil habitantes."
      ]
    },
    {
      "cell_type": "code",
      "metadata": {
        "colab": {
          "base_uri": "https://localhost:8080/"
        },
        "id": "Yp79jAiqXsAp",
        "outputId": "77967247-a012-41d0-ebaa-5337304e4e62"
      },
      "source": [
        "dados_finais['CASOS/HAB'] * 100000 "
      ],
      "execution_count": 29,
      "outputs": [
        {
          "output_type": "execute_result",
          "data": {
            "text/plain": [
              "0      128.799588\n",
              "1      674.404015\n",
              "2      217.654172\n",
              "3      663.733964\n",
              "4       23.223409\n",
              "          ...    \n",
              "394    686.213350\n",
              "395    104.766894\n",
              "396    379.746835\n",
              "397    291.724244\n",
              "398    565.535595\n",
              "Name: CASOS/HAB, Length: 399, dtype: float64"
            ]
          },
          "metadata": {
            "tags": []
          },
          "execution_count": 29
        }
      ]
    },
    {
      "cell_type": "markdown",
      "metadata": {
        "id": "WEqjWfsUBiVU"
      },
      "source": [
        "Podemos inserir esse resultado em uma nova variável, chamada `CASOS/HAB100`"
      ]
    },
    {
      "cell_type": "code",
      "metadata": {
        "colab": {
          "base_uri": "https://localhost:8080/"
        },
        "id": "7mkxnzzMBqhn",
        "outputId": "3992e1ce-7c59-4699-ad5b-311ec1cfbcd6"
      },
      "source": [
        "dados_finais['CASOS/HAB100'] = dados_finais['CASOS/HAB'] * 100000"
      ],
      "execution_count": 30,
      "outputs": [
        {
          "output_type": "stream",
          "text": [
            "/usr/local/lib/python3.7/dist-packages/ipykernel_launcher.py:1: SettingWithCopyWarning: \n",
            "A value is trying to be set on a copy of a slice from a DataFrame.\n",
            "Try using .loc[row_indexer,col_indexer] = value instead\n",
            "\n",
            "See the caveats in the documentation: https://pandas.pydata.org/pandas-docs/stable/user_guide/indexing.html#returning-a-view-versus-a-copy\n",
            "  \"\"\"Entry point for launching an IPython kernel.\n"
          ],
          "name": "stderr"
        }
      ]
    },
    {
      "cell_type": "markdown",
      "metadata": {
        "id": "aKBpp9KVByn2"
      },
      "source": [
        "Agora, podemos usar o `sort_values()` para organizar de acordo com os casos a cada 100 mil habitantes."
      ]
    },
    {
      "cell_type": "code",
      "metadata": {
        "colab": {
          "base_uri": "https://localhost:8080/",
          "height": 363
        },
        "id": "8gc4oXN9ZdWD",
        "outputId": "092fbbbc-e79e-4208-a8bc-901a6ffbe000"
      },
      "source": [
        "dados_finais.sort_values('CASOS/HAB100', ascending=False).head(10)"
      ],
      "execution_count": 31,
      "outputs": [
        {
          "output_type": "execute_result",
          "data": {
            "text/html": [
              "<div>\n",
              "<style scoped>\n",
              "    .dataframe tbody tr th:only-of-type {\n",
              "        vertical-align: middle;\n",
              "    }\n",
              "\n",
              "    .dataframe tbody tr th {\n",
              "        vertical-align: top;\n",
              "    }\n",
              "\n",
              "    .dataframe thead th {\n",
              "        text-align: right;\n",
              "    }\n",
              "</style>\n",
              "<table border=\"1\" class=\"dataframe\">\n",
              "  <thead>\n",
              "    <tr style=\"text-align: right;\">\n",
              "      <th></th>\n",
              "      <th>ID_MN_RESI</th>\n",
              "      <th>NU_NOTIFIC</th>\n",
              "      <th>POP_2010</th>\n",
              "      <th>MUNICIPIO</th>\n",
              "      <th>CASOS/HAB</th>\n",
              "      <th>CASOS/HAB100</th>\n",
              "    </tr>\n",
              "  </thead>\n",
              "  <tbody>\n",
              "    <tr>\n",
              "      <th>252</th>\n",
              "      <td>411820.0</td>\n",
              "      <td>2785</td>\n",
              "      <td>140469</td>\n",
              "      <td>Paranaguá</td>\n",
              "      <td>0.019826</td>\n",
              "      <td>1982.643857</td>\n",
              "    </tr>\n",
              "    <tr>\n",
              "      <th>224</th>\n",
              "      <td>411620.0</td>\n",
              "      <td>261</td>\n",
              "      <td>15718</td>\n",
              "      <td>Morretes</td>\n",
              "      <td>0.016605</td>\n",
              "      <td>1660.516605</td>\n",
              "    </tr>\n",
              "    <tr>\n",
              "      <th>136</th>\n",
              "      <td>410960.0</td>\n",
              "      <td>510</td>\n",
              "      <td>32095</td>\n",
              "      <td>Guaratuba</td>\n",
              "      <td>0.015890</td>\n",
              "      <td>1589.032560</td>\n",
              "    </tr>\n",
              "    <tr>\n",
              "      <th>135</th>\n",
              "      <td>410950.0</td>\n",
              "      <td>122</td>\n",
              "      <td>7871</td>\n",
              "      <td>Guaraqueçaba</td>\n",
              "      <td>0.015500</td>\n",
              "      <td>1549.993648</td>\n",
              "    </tr>\n",
              "    <tr>\n",
              "      <th>330</th>\n",
              "      <td>412400.0</td>\n",
              "      <td>74</td>\n",
              "      <td>5249</td>\n",
              "      <td>Santana do Itararé</td>\n",
              "      <td>0.014098</td>\n",
              "      <td>1409.792341</td>\n",
              "    </tr>\n",
              "    <tr>\n",
              "      <th>111</th>\n",
              "      <td>410775.0</td>\n",
              "      <td>116</td>\n",
              "      <td>8293</td>\n",
              "      <td>Figueira</td>\n",
              "      <td>0.013988</td>\n",
              "      <td>1398.770047</td>\n",
              "    </tr>\n",
              "    <tr>\n",
              "      <th>215</th>\n",
              "      <td>411570.0</td>\n",
              "      <td>404</td>\n",
              "      <td>29428</td>\n",
              "      <td>Matinhos</td>\n",
              "      <td>0.013728</td>\n",
              "      <td>1372.842191</td>\n",
              "    </tr>\n",
              "    <tr>\n",
              "      <th>264</th>\n",
              "      <td>411915.0</td>\n",
              "      <td>1569</td>\n",
              "      <td>117008</td>\n",
              "      <td>Pinhais</td>\n",
              "      <td>0.013409</td>\n",
              "      <td>1340.933953</td>\n",
              "    </tr>\n",
              "    <tr>\n",
              "      <th>118</th>\n",
              "      <td>410830.0</td>\n",
              "      <td>3149</td>\n",
              "      <td>256088</td>\n",
              "      <td>Foz do Iguaçu</td>\n",
              "      <td>0.012297</td>\n",
              "      <td>1229.655431</td>\n",
              "    </tr>\n",
              "    <tr>\n",
              "      <th>275</th>\n",
              "      <td>411995.0</td>\n",
              "      <td>254</td>\n",
              "      <td>20920</td>\n",
              "      <td>Pontal do Paraná</td>\n",
              "      <td>0.012141</td>\n",
              "      <td>1214.149140</td>\n",
              "    </tr>\n",
              "  </tbody>\n",
              "</table>\n",
              "</div>"
            ],
            "text/plain": [
              "     ID_MN_RESI  NU_NOTIFIC  ...  CASOS/HAB CASOS/HAB100\n",
              "252    411820.0        2785  ...   0.019826  1982.643857\n",
              "224    411620.0         261  ...   0.016605  1660.516605\n",
              "136    410960.0         510  ...   0.015890  1589.032560\n",
              "135    410950.0         122  ...   0.015500  1549.993648\n",
              "330    412400.0          74  ...   0.014098  1409.792341\n",
              "111    410775.0         116  ...   0.013988  1398.770047\n",
              "215    411570.0         404  ...   0.013728  1372.842191\n",
              "264    411915.0        1569  ...   0.013409  1340.933953\n",
              "118    410830.0        3149  ...   0.012297  1229.655431\n",
              "275    411995.0         254  ...   0.012141  1214.149140\n",
              "\n",
              "[10 rows x 6 columns]"
            ]
          },
          "metadata": {
            "tags": []
          },
          "execution_count": 31
        }
      ]
    },
    {
      "cell_type": "markdown",
      "metadata": {
        "id": "O09ly6b7CaXG"
      },
      "source": [
        "Com os resultados acima, vemos que municípios como Paranaguá, Pinhais e Foz do Iguaçu se destacam negativamente. \n",
        "\n",
        "Na verdade, precisamos ter cuidado ao intrepretar esses dados pois municípios com um número reduzido de habitantes tem seus valores de casos/100mil habitantes inflados. Isso acontece pois ao efetuar a conta, pequenos números de casos já causam um grande impacto devido ao baixo número de habitantes."
      ]
    },
    {
      "cell_type": "markdown",
      "metadata": {
        "id": "pNoGWeJQDAj4"
      },
      "source": [
        "**Além de olhar para os números**, podemos criar um gráfico de população x número de casos para identificar municípios que se comportam de forma destacada."
      ]
    },
    {
      "cell_type": "code",
      "metadata": {
        "id": "cMt8GoztavTX"
      },
      "source": [
        "import matplotlib.pyplot as plt"
      ],
      "execution_count": 32,
      "outputs": []
    },
    {
      "cell_type": "code",
      "metadata": {
        "colab": {
          "base_uri": "https://localhost:8080/",
          "height": 296
        },
        "id": "Y0G72GHAa0_h",
        "outputId": "652772b0-4ecf-42f1-e50e-ac6b1ea1aba2"
      },
      "source": [
        "plt.scatter(dados_finais['POP_2010'], dados_finais['NU_NOTIFIC'])\n",
        "plt.ylabel('Casos de TB')\n",
        "plt.xlabel('População')"
      ],
      "execution_count": 33,
      "outputs": [
        {
          "output_type": "execute_result",
          "data": {
            "text/plain": [
              "Text(0.5, 0, 'População')"
            ]
          },
          "metadata": {
            "tags": []
          },
          "execution_count": 33
        },
        {
          "output_type": "display_data",
          "data": {
            "image/png": "[encoded data removed]",
            "text/plain": [
              "<Figure size 432x288 with 1 Axes>"
            ]
          },
          "metadata": {
            "tags": [],
            "needs_background": "light"
          }
        }
      ]
    },
    {
      "cell_type": "markdown",
      "metadata": {
        "id": "4n19bdUNDRmk"
      },
      "source": [
        "No gráfico acima, podemos entender que existe uma relação entre as duas variáveis. Em outras palavras, quanto maior a população, maior vai ser o número de casos de TB e vice-versa.\n",
        "\n",
        "Até ai tudo bem, isso é o esperado de uma doença infectocontagiosa. O problema surge quando notamos um desbalanço nessa relação. Por exemplo, podemos notar 2 ou 3 pontos no gráfico que estão mais a cima do que os outros.\n",
        "\n",
        "Provavelmente, esses municípios estão tendo problemas para controlar a TB."
      ]
    },
    {
      "cell_type": "markdown",
      "metadata": {
        "id": "8KPsc8kiD1TF"
      },
      "source": [
        "Para visualizar melhor essa relação, podemos remover Curitiba do banco, já que o município tem um número de habitantes muito maior que os outros."
      ]
    },
    {
      "cell_type": "code",
      "metadata": {
        "id": "SWCdeySfb9WY"
      },
      "source": [
        "finais_sem = dados_finais.query('MUNICIPIO != \"Curitiba\"')"
      ],
      "execution_count": 34,
      "outputs": []
    },
    {
      "cell_type": "markdown",
      "metadata": {
        "id": "aDyRbllhEBVJ"
      },
      "source": [
        "Com a operação acima, usei o método `.query()` para selecionar apenas municípios que tivessem nomes difererentes de Curitiba."
      ]
    },
    {
      "cell_type": "code",
      "metadata": {
        "colab": {
          "base_uri": "https://localhost:8080/",
          "height": 296
        },
        "id": "QKtQarGqb8ny",
        "outputId": "6d62986f-36bb-47f0-9230-031ee9774292"
      },
      "source": [
        "plt.scatter(finais_sem['POP_2010'], finais_sem['NU_NOTIFIC'])\n",
        "plt.ylabel('Casos de TB')\n",
        "plt.xlabel('População')"
      ],
      "execution_count": 35,
      "outputs": [
        {
          "output_type": "execute_result",
          "data": {
            "text/plain": [
              "Text(0.5, 0, 'População')"
            ]
          },
          "metadata": {
            "tags": []
          },
          "execution_count": 35
        },
        {
          "output_type": "display_data",
          "data": {
            "image/png": "[encoded data removed]",
            "text/plain": [
              "<Figure size 432x288 with 1 Axes>"
            ]
          },
          "metadata": {
            "tags": [],
            "needs_background": "light"
          }
        }
      ]
    },
    {
      "cell_type": "markdown",
      "metadata": {
        "id": "CzdCZ-s1EOGe"
      },
      "source": [
        "Agora fica mais fácil ver como os 2 ou 3 pontos mais acima e a esquerda se destacam dos demais."
      ]
    },
    {
      "cell_type": "markdown",
      "metadata": {
        "id": "2ygsGiyDEYof"
      },
      "source": [
        "# Desafios"
      ]
    },
    {
      "cell_type": "markdown",
      "metadata": {
        "id": "RbYQdUKoEZzz"
      },
      "source": [
        "<font color='red'>Desafio 01.</font> Selecione as 10 primeiras e, em seguida, as 10 últimas colunas usando o método dados.columns"
      ]
    },
    {
      "cell_type": "code",
      "metadata": {
        "id": "SA9U6ZHTFBb8"
      },
      "source": [
        ""
      ],
      "execution_count": 35,
      "outputs": []
    },
    {
      "cell_type": "code",
      "metadata": {
        "id": "ssHH8CW-FBVA"
      },
      "source": [
        ""
      ],
      "execution_count": 35,
      "outputs": []
    },
    {
      "cell_type": "markdown",
      "metadata": {
        "id": "QwRGoGzWFBtS"
      },
      "source": [
        "<font color='red'>**Desafio 02.** </font> Use o método `print()` para dizer quantas linhas e quantas colunas estão presentes no conjunto de dados `dados_mun`."
      ]
    },
    {
      "cell_type": "code",
      "metadata": {
        "id": "Vu5pYWQqFnhJ"
      },
      "source": [
        ""
      ],
      "execution_count": 35,
      "outputs": []
    },
    {
      "cell_type": "code",
      "metadata": {
        "id": "CKOr2xW1FnXR"
      },
      "source": [
        ""
      ],
      "execution_count": 35,
      "outputs": []
    },
    {
      "cell_type": "markdown",
      "metadata": {
        "id": "XsUkXU6CGH19"
      },
      "source": [
        "<font color='red'>**Desafio 03.** </font> Selecione apenas as colunas `DT_NOTIFIC,NU_ANO,SG_UF_NOT,ID_MUNICIP` do conjunto de dados `dados`. Em seguida, crie um novo conjunto chamado `dados_novos` contendo apenas essas 4 colunas."
      ]
    },
    {
      "cell_type": "code",
      "metadata": {
        "id": "aEBWYq8cGTy6"
      },
      "source": [
        ""
      ],
      "execution_count": 35,
      "outputs": []
    },
    {
      "cell_type": "code",
      "metadata": {
        "id": "ux1_rlQKGToY"
      },
      "source": [
        ""
      ],
      "execution_count": 35,
      "outputs": []
    },
    {
      "cell_type": "markdown",
      "metadata": {
        "id": "Sg3bBhq6GmIw"
      },
      "source": [
        "<font color='red'>**Desafio 04.** </font> Organize o conjunto de dados `dados_mun` de acordo com a população de cada município, de forma crescente."
      ]
    },
    {
      "cell_type": "code",
      "metadata": {
        "id": "AOnpLPIhHKzn"
      },
      "source": [
        ""
      ],
      "execution_count": 35,
      "outputs": []
    },
    {
      "cell_type": "code",
      "metadata": {
        "id": "R8oydwyXHLDw"
      },
      "source": [
        ""
      ],
      "execution_count": 35,
      "outputs": []
    },
    {
      "cell_type": "markdown",
      "metadata": {
        "id": "gomgWqxhHLUQ"
      },
      "source": [
        "<font color='red'>**Desafio 05.** </font> Use o método `.query()` para selecionar apenas municípios que tem **mais de 1000** casos de TB reportados a partir dos `dados_finais`. Em seguida, crie um novo conjunto de dados chamado `top_tb`.\n",
        "\n",
        "**Atenção**: No exemplo que fizemos em aula, filtramos municípios de acordo com a população e não de acordo com os casos de TB"
      ]
    },
    {
      "cell_type": "code",
      "metadata": {
        "id": "WpADakgGIBlq"
      },
      "source": [
        ""
      ],
      "execution_count": 35,
      "outputs": []
    },
    {
      "cell_type": "code",
      "metadata": {
        "id": "CCyndZ4GIBdd"
      },
      "source": [
        ""
      ],
      "execution_count": 35,
      "outputs": []
    },
    {
      "cell_type": "markdown",
      "metadata": {
        "id": "ebJwAxbCIB8B"
      },
      "source": [
        "<font color='red'>**Desafio 06.** </font> Faça um gráfico de barras com o **nome dos municípios no eixo x** e **o número de habitantes no eixo y**, considerando o conjunto de dados criado no Desafio 05."
      ]
    },
    {
      "cell_type": "code",
      "metadata": {
        "id": "wPUnGlu-IWMM"
      },
      "source": [
        ""
      ],
      "execution_count": 35,
      "outputs": []
    },
    {
      "cell_type": "code",
      "metadata": {
        "id": "job0MrkOIWgn"
      },
      "source": [
        ""
      ],
      "execution_count": 35,
      "outputs": []
    },
    {
      "cell_type": "markdown",
      "metadata": {
        "id": "XYkCSoRoIW0F"
      },
      "source": [
        "<font color='red'>**Desafio 07.** </font> Qual seria um título adequado para o gráfico acima?\n",
        "\n",
        "Repita o código utilizado para criar o gráfico e use o método `plt.title('Título do Gráfico')` para inserir o título pensado."
      ]
    },
    {
      "cell_type": "code",
      "metadata": {
        "id": "6NgvAeZLIqwy"
      },
      "source": [
        ""
      ],
      "execution_count": 35,
      "outputs": []
    },
    {
      "cell_type": "code",
      "metadata": {
        "id": "MdxcbIHCIq_Y"
      },
      "source": [
        ""
      ],
      "execution_count": 35,
      "outputs": []
    }
  ]
}